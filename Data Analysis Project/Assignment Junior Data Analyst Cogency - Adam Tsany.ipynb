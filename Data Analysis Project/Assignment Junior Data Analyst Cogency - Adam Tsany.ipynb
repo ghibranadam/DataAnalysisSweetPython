{
 "cells": [
  {
   "cell_type": "markdown",
   "id": "e22eaa88",
   "metadata": {},
   "source": [
    "## Step 1: Acquire Data\n",
    "\n",
    "### Explore Problem\n",
    "- Find 3 or 5 Descriptive Analytics that might be useful to be known (find 3 or 5 trends that happened in dataset)\n",
    "- Try to show Diagnostic Analytics to clarify some trend in Descriptive Analytics\n",
    "\n",
    "#### 1. Descriptive Analytics\n",
    "- Siapa User ID yang paling banyak melakukan transaksi ?\n",
    "- Bagaimana tren transaksi yang terjadi ?\n",
    "- Bagainmana tren diskon yang terjadi ?\n",
    "- Kapan (Pada jam berapa) transaksi paling banyak (paling tinggi) biasanya terjadi?\n",
    "- Kapan (Pada hari apa) diskon paling banyak (paling tinggi) biasanya terjadi ?\n",
    "- Promo kode apa yang paling sering digunakan? Promo kode apa yang paling sering (paling banyak) digunakan secara bersamaan?\n",
    "- Bagaimana pesebaran level user yang terjadi ? (level user apa yang paling banyak melakukan transaksi ?)\n",
    "\n",
    "#### 2. Diagnostic Analytics\n",
    "- Bagaimana hubungan tren transaksi dengan tren diskon yang terjadi dalam Dataset ?\n",
    "- Bagaimana hubungan tren level user dengan payment amount dan discount amount dalam dataset ?\n",
    "- Bagaimana sebaran jenis transaksi yang terjadi berdasarkan kategorinya ?\n",
    "- Bagaimana hubungan antara Promo kode dengan total diskon yang didapatkan ?\n",
    "\n",
    "### Identify Data\n",
    "- The data that will be use is from ```payment.csv``` and ```discount.csv``` dataset\n",
    "- Table payment has 7 columns, following:\n",
    "    - <b>transcation_payment_id</b> : PK (Primary Key) and Unique ID of the event in the table payment\n",
    "    - <b>transaction_id</b> : FK (Foreign Key) and order number of transaction\n",
    "    - <b>user_id</b> : Customer number\n",
    "    - <b>Payment_source</b> : Payment source code\n",
    "    - <b>Payment_amount</b> : Amount of each transaction\n",
    "    - <b>Transaction_date</b> : Date of transcation happened\n",
    "    - <b>level_user</b> : level of the member\n",
    "- Table discount has 5 columns, following:\n",
    "    - <b>Transcation_discount_id</b> : PK (Primary Key) and unique id of the event in table discount\n",
    "    - <b>transaction_id</b> : FK (Foreign Key) and order number of transaction\n",
    "    - <b>Discount_amount</b> : The value of the discount\n",
    "    - <b>Redeem_Date</b>\n",
    "    - <b>Promo_code</b> : Code of promotion\n",
    "    \n",
    "### Import Libraries and Dataset"
   ]
  },
  {
   "cell_type": "code",
   "execution_count": 1,
   "id": "e037632c",
   "metadata": {},
   "outputs": [],
   "source": [
    "import pandas as pd\n",
    "import pandasql as ps\n",
    "import numpy as np\n",
    "import matplotlib.pyplot as plt\n",
    "import warnings\n",
    "warnings.filterwarnings('ignore')\n",
    "plt.rcParams['font.family']='Times New Roman'"
   ]
  },
  {
   "cell_type": "markdown",
   "id": "3abe5b3b",
   "metadata": {},
   "source": [
    "#### 1. Import Table Payment and Discount"
   ]
  },
  {
   "cell_type": "code",
   "execution_count": 2,
   "id": "5734d8ec",
   "metadata": {},
   "outputs": [],
   "source": [
    "datapayment = pd.read_csv('payment.csv')\n",
    "datadiscount = pd.read_csv('discount.csv')"
   ]
  },
  {
   "cell_type": "markdown",
   "id": "f1853cc6",
   "metadata": {},
   "source": [
    "#### 2. Read Table Payment and Discount into DataFrame"
   ]
  },
  {
   "cell_type": "code",
   "execution_count": 3,
   "id": "898932ce",
   "metadata": {},
   "outputs": [
    {
     "data": {
      "text/html": [
       "<div>\n",
       "<style scoped>\n",
       "    .dataframe tbody tr th:only-of-type {\n",
       "        vertical-align: middle;\n",
       "    }\n",
       "\n",
       "    .dataframe tbody tr th {\n",
       "        vertical-align: top;\n",
       "    }\n",
       "\n",
       "    .dataframe thead th {\n",
       "        text-align: right;\n",
       "    }\n",
       "</style>\n",
       "<table border=\"1\" class=\"dataframe\">\n",
       "  <thead>\n",
       "    <tr style=\"text-align: right;\">\n",
       "      <th></th>\n",
       "      <th>Transaction_payment_id</th>\n",
       "      <th>Transaction_id</th>\n",
       "      <th>Payment_source</th>\n",
       "      <th>Payment_Amount</th>\n",
       "      <th>Transaction_date</th>\n",
       "      <th>User_id</th>\n",
       "      <th>Level_user</th>\n",
       "    </tr>\n",
       "  </thead>\n",
       "  <tbody>\n",
       "    <tr>\n",
       "      <th>0</th>\n",
       "      <td>00000D89-BAD2-5628-A65B-3C8F4397F047</td>\n",
       "      <td>3DB5E42B-9CD4-45E0-9AAB-35054CCF3955</td>\n",
       "      <td>1</td>\n",
       "      <td>55600.0</td>\n",
       "      <td>5/9/22 11:24</td>\n",
       "      <td>7fd36377-d59f-11e8-93d5-0242ac110006</td>\n",
       "      <td>3</td>\n",
       "    </tr>\n",
       "    <tr>\n",
       "      <th>1</th>\n",
       "      <td>000023A4-AE30-524E-8851-ECF2D6EA9493</td>\n",
       "      <td>582DCDA7-629E-4E84-9225-601BBE030C29</td>\n",
       "      <td>1</td>\n",
       "      <td>111000.0</td>\n",
       "      <td>5/15/22 13:05</td>\n",
       "      <td>7beaabd8-067e-11e9-8159-9802e614fb2e</td>\n",
       "      <td>3</td>\n",
       "    </tr>\n",
       "    <tr>\n",
       "      <th>2</th>\n",
       "      <td>0000A337-8DE9-5B9D-888C-3750620C96D9</td>\n",
       "      <td>09C589E8-0D3F-4E1F-91C3-AA4E6BD6CDA5</td>\n",
       "      <td>1</td>\n",
       "      <td>18000.0</td>\n",
       "      <td>5/6/22 13:33</td>\n",
       "      <td>81c9534c-d59e-11e8-93d5-0242ac110006</td>\n",
       "      <td>3</td>\n",
       "    </tr>\n",
       "    <tr>\n",
       "      <th>3</th>\n",
       "      <td>0000CB3B-4246-5A58-AA16-FF20B9AC60A8</td>\n",
       "      <td>66EFF64F-6E22-4F97-8AE0-6316D441E10A</td>\n",
       "      <td>1</td>\n",
       "      <td>0.0</td>\n",
       "      <td>5/28/22 10:55</td>\n",
       "      <td>07c1dd4f-d59c-11e8-93d5-0242ac110006</td>\n",
       "      <td>3</td>\n",
       "    </tr>\n",
       "    <tr>\n",
       "      <th>4</th>\n",
       "      <td>0000D25D-4770-57AF-B86A-FB20EC1082D1</td>\n",
       "      <td>47B50A2D-C5B6-4407-9D08-E917393BA7AC</td>\n",
       "      <td>1</td>\n",
       "      <td>69000.0</td>\n",
       "      <td>5/25/22 13:41</td>\n",
       "      <td>6307e038-b95d-11eb-9ac5-492edff4d4a6</td>\n",
       "      <td>3</td>\n",
       "    </tr>\n",
       "  </tbody>\n",
       "</table>\n",
       "</div>"
      ],
      "text/plain": [
       "                 Transaction_payment_id                        Transaction_id  \\\n",
       "0  00000D89-BAD2-5628-A65B-3C8F4397F047  3DB5E42B-9CD4-45E0-9AAB-35054CCF3955   \n",
       "1  000023A4-AE30-524E-8851-ECF2D6EA9493  582DCDA7-629E-4E84-9225-601BBE030C29   \n",
       "2  0000A337-8DE9-5B9D-888C-3750620C96D9  09C589E8-0D3F-4E1F-91C3-AA4E6BD6CDA5   \n",
       "3  0000CB3B-4246-5A58-AA16-FF20B9AC60A8  66EFF64F-6E22-4F97-8AE0-6316D441E10A   \n",
       "4  0000D25D-4770-57AF-B86A-FB20EC1082D1  47B50A2D-C5B6-4407-9D08-E917393BA7AC   \n",
       "\n",
       "  Payment_source  Payment_Amount Transaction_date  \\\n",
       "0              1         55600.0     5/9/22 11:24   \n",
       "1              1        111000.0    5/15/22 13:05   \n",
       "2              1         18000.0     5/6/22 13:33   \n",
       "3              1             0.0    5/28/22 10:55   \n",
       "4              1         69000.0    5/25/22 13:41   \n",
       "\n",
       "                                User_id  Level_user  \n",
       "0  7fd36377-d59f-11e8-93d5-0242ac110006           3  \n",
       "1  7beaabd8-067e-11e9-8159-9802e614fb2e           3  \n",
       "2  81c9534c-d59e-11e8-93d5-0242ac110006           3  \n",
       "3  07c1dd4f-d59c-11e8-93d5-0242ac110006           3  \n",
       "4  6307e038-b95d-11eb-9ac5-492edff4d4a6           3  "
      ]
     },
     "execution_count": 3,
     "metadata": {},
     "output_type": "execute_result"
    }
   ],
   "source": [
    "datapayment.head()"
   ]
  },
  {
   "cell_type": "code",
   "execution_count": 4,
   "id": "2190719f",
   "metadata": {},
   "outputs": [
    {
     "data": {
      "text/html": [
       "<div>\n",
       "<style scoped>\n",
       "    .dataframe tbody tr th:only-of-type {\n",
       "        vertical-align: middle;\n",
       "    }\n",
       "\n",
       "    .dataframe tbody tr th {\n",
       "        vertical-align: top;\n",
       "    }\n",
       "\n",
       "    .dataframe thead th {\n",
       "        text-align: right;\n",
       "    }\n",
       "</style>\n",
       "<table border=\"1\" class=\"dataframe\">\n",
       "  <thead>\n",
       "    <tr style=\"text-align: right;\">\n",
       "      <th></th>\n",
       "      <th>Transaction_discount_id</th>\n",
       "      <th>Transaction_id</th>\n",
       "      <th>Promo_code</th>\n",
       "      <th>Discount_Amount</th>\n",
       "      <th>Redeem_Date</th>\n",
       "    </tr>\n",
       "  </thead>\n",
       "  <tbody>\n",
       "    <tr>\n",
       "      <th>0</th>\n",
       "      <td>38E4402B-4021-52F1-831D-3A2EA42EF398</td>\n",
       "      <td>75F26B46-4BC2-47EB-87C9-80CCC0193C05</td>\n",
       "      <td>1219.0</td>\n",
       "      <td>57000</td>\n",
       "      <td>5/28/22 10:16</td>\n",
       "    </tr>\n",
       "    <tr>\n",
       "      <th>1</th>\n",
       "      <td>1EE712BC-74A9-5071-A38A-98FF84CAFE20</td>\n",
       "      <td>9E12690D-29D0-4D6B-B021-CAEFA6E88917</td>\n",
       "      <td>1086.0</td>\n",
       "      <td>59000</td>\n",
       "      <td>5/28/22 15:08</td>\n",
       "    </tr>\n",
       "    <tr>\n",
       "      <th>2</th>\n",
       "      <td>5BED729C-FD54-55D4-AA8A-2C89C2023A20</td>\n",
       "      <td>04F1C84E-8467-4BB8-99D0-C2F20E60762C</td>\n",
       "      <td>9001.0</td>\n",
       "      <td>51000</td>\n",
       "      <td>5/28/22 16:11</td>\n",
       "    </tr>\n",
       "    <tr>\n",
       "      <th>3</th>\n",
       "      <td>2F3DDB2D-AC0C-57E4-9896-DB2DF84F6E0F</td>\n",
       "      <td>D2D5F105-962A-4EEF-A6CA-C1961C46071F</td>\n",
       "      <td>9214.0</td>\n",
       "      <td>0</td>\n",
       "      <td>5/28/22 16:12</td>\n",
       "    </tr>\n",
       "    <tr>\n",
       "      <th>4</th>\n",
       "      <td>95D02797-CDE3-5DB8-B331-6F170B02D9CB</td>\n",
       "      <td>D2D5F105-962A-4EEF-A6CA-C1961C46071F</td>\n",
       "      <td>9214.0</td>\n",
       "      <td>55000</td>\n",
       "      <td>5/28/22 16:12</td>\n",
       "    </tr>\n",
       "  </tbody>\n",
       "</table>\n",
       "</div>"
      ],
      "text/plain": [
       "                Transaction_discount_id                        Transaction_id  \\\n",
       "0  38E4402B-4021-52F1-831D-3A2EA42EF398  75F26B46-4BC2-47EB-87C9-80CCC0193C05   \n",
       "1  1EE712BC-74A9-5071-A38A-98FF84CAFE20  9E12690D-29D0-4D6B-B021-CAEFA6E88917   \n",
       "2  5BED729C-FD54-55D4-AA8A-2C89C2023A20  04F1C84E-8467-4BB8-99D0-C2F20E60762C   \n",
       "3  2F3DDB2D-AC0C-57E4-9896-DB2DF84F6E0F  D2D5F105-962A-4EEF-A6CA-C1961C46071F   \n",
       "4  95D02797-CDE3-5DB8-B331-6F170B02D9CB  D2D5F105-962A-4EEF-A6CA-C1961C46071F   \n",
       "\n",
       "   Promo_code  Discount_Amount    Redeem_Date  \n",
       "0      1219.0            57000  5/28/22 10:16  \n",
       "1      1086.0            59000  5/28/22 15:08  \n",
       "2      9001.0            51000  5/28/22 16:11  \n",
       "3      9214.0                0  5/28/22 16:12  \n",
       "4      9214.0            55000  5/28/22 16:12  "
      ]
     },
     "execution_count": 4,
     "metadata": {},
     "output_type": "execute_result"
    }
   ],
   "source": [
    "datadiscount.head()"
   ]
  },
  {
   "cell_type": "markdown",
   "id": "3ddc1cc1",
   "metadata": {},
   "source": [
    "#### 3. Show initial shape of Payment and Discount dataset"
   ]
  },
  {
   "cell_type": "code",
   "execution_count": 5,
   "id": "a78c2451",
   "metadata": {},
   "outputs": [
    {
     "data": {
      "text/plain": [
       "(972403, 7)"
      ]
     },
     "execution_count": 5,
     "metadata": {},
     "output_type": "execute_result"
    }
   ],
   "source": [
    "datapayment.shape"
   ]
  },
  {
   "cell_type": "code",
   "execution_count": 6,
   "id": "c07ceb45",
   "metadata": {},
   "outputs": [
    {
     "data": {
      "text/plain": [
       "(705742, 5)"
      ]
     },
     "execution_count": 6,
     "metadata": {},
     "output_type": "execute_result"
    }
   ],
   "source": [
    "datadiscount.shape"
   ]
  },
  {
   "cell_type": "markdown",
   "id": "6c3d3ea4",
   "metadata": {},
   "source": [
    "- <b>Payment</b> dataset has 972,403 entry of rows and 7 columns\n",
    "- <b>Discount</b> dataset has 705,742 entry of rows and 5 columns\n",
    "- To simplify our dataset try to merge Payment and Discount into one DataFrame"
   ]
  },
  {
   "cell_type": "markdown",
   "id": "35704c52",
   "metadata": {},
   "source": [
    "#### 4. Join Table Payment and Discount into 1 DataFrame"
   ]
  },
  {
   "cell_type": "code",
   "execution_count": 7,
   "id": "fe50402a",
   "metadata": {},
   "outputs": [
    {
     "data": {
      "text/html": [
       "<div>\n",
       "<style scoped>\n",
       "    .dataframe tbody tr th:only-of-type {\n",
       "        vertical-align: middle;\n",
       "    }\n",
       "\n",
       "    .dataframe tbody tr th {\n",
       "        vertical-align: top;\n",
       "    }\n",
       "\n",
       "    .dataframe thead th {\n",
       "        text-align: right;\n",
       "    }\n",
       "</style>\n",
       "<table border=\"1\" class=\"dataframe\">\n",
       "  <thead>\n",
       "    <tr style=\"text-align: right;\">\n",
       "      <th></th>\n",
       "      <th>Transaction_payment_id</th>\n",
       "      <th>Transaction_id</th>\n",
       "      <th>Payment_source</th>\n",
       "      <th>Payment_Amount</th>\n",
       "      <th>Transaction_date</th>\n",
       "      <th>User_id</th>\n",
       "      <th>Level_user</th>\n",
       "      <th>Transaction_discount_id</th>\n",
       "      <th>Transaction_id</th>\n",
       "      <th>Promo_code</th>\n",
       "      <th>Discount_Amount</th>\n",
       "      <th>Redeem_Date</th>\n",
       "    </tr>\n",
       "  </thead>\n",
       "  <tbody>\n",
       "    <tr>\n",
       "      <th>0</th>\n",
       "      <td>00000D89-BAD2-5628-A65B-3C8F4397F047</td>\n",
       "      <td>3DB5E42B-9CD4-45E0-9AAB-35054CCF3955</td>\n",
       "      <td>1</td>\n",
       "      <td>55600.0</td>\n",
       "      <td>5/9/22 11:24</td>\n",
       "      <td>7fd36377-d59f-11e8-93d5-0242ac110006</td>\n",
       "      <td>3</td>\n",
       "      <td>154F720B-9862-5D32-888C-084EA80F2D0E</td>\n",
       "      <td>3DB5E42B-9CD4-45E0-9AAB-35054CCF3955</td>\n",
       "      <td>9001.0</td>\n",
       "      <td>12400</td>\n",
       "      <td>5/9/22 11:24</td>\n",
       "    </tr>\n",
       "    <tr>\n",
       "      <th>1</th>\n",
       "      <td>000023A4-AE30-524E-8851-ECF2D6EA9493</td>\n",
       "      <td>582DCDA7-629E-4E84-9225-601BBE030C29</td>\n",
       "      <td>1</td>\n",
       "      <td>111000.0</td>\n",
       "      <td>5/15/22 13:05</td>\n",
       "      <td>7beaabd8-067e-11e9-8159-9802e614fb2e</td>\n",
       "      <td>3</td>\n",
       "      <td>8AF4E681-B001-5284-B71C-D814D6389879</td>\n",
       "      <td>582DCDA7-629E-4E84-9225-601BBE030C29</td>\n",
       "      <td>1017.0</td>\n",
       "      <td>2</td>\n",
       "      <td>5/15/22 13:05</td>\n",
       "    </tr>\n",
       "    <tr>\n",
       "      <th>2</th>\n",
       "      <td>0000A337-8DE9-5B9D-888C-3750620C96D9</td>\n",
       "      <td>09C589E8-0D3F-4E1F-91C3-AA4E6BD6CDA5</td>\n",
       "      <td>1</td>\n",
       "      <td>18000.0</td>\n",
       "      <td>5/6/22 13:33</td>\n",
       "      <td>81c9534c-d59e-11e8-93d5-0242ac110006</td>\n",
       "      <td>3</td>\n",
       "      <td>E0B0B605-07F3-5301-A812-65124143B78C</td>\n",
       "      <td>09C589E8-0D3F-4E1F-91C3-AA4E6BD6CDA5</td>\n",
       "      <td>9001.0</td>\n",
       "      <td>59000</td>\n",
       "      <td>5/6/22 13:33</td>\n",
       "    </tr>\n",
       "    <tr>\n",
       "      <th>3</th>\n",
       "      <td>0000CB3B-4246-5A58-AA16-FF20B9AC60A8</td>\n",
       "      <td>66EFF64F-6E22-4F97-8AE0-6316D441E10A</td>\n",
       "      <td>1</td>\n",
       "      <td>0.0</td>\n",
       "      <td>5/28/22 10:55</td>\n",
       "      <td>07c1dd4f-d59c-11e8-93d5-0242ac110006</td>\n",
       "      <td>3</td>\n",
       "      <td>98EF667A-FFAE-524E-B121-0EBF33067EFB</td>\n",
       "      <td>66EFF64F-6E22-4F97-8AE0-6316D441E10A</td>\n",
       "      <td>9001.0</td>\n",
       "      <td>53000</td>\n",
       "      <td>5/28/22 10:55</td>\n",
       "    </tr>\n",
       "    <tr>\n",
       "      <th>4</th>\n",
       "      <td>0000EED4-7E0E-5F21-BABC-357D89CB040A</td>\n",
       "      <td>7774F5E7-4A60-49A9-A359-BD3C167D8F29</td>\n",
       "      <td>2</td>\n",
       "      <td>9000.0</td>\n",
       "      <td>5/15/22 16:25</td>\n",
       "      <td>e63f0d4a-f424-11ea-967b-f9b86ba0bcee</td>\n",
       "      <td>2</td>\n",
       "      <td>493EBB76-C3F2-5D80-9033-4167F04FEB12</td>\n",
       "      <td>7774F5E7-4A60-49A9-A359-BD3C167D8F29</td>\n",
       "      <td>9001.0</td>\n",
       "      <td>20000</td>\n",
       "      <td>5/15/22 16:25</td>\n",
       "    </tr>\n",
       "  </tbody>\n",
       "</table>\n",
       "</div>"
      ],
      "text/plain": [
       "                 Transaction_payment_id                        Transaction_id  \\\n",
       "0  00000D89-BAD2-5628-A65B-3C8F4397F047  3DB5E42B-9CD4-45E0-9AAB-35054CCF3955   \n",
       "1  000023A4-AE30-524E-8851-ECF2D6EA9493  582DCDA7-629E-4E84-9225-601BBE030C29   \n",
       "2  0000A337-8DE9-5B9D-888C-3750620C96D9  09C589E8-0D3F-4E1F-91C3-AA4E6BD6CDA5   \n",
       "3  0000CB3B-4246-5A58-AA16-FF20B9AC60A8  66EFF64F-6E22-4F97-8AE0-6316D441E10A   \n",
       "4  0000EED4-7E0E-5F21-BABC-357D89CB040A  7774F5E7-4A60-49A9-A359-BD3C167D8F29   \n",
       "\n",
       "  Payment_source  Payment_Amount Transaction_date  \\\n",
       "0              1         55600.0     5/9/22 11:24   \n",
       "1              1        111000.0    5/15/22 13:05   \n",
       "2              1         18000.0     5/6/22 13:33   \n",
       "3              1             0.0    5/28/22 10:55   \n",
       "4              2          9000.0    5/15/22 16:25   \n",
       "\n",
       "                                User_id  Level_user  \\\n",
       "0  7fd36377-d59f-11e8-93d5-0242ac110006           3   \n",
       "1  7beaabd8-067e-11e9-8159-9802e614fb2e           3   \n",
       "2  81c9534c-d59e-11e8-93d5-0242ac110006           3   \n",
       "3  07c1dd4f-d59c-11e8-93d5-0242ac110006           3   \n",
       "4  e63f0d4a-f424-11ea-967b-f9b86ba0bcee           2   \n",
       "\n",
       "                Transaction_discount_id                        Transaction_id  \\\n",
       "0  154F720B-9862-5D32-888C-084EA80F2D0E  3DB5E42B-9CD4-45E0-9AAB-35054CCF3955   \n",
       "1  8AF4E681-B001-5284-B71C-D814D6389879  582DCDA7-629E-4E84-9225-601BBE030C29   \n",
       "2  E0B0B605-07F3-5301-A812-65124143B78C  09C589E8-0D3F-4E1F-91C3-AA4E6BD6CDA5   \n",
       "3  98EF667A-FFAE-524E-B121-0EBF33067EFB  66EFF64F-6E22-4F97-8AE0-6316D441E10A   \n",
       "4  493EBB76-C3F2-5D80-9033-4167F04FEB12  7774F5E7-4A60-49A9-A359-BD3C167D8F29   \n",
       "\n",
       "   Promo_code  Discount_Amount    Redeem_Date  \n",
       "0      9001.0            12400   5/9/22 11:24  \n",
       "1      1017.0                2  5/15/22 13:05  \n",
       "2      9001.0            59000   5/6/22 13:33  \n",
       "3      9001.0            53000  5/28/22 10:55  \n",
       "4      9001.0            20000  5/15/22 16:25  "
      ]
     },
     "execution_count": 7,
     "metadata": {},
     "output_type": "execute_result"
    }
   ],
   "source": [
    "query = \"SELECT T1.*, T2.* FROM datapayment T1 INNER JOIN datadiscount T2 ON T1.Transaction_id = T2.Transaction_id\"\n",
    "all_data = ps.sqldf(query)\n",
    "all_data.head()"
   ]
  },
  {
   "cell_type": "code",
   "execution_count": 8,
   "id": "0af3f161",
   "metadata": {},
   "outputs": [
    {
     "data": {
      "text/plain": [
       "(767776, 12)"
      ]
     },
     "execution_count": 8,
     "metadata": {},
     "output_type": "execute_result"
    }
   ],
   "source": [
    "all_data.shape"
   ]
  },
  {
   "cell_type": "markdown",
   "id": "c6a3e579",
   "metadata": {},
   "source": [
    "- The dataset now has 767,776 entry of rows and 12 columns"
   ]
  },
  {
   "cell_type": "markdown",
   "id": "ba8b37f2",
   "metadata": {},
   "source": [
    "#### 5. Check the columns name and statistics of the data"
   ]
  },
  {
   "cell_type": "code",
   "execution_count": 9,
   "id": "289dbede",
   "metadata": {},
   "outputs": [
    {
     "name": "stdout",
     "output_type": "stream",
     "text": [
      "<class 'pandas.core.frame.DataFrame'>\n",
      "RangeIndex: 767776 entries, 0 to 767775\n",
      "Data columns (total 12 columns):\n",
      " #   Column                   Non-Null Count   Dtype  \n",
      "---  ------                   --------------   -----  \n",
      " 0   Transaction_payment_id   767776 non-null  object \n",
      " 1   Transaction_id           767776 non-null  object \n",
      " 2   Payment_source           767776 non-null  object \n",
      " 3   Payment_Amount           767776 non-null  float64\n",
      " 4   Transaction_date         767776 non-null  object \n",
      " 5   User_id                  767769 non-null  object \n",
      " 6   Level_user               767776 non-null  int64  \n",
      " 7   Transaction_discount_id  767776 non-null  object \n",
      " 8   Transaction_id           767776 non-null  object \n",
      " 9   Promo_code               766113 non-null  float64\n",
      " 10  Discount_Amount          767776 non-null  int64  \n",
      " 11  Redeem_Date              767776 non-null  object \n",
      "dtypes: float64(2), int64(2), object(8)\n",
      "memory usage: 70.3+ MB\n"
     ]
    }
   ],
   "source": [
    "all_data.info()"
   ]
  },
  {
   "cell_type": "markdown",
   "id": "1a40a1ea",
   "metadata": {},
   "source": [
    "```NOTE```\n",
    "- There are 12 columns, 8 columns are object and 4 columns are numeric (```float64``` and ```int64```)\n",
    "- We also get know there are some missing values in column ```User_id``` and ```Promo_code```"
   ]
  },
  {
   "cell_type": "code",
   "execution_count": 10,
   "id": "028624b2",
   "metadata": {},
   "outputs": [
    {
     "data": {
      "text/html": [
       "<div>\n",
       "<style scoped>\n",
       "    .dataframe tbody tr th:only-of-type {\n",
       "        vertical-align: middle;\n",
       "    }\n",
       "\n",
       "    .dataframe tbody tr th {\n",
       "        vertical-align: top;\n",
       "    }\n",
       "\n",
       "    .dataframe thead th {\n",
       "        text-align: right;\n",
       "    }\n",
       "</style>\n",
       "<table border=\"1\" class=\"dataframe\">\n",
       "  <thead>\n",
       "    <tr style=\"text-align: right;\">\n",
       "      <th></th>\n",
       "      <th>Payment_Amount</th>\n",
       "      <th>Level_user</th>\n",
       "      <th>Promo_code</th>\n",
       "      <th>Discount_Amount</th>\n",
       "    </tr>\n",
       "  </thead>\n",
       "  <tbody>\n",
       "    <tr>\n",
       "      <th>count</th>\n",
       "      <td>7.677760e+05</td>\n",
       "      <td>767776.000000</td>\n",
       "      <td>766113.000000</td>\n",
       "      <td>7.677760e+05</td>\n",
       "    </tr>\n",
       "    <tr>\n",
       "      <th>mean</th>\n",
       "      <td>6.635567e+04</td>\n",
       "      <td>2.726786</td>\n",
       "      <td>5984.078749</td>\n",
       "      <td>3.360958e+04</td>\n",
       "    </tr>\n",
       "    <tr>\n",
       "      <th>std</th>\n",
       "      <td>9.054533e+04</td>\n",
       "      <td>0.537973</td>\n",
       "      <td>3852.861257</td>\n",
       "      <td>4.099339e+04</td>\n",
       "    </tr>\n",
       "    <tr>\n",
       "      <th>min</th>\n",
       "      <td>-6.930000e+05</td>\n",
       "      <td>1.000000</td>\n",
       "      <td>1.000000</td>\n",
       "      <td>0.000000e+00</td>\n",
       "    </tr>\n",
       "    <tr>\n",
       "      <th>25%</th>\n",
       "      <td>1.900000e+04</td>\n",
       "      <td>3.000000</td>\n",
       "      <td>1220.000000</td>\n",
       "      <td>5.500000e+03</td>\n",
       "    </tr>\n",
       "    <tr>\n",
       "      <th>50%</th>\n",
       "      <td>5.850000e+04</td>\n",
       "      <td>3.000000</td>\n",
       "      <td>9001.000000</td>\n",
       "      <td>3.100000e+04</td>\n",
       "    </tr>\n",
       "    <tr>\n",
       "      <th>75%</th>\n",
       "      <td>9.200000e+04</td>\n",
       "      <td>3.000000</td>\n",
       "      <td>9001.000000</td>\n",
       "      <td>5.600000e+04</td>\n",
       "    </tr>\n",
       "    <tr>\n",
       "      <th>max</th>\n",
       "      <td>1.255000e+07</td>\n",
       "      <td>3.000000</td>\n",
       "      <td>9214.000000</td>\n",
       "      <td>3.269000e+06</td>\n",
       "    </tr>\n",
       "  </tbody>\n",
       "</table>\n",
       "</div>"
      ],
      "text/plain": [
       "       Payment_Amount     Level_user     Promo_code  Discount_Amount\n",
       "count    7.677760e+05  767776.000000  766113.000000     7.677760e+05\n",
       "mean     6.635567e+04       2.726786    5984.078749     3.360958e+04\n",
       "std      9.054533e+04       0.537973    3852.861257     4.099339e+04\n",
       "min     -6.930000e+05       1.000000       1.000000     0.000000e+00\n",
       "25%      1.900000e+04       3.000000    1220.000000     5.500000e+03\n",
       "50%      5.850000e+04       3.000000    9001.000000     3.100000e+04\n",
       "75%      9.200000e+04       3.000000    9001.000000     5.600000e+04\n",
       "max      1.255000e+07       3.000000    9214.000000     3.269000e+06"
      ]
     },
     "execution_count": 10,
     "metadata": {},
     "output_type": "execute_result"
    }
   ],
   "source": [
    "all_data.describe()"
   ]
  },
  {
   "cell_type": "markdown",
   "id": "b8238aab",
   "metadata": {},
   "source": [
    "```NOTE```\n",
    "- Since we only had 4 columns that contain numeric data, It seems that we don't really need complicated considerations and calculations to process the numerical data\n",
    "- We get to know that the mean of payment is around 6,635 (we still don't know what currency is using on this dataset)\n",
    "- We get to know that the maximum (highest) payment is around 12,550,000 and maximum (highest) discount is around 3,269,000\n",
    "- There are some peculiar in minimum value of Payment Amount, it show negative value of payment"
   ]
  },
  {
   "cell_type": "markdown",
   "id": "e4a1bc96",
   "metadata": {},
   "source": [
    "## Step 2: Prepare Data\n",
    "\n",
    "### Explore Data\n",
    "\n",
    "#### 1. Check if there any missing values"
   ]
  },
  {
   "cell_type": "code",
   "execution_count": 11,
   "id": "6e1a2418",
   "metadata": {},
   "outputs": [
    {
     "data": {
      "text/plain": [
       "Transaction_payment_id     False\n",
       "Transaction_id             False\n",
       "Payment_source             False\n",
       "Payment_Amount             False\n",
       "Transaction_date           False\n",
       "User_id                     True\n",
       "Level_user                 False\n",
       "Transaction_discount_id    False\n",
       "Transaction_id             False\n",
       "Promo_code                  True\n",
       "Discount_Amount            False\n",
       "Redeem_Date                False\n",
       "dtype: bool"
      ]
     },
     "execution_count": 11,
     "metadata": {},
     "output_type": "execute_result"
    }
   ],
   "source": [
    "all_data.isnull().any()"
   ]
  },
  {
   "cell_type": "code",
   "execution_count": 12,
   "id": "112de77d",
   "metadata": {},
   "outputs": [
    {
     "data": {
      "text/plain": [
       "Transaction_payment_id        0\n",
       "Transaction_id                0\n",
       "Payment_source                0\n",
       "Payment_Amount                0\n",
       "Transaction_date              0\n",
       "User_id                       7\n",
       "Level_user                    0\n",
       "Transaction_discount_id       0\n",
       "Transaction_id                0\n",
       "Promo_code                 1663\n",
       "Discount_Amount               0\n",
       "Redeem_Date                   0\n",
       "dtype: int64"
      ]
     },
     "execution_count": 12,
     "metadata": {},
     "output_type": "execute_result"
    }
   ],
   "source": [
    "all_data.isnull().sum()"
   ]
  },
  {
   "cell_type": "markdown",
   "id": "808e777d",
   "metadata": {},
   "source": [
    "- There are 7 missing values in column ```User_id```\n",
    "- There are 1663 missing values in column ```Promo_code```"
   ]
  },
  {
   "cell_type": "markdown",
   "id": "e38bf11a",
   "metadata": {},
   "source": [
    "### Data Cleansing"
   ]
  },
  {
   "cell_type": "markdown",
   "id": "4f41f64c",
   "metadata": {},
   "source": [
    "#### 1. Find column that contain missing values or NaN"
   ]
  },
  {
   "cell_type": "code",
   "execution_count": 14,
   "id": "0597548a",
   "metadata": {},
   "outputs": [
    {
     "data": {
      "text/html": [
       "<div>\n",
       "<style scoped>\n",
       "    .dataframe tbody tr th:only-of-type {\n",
       "        vertical-align: middle;\n",
       "    }\n",
       "\n",
       "    .dataframe tbody tr th {\n",
       "        vertical-align: top;\n",
       "    }\n",
       "\n",
       "    .dataframe thead th {\n",
       "        text-align: right;\n",
       "    }\n",
       "</style>\n",
       "<table border=\"1\" class=\"dataframe\">\n",
       "  <thead>\n",
       "    <tr style=\"text-align: right;\">\n",
       "      <th></th>\n",
       "      <th>Transaction_payment_id</th>\n",
       "      <th>Transaction_id</th>\n",
       "      <th>Payment_source</th>\n",
       "      <th>Payment_Amount</th>\n",
       "      <th>Transaction_date</th>\n",
       "      <th>User_id</th>\n",
       "      <th>Level_user</th>\n",
       "      <th>Transaction_discount_id</th>\n",
       "      <th>Transaction_id</th>\n",
       "      <th>Promo_code</th>\n",
       "      <th>Discount_Amount</th>\n",
       "      <th>Redeem_Date</th>\n",
       "    </tr>\n",
       "  </thead>\n",
       "  <tbody>\n",
       "    <tr>\n",
       "      <th>24</th>\n",
       "      <td>00096DCD-6497-55C7-AD5D-C317821B75E3</td>\n",
       "      <td>3A709E85-8B27-4A9C-83FB-D0BEE292F4CF</td>\n",
       "      <td>SSC5D165164471954SC5D-002-0</td>\n",
       "      <td>96000.0</td>\n",
       "      <td>5/4/22 13:14</td>\n",
       "      <td>8dc2b582-d59f-11e8-93d5-0242ac110006</td>\n",
       "      <td>3</td>\n",
       "      <td>A6793A8E-3009-5F54-9105-440048100698</td>\n",
       "      <td>3A709E85-8B27-4A9C-83FB-D0BEE292F4CF</td>\n",
       "      <td>NaN</td>\n",
       "      <td>8000</td>\n",
       "      <td>5/4/22 13:14</td>\n",
       "    </tr>\n",
       "    <tr>\n",
       "      <th>1184</th>\n",
       "      <td>01030FA0-CEA9-541A-876A-B2BDA5B549C3</td>\n",
       "      <td>921DC4A2-8534-45CE-A05B-A0585C851267</td>\n",
       "      <td>SSC5D165197582150SC5D-002-0</td>\n",
       "      <td>35200.0</td>\n",
       "      <td>5/8/22 9:13</td>\n",
       "      <td>b57a34f1-d59b-11e8-93d5-0242ac110006</td>\n",
       "      <td>3</td>\n",
       "      <td>FDF0ABD9-5A09-5B65-8570-B01B6382133D</td>\n",
       "      <td>921DC4A2-8534-45CE-A05B-A0585C851267</td>\n",
       "      <td>NaN</td>\n",
       "      <td>8800</td>\n",
       "      <td>5/8/22 9:13</td>\n",
       "    </tr>\n",
       "    <tr>\n",
       "      <th>1926</th>\n",
       "      <td>003F6CF4-274B-5976-BB91-F6B6EA6D2F45</td>\n",
       "      <td>28D4554C-AF79-4550-BC8D-3D1B13581B89</td>\n",
       "      <td>SSCM1165140397417SCM1-002-0</td>\n",
       "      <td>64000.0</td>\n",
       "      <td>5/1/22 18:22</td>\n",
       "      <td>fd08861f-d5a1-11e8-93d5-0242ac110006</td>\n",
       "      <td>3</td>\n",
       "      <td>6896C80F-602E-5D86-A03E-8E6C5CFF221F</td>\n",
       "      <td>28D4554C-AF79-4550-BC8D-3D1B13581B89</td>\n",
       "      <td>NaN</td>\n",
       "      <td>6000</td>\n",
       "      <td>5/1/22 18:22</td>\n",
       "    </tr>\n",
       "    <tr>\n",
       "      <th>2341</th>\n",
       "      <td>006D97BF-37C4-566E-808F-E5E5F93168F2</td>\n",
       "      <td>8FDA8206-88AF-4743-9B22-6F45B192FEDF</td>\n",
       "      <td>4630</td>\n",
       "      <td>54000.0</td>\n",
       "      <td>5/10/22 12:29</td>\n",
       "      <td>c4968320-d59c-11e8-93d5-0242ac110006</td>\n",
       "      <td>3</td>\n",
       "      <td>A9F108F1-000B-5D24-9424-FEFEEEF03F3E</td>\n",
       "      <td>8FDA8206-88AF-4743-9B22-6F45B192FEDF</td>\n",
       "      <td>NaN</td>\n",
       "      <td>10000</td>\n",
       "      <td>5/10/22 12:29</td>\n",
       "    </tr>\n",
       "    <tr>\n",
       "      <th>2362</th>\n",
       "      <td>01F8748C-8B37-5E5E-B8DE-1A7C1CE966E8</td>\n",
       "      <td>FB6A4FED-9898-417C-AEB2-F344A61A7AC9</td>\n",
       "      <td>SSC2J165347680170SC2J-004-0</td>\n",
       "      <td>62000.0</td>\n",
       "      <td>5/25/22 18:07</td>\n",
       "      <td>72577e24-7c77-11e9-9061-4f8848f374c0</td>\n",
       "      <td>3</td>\n",
       "      <td>04757B53-2930-5075-816A-E9E5E24BEFAC</td>\n",
       "      <td>FB6A4FED-9898-417C-AEB2-F344A61A7AC9</td>\n",
       "      <td>NaN</td>\n",
       "      <td>40000</td>\n",
       "      <td>5/25/22 18:07</td>\n",
       "    </tr>\n",
       "  </tbody>\n",
       "</table>\n",
       "</div>"
      ],
      "text/plain": [
       "                    Transaction_payment_id  \\\n",
       "24    00096DCD-6497-55C7-AD5D-C317821B75E3   \n",
       "1184  01030FA0-CEA9-541A-876A-B2BDA5B549C3   \n",
       "1926  003F6CF4-274B-5976-BB91-F6B6EA6D2F45   \n",
       "2341  006D97BF-37C4-566E-808F-E5E5F93168F2   \n",
       "2362  01F8748C-8B37-5E5E-B8DE-1A7C1CE966E8   \n",
       "\n",
       "                            Transaction_id               Payment_source  \\\n",
       "24    3A709E85-8B27-4A9C-83FB-D0BEE292F4CF  SSC5D165164471954SC5D-002-0   \n",
       "1184  921DC4A2-8534-45CE-A05B-A0585C851267  SSC5D165197582150SC5D-002-0   \n",
       "1926  28D4554C-AF79-4550-BC8D-3D1B13581B89  SSCM1165140397417SCM1-002-0   \n",
       "2341  8FDA8206-88AF-4743-9B22-6F45B192FEDF                         4630   \n",
       "2362  FB6A4FED-9898-417C-AEB2-F344A61A7AC9  SSC2J165347680170SC2J-004-0   \n",
       "\n",
       "      Payment_Amount Transaction_date                               User_id  \\\n",
       "24           96000.0     5/4/22 13:14  8dc2b582-d59f-11e8-93d5-0242ac110006   \n",
       "1184         35200.0      5/8/22 9:13  b57a34f1-d59b-11e8-93d5-0242ac110006   \n",
       "1926         64000.0     5/1/22 18:22  fd08861f-d5a1-11e8-93d5-0242ac110006   \n",
       "2341         54000.0    5/10/22 12:29  c4968320-d59c-11e8-93d5-0242ac110006   \n",
       "2362         62000.0    5/25/22 18:07  72577e24-7c77-11e9-9061-4f8848f374c0   \n",
       "\n",
       "      Level_user               Transaction_discount_id  \\\n",
       "24             3  A6793A8E-3009-5F54-9105-440048100698   \n",
       "1184           3  FDF0ABD9-5A09-5B65-8570-B01B6382133D   \n",
       "1926           3  6896C80F-602E-5D86-A03E-8E6C5CFF221F   \n",
       "2341           3  A9F108F1-000B-5D24-9424-FEFEEEF03F3E   \n",
       "2362           3  04757B53-2930-5075-816A-E9E5E24BEFAC   \n",
       "\n",
       "                            Transaction_id  Promo_code  Discount_Amount  \\\n",
       "24    3A709E85-8B27-4A9C-83FB-D0BEE292F4CF         NaN             8000   \n",
       "1184  921DC4A2-8534-45CE-A05B-A0585C851267         NaN             8800   \n",
       "1926  28D4554C-AF79-4550-BC8D-3D1B13581B89         NaN             6000   \n",
       "2341  8FDA8206-88AF-4743-9B22-6F45B192FEDF         NaN            10000   \n",
       "2362  FB6A4FED-9898-417C-AEB2-F344A61A7AC9         NaN            40000   \n",
       "\n",
       "        Redeem_Date  \n",
       "24     5/4/22 13:14  \n",
       "1184    5/8/22 9:13  \n",
       "1926   5/1/22 18:22  \n",
       "2341  5/10/22 12:29  \n",
       "2362  5/25/22 18:07  "
      ]
     },
     "metadata": {},
     "output_type": "display_data"
    }
   ],
   "source": [
    "nan_data = all_data[all_data.isna().any(axis=1)]\n",
    "display(nan_data.head())"
   ]
  },
  {
   "cell_type": "markdown",
   "id": "2b1779d6",
   "metadata": {},
   "source": [
    "#### 2. Drow rows or column that contain missing values (NaN)"
   ]
  },
  {
   "cell_type": "code",
   "execution_count": 15,
   "id": "63d41e16",
   "metadata": {},
   "outputs": [
    {
     "data": {
      "text/plain": [
       "(766106, 12)"
      ]
     },
     "execution_count": 15,
     "metadata": {},
     "output_type": "execute_result"
    }
   ],
   "source": [
    "all_data = all_data.dropna()\n",
    "all_data.reset_index(drop=True)\n",
    "all_data.shape"
   ]
  },
  {
   "cell_type": "markdown",
   "id": "06e60272",
   "metadata": {},
   "source": [
    "- Data shape after cleansing has 766,106 entry of rows and 12 columns "
   ]
  },
  {
   "cell_type": "markdown",
   "id": "355eea56",
   "metadata": {},
   "source": [
    "### Transforming Data\n",
    "#### 1. Remove duplicate column"
   ]
  },
  {
   "cell_type": "code",
   "execution_count": 16,
   "id": "a3130fa6",
   "metadata": {},
   "outputs": [],
   "source": [
    "all_data = all_data.loc[:,~all_data.columns.duplicated()].copy()"
   ]
  },
  {
   "cell_type": "markdown",
   "id": "41efa278",
   "metadata": {},
   "source": [
    "#### 2. Reindex the column name with desired order\n"
   ]
  },
  {
   "cell_type": "code",
   "execution_count": 17,
   "id": "1a8f5887",
   "metadata": {},
   "outputs": [],
   "source": [
    "all_data = all_data.reindex(columns=['User_id', 'Transaction_id', 'Transaction_payment_id', 'Transaction_discount_id', 'Transaction_date', 'Redeem_Date', 'Payment_Amount', 'Discount_Amount', 'Payment_source', 'Level_user', 'Promo_code'])"
   ]
  },
  {
   "cell_type": "markdown",
   "id": "58e9b2b0",
   "metadata": {},
   "source": [
    "#### 3. Change column data type to correct type"
   ]
  },
  {
   "cell_type": "code",
   "execution_count": 18,
   "id": "8e5e60ed",
   "metadata": {},
   "outputs": [],
   "source": [
    "all_data['Promo_code'] = all_data['Promo_code'].round(0)\n",
    "all_data['Promo_code'] = all_data['Promo_code'].astype(int)\n",
    "all_data['Discount_Amount'] = all_data['Discount_Amount'].astype(float)"
   ]
  },
  {
   "cell_type": "markdown",
   "id": "36eb4603",
   "metadata": {},
   "source": [
    "#### 4. Augmented dataset with additional column"
   ]
  },
  {
   "cell_type": "code",
   "execution_count": 19,
   "id": "80214be4",
   "metadata": {},
   "outputs": [],
   "source": [
    "all_data['Month'] = pd.to_datetime(all_data['Transaction_date']).dt.month\n",
    "all_data['Day'] = pd.to_datetime(all_data['Transaction_date']).dt.day\n",
    "all_data['Hour'] = pd.to_datetime(all_data['Transaction_date']).dt.hour\n",
    "all_data['Minute'] = pd.to_datetime(all_data['Transaction_date']).dt.minute\n",
    "all_data['Count'] = 1"
   ]
  },
  {
   "cell_type": "markdown",
   "id": "8b94ee69",
   "metadata": {},
   "source": [
    "#### 5. Inspect value on specific columns\n",
    "- This used to get an ideas what analysis can be done\n",
    "- At this step i want to inspect some columns, following:\n",
    "    - ```Promo code```\n",
    "    - ```Level user```\n",
    "    - ```Month```\n",
    "    - ```Day```\n",
    "    - ```Hour```"
   ]
  },
  {
   "cell_type": "code",
   "execution_count": 20,
   "id": "ab4cae06",
   "metadata": {},
   "outputs": [
    {
     "data": {
      "text/plain": [
       "array([9001, 1017, 1045, 1220, 1029, 9208, 1086, 9040, 9113, 9214, 9201,\n",
       "       9189, 9207, 1219, 2068, 9206, 1222,   21, 1248,   46, 9130, 1238,\n",
       "          1, 1059, 9167, 9186, 9114, 9131, 1163,   24, 1085,   55, 9177,\n",
       "       9120, 1199, 1057, 6046, 9124, 1200,   66, 9188, 1209,   94,   84,\n",
       "         82,   49, 1061, 9192,   98, 1058,   54, 9190, 6050,  106,   29,\n",
       "       1039, 1249, 2061, 9191, 1034, 9205, 9165,   72,   41, 1006,    4,\n",
       "       1007,   47,  100,   79, 3003,   42,   96, 9116])"
      ]
     },
     "execution_count": 20,
     "metadata": {},
     "output_type": "execute_result"
    }
   ],
   "source": [
    "all_data['Promo_code'].unique()"
   ]
  },
  {
   "cell_type": "code",
   "execution_count": 21,
   "id": "26a35c56",
   "metadata": {},
   "outputs": [
    {
     "data": {
      "text/plain": [
       "74"
      ]
     },
     "execution_count": 21,
     "metadata": {},
     "output_type": "execute_result"
    }
   ],
   "source": [
    "all_data['Promo_code'].nunique()"
   ]
  },
  {
   "cell_type": "markdown",
   "id": "b561cc5c",
   "metadata": {},
   "source": [
    "- There are 74 unique of Promo code"
   ]
  },
  {
   "cell_type": "code",
   "execution_count": 22,
   "id": "d22aaeb3",
   "metadata": {},
   "outputs": [
    {
     "data": {
      "text/plain": [
       "array([3, 2, 1], dtype=int64)"
      ]
     },
     "execution_count": 22,
     "metadata": {},
     "output_type": "execute_result"
    }
   ],
   "source": [
    "all_data['Level_user'].unique()"
   ]
  },
  {
   "cell_type": "markdown",
   "id": "e780054a",
   "metadata": {},
   "source": [
    "- There are 3 type of level user, which following:\n",
    "    - User level 1\n",
    "    - User level 2\n",
    "    - User level 3"
   ]
  },
  {
   "cell_type": "code",
   "execution_count": 24,
   "id": "280869f2",
   "metadata": {},
   "outputs": [
    {
     "data": {
      "text/plain": [
       "array([5], dtype=int64)"
      ]
     },
     "execution_count": 24,
     "metadata": {},
     "output_type": "execute_result"
    }
   ],
   "source": [
    "all_data['Month'].unique()"
   ]
  },
  {
   "cell_type": "markdown",
   "id": "9e269207",
   "metadata": {},
   "source": [
    "- There only 1 value in column Month : 5\n",
    "- 5 Represent the month : Mei\n",
    "- From now on we get to know that the dataset is only contain Data Transaction on Mei 2022"
   ]
  },
  {
   "cell_type": "code",
   "execution_count": 25,
   "id": "aa4630f3",
   "metadata": {},
   "outputs": [
    {
     "data": {
      "text/plain": [
       "array([ 9, 15,  6, 28,  7, 19, 16, 12,  8, 18, 27,  5, 22, 31,  3, 17, 13,\n",
       "       26,  2, 20, 24, 11, 25, 21, 30,  1, 29, 10,  4, 23, 14],\n",
       "      dtype=int64)"
      ]
     },
     "execution_count": 25,
     "metadata": {},
     "output_type": "execute_result"
    }
   ],
   "source": [
    "all_data['Day'].unique()"
   ]
  },
  {
   "cell_type": "code",
   "execution_count": 26,
   "id": "ef14f211",
   "metadata": {},
   "outputs": [
    {
     "data": {
      "text/plain": [
       "31"
      ]
     },
     "execution_count": 26,
     "metadata": {},
     "output_type": "execute_result"
    }
   ],
   "source": [
    "all_data['Day'].nunique()"
   ]
  },
  {
   "cell_type": "markdown",
   "id": "bf3a16fc",
   "metadata": {},
   "source": [
    "- There are 31 Days in Day column"
   ]
  },
  {
   "cell_type": "code",
   "execution_count": 28,
   "id": "bf172d31",
   "metadata": {},
   "outputs": [
    {
     "data": {
      "text/plain": [
       "array([11, 13, 10, 16, 15,  9, 17, 14,  8, 21,  7, 20, 19, 12, 18,  6, 22,\n",
       "        4,  5, 23,  0,  3,  2,  1], dtype=int64)"
      ]
     },
     "execution_count": 28,
     "metadata": {},
     "output_type": "execute_result"
    }
   ],
   "source": [
    "all_data['Hour'].unique()"
   ]
  },
  {
   "cell_type": "markdown",
   "id": "362d9b44",
   "metadata": {},
   "source": [
    "- There are 23 time stamp (in hours) which represent an hour in a day"
   ]
  },
  {
   "cell_type": "markdown",
   "id": "74f083c1",
   "metadata": {},
   "source": [
    "```NOTE```\n",
    "- From the data reading above we get to know that there are 74 unique code of promo code that can be use by user (customer)\n",
    "- There are 3 type level of customer: level 1, level 2, level 3\n",
    "- The dataset are the transaction data from Mei 2022"
   ]
  },
  {
   "cell_type": "markdown",
   "id": "736fdeb4",
   "metadata": {},
   "source": [
    "## Step 3: Analyze Data\n",
    "### 1. Descriptive Analytics\n",
    "- Siapa User ID yang paling banyak melakukan transaksi selama bulan Mei 2022 ?\n",
    "- Bagaimana tren transaksi yang terjadi pada bulan Mei 2022 ?\n",
    "- Bagainmana tren diskon yang terjadi pada bulan Mei 2022 ?\n",
    "- Kapan (Pada jam berapa) transaksi paling banyak (paling tinggi) biasanya terjadi?\n",
    "- Kapan (Pada hari apa) diskon paling banyak (paling tinggi) biasanya terjadi ?\n",
    "- Promo kode apa yang paling sering digunakan? Promo kode apa yang paling sering (paling banyak) digunakan secara bersamaan?\n",
    "- Bagaimana pesebaran level user yang terjadi di bulan Mei 2022? (level user apa yang paling banyak melakukan transaksi ?)"
   ]
  },
  {
   "cell_type": "markdown",
   "id": "af6cad3b",
   "metadata": {},
   "source": [
    "#### Try to see what final dataset will be use to analyze"
   ]
  },
  {
   "cell_type": "code",
   "execution_count": 29,
   "id": "9c41b673",
   "metadata": {},
   "outputs": [
    {
     "data": {
      "text/html": [
       "<div>\n",
       "<style scoped>\n",
       "    .dataframe tbody tr th:only-of-type {\n",
       "        vertical-align: middle;\n",
       "    }\n",
       "\n",
       "    .dataframe tbody tr th {\n",
       "        vertical-align: top;\n",
       "    }\n",
       "\n",
       "    .dataframe thead th {\n",
       "        text-align: right;\n",
       "    }\n",
       "</style>\n",
       "<table border=\"1\" class=\"dataframe\">\n",
       "  <thead>\n",
       "    <tr style=\"text-align: right;\">\n",
       "      <th></th>\n",
       "      <th>User_id</th>\n",
       "      <th>Transaction_id</th>\n",
       "      <th>Transaction_payment_id</th>\n",
       "      <th>Transaction_discount_id</th>\n",
       "      <th>Transaction_date</th>\n",
       "      <th>Redeem_Date</th>\n",
       "      <th>Payment_Amount</th>\n",
       "      <th>Discount_Amount</th>\n",
       "      <th>Payment_source</th>\n",
       "      <th>Level_user</th>\n",
       "      <th>Promo_code</th>\n",
       "      <th>Month</th>\n",
       "      <th>Day</th>\n",
       "      <th>Hour</th>\n",
       "      <th>Minute</th>\n",
       "      <th>Count</th>\n",
       "    </tr>\n",
       "  </thead>\n",
       "  <tbody>\n",
       "    <tr>\n",
       "      <th>0</th>\n",
       "      <td>7fd36377-d59f-11e8-93d5-0242ac110006</td>\n",
       "      <td>3DB5E42B-9CD4-45E0-9AAB-35054CCF3955</td>\n",
       "      <td>00000D89-BAD2-5628-A65B-3C8F4397F047</td>\n",
       "      <td>154F720B-9862-5D32-888C-084EA80F2D0E</td>\n",
       "      <td>5/9/22 11:24</td>\n",
       "      <td>5/9/22 11:24</td>\n",
       "      <td>55600.0</td>\n",
       "      <td>12400.0</td>\n",
       "      <td>1</td>\n",
       "      <td>3</td>\n",
       "      <td>9001</td>\n",
       "      <td>5</td>\n",
       "      <td>9</td>\n",
       "      <td>11</td>\n",
       "      <td>24</td>\n",
       "      <td>1</td>\n",
       "    </tr>\n",
       "    <tr>\n",
       "      <th>1</th>\n",
       "      <td>7beaabd8-067e-11e9-8159-9802e614fb2e</td>\n",
       "      <td>582DCDA7-629E-4E84-9225-601BBE030C29</td>\n",
       "      <td>000023A4-AE30-524E-8851-ECF2D6EA9493</td>\n",
       "      <td>8AF4E681-B001-5284-B71C-D814D6389879</td>\n",
       "      <td>5/15/22 13:05</td>\n",
       "      <td>5/15/22 13:05</td>\n",
       "      <td>111000.0</td>\n",
       "      <td>2.0</td>\n",
       "      <td>1</td>\n",
       "      <td>3</td>\n",
       "      <td>1017</td>\n",
       "      <td>5</td>\n",
       "      <td>15</td>\n",
       "      <td>13</td>\n",
       "      <td>5</td>\n",
       "      <td>1</td>\n",
       "    </tr>\n",
       "    <tr>\n",
       "      <th>2</th>\n",
       "      <td>81c9534c-d59e-11e8-93d5-0242ac110006</td>\n",
       "      <td>09C589E8-0D3F-4E1F-91C3-AA4E6BD6CDA5</td>\n",
       "      <td>0000A337-8DE9-5B9D-888C-3750620C96D9</td>\n",
       "      <td>E0B0B605-07F3-5301-A812-65124143B78C</td>\n",
       "      <td>5/6/22 13:33</td>\n",
       "      <td>5/6/22 13:33</td>\n",
       "      <td>18000.0</td>\n",
       "      <td>59000.0</td>\n",
       "      <td>1</td>\n",
       "      <td>3</td>\n",
       "      <td>9001</td>\n",
       "      <td>5</td>\n",
       "      <td>6</td>\n",
       "      <td>13</td>\n",
       "      <td>33</td>\n",
       "      <td>1</td>\n",
       "    </tr>\n",
       "    <tr>\n",
       "      <th>3</th>\n",
       "      <td>07c1dd4f-d59c-11e8-93d5-0242ac110006</td>\n",
       "      <td>66EFF64F-6E22-4F97-8AE0-6316D441E10A</td>\n",
       "      <td>0000CB3B-4246-5A58-AA16-FF20B9AC60A8</td>\n",
       "      <td>98EF667A-FFAE-524E-B121-0EBF33067EFB</td>\n",
       "      <td>5/28/22 10:55</td>\n",
       "      <td>5/28/22 10:55</td>\n",
       "      <td>0.0</td>\n",
       "      <td>53000.0</td>\n",
       "      <td>1</td>\n",
       "      <td>3</td>\n",
       "      <td>9001</td>\n",
       "      <td>5</td>\n",
       "      <td>28</td>\n",
       "      <td>10</td>\n",
       "      <td>55</td>\n",
       "      <td>1</td>\n",
       "    </tr>\n",
       "    <tr>\n",
       "      <th>4</th>\n",
       "      <td>e63f0d4a-f424-11ea-967b-f9b86ba0bcee</td>\n",
       "      <td>7774F5E7-4A60-49A9-A359-BD3C167D8F29</td>\n",
       "      <td>0000EED4-7E0E-5F21-BABC-357D89CB040A</td>\n",
       "      <td>493EBB76-C3F2-5D80-9033-4167F04FEB12</td>\n",
       "      <td>5/15/22 16:25</td>\n",
       "      <td>5/15/22 16:25</td>\n",
       "      <td>9000.0</td>\n",
       "      <td>20000.0</td>\n",
       "      <td>2</td>\n",
       "      <td>2</td>\n",
       "      <td>9001</td>\n",
       "      <td>5</td>\n",
       "      <td>15</td>\n",
       "      <td>16</td>\n",
       "      <td>25</td>\n",
       "      <td>1</td>\n",
       "    </tr>\n",
       "  </tbody>\n",
       "</table>\n",
       "</div>"
      ],
      "text/plain": [
       "                                User_id                        Transaction_id  \\\n",
       "0  7fd36377-d59f-11e8-93d5-0242ac110006  3DB5E42B-9CD4-45E0-9AAB-35054CCF3955   \n",
       "1  7beaabd8-067e-11e9-8159-9802e614fb2e  582DCDA7-629E-4E84-9225-601BBE030C29   \n",
       "2  81c9534c-d59e-11e8-93d5-0242ac110006  09C589E8-0D3F-4E1F-91C3-AA4E6BD6CDA5   \n",
       "3  07c1dd4f-d59c-11e8-93d5-0242ac110006  66EFF64F-6E22-4F97-8AE0-6316D441E10A   \n",
       "4  e63f0d4a-f424-11ea-967b-f9b86ba0bcee  7774F5E7-4A60-49A9-A359-BD3C167D8F29   \n",
       "\n",
       "                 Transaction_payment_id               Transaction_discount_id  \\\n",
       "0  00000D89-BAD2-5628-A65B-3C8F4397F047  154F720B-9862-5D32-888C-084EA80F2D0E   \n",
       "1  000023A4-AE30-524E-8851-ECF2D6EA9493  8AF4E681-B001-5284-B71C-D814D6389879   \n",
       "2  0000A337-8DE9-5B9D-888C-3750620C96D9  E0B0B605-07F3-5301-A812-65124143B78C   \n",
       "3  0000CB3B-4246-5A58-AA16-FF20B9AC60A8  98EF667A-FFAE-524E-B121-0EBF33067EFB   \n",
       "4  0000EED4-7E0E-5F21-BABC-357D89CB040A  493EBB76-C3F2-5D80-9033-4167F04FEB12   \n",
       "\n",
       "  Transaction_date    Redeem_Date  Payment_Amount  Discount_Amount  \\\n",
       "0     5/9/22 11:24   5/9/22 11:24         55600.0          12400.0   \n",
       "1    5/15/22 13:05  5/15/22 13:05        111000.0              2.0   \n",
       "2     5/6/22 13:33   5/6/22 13:33         18000.0          59000.0   \n",
       "3    5/28/22 10:55  5/28/22 10:55             0.0          53000.0   \n",
       "4    5/15/22 16:25  5/15/22 16:25          9000.0          20000.0   \n",
       "\n",
       "  Payment_source  Level_user  Promo_code  Month  Day  Hour  Minute  Count  \n",
       "0              1           3        9001      5    9    11      24      1  \n",
       "1              1           3        1017      5   15    13       5      1  \n",
       "2              1           3        9001      5    6    13      33      1  \n",
       "3              1           3        9001      5   28    10      55      1  \n",
       "4              2           2        9001      5   15    16      25      1  "
      ]
     },
     "execution_count": 29,
     "metadata": {},
     "output_type": "execute_result"
    }
   ],
   "source": [
    "all_data.head()"
   ]
  },
  {
   "cell_type": "markdown",
   "id": "0782e595",
   "metadata": {},
   "source": [
    "#### 1.a. Siapa User ID yang paling banyak melakukan transaksi selama bulan Mei 2022"
   ]
  },
  {
   "cell_type": "code",
   "execution_count": 31,
   "id": "accd31cb",
   "metadata": {},
   "outputs": [
    {
     "data": {
      "text/html": [
       "<div>\n",
       "<style scoped>\n",
       "    .dataframe tbody tr th:only-of-type {\n",
       "        vertical-align: middle;\n",
       "    }\n",
       "\n",
       "    .dataframe tbody tr th {\n",
       "        vertical-align: top;\n",
       "    }\n",
       "\n",
       "    .dataframe thead th {\n",
       "        text-align: right;\n",
       "    }\n",
       "</style>\n",
       "<table border=\"1\" class=\"dataframe\">\n",
       "  <thead>\n",
       "    <tr style=\"text-align: right;\">\n",
       "      <th></th>\n",
       "      <th>Transaction_id</th>\n",
       "      <th>Count</th>\n",
       "    </tr>\n",
       "    <tr>\n",
       "      <th>User_id</th>\n",
       "      <th></th>\n",
       "      <th></th>\n",
       "    </tr>\n",
       "  </thead>\n",
       "  <tbody>\n",
       "    <tr>\n",
       "      <th>393e56ca-d59c-11e8-93d5-0242ac110006</th>\n",
       "      <td>173</td>\n",
       "      <td>173</td>\n",
       "    </tr>\n",
       "    <tr>\n",
       "      <th>4a1a4ce0-d59d-11e8-93d5-0242ac110006</th>\n",
       "      <td>149</td>\n",
       "      <td>149</td>\n",
       "    </tr>\n",
       "    <tr>\n",
       "      <th>3e969498-a949-11eb-99f8-19dab282eff0</th>\n",
       "      <td>145</td>\n",
       "      <td>145</td>\n",
       "    </tr>\n",
       "    <tr>\n",
       "      <th>6ed37e54-a078-11e9-9ba9-44e6a2319fc4</th>\n",
       "      <td>136</td>\n",
       "      <td>136</td>\n",
       "    </tr>\n",
       "    <tr>\n",
       "      <th>b7f4220d-d5a0-11e8-93d5-0242ac110006</th>\n",
       "      <td>117</td>\n",
       "      <td>117</td>\n",
       "    </tr>\n",
       "    <tr>\n",
       "      <th>f24f5d6d-d602-11e8-93d5-0242ac110006</th>\n",
       "      <td>108</td>\n",
       "      <td>108</td>\n",
       "    </tr>\n",
       "    <tr>\n",
       "      <th>ed3879b0-ed0f-11e8-80bd-211279122f24</th>\n",
       "      <td>107</td>\n",
       "      <td>107</td>\n",
       "    </tr>\n",
       "    <tr>\n",
       "      <th>033805d5-d606-11e8-93d5-0242ac110006</th>\n",
       "      <td>105</td>\n",
       "      <td>105</td>\n",
       "    </tr>\n",
       "    <tr>\n",
       "      <th>e4dede7c-4455-11eb-930f-20409cc2b71e</th>\n",
       "      <td>105</td>\n",
       "      <td>105</td>\n",
       "    </tr>\n",
       "    <tr>\n",
       "      <th>f1d6385a-0ec8-11ea-89d7-615ebcd5f886</th>\n",
       "      <td>101</td>\n",
       "      <td>101</td>\n",
       "    </tr>\n",
       "  </tbody>\n",
       "</table>\n",
       "</div>"
      ],
      "text/plain": [
       "                                      Transaction_id  Count\n",
       "User_id                                                    \n",
       "393e56ca-d59c-11e8-93d5-0242ac110006             173    173\n",
       "4a1a4ce0-d59d-11e8-93d5-0242ac110006             149    149\n",
       "3e969498-a949-11eb-99f8-19dab282eff0             145    145\n",
       "6ed37e54-a078-11e9-9ba9-44e6a2319fc4             136    136\n",
       "b7f4220d-d5a0-11e8-93d5-0242ac110006             117    117\n",
       "f24f5d6d-d602-11e8-93d5-0242ac110006             108    108\n",
       "ed3879b0-ed0f-11e8-80bd-211279122f24             107    107\n",
       "033805d5-d606-11e8-93d5-0242ac110006             105    105\n",
       "e4dede7c-4455-11eb-930f-20409cc2b71e             105    105\n",
       "f1d6385a-0ec8-11ea-89d7-615ebcd5f886             101    101"
      ]
     },
     "execution_count": 31,
     "metadata": {},
     "output_type": "execute_result"
    }
   ],
   "source": [
    "dfby_userid = all_data.groupby(['User_id'])[['Transaction_id', 'Count']].count()\n",
    "dfby_userid = dfby_userid.sort_values(by='Count', ascending=False)\n",
    "dfby_userid.head(10)"
   ]
  },
  {
   "cell_type": "code",
   "execution_count": 32,
   "id": "cf4a2a18",
   "metadata": {},
   "outputs": [
    {
     "data": {
      "text/plain": [
       "<AxesSubplot:title={'center':'User ID Makes the Most Transaction in May 2022'}, xlabel='User_id'>"
      ]
     },
     "execution_count": 32,
     "metadata": {},
     "output_type": "execute_result"
    },
    {
     "data": {
      "image/png": "[encoded data removed]",
      "text/plain": [
       "<Figure size 576x432 with 1 Axes>"
      ]
     },
     "metadata": {
      "needs_background": "light"
     },
     "output_type": "display_data"
    }
   ],
   "source": [
    "dfby_userid['Transaction_id'].head(10).plot.bar(figsize=(8,6), title='User ID Makes the Most Transaction in May 2022')"
   ]
  },
  {
   "cell_type": "markdown",
   "id": "d7274fbb",
   "metadata": {},
   "source": [
    "```NOTE```\n",
    "- From the picture above we get to know 10 User id of customer with the most transaction in May 2022:\n",
    "    1. User ID : ```393e56ca-d59c-11e8-93d5-0242ac110006``` with total 173 Transaction\n",
    "    2. User ID : ```4a1a4ce0-d59d-11e8-93d5-0242ac110006``` with total 149 Transaction\t\n",
    "    3. User ID : ```3e969498-a949-11eb-99f8-19dab282eff0``` with total 145 Transaction\n",
    "    4. User ID : ```6ed37e54-a078-11e9-9ba9-44e6a2319fc4``` with total 136 Transaction\t\n",
    "    5. User ID : ```b7f4220d-d5a0-11e8-93d5-0242ac110006``` with total 117 Transaction\t\n",
    "    6. User ID : ```f24f5d6d-d602-11e8-93d5-0242ac110006``` with total 108 Transaction\t\n",
    "    7. User ID : ```ed3879b0-ed0f-11e8-80bd-211279122f24``` with total 107 Transaction\t\n",
    "    8. User ID : ```033805d5-d606-11e8-93d5-0242ac110006``` with total 105 Transaction\t\n",
    "    9. User ID : ```e4dede7c-4455-11eb-930f-20409cc2b71e``` with total 105 Transaction\t\n",
    "    10. User ID : ```f1d6385a-0ec8-11ea-89d7-615ebcd5f886``` with total 101 Transaction\t"
   ]
  },
  {
   "cell_type": "markdown",
   "id": "a1650da7",
   "metadata": {},
   "source": [
    "#### 1.b. Bagaimana tren transaksi yang terjadi pada Bulan Mei 2022"
   ]
  },
  {
   "cell_type": "code",
   "execution_count": 33,
   "id": "324fab03",
   "metadata": {},
   "outputs": [
    {
     "data": {
      "text/html": [
       "<div>\n",
       "<style scoped>\n",
       "    .dataframe tbody tr th:only-of-type {\n",
       "        vertical-align: middle;\n",
       "    }\n",
       "\n",
       "    .dataframe tbody tr th {\n",
       "        vertical-align: top;\n",
       "    }\n",
       "\n",
       "    .dataframe thead th {\n",
       "        text-align: right;\n",
       "    }\n",
       "</style>\n",
       "<table border=\"1\" class=\"dataframe\">\n",
       "  <thead>\n",
       "    <tr style=\"text-align: right;\">\n",
       "      <th></th>\n",
       "      <th>Payment_Amount</th>\n",
       "      <th>Discount_Amount</th>\n",
       "    </tr>\n",
       "    <tr>\n",
       "      <th>Day</th>\n",
       "      <th></th>\n",
       "      <th></th>\n",
       "    </tr>\n",
       "  </thead>\n",
       "  <tbody>\n",
       "    <tr>\n",
       "      <th>1</th>\n",
       "      <td>2.005486e+09</td>\n",
       "      <td>9.722573e+08</td>\n",
       "    </tr>\n",
       "    <tr>\n",
       "      <th>2</th>\n",
       "      <td>1.449088e+09</td>\n",
       "      <td>8.578376e+08</td>\n",
       "    </tr>\n",
       "    <tr>\n",
       "      <th>3</th>\n",
       "      <td>1.392535e+09</td>\n",
       "      <td>7.903155e+08</td>\n",
       "    </tr>\n",
       "    <tr>\n",
       "      <th>4</th>\n",
       "      <td>1.326885e+09</td>\n",
       "      <td>7.876371e+08</td>\n",
       "    </tr>\n",
       "    <tr>\n",
       "      <th>5</th>\n",
       "      <td>2.083113e+09</td>\n",
       "      <td>1.164340e+09</td>\n",
       "    </tr>\n",
       "    <tr>\n",
       "      <th>6</th>\n",
       "      <td>1.464113e+09</td>\n",
       "      <td>7.802771e+08</td>\n",
       "    </tr>\n",
       "    <tr>\n",
       "      <th>7</th>\n",
       "      <td>1.281509e+09</td>\n",
       "      <td>7.236355e+08</td>\n",
       "    </tr>\n",
       "    <tr>\n",
       "      <th>8</th>\n",
       "      <td>1.328708e+09</td>\n",
       "      <td>7.029821e+08</td>\n",
       "    </tr>\n",
       "    <tr>\n",
       "      <th>9</th>\n",
       "      <td>1.074221e+09</td>\n",
       "      <td>6.178499e+08</td>\n",
       "    </tr>\n",
       "    <tr>\n",
       "      <th>10</th>\n",
       "      <td>1.669239e+09</td>\n",
       "      <td>6.466663e+08</td>\n",
       "    </tr>\n",
       "    <tr>\n",
       "      <th>11</th>\n",
       "      <td>1.873095e+09</td>\n",
       "      <td>9.256054e+08</td>\n",
       "    </tr>\n",
       "    <tr>\n",
       "      <th>12</th>\n",
       "      <td>2.020125e+09</td>\n",
       "      <td>1.135971e+09</td>\n",
       "    </tr>\n",
       "    <tr>\n",
       "      <th>13</th>\n",
       "      <td>1.908941e+09</td>\n",
       "      <td>9.490776e+08</td>\n",
       "    </tr>\n",
       "    <tr>\n",
       "      <th>14</th>\n",
       "      <td>1.410500e+09</td>\n",
       "      <td>6.532710e+08</td>\n",
       "    </tr>\n",
       "    <tr>\n",
       "      <th>15</th>\n",
       "      <td>1.347957e+09</td>\n",
       "      <td>6.221098e+08</td>\n",
       "    </tr>\n",
       "    <tr>\n",
       "      <th>16</th>\n",
       "      <td>2.234974e+09</td>\n",
       "      <td>8.961951e+08</td>\n",
       "    </tr>\n",
       "    <tr>\n",
       "      <th>17</th>\n",
       "      <td>3.419684e+09</td>\n",
       "      <td>1.157410e+09</td>\n",
       "    </tr>\n",
       "    <tr>\n",
       "      <th>18</th>\n",
       "      <td>1.742233e+09</td>\n",
       "      <td>8.489796e+08</td>\n",
       "    </tr>\n",
       "    <tr>\n",
       "      <th>19</th>\n",
       "      <td>1.801469e+09</td>\n",
       "      <td>1.052815e+09</td>\n",
       "    </tr>\n",
       "    <tr>\n",
       "      <th>20</th>\n",
       "      <td>1.740271e+09</td>\n",
       "      <td>8.713809e+08</td>\n",
       "    </tr>\n",
       "    <tr>\n",
       "      <th>21</th>\n",
       "      <td>1.214976e+09</td>\n",
       "      <td>6.248741e+08</td>\n",
       "    </tr>\n",
       "    <tr>\n",
       "      <th>22</th>\n",
       "      <td>1.784882e+09</td>\n",
       "      <td>9.244332e+08</td>\n",
       "    </tr>\n",
       "    <tr>\n",
       "      <th>23</th>\n",
       "      <td>5.907745e+08</td>\n",
       "      <td>4.335405e+08</td>\n",
       "    </tr>\n",
       "    <tr>\n",
       "      <th>24</th>\n",
       "      <td>1.384756e+09</td>\n",
       "      <td>5.361943e+08</td>\n",
       "    </tr>\n",
       "    <tr>\n",
       "      <th>25</th>\n",
       "      <td>1.677150e+09</td>\n",
       "      <td>1.020945e+09</td>\n",
       "    </tr>\n",
       "    <tr>\n",
       "      <th>26</th>\n",
       "      <td>2.105346e+09</td>\n",
       "      <td>1.307586e+09</td>\n",
       "    </tr>\n",
       "    <tr>\n",
       "      <th>27</th>\n",
       "      <td>1.740971e+09</td>\n",
       "      <td>1.014776e+09</td>\n",
       "    </tr>\n",
       "    <tr>\n",
       "      <th>28</th>\n",
       "      <td>1.460521e+09</td>\n",
       "      <td>8.554515e+08</td>\n",
       "    </tr>\n",
       "    <tr>\n",
       "      <th>29</th>\n",
       "      <td>1.573018e+09</td>\n",
       "      <td>6.928538e+08</td>\n",
       "    </tr>\n",
       "    <tr>\n",
       "      <th>30</th>\n",
       "      <td>1.107579e+09</td>\n",
       "      <td>5.903212e+08</td>\n",
       "    </tr>\n",
       "    <tr>\n",
       "      <th>31</th>\n",
       "      <td>1.628556e+09</td>\n",
       "      <td>5.914709e+08</td>\n",
       "    </tr>\n",
       "  </tbody>\n",
       "</table>\n",
       "</div>"
      ],
      "text/plain": [
       "     Payment_Amount  Discount_Amount\n",
       "Day                                 \n",
       "1      2.005486e+09     9.722573e+08\n",
       "2      1.449088e+09     8.578376e+08\n",
       "3      1.392535e+09     7.903155e+08\n",
       "4      1.326885e+09     7.876371e+08\n",
       "5      2.083113e+09     1.164340e+09\n",
       "6      1.464113e+09     7.802771e+08\n",
       "7      1.281509e+09     7.236355e+08\n",
       "8      1.328708e+09     7.029821e+08\n",
       "9      1.074221e+09     6.178499e+08\n",
       "10     1.669239e+09     6.466663e+08\n",
       "11     1.873095e+09     9.256054e+08\n",
       "12     2.020125e+09     1.135971e+09\n",
       "13     1.908941e+09     9.490776e+08\n",
       "14     1.410500e+09     6.532710e+08\n",
       "15     1.347957e+09     6.221098e+08\n",
       "16     2.234974e+09     8.961951e+08\n",
       "17     3.419684e+09     1.157410e+09\n",
       "18     1.742233e+09     8.489796e+08\n",
       "19     1.801469e+09     1.052815e+09\n",
       "20     1.740271e+09     8.713809e+08\n",
       "21     1.214976e+09     6.248741e+08\n",
       "22     1.784882e+09     9.244332e+08\n",
       "23     5.907745e+08     4.335405e+08\n",
       "24     1.384756e+09     5.361943e+08\n",
       "25     1.677150e+09     1.020945e+09\n",
       "26     2.105346e+09     1.307586e+09\n",
       "27     1.740971e+09     1.014776e+09\n",
       "28     1.460521e+09     8.554515e+08\n",
       "29     1.573018e+09     6.928538e+08\n",
       "30     1.107579e+09     5.903212e+08\n",
       "31     1.628556e+09     5.914709e+08"
      ]
     },
     "execution_count": 33,
     "metadata": {},
     "output_type": "execute_result"
    }
   ],
   "source": [
    "dfby_day = all_data.groupby(['Day'])[['Payment_Amount', 'Discount_Amount']].sum()\n",
    "dfby_day"
   ]
  },
  {
   "cell_type": "code",
   "execution_count": 41,
   "id": "de59ab04",
   "metadata": {},
   "outputs": [
    {
     "data": {
      "image/png": "[encoded data removed]",
      "text/plain": [
       "<Figure size 576x432 with 1 Axes>"
      ]
     },
     "metadata": {
      "needs_background": "light"
     },
     "output_type": "display_data"
    }
   ],
   "source": [
    "ax = dfby_day['Payment_Amount'].plot(figsize=(8,6), title='Transaction Trend in May 2022', ylabel='Total of Transaction Payment')\n",
    "ax.hlines(y=dfby_day['Payment_Amount'].mean(), xmin=0, xmax=len(dfby_day['Payment_Amount']), linestyles='--', lw=2, colors='red')\n",
    "ax.grid(True)"
   ]
  },
  {
   "cell_type": "code",
   "execution_count": 44,
   "id": "e84671fd",
   "metadata": {},
   "outputs": [
    {
     "data": {
      "text/html": [
       "<div>\n",
       "<style scoped>\n",
       "    .dataframe tbody tr th:only-of-type {\n",
       "        vertical-align: middle;\n",
       "    }\n",
       "\n",
       "    .dataframe tbody tr th {\n",
       "        vertical-align: top;\n",
       "    }\n",
       "\n",
       "    .dataframe thead th {\n",
       "        text-align: right;\n",
       "    }\n",
       "</style>\n",
       "<table border=\"1\" class=\"dataframe\">\n",
       "  <thead>\n",
       "    <tr style=\"text-align: right;\">\n",
       "      <th></th>\n",
       "      <th>Payment_Amount</th>\n",
       "      <th>Discount_Amount</th>\n",
       "    </tr>\n",
       "    <tr>\n",
       "      <th>Day</th>\n",
       "      <th></th>\n",
       "      <th></th>\n",
       "    </tr>\n",
       "  </thead>\n",
       "  <tbody>\n",
       "    <tr>\n",
       "      <th>17</th>\n",
       "      <td>3.419684e+09</td>\n",
       "      <td>1.157410e+09</td>\n",
       "    </tr>\n",
       "    <tr>\n",
       "      <th>16</th>\n",
       "      <td>2.234974e+09</td>\n",
       "      <td>8.961951e+08</td>\n",
       "    </tr>\n",
       "    <tr>\n",
       "      <th>26</th>\n",
       "      <td>2.105346e+09</td>\n",
       "      <td>1.307586e+09</td>\n",
       "    </tr>\n",
       "    <tr>\n",
       "      <th>5</th>\n",
       "      <td>2.083113e+09</td>\n",
       "      <td>1.164340e+09</td>\n",
       "    </tr>\n",
       "    <tr>\n",
       "      <th>12</th>\n",
       "      <td>2.020125e+09</td>\n",
       "      <td>1.135971e+09</td>\n",
       "    </tr>\n",
       "    <tr>\n",
       "      <th>1</th>\n",
       "      <td>2.005486e+09</td>\n",
       "      <td>9.722573e+08</td>\n",
       "    </tr>\n",
       "    <tr>\n",
       "      <th>13</th>\n",
       "      <td>1.908941e+09</td>\n",
       "      <td>9.490776e+08</td>\n",
       "    </tr>\n",
       "    <tr>\n",
       "      <th>11</th>\n",
       "      <td>1.873095e+09</td>\n",
       "      <td>9.256054e+08</td>\n",
       "    </tr>\n",
       "    <tr>\n",
       "      <th>19</th>\n",
       "      <td>1.801469e+09</td>\n",
       "      <td>1.052815e+09</td>\n",
       "    </tr>\n",
       "    <tr>\n",
       "      <th>22</th>\n",
       "      <td>1.784882e+09</td>\n",
       "      <td>9.244332e+08</td>\n",
       "    </tr>\n",
       "    <tr>\n",
       "      <th>18</th>\n",
       "      <td>1.742233e+09</td>\n",
       "      <td>8.489796e+08</td>\n",
       "    </tr>\n",
       "    <tr>\n",
       "      <th>27</th>\n",
       "      <td>1.740971e+09</td>\n",
       "      <td>1.014776e+09</td>\n",
       "    </tr>\n",
       "    <tr>\n",
       "      <th>20</th>\n",
       "      <td>1.740271e+09</td>\n",
       "      <td>8.713809e+08</td>\n",
       "    </tr>\n",
       "    <tr>\n",
       "      <th>25</th>\n",
       "      <td>1.677150e+09</td>\n",
       "      <td>1.020945e+09</td>\n",
       "    </tr>\n",
       "    <tr>\n",
       "      <th>10</th>\n",
       "      <td>1.669239e+09</td>\n",
       "      <td>6.466663e+08</td>\n",
       "    </tr>\n",
       "  </tbody>\n",
       "</table>\n",
       "</div>"
      ],
      "text/plain": [
       "     Payment_Amount  Discount_Amount\n",
       "Day                                 \n",
       "17     3.419684e+09     1.157410e+09\n",
       "16     2.234974e+09     8.961951e+08\n",
       "26     2.105346e+09     1.307586e+09\n",
       "5      2.083113e+09     1.164340e+09\n",
       "12     2.020125e+09     1.135971e+09\n",
       "1      2.005486e+09     9.722573e+08\n",
       "13     1.908941e+09     9.490776e+08\n",
       "11     1.873095e+09     9.256054e+08\n",
       "19     1.801469e+09     1.052815e+09\n",
       "22     1.784882e+09     9.244332e+08\n",
       "18     1.742233e+09     8.489796e+08\n",
       "27     1.740971e+09     1.014776e+09\n",
       "20     1.740271e+09     8.713809e+08\n",
       "25     1.677150e+09     1.020945e+09\n",
       "10     1.669239e+09     6.466663e+08"
      ]
     },
     "execution_count": 44,
     "metadata": {},
     "output_type": "execute_result"
    }
   ],
   "source": [
    "dfby_day[dfby_day['Payment_Amount'] > dfby_day['Payment_Amount'].mean()].sort_values(by='Payment_Amount', ascending=False)"
   ]
  },
  {
   "cell_type": "markdown",
   "id": "6ba3e26a",
   "metadata": {},
   "source": [
    "```NOTE```\n",
    "- From the picture above we know that most transaction happened on 17 May 2022 and least transaction happened on 23 May 2022\n",
    "- The horizontal red line show an average of Payment Transaction on May 2022\n",
    "- We also get to know there some days that had Payment Transaction Amount above the average, those are (from 5 highest):\n",
    "    - Day 17 with total amount of Payment Transaction around 3.4196 Billion\n",
    "    - Day 16 with total amount of Payment Transaction around 2.23497 Billion\n",
    "    - Day 26 with total amount of Payment Transaction around 2.10534 Billion\n",
    "    - Day 5 with total amount of Payment Transaction around 2.08311 Billion\n",
    "    - Day 12 with total amount of Payment Transactin around 2.02012 Billion"
   ]
  },
  {
   "cell_type": "markdown",
   "id": "7aa83d4e",
   "metadata": {},
   "source": [
    "#### 1.c Bagaimana trend diskon yang terjadi pada bulan Mei 2022"
   ]
  },
  {
   "cell_type": "code",
   "execution_count": 47,
   "id": "21764493",
   "metadata": {},
   "outputs": [
    {
     "data": {
      "image/png": "[encoded data removed]",
      "text/plain": [
       "<Figure size 576x432 with 1 Axes>"
      ]
     },
     "metadata": {
      "needs_background": "light"
     },
     "output_type": "display_data"
    }
   ],
   "source": [
    "ax = dfby_day['Discount_Amount'].plot(figsize=(8,6), title='Discount Trend in May 2022', ylabel='Total of Discount', color='green')\n",
    "ax.hlines(y=dfby_day['Discount_Amount'].mean(), xmin=0, xmax=len(dfby_day['Discount_Amount']), linestyles='--', lw=2, colors='purple')\n",
    "ax.grid(True)"
   ]
  },
  {
   "cell_type": "code",
   "execution_count": 49,
   "id": "39482618",
   "metadata": {},
   "outputs": [
    {
     "data": {
      "text/html": [
       "<div>\n",
       "<style scoped>\n",
       "    .dataframe tbody tr th:only-of-type {\n",
       "        vertical-align: middle;\n",
       "    }\n",
       "\n",
       "    .dataframe tbody tr th {\n",
       "        vertical-align: top;\n",
       "    }\n",
       "\n",
       "    .dataframe thead th {\n",
       "        text-align: right;\n",
       "    }\n",
       "</style>\n",
       "<table border=\"1\" class=\"dataframe\">\n",
       "  <thead>\n",
       "    <tr style=\"text-align: right;\">\n",
       "      <th></th>\n",
       "      <th>Payment_Amount</th>\n",
       "      <th>Discount_Amount</th>\n",
       "    </tr>\n",
       "    <tr>\n",
       "      <th>Day</th>\n",
       "      <th></th>\n",
       "      <th></th>\n",
       "    </tr>\n",
       "  </thead>\n",
       "  <tbody>\n",
       "    <tr>\n",
       "      <th>26</th>\n",
       "      <td>2.105346e+09</td>\n",
       "      <td>1.307586e+09</td>\n",
       "    </tr>\n",
       "    <tr>\n",
       "      <th>5</th>\n",
       "      <td>2.083113e+09</td>\n",
       "      <td>1.164340e+09</td>\n",
       "    </tr>\n",
       "    <tr>\n",
       "      <th>17</th>\n",
       "      <td>3.419684e+09</td>\n",
       "      <td>1.157410e+09</td>\n",
       "    </tr>\n",
       "    <tr>\n",
       "      <th>12</th>\n",
       "      <td>2.020125e+09</td>\n",
       "      <td>1.135971e+09</td>\n",
       "    </tr>\n",
       "    <tr>\n",
       "      <th>19</th>\n",
       "      <td>1.801469e+09</td>\n",
       "      <td>1.052815e+09</td>\n",
       "    </tr>\n",
       "    <tr>\n",
       "      <th>25</th>\n",
       "      <td>1.677150e+09</td>\n",
       "      <td>1.020945e+09</td>\n",
       "    </tr>\n",
       "    <tr>\n",
       "      <th>27</th>\n",
       "      <td>1.740971e+09</td>\n",
       "      <td>1.014776e+09</td>\n",
       "    </tr>\n",
       "    <tr>\n",
       "      <th>1</th>\n",
       "      <td>2.005486e+09</td>\n",
       "      <td>9.722573e+08</td>\n",
       "    </tr>\n",
       "    <tr>\n",
       "      <th>13</th>\n",
       "      <td>1.908941e+09</td>\n",
       "      <td>9.490776e+08</td>\n",
       "    </tr>\n",
       "    <tr>\n",
       "      <th>11</th>\n",
       "      <td>1.873095e+09</td>\n",
       "      <td>9.256054e+08</td>\n",
       "    </tr>\n",
       "    <tr>\n",
       "      <th>22</th>\n",
       "      <td>1.784882e+09</td>\n",
       "      <td>9.244332e+08</td>\n",
       "    </tr>\n",
       "    <tr>\n",
       "      <th>16</th>\n",
       "      <td>2.234974e+09</td>\n",
       "      <td>8.961951e+08</td>\n",
       "    </tr>\n",
       "    <tr>\n",
       "      <th>20</th>\n",
       "      <td>1.740271e+09</td>\n",
       "      <td>8.713809e+08</td>\n",
       "    </tr>\n",
       "    <tr>\n",
       "      <th>2</th>\n",
       "      <td>1.449088e+09</td>\n",
       "      <td>8.578376e+08</td>\n",
       "    </tr>\n",
       "    <tr>\n",
       "      <th>28</th>\n",
       "      <td>1.460521e+09</td>\n",
       "      <td>8.554515e+08</td>\n",
       "    </tr>\n",
       "    <tr>\n",
       "      <th>18</th>\n",
       "      <td>1.742233e+09</td>\n",
       "      <td>8.489796e+08</td>\n",
       "    </tr>\n",
       "  </tbody>\n",
       "</table>\n",
       "</div>"
      ],
      "text/plain": [
       "     Payment_Amount  Discount_Amount\n",
       "Day                                 \n",
       "26     2.105346e+09     1.307586e+09\n",
       "5      2.083113e+09     1.164340e+09\n",
       "17     3.419684e+09     1.157410e+09\n",
       "12     2.020125e+09     1.135971e+09\n",
       "19     1.801469e+09     1.052815e+09\n",
       "25     1.677150e+09     1.020945e+09\n",
       "27     1.740971e+09     1.014776e+09\n",
       "1      2.005486e+09     9.722573e+08\n",
       "13     1.908941e+09     9.490776e+08\n",
       "11     1.873095e+09     9.256054e+08\n",
       "22     1.784882e+09     9.244332e+08\n",
       "16     2.234974e+09     8.961951e+08\n",
       "20     1.740271e+09     8.713809e+08\n",
       "2      1.449088e+09     8.578376e+08\n",
       "28     1.460521e+09     8.554515e+08\n",
       "18     1.742233e+09     8.489796e+08"
      ]
     },
     "execution_count": 49,
     "metadata": {},
     "output_type": "execute_result"
    }
   ],
   "source": [
    "dfby_day[dfby_day['Discount_Amount'] > dfby_day['Discount_Amount'].mean()].sort_values(by='Discount_Amount', ascending=False)"
   ]
  },
  {
   "cell_type": "markdown",
   "id": "95082757",
   "metadata": {},
   "source": [
    "```NOTE```\n",
    "- From the picture above we know that most Discount happened on 26 May 2022 and least Dicount happened on 23 May 2022\n",
    "- The horizontal purple line show an average of Discount on May 2022\n",
    "- We also get to know there some days that had Discount Amount above the average, those are (from 5 highest):\n",
    "    - Day 26 with total amount of Payment Transaction around 1.30758 Billion\n",
    "    - Day 5 with total amount of Payment Transaction around 1.16434 Billion\n",
    "    - Day 17 with total amount of Payment Transaction around 1.15741 Billion\n",
    "    - Day 12 with total amount of Payment Transaction around 1.13597 Billion\n",
    "    - Day 19 with total amount of Payment Transactin around 1.05281 Billion"
   ]
  },
  {
   "cell_type": "markdown",
   "id": "4b1af783",
   "metadata": {},
   "source": [
    "#### 1.d. Kapan (Pada jam berapa) transaksi paling banyak (paling tinggi) biasanya terjadi?"
   ]
  },
  {
   "cell_type": "code",
   "execution_count": 52,
   "id": "b598705f",
   "metadata": {},
   "outputs": [
    {
     "data": {
      "image/png": "[encoded data removed]",
      "text/plain": [
       "<Figure size 576x432 with 1 Axes>"
      ]
     },
     "metadata": {
      "needs_background": "light"
     },
     "output_type": "display_data"
    }
   ],
   "source": [
    "cat = [time for time, df in all_data.groupby(['Hour'])]\n",
    "\n",
    "plt.figure(figsize=(8,6))\n",
    "plt.plot(cat, all_data.groupby(['Hour']).count()['Count'])\n",
    "plt.xticks(cat)\n",
    "plt.xlabel('Times (Hours)')\n",
    "plt.ylabel('Sum of Transaction Payment Amount')\n",
    "plt.grid()\n",
    "plt.show()"
   ]
  },
  {
   "cell_type": "markdown",
   "id": "6521259d",
   "metadata": {},
   "source": [
    "```NOTE```\n",
    "- From the picture above we get to know, peak hours of Transaction occurs at 13.00 - 15.00"
   ]
  },
  {
   "cell_type": "markdown",
   "id": "a88614aa",
   "metadata": {},
   "source": [
    "#### 1.e Promo kode apa yang paling sering digunakan?"
   ]
  },
  {
   "cell_type": "code",
   "execution_count": 53,
   "id": "191db4ea",
   "metadata": {},
   "outputs": [
    {
     "data": {
      "text/plain": [
       "Promo_code\n",
       "9001    317938\n",
       "1220    101166\n",
       "1045     92882\n",
       "1029     39202\n",
       "9040     34820\n",
       "9207     26616\n",
       "9201     25544\n",
       "9208     22386\n",
       "1086     18384\n",
       "9214     17895\n",
       "Name: Count, dtype: int64"
      ]
     },
     "execution_count": 53,
     "metadata": {},
     "output_type": "execute_result"
    }
   ],
   "source": [
    "dfby_promocode = all_data.groupby(['Promo_code']).sum().sort_values(by='Count', ascending=False)\n",
    "dfby_promocode['Count'].head(10)"
   ]
  },
  {
   "cell_type": "code",
   "execution_count": 55,
   "id": "a490f11b",
   "metadata": {},
   "outputs": [
    {
     "data": {
      "image/png": "[encoded data removed]",
      "text/plain": [
       "<Figure size 576x432 with 1 Axes>"
      ]
     },
     "metadata": {
      "needs_background": "light"
     },
     "output_type": "display_data"
    }
   ],
   "source": [
    "ax = dfby_promocode['Count'].head(10).plot.bar(figsize=(8,6))\n",
    "ax.grid(False)"
   ]
  },
  {
   "cell_type": "markdown",
   "id": "214c78bc",
   "metadata": {},
   "source": [
    "```NOTE```\n",
    "- From the picture above we know the most used Promo code is 9001 following with 1220, 1045, 1029, and 9040"
   ]
  },
  {
   "cell_type": "markdown",
   "id": "32e195bf",
   "metadata": {},
   "source": [
    "### 2. Diagnostic Analytics\n",
    "- Bagaimana hubungan tren transaksi dengan tren diskon yang terjadi dalam Dataset ?\n",
    "- Bagaimana hubungan tren level user dengan payment amount dan discount amount dalam dataset ?\n",
    "- Bagaimana sebaran jenis transaksi yang terjadi berdasarkan kategorinya ?\n",
    "- Bagaimana hubungan antara Promo kode dengan total diskon yang didapatkan ?"
   ]
  },
  {
   "cell_type": "markdown",
   "id": "b67676f2",
   "metadata": {},
   "source": [
    "#### 2.a Bagaimana hubungan tren transaksi dengan tren diskon yang terjadi di Bulan Mei 2022 ?"
   ]
  },
  {
   "cell_type": "code",
   "execution_count": 88,
   "id": "69610b42",
   "metadata": {},
   "outputs": [
    {
     "data": {
      "image/png": "[encoded data removed]",
      "text/plain": [
       "<Figure size 576x432 with 1 Axes>"
      ]
     },
     "metadata": {
      "needs_background": "light"
     },
     "output_type": "display_data"
    }
   ],
   "source": [
    "ax = dfby_day[['Payment_Amount', 'Discount_Amount']].plot(figsize=(8,6), title='Relation Between Payment and Discount in May 2022', ylabel='Total of Transaction Payment')\n",
    "ax.grid()"
   ]
  },
  {
   "cell_type": "markdown",
   "id": "33b7ce9b",
   "metadata": {},
   "source": [
    "```NOTE```\n",
    "- Both of trend show similarity on fluctuating movement\n",
    "- In that case, the graphic trend of Payment and Discount show a relation, where the higher amount of payment the higher discount you get.\n"
   ]
  },
  {
   "cell_type": "markdown",
   "id": "1b94a6e6",
   "metadata": {},
   "source": [
    "#### 2.b Bagaimana hubungan tren level user dengan jumlah Payment dan Discount?"
   ]
  },
  {
   "cell_type": "code",
   "execution_count": 93,
   "id": "d2003678",
   "metadata": {},
   "outputs": [
    {
     "data": {
      "text/html": [
       "<div>\n",
       "<style scoped>\n",
       "    .dataframe tbody tr th:only-of-type {\n",
       "        vertical-align: middle;\n",
       "    }\n",
       "\n",
       "    .dataframe tbody tr th {\n",
       "        vertical-align: top;\n",
       "    }\n",
       "\n",
       "    .dataframe thead th {\n",
       "        text-align: right;\n",
       "    }\n",
       "</style>\n",
       "<table border=\"1\" class=\"dataframe\">\n",
       "  <thead>\n",
       "    <tr style=\"text-align: right;\">\n",
       "      <th></th>\n",
       "      <th>Payment_Amount</th>\n",
       "      <th>Discount_Amount</th>\n",
       "    </tr>\n",
       "    <tr>\n",
       "      <th>Level_user</th>\n",
       "      <th></th>\n",
       "      <th></th>\n",
       "    </tr>\n",
       "  </thead>\n",
       "  <tbody>\n",
       "    <tr>\n",
       "      <th>1</th>\n",
       "      <td>2.772761e+09</td>\n",
       "      <td>8.471004e+08</td>\n",
       "    </tr>\n",
       "    <tr>\n",
       "      <th>2</th>\n",
       "      <td>8.731967e+09</td>\n",
       "      <td>4.225557e+09</td>\n",
       "    </tr>\n",
       "    <tr>\n",
       "      <th>3</th>\n",
       "      <td>3.933795e+10</td>\n",
       "      <td>2.067640e+10</td>\n",
       "    </tr>\n",
       "  </tbody>\n",
       "</table>\n",
       "</div>"
      ],
      "text/plain": [
       "            Payment_Amount  Discount_Amount\n",
       "Level_user                                 \n",
       "1             2.772761e+09     8.471004e+08\n",
       "2             8.731967e+09     4.225557e+09\n",
       "3             3.933795e+10     2.067640e+10"
      ]
     },
     "execution_count": 93,
     "metadata": {},
     "output_type": "execute_result"
    }
   ],
   "source": [
    "dfby_leveluser = all_data.groupby(['Level_user'])[['Payment_Amount', 'Discount_Amount']].sum()\n",
    "dfby_leveluser"
   ]
  },
  {
   "cell_type": "code",
   "execution_count": 97,
   "id": "e7103d4a",
   "metadata": {},
   "outputs": [
    {
     "data": {
      "text/plain": [
       "[Text(0, 0, '1'), Text(1, 0, '2'), Text(2, 0, '3')]"
      ]
     },
     "execution_count": 97,
     "metadata": {},
     "output_type": "execute_result"
    },
    {
     "data": {
      "image/png": "[encoded data removed]",
      "text/plain": [
       "<Figure size 576x432 with 1 Axes>"
      ]
     },
     "metadata": {
      "needs_background": "light"
     },
     "output_type": "display_data"
    }
   ],
   "source": [
    "ax = dfby_leveluser.plot.bar(figsize=(8,6), title='Number of Transaction Based on Level User', ylabel='Amount of Transaction')\n",
    "ax.set_xticklabels(dfby_leveluser.index, rotation = 'horizontal', size=8)"
   ]
  },
  {
   "cell_type": "markdown",
   "id": "5f2d0691",
   "metadata": {},
   "source": [
    "```NOTE```\n",
    "- Higher user level has higher number of payment transactions and get bigger amount on discounts\n",
    "- Higher user level has more transaction than lower user level\n",
    "- Level user 3 has highest transaction payment and get more on discounts"
   ]
  },
  {
   "cell_type": "markdown",
   "id": "1d6050f8",
   "metadata": {},
   "source": [
    "#### 2.c  Bagaimana sebaran jenis transaksi yang terjadi berdasarkan kategorinya ?"
   ]
  },
  {
   "cell_type": "code",
   "execution_count": 56,
   "id": "4663e3ab",
   "metadata": {},
   "outputs": [
    {
     "data": {
      "text/html": [
       "<div>\n",
       "<style scoped>\n",
       "    .dataframe tbody tr th:only-of-type {\n",
       "        vertical-align: middle;\n",
       "    }\n",
       "\n",
       "    .dataframe tbody tr th {\n",
       "        vertical-align: top;\n",
       "    }\n",
       "\n",
       "    .dataframe thead th {\n",
       "        text-align: right;\n",
       "    }\n",
       "</style>\n",
       "<table border=\"1\" class=\"dataframe\">\n",
       "  <thead>\n",
       "    <tr style=\"text-align: right;\">\n",
       "      <th></th>\n",
       "      <th>User_id</th>\n",
       "      <th>Transaction_id</th>\n",
       "      <th>Transaction_payment_id</th>\n",
       "      <th>Transaction_discount_id</th>\n",
       "      <th>Transaction_date</th>\n",
       "      <th>Redeem_Date</th>\n",
       "      <th>Payment_Amount</th>\n",
       "      <th>Discount_Amount</th>\n",
       "      <th>Payment_source</th>\n",
       "      <th>Level_user</th>\n",
       "      <th>Promo_code</th>\n",
       "      <th>Month</th>\n",
       "      <th>Day</th>\n",
       "      <th>Hour</th>\n",
       "      <th>Minute</th>\n",
       "      <th>Count</th>\n",
       "      <th>Category</th>\n",
       "    </tr>\n",
       "  </thead>\n",
       "  <tbody>\n",
       "    <tr>\n",
       "      <th>0</th>\n",
       "      <td>7fd36377-d59f-11e8-93d5-0242ac110006</td>\n",
       "      <td>3DB5E42B-9CD4-45E0-9AAB-35054CCF3955</td>\n",
       "      <td>00000D89-BAD2-5628-A65B-3C8F4397F047</td>\n",
       "      <td>154F720B-9862-5D32-888C-084EA80F2D0E</td>\n",
       "      <td>5/9/22 11:24</td>\n",
       "      <td>5/9/22 11:24</td>\n",
       "      <td>55600.0</td>\n",
       "      <td>12400.0</td>\n",
       "      <td>1</td>\n",
       "      <td>3</td>\n",
       "      <td>9001</td>\n",
       "      <td>5</td>\n",
       "      <td>9</td>\n",
       "      <td>11</td>\n",
       "      <td>24</td>\n",
       "      <td>1</td>\n",
       "      <td>Purchase</td>\n",
       "    </tr>\n",
       "    <tr>\n",
       "      <th>1</th>\n",
       "      <td>7beaabd8-067e-11e9-8159-9802e614fb2e</td>\n",
       "      <td>582DCDA7-629E-4E84-9225-601BBE030C29</td>\n",
       "      <td>000023A4-AE30-524E-8851-ECF2D6EA9493</td>\n",
       "      <td>8AF4E681-B001-5284-B71C-D814D6389879</td>\n",
       "      <td>5/15/22 13:05</td>\n",
       "      <td>5/15/22 13:05</td>\n",
       "      <td>111000.0</td>\n",
       "      <td>2.0</td>\n",
       "      <td>1</td>\n",
       "      <td>3</td>\n",
       "      <td>1017</td>\n",
       "      <td>5</td>\n",
       "      <td>15</td>\n",
       "      <td>13</td>\n",
       "      <td>5</td>\n",
       "      <td>1</td>\n",
       "      <td>Purchase</td>\n",
       "    </tr>\n",
       "    <tr>\n",
       "      <th>2</th>\n",
       "      <td>81c9534c-d59e-11e8-93d5-0242ac110006</td>\n",
       "      <td>09C589E8-0D3F-4E1F-91C3-AA4E6BD6CDA5</td>\n",
       "      <td>0000A337-8DE9-5B9D-888C-3750620C96D9</td>\n",
       "      <td>E0B0B605-07F3-5301-A812-65124143B78C</td>\n",
       "      <td>5/6/22 13:33</td>\n",
       "      <td>5/6/22 13:33</td>\n",
       "      <td>18000.0</td>\n",
       "      <td>59000.0</td>\n",
       "      <td>1</td>\n",
       "      <td>3</td>\n",
       "      <td>9001</td>\n",
       "      <td>5</td>\n",
       "      <td>6</td>\n",
       "      <td>13</td>\n",
       "      <td>33</td>\n",
       "      <td>1</td>\n",
       "      <td>Purchase</td>\n",
       "    </tr>\n",
       "    <tr>\n",
       "      <th>3</th>\n",
       "      <td>07c1dd4f-d59c-11e8-93d5-0242ac110006</td>\n",
       "      <td>66EFF64F-6E22-4F97-8AE0-6316D441E10A</td>\n",
       "      <td>0000CB3B-4246-5A58-AA16-FF20B9AC60A8</td>\n",
       "      <td>98EF667A-FFAE-524E-B121-0EBF33067EFB</td>\n",
       "      <td>5/28/22 10:55</td>\n",
       "      <td>5/28/22 10:55</td>\n",
       "      <td>0.0</td>\n",
       "      <td>53000.0</td>\n",
       "      <td>1</td>\n",
       "      <td>3</td>\n",
       "      <td>9001</td>\n",
       "      <td>5</td>\n",
       "      <td>28</td>\n",
       "      <td>10</td>\n",
       "      <td>55</td>\n",
       "      <td>1</td>\n",
       "      <td>Failed</td>\n",
       "    </tr>\n",
       "    <tr>\n",
       "      <th>4</th>\n",
       "      <td>e63f0d4a-f424-11ea-967b-f9b86ba0bcee</td>\n",
       "      <td>7774F5E7-4A60-49A9-A359-BD3C167D8F29</td>\n",
       "      <td>0000EED4-7E0E-5F21-BABC-357D89CB040A</td>\n",
       "      <td>493EBB76-C3F2-5D80-9033-4167F04FEB12</td>\n",
       "      <td>5/15/22 16:25</td>\n",
       "      <td>5/15/22 16:25</td>\n",
       "      <td>9000.0</td>\n",
       "      <td>20000.0</td>\n",
       "      <td>2</td>\n",
       "      <td>2</td>\n",
       "      <td>9001</td>\n",
       "      <td>5</td>\n",
       "      <td>15</td>\n",
       "      <td>16</td>\n",
       "      <td>25</td>\n",
       "      <td>1</td>\n",
       "      <td>Purchase</td>\n",
       "    </tr>\n",
       "  </tbody>\n",
       "</table>\n",
       "</div>"
      ],
      "text/plain": [
       "                                User_id                        Transaction_id  \\\n",
       "0  7fd36377-d59f-11e8-93d5-0242ac110006  3DB5E42B-9CD4-45E0-9AAB-35054CCF3955   \n",
       "1  7beaabd8-067e-11e9-8159-9802e614fb2e  582DCDA7-629E-4E84-9225-601BBE030C29   \n",
       "2  81c9534c-d59e-11e8-93d5-0242ac110006  09C589E8-0D3F-4E1F-91C3-AA4E6BD6CDA5   \n",
       "3  07c1dd4f-d59c-11e8-93d5-0242ac110006  66EFF64F-6E22-4F97-8AE0-6316D441E10A   \n",
       "4  e63f0d4a-f424-11ea-967b-f9b86ba0bcee  7774F5E7-4A60-49A9-A359-BD3C167D8F29   \n",
       "\n",
       "                 Transaction_payment_id               Transaction_discount_id  \\\n",
       "0  00000D89-BAD2-5628-A65B-3C8F4397F047  154F720B-9862-5D32-888C-084EA80F2D0E   \n",
       "1  000023A4-AE30-524E-8851-ECF2D6EA9493  8AF4E681-B001-5284-B71C-D814D6389879   \n",
       "2  0000A337-8DE9-5B9D-888C-3750620C96D9  E0B0B605-07F3-5301-A812-65124143B78C   \n",
       "3  0000CB3B-4246-5A58-AA16-FF20B9AC60A8  98EF667A-FFAE-524E-B121-0EBF33067EFB   \n",
       "4  0000EED4-7E0E-5F21-BABC-357D89CB040A  493EBB76-C3F2-5D80-9033-4167F04FEB12   \n",
       "\n",
       "  Transaction_date    Redeem_Date  Payment_Amount  Discount_Amount  \\\n",
       "0     5/9/22 11:24   5/9/22 11:24         55600.0          12400.0   \n",
       "1    5/15/22 13:05  5/15/22 13:05        111000.0              2.0   \n",
       "2     5/6/22 13:33   5/6/22 13:33         18000.0          59000.0   \n",
       "3    5/28/22 10:55  5/28/22 10:55             0.0          53000.0   \n",
       "4    5/15/22 16:25  5/15/22 16:25          9000.0          20000.0   \n",
       "\n",
       "  Payment_source  Level_user  Promo_code  Month  Day  Hour  Minute  Count  \\\n",
       "0              1           3        9001      5    9    11      24      1   \n",
       "1              1           3        1017      5   15    13       5      1   \n",
       "2              1           3        9001      5    6    13      33      1   \n",
       "3              1           3        9001      5   28    10      55      1   \n",
       "4              2           2        9001      5   15    16      25      1   \n",
       "\n",
       "   Category  \n",
       "0  Purchase  \n",
       "1  Purchase  \n",
       "2  Purchase  \n",
       "3    Failed  \n",
       "4  Purchase  "
      ]
     },
     "execution_count": 56,
     "metadata": {},
     "output_type": "execute_result"
    }
   ],
   "source": [
    "# Create new column as Category\n",
    "conditions = [\n",
    "    (all_data['Payment_Amount'] < 0),\n",
    "    (all_data['Payment_Amount'] == 0),\n",
    "    (all_data['Payment_Amount'] > 0)\n",
    "]\n",
    "\n",
    "values = ['Refund', 'Failed', 'Purchase']\n",
    "\n",
    "all_data['Category'] = np.select(conditions, values)\n",
    "all_data.head()"
   ]
  },
  {
   "cell_type": "code",
   "execution_count": 57,
   "id": "384bb489",
   "metadata": {},
   "outputs": [],
   "source": [
    "dfby_category = all_data.groupby(['Category']).sum()"
   ]
  },
  {
   "cell_type": "code",
   "execution_count": 60,
   "id": "4f57cc68",
   "metadata": {},
   "outputs": [
    {
     "data": {
      "text/html": [
       "<div>\n",
       "<style scoped>\n",
       "    .dataframe tbody tr th:only-of-type {\n",
       "        vertical-align: middle;\n",
       "    }\n",
       "\n",
       "    .dataframe tbody tr th {\n",
       "        vertical-align: top;\n",
       "    }\n",
       "\n",
       "    .dataframe thead th {\n",
       "        text-align: right;\n",
       "    }\n",
       "</style>\n",
       "<table border=\"1\" class=\"dataframe\">\n",
       "  <thead>\n",
       "    <tr style=\"text-align: right;\">\n",
       "      <th></th>\n",
       "      <th>Payment_Amount</th>\n",
       "      <th>Discount_Amount</th>\n",
       "      <th>Level_user</th>\n",
       "      <th>Promo_code</th>\n",
       "      <th>Month</th>\n",
       "      <th>Day</th>\n",
       "      <th>Hour</th>\n",
       "      <th>Minute</th>\n",
       "      <th>Count</th>\n",
       "    </tr>\n",
       "    <tr>\n",
       "      <th>Category</th>\n",
       "      <th></th>\n",
       "      <th></th>\n",
       "      <th></th>\n",
       "      <th></th>\n",
       "      <th></th>\n",
       "      <th></th>\n",
       "      <th></th>\n",
       "      <th></th>\n",
       "      <th></th>\n",
       "    </tr>\n",
       "  </thead>\n",
       "  <tbody>\n",
       "    <tr>\n",
       "      <th>Failed</th>\n",
       "      <td>0.000000e+00</td>\n",
       "      <td>6.395271e+09</td>\n",
       "      <td>343323</td>\n",
       "      <td>9.944971e+08</td>\n",
       "      <td>600760</td>\n",
       "      <td>1995583</td>\n",
       "      <td>1687618</td>\n",
       "      <td>3530781</td>\n",
       "      <td>120152</td>\n",
       "    </tr>\n",
       "    <tr>\n",
       "      <th>Purchase</th>\n",
       "      <td>5.124672e+10</td>\n",
       "      <td>1.877053e+10</td>\n",
       "      <td>1697843</td>\n",
       "      <td>3.459866e+09</td>\n",
       "      <td>3126210</td>\n",
       "      <td>10035490</td>\n",
       "      <td>8746588</td>\n",
       "      <td>18427586</td>\n",
       "      <td>625242</td>\n",
       "    </tr>\n",
       "    <tr>\n",
       "      <th>Refund</th>\n",
       "      <td>-4.040412e+08</td>\n",
       "      <td>5.832621e+08</td>\n",
       "      <td>47693</td>\n",
       "      <td>1.300620e+08</td>\n",
       "      <td>103560</td>\n",
       "      <td>327536</td>\n",
       "      <td>306156</td>\n",
       "      <td>610582</td>\n",
       "      <td>20712</td>\n",
       "    </tr>\n",
       "  </tbody>\n",
       "</table>\n",
       "</div>"
      ],
      "text/plain": [
       "          Payment_Amount  Discount_Amount  Level_user    Promo_code    Month  \\\n",
       "Category                                                                       \n",
       "Failed      0.000000e+00     6.395271e+09      343323  9.944971e+08   600760   \n",
       "Purchase    5.124672e+10     1.877053e+10     1697843  3.459866e+09  3126210   \n",
       "Refund     -4.040412e+08     5.832621e+08       47693  1.300620e+08   103560   \n",
       "\n",
       "               Day     Hour    Minute   Count  \n",
       "Category                                       \n",
       "Failed     1995583  1687618   3530781  120152  \n",
       "Purchase  10035490  8746588  18427586  625242  \n",
       "Refund      327536   306156    610582   20712  "
      ]
     },
     "execution_count": 60,
     "metadata": {},
     "output_type": "execute_result"
    }
   ],
   "source": [
    "dfby_category"
   ]
  },
  {
   "cell_type": "markdown",
   "id": "0fab23e6",
   "metadata": {},
   "source": [
    "```NOTE```\n",
    "- There is some issue in preliminary dataset where the data in the Payment_Amount column has negative payment value\n",
    "- There is also Payment_Amount that has zero payment value\n",
    "- On this analysis, i will assume some criteria, following:\n",
    "    - Negative amount of transaction payment considered as refund payment (negative expense)\n",
    "    - Posifive amount of transaction payment considered as successfull purchased payment\n",
    "    - Zero amount of transaction payment considered as failed payment"
   ]
  },
  {
   "cell_type": "code",
   "execution_count": 82,
   "id": "10e0a4c1",
   "metadata": {},
   "outputs": [
    {
     "data": {
      "text/plain": [
       "<AxesSubplot:title={'center':'Payment Transaction Category in May 2022'}, ylabel='Category'>"
      ]
     },
     "execution_count": 82,
     "metadata": {},
     "output_type": "execute_result"
    },
    {
     "data": {
      "image/png": "[encoded data removed]",
      "text/plain": [
       "<Figure size 720x576 with 1 Axes>"
      ]
     },
     "metadata": {},
     "output_type": "display_data"
    }
   ],
   "source": [
    "(all_data['Category'].value_counts().plot.pie(title='Payment Transaction Category in May 2022', colors=['pink', 'orange', 'blue'], labels=['Purchased', 'Failed', 'Refund'], autopct='%1.1f%%', figsize=(10,8), explode=(0,0.1,0.2)))"
   ]
  },
  {
   "cell_type": "markdown",
   "id": "d56a0d84",
   "metadata": {},
   "source": [
    "```NOTE```\n",
    "- There is 81.6% Purchased payment in May 2022 with total 625242 amount of transaction payment\n",
    "- There is 15.7% Failed payment in May 2022 with total 120152 amount of failed transaction\n",
    "- There is 2.7% Refund payment in May 2022 with total 20712 amount of Refund"
   ]
  },
  {
   "cell_type": "markdown",
   "id": "59564cc7",
   "metadata": {},
   "source": [
    "#### 2.d Bagaimana hubungan antara Promo kode dengan total diskon yang didapatkan ?"
   ]
  },
  {
   "cell_type": "code",
   "execution_count": 68,
   "id": "f3ebbc81",
   "metadata": {},
   "outputs": [],
   "source": [
    "all_data['Kode_promo'] = all_data['Promo_code'].astype(str)"
   ]
  },
  {
   "cell_type": "code",
   "execution_count": 106,
   "id": "bff7c985",
   "metadata": {},
   "outputs": [],
   "source": [
    "da_promodisc = all_data.groupby('Kode_promo')['Discount_Amount'].mean()\n",
    "da_promodisc = da_promodisc.sort_values(ascending=False)\n",
    "da_promodisc = da_promodisc.head(10)"
   ]
  },
  {
   "cell_type": "code",
   "execution_count": 109,
   "id": "94dc06e2",
   "metadata": {},
   "outputs": [
    {
     "data": {
      "image/png": "[encoded data removed]",
      "text/plain": [
       "<Figure size 432x288 with 2 Axes>"
      ]
     },
     "metadata": {
      "needs_background": "light"
     },
     "output_type": "display_data"
    }
   ],
   "source": [
    "discounts = all_data.groupby('Kode_promo').count()['Count'].sort_values(ascending=False).head(10)\n",
    "cat = da_promodisc.index\n",
    "fig, ax1 = plt.subplots()\n",
    "\n",
    "ax2 = ax1.twinx()\n",
    "ax1.bar(cat, da_promodisc, color = 'gold')\n",
    "ax2.plot(cat, discounts, color = 'red')\n",
    "\n",
    "ax1.set_xlabel('Promo Code')\n",
    "ax1.set_ylabel('Total Used', color = 'red')\n",
    "ax2.set_ylabel('Discount_Amount', color = 'gold')\n",
    "ax1.set_xticklabels(cat, rotation = 'vertical', size=8)\n",
    "\n",
    "fig.show()"
   ]
  },
  {
   "cell_type": "markdown",
   "id": "113ee229",
   "metadata": {},
   "source": [
    "### INSIGHT\n",
    "- There are several promo codes that gives highest amount of discounts, the top Three are following:\n",
    "    1. Promo Code ```9114```\n",
    "    2. Promo Code ```9205```\n",
    "    3. Promo Code ```1007```\n",
    "    \n",
    "- We recommend you to choose from the promo codes mentioned above in order to get bigger discount\n",
    "- Another option to choose what promo code to use are following:\n",
    "    1. Promo Code ```9001```\n",
    "    2. Promo Code ```1220```    \n",
    "    3. Promo Code ```1045```    \n",
    "    4. Promo Code ```1029```    \n",
    "    5. Promo Code ```9040```\n",
    "- We reccomend the 5 promo codes above as an alternative to choose because based on the amount of customers who often get or use the promo code to be redeemed"
   ]
  }
 ],
 "metadata": {
  "kernelspec": {
   "display_name": "Python 3",
   "language": "python",
   "name": "python3"
  },
  "language_info": {
   "codemirror_mode": {
    "name": "ipython",
    "version": 3
   },
   "file_extension": ".py",
   "mimetype": "text/x-python",
   "name": "python",
   "nbconvert_exporter": "python",
   "pygments_lexer": "ipython3",
   "version": "3.8.8"
  }
 },
 "nbformat": 4,
 "nbformat_minor": 5
}
