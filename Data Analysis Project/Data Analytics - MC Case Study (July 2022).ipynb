{
 "cells": [
  {
   "cell_type": "markdown",
   "id": "1174594d",
   "metadata": {},
   "source": [
    "## Step 1: Acquire Data\n",
    "### Explore Problem\n",
    "- 3 trends that might be useful to be known\n",
    "- In this project i want to show some descriptive analytics and diagnostic analytics\n",
    "\n",
    "#### Descriptive Analytics\n",
    "1. Trend ordered liquors every ~day~/~month~/year (for the past 10 years)\n",
    "2. Trend ordered liquors for every city\n",
    "3. How many liquors ordered (in bottles/liters) for each city?\n",
    "4. What liquor brand are most sold?\n",
    "5. What store most order (10 highest) liquor for each city?\n",
    "6. What kind of liquor (rum/vodka/beer,etc.) are most ordered?\n",
    "7. What city are having most spent on liquor? (related with No. 5)\n",
    "\n",
    "#### Diagnostic Analytics\n",
    "1. is higher price liquor caused low sales? then is it affecting on what liquor sold most? (related with No. 4 Descriptive Analytics)\n",
    "2. Why (on specific date) liquor sales lower/higher? (related with No. 1, 2, and 3 Descriptive Analytics)\n",
    "3. Why some area have low/high liquor sales?\n",
    "\n",
    "\n",
    "### Identify Data\n",
    "- The data that will be used is from ['bigquery-public-data.iowa_liquor_sales.sales'](https://console.cloud.google.com/bigquery?project=revoumccasestudy&supportedpurview=project&ws=!1m5!1m4!4m3!1sbigquery-public-data!2siowa_liquor_sales!3ssales)\n",
    "- For this sample project, i will limit the number of rows with 100 rows (due to specification of the laptop i'm using and faster processing)\n",
    "\n",
    "### Import Library and Dataset"
   ]
  },
  {
   "cell_type": "code",
   "execution_count": 1,
   "id": "24b41394",
   "metadata": {},
   "outputs": [],
   "source": [
    "import pandas as pd\n",
    "import pandas_gbq\n",
    "import numpy as np\n",
    "import matplotlib.pyplot as plt\n",
    "%matplotlib inline"
   ]
  },
  {
   "cell_type": "markdown",
   "id": "c2a7b6b4",
   "metadata": {},
   "source": [
    "#### Read Dataset with Pandas Google Big Query (limit rows = 2500000)"
   ]
  },
  {
   "cell_type": "code",
   "execution_count": 2,
   "id": "5e365568",
   "metadata": {},
   "outputs": [
    {
     "name": "stderr",
     "output_type": "stream",
     "text": [
      "Downloading:  10%|█         | 2500000/24229431 [25:51<3:44:43, 1611.51rows/s]\n"
     ]
    }
   ],
   "source": [
    "data = pandas_gbq.read_gbq('bigquery-public-data.iowa_liquor_sales.sales', project_id='RevouMCCaseStudy', max_results=2500000)"
   ]
  },
  {
   "cell_type": "code",
   "execution_count": 3,
   "id": "d30e3bca",
   "metadata": {},
   "outputs": [
    {
     "data": {
      "text/html": [
       "<div>\n",
       "<style scoped>\n",
       "    .dataframe tbody tr th:only-of-type {\n",
       "        vertical-align: middle;\n",
       "    }\n",
       "\n",
       "    .dataframe tbody tr th {\n",
       "        vertical-align: top;\n",
       "    }\n",
       "\n",
       "    .dataframe thead th {\n",
       "        text-align: right;\n",
       "    }\n",
       "</style>\n",
       "<table border=\"1\" class=\"dataframe\">\n",
       "  <thead>\n",
       "    <tr style=\"text-align: right;\">\n",
       "      <th></th>\n",
       "      <th>invoice_and_item_number</th>\n",
       "      <th>date</th>\n",
       "      <th>store_number</th>\n",
       "      <th>store_name</th>\n",
       "      <th>address</th>\n",
       "      <th>city</th>\n",
       "      <th>zip_code</th>\n",
       "      <th>store_location</th>\n",
       "      <th>county_number</th>\n",
       "      <th>county</th>\n",
       "      <th>...</th>\n",
       "      <th>item_number</th>\n",
       "      <th>item_description</th>\n",
       "      <th>pack</th>\n",
       "      <th>bottle_volume_ml</th>\n",
       "      <th>state_bottle_cost</th>\n",
       "      <th>state_bottle_retail</th>\n",
       "      <th>bottles_sold</th>\n",
       "      <th>sale_dollars</th>\n",
       "      <th>volume_sold_liters</th>\n",
       "      <th>volume_sold_gallons</th>\n",
       "    </tr>\n",
       "  </thead>\n",
       "  <tbody>\n",
       "    <tr>\n",
       "      <th>0</th>\n",
       "      <td>INV-22091000025</td>\n",
       "      <td>2019-09-24</td>\n",
       "      <td>5003</td>\n",
       "      <td>Famous Liquors</td>\n",
       "      <td>2604 W Locust St</td>\n",
       "      <td>Davenport</td>\n",
       "      <td>52804.0</td>\n",
       "      <td>POINT (-90.615542 41.538186)</td>\n",
       "      <td>82</td>\n",
       "      <td>SCOTT</td>\n",
       "      <td>...</td>\n",
       "      <td>45248</td>\n",
       "      <td>Paramount Gold Rum</td>\n",
       "      <td>6</td>\n",
       "      <td>1750</td>\n",
       "      <td>7.84</td>\n",
       "      <td>11.76</td>\n",
       "      <td>72</td>\n",
       "      <td>846.72</td>\n",
       "      <td>126.00</td>\n",
       "      <td>33.28</td>\n",
       "    </tr>\n",
       "    <tr>\n",
       "      <th>1</th>\n",
       "      <td>INV-14207000035</td>\n",
       "      <td>2018-08-31</td>\n",
       "      <td>3907</td>\n",
       "      <td>Smokin' Joe's #16 Tobacco and Liquor Outlet</td>\n",
       "      <td>1504 Park Ave</td>\n",
       "      <td>Muscatine</td>\n",
       "      <td>52761</td>\n",
       "      <td>POINT (-91.030569 41.442458)</td>\n",
       "      <td>70</td>\n",
       "      <td>MUSCATINE</td>\n",
       "      <td>...</td>\n",
       "      <td>67524</td>\n",
       "      <td>Kahlua Coffee Liqueur</td>\n",
       "      <td>24</td>\n",
       "      <td>375</td>\n",
       "      <td>6.49</td>\n",
       "      <td>9.74</td>\n",
       "      <td>1</td>\n",
       "      <td>9.74</td>\n",
       "      <td>0.37</td>\n",
       "      <td>0.09</td>\n",
       "    </tr>\n",
       "    <tr>\n",
       "      <th>2</th>\n",
       "      <td>INV-35494000053</td>\n",
       "      <td>2021-04-01</td>\n",
       "      <td>3385</td>\n",
       "      <td>Sam's Club 8162 / Cedar Rapids</td>\n",
       "      <td>2605 Blairs Ferry Rd NE</td>\n",
       "      <td>Cedar Rapids</td>\n",
       "      <td>52402.0</td>\n",
       "      <td>POINT (-91.67969 42.031819)</td>\n",
       "      <td>57</td>\n",
       "      <td>LINN</td>\n",
       "      <td>...</td>\n",
       "      <td>5486</td>\n",
       "      <td>Macallan 12YR</td>\n",
       "      <td>12</td>\n",
       "      <td>750</td>\n",
       "      <td>40.01</td>\n",
       "      <td>60.02</td>\n",
       "      <td>7</td>\n",
       "      <td>420.14</td>\n",
       "      <td>5.25</td>\n",
       "      <td>1.38</td>\n",
       "    </tr>\n",
       "    <tr>\n",
       "      <th>3</th>\n",
       "      <td>S19192700001</td>\n",
       "      <td>2014-05-29</td>\n",
       "      <td>2248</td>\n",
       "      <td>Ingersoll Liquor and Beverage</td>\n",
       "      <td>3500 INGERSOLL AVE</td>\n",
       "      <td>DES MOINES</td>\n",
       "      <td>50312</td>\n",
       "      <td>POINT (-93.664182 41.586319)</td>\n",
       "      <td>77</td>\n",
       "      <td>Polk</td>\n",
       "      <td>...</td>\n",
       "      <td>902088</td>\n",
       "      <td>Ardbeg Auriverdes HA</td>\n",
       "      <td>6</td>\n",
       "      <td>750</td>\n",
       "      <td>49.99</td>\n",
       "      <td>74.99</td>\n",
       "      <td>30</td>\n",
       "      <td>2249.70</td>\n",
       "      <td>22.50</td>\n",
       "      <td>5.94</td>\n",
       "    </tr>\n",
       "    <tr>\n",
       "      <th>4</th>\n",
       "      <td>S22219300036</td>\n",
       "      <td>2014-11-05</td>\n",
       "      <td>4251</td>\n",
       "      <td>Aj's Liquor / Ames</td>\n",
       "      <td>4518 MORTENSON RD STE 109</td>\n",
       "      <td>AMES</td>\n",
       "      <td>50014</td>\n",
       "      <td>None</td>\n",
       "      <td>85</td>\n",
       "      <td>Story</td>\n",
       "      <td>...</td>\n",
       "      <td>82847</td>\n",
       "      <td>Dekuyper Peachtree</td>\n",
       "      <td>12</td>\n",
       "      <td>1000</td>\n",
       "      <td>7.62</td>\n",
       "      <td>11.43</td>\n",
       "      <td>4</td>\n",
       "      <td>45.72</td>\n",
       "      <td>4.00</td>\n",
       "      <td>1.06</td>\n",
       "    </tr>\n",
       "  </tbody>\n",
       "</table>\n",
       "<p>5 rows × 24 columns</p>\n",
       "</div>"
      ],
      "text/plain": [
       "  invoice_and_item_number        date store_number  \\\n",
       "0         INV-22091000025  2019-09-24         5003   \n",
       "1         INV-14207000035  2018-08-31         3907   \n",
       "2         INV-35494000053  2021-04-01         3385   \n",
       "3            S19192700001  2014-05-29         2248   \n",
       "4            S22219300036  2014-11-05         4251   \n",
       "\n",
       "                                    store_name                    address  \\\n",
       "0                               Famous Liquors           2604 W Locust St   \n",
       "1  Smokin' Joe's #16 Tobacco and Liquor Outlet              1504 Park Ave   \n",
       "2               Sam's Club 8162 / Cedar Rapids    2605 Blairs Ferry Rd NE   \n",
       "3                Ingersoll Liquor and Beverage         3500 INGERSOLL AVE   \n",
       "4                           Aj's Liquor / Ames  4518 MORTENSON RD STE 109   \n",
       "\n",
       "           city zip_code                store_location county_number  \\\n",
       "0     Davenport  52804.0  POINT (-90.615542 41.538186)            82   \n",
       "1     Muscatine    52761  POINT (-91.030569 41.442458)            70   \n",
       "2  Cedar Rapids  52402.0   POINT (-91.67969 42.031819)            57   \n",
       "3    DES MOINES    50312  POINT (-93.664182 41.586319)            77   \n",
       "4          AMES    50014                          None            85   \n",
       "\n",
       "      county  ... item_number       item_description pack bottle_volume_ml  \\\n",
       "0      SCOTT  ...       45248     Paramount Gold Rum    6             1750   \n",
       "1  MUSCATINE  ...       67524  Kahlua Coffee Liqueur   24              375   \n",
       "2       LINN  ...        5486          Macallan 12YR   12              750   \n",
       "3       Polk  ...      902088   Ardbeg Auriverdes HA    6              750   \n",
       "4      Story  ...       82847     Dekuyper Peachtree   12             1000   \n",
       "\n",
       "  state_bottle_cost state_bottle_retail  bottles_sold  sale_dollars  \\\n",
       "0              7.84               11.76            72        846.72   \n",
       "1              6.49                9.74             1          9.74   \n",
       "2             40.01               60.02             7        420.14   \n",
       "3             49.99               74.99            30       2249.70   \n",
       "4              7.62               11.43             4         45.72   \n",
       "\n",
       "   volume_sold_liters  volume_sold_gallons  \n",
       "0              126.00                33.28  \n",
       "1                0.37                 0.09  \n",
       "2                5.25                 1.38  \n",
       "3               22.50                 5.94  \n",
       "4                4.00                 1.06  \n",
       "\n",
       "[5 rows x 24 columns]"
      ]
     },
     "execution_count": 3,
     "metadata": {},
     "output_type": "execute_result"
    }
   ],
   "source": [
    "data.head()"
   ]
  },
  {
   "cell_type": "markdown",
   "id": "4183268b",
   "metadata": {},
   "source": [
    "#### Showing initial data shape"
   ]
  },
  {
   "cell_type": "code",
   "execution_count": 4,
   "id": "ddfbbd2d",
   "metadata": {},
   "outputs": [
    {
     "data": {
      "text/plain": [
       "(2500000, 24)"
      ]
     },
     "execution_count": 4,
     "metadata": {},
     "output_type": "execute_result"
    }
   ],
   "source": [
    "data.shape"
   ]
  },
  {
   "cell_type": "markdown",
   "id": "4df0a01c",
   "metadata": {},
   "source": [
    "#### Change dataset index with <i>date types</i>"
   ]
  },
  {
   "cell_type": "code",
   "execution_count": 5,
   "id": "fb4e3575",
   "metadata": {},
   "outputs": [],
   "source": [
    "data = data.set_index('date')"
   ]
  },
  {
   "cell_type": "code",
   "execution_count": 6,
   "id": "b6581145",
   "metadata": {},
   "outputs": [],
   "source": [
    "# Make sure the types is datetime\n",
    "data.index = pd.to_datetime(data.index, errors='coerce')"
   ]
  },
  {
   "cell_type": "code",
   "execution_count": 7,
   "id": "8f95f63d",
   "metadata": {},
   "outputs": [
    {
     "data": {
      "text/html": [
       "<div>\n",
       "<style scoped>\n",
       "    .dataframe tbody tr th:only-of-type {\n",
       "        vertical-align: middle;\n",
       "    }\n",
       "\n",
       "    .dataframe tbody tr th {\n",
       "        vertical-align: top;\n",
       "    }\n",
       "\n",
       "    .dataframe thead th {\n",
       "        text-align: right;\n",
       "    }\n",
       "</style>\n",
       "<table border=\"1\" class=\"dataframe\">\n",
       "  <thead>\n",
       "    <tr style=\"text-align: right;\">\n",
       "      <th></th>\n",
       "      <th>invoice_and_item_number</th>\n",
       "      <th>store_number</th>\n",
       "      <th>store_name</th>\n",
       "      <th>address</th>\n",
       "      <th>city</th>\n",
       "      <th>zip_code</th>\n",
       "      <th>store_location</th>\n",
       "      <th>county_number</th>\n",
       "      <th>county</th>\n",
       "      <th>category</th>\n",
       "      <th>...</th>\n",
       "      <th>item_number</th>\n",
       "      <th>item_description</th>\n",
       "      <th>pack</th>\n",
       "      <th>bottle_volume_ml</th>\n",
       "      <th>state_bottle_cost</th>\n",
       "      <th>state_bottle_retail</th>\n",
       "      <th>bottles_sold</th>\n",
       "      <th>sale_dollars</th>\n",
       "      <th>volume_sold_liters</th>\n",
       "      <th>volume_sold_gallons</th>\n",
       "    </tr>\n",
       "    <tr>\n",
       "      <th>date</th>\n",
       "      <th></th>\n",
       "      <th></th>\n",
       "      <th></th>\n",
       "      <th></th>\n",
       "      <th></th>\n",
       "      <th></th>\n",
       "      <th></th>\n",
       "      <th></th>\n",
       "      <th></th>\n",
       "      <th></th>\n",
       "      <th></th>\n",
       "      <th></th>\n",
       "      <th></th>\n",
       "      <th></th>\n",
       "      <th></th>\n",
       "      <th></th>\n",
       "      <th></th>\n",
       "      <th></th>\n",
       "      <th></th>\n",
       "      <th></th>\n",
       "      <th></th>\n",
       "    </tr>\n",
       "  </thead>\n",
       "  <tbody>\n",
       "    <tr>\n",
       "      <th>2019-09-24</th>\n",
       "      <td>INV-22091000025</td>\n",
       "      <td>5003</td>\n",
       "      <td>Famous Liquors</td>\n",
       "      <td>2604 W Locust St</td>\n",
       "      <td>Davenport</td>\n",
       "      <td>52804.0</td>\n",
       "      <td>POINT (-90.615542 41.538186)</td>\n",
       "      <td>82</td>\n",
       "      <td>SCOTT</td>\n",
       "      <td>1062100.0</td>\n",
       "      <td>...</td>\n",
       "      <td>45248</td>\n",
       "      <td>Paramount Gold Rum</td>\n",
       "      <td>6</td>\n",
       "      <td>1750</td>\n",
       "      <td>7.84</td>\n",
       "      <td>11.76</td>\n",
       "      <td>72</td>\n",
       "      <td>846.72</td>\n",
       "      <td>126.00</td>\n",
       "      <td>33.28</td>\n",
       "    </tr>\n",
       "    <tr>\n",
       "      <th>2018-08-31</th>\n",
       "      <td>INV-14207000035</td>\n",
       "      <td>3907</td>\n",
       "      <td>Smokin' Joe's #16 Tobacco and Liquor Outlet</td>\n",
       "      <td>1504 Park Ave</td>\n",
       "      <td>Muscatine</td>\n",
       "      <td>52761</td>\n",
       "      <td>POINT (-91.030569 41.442458)</td>\n",
       "      <td>70</td>\n",
       "      <td>MUSCATINE</td>\n",
       "      <td>1081100.0</td>\n",
       "      <td>...</td>\n",
       "      <td>67524</td>\n",
       "      <td>Kahlua Coffee Liqueur</td>\n",
       "      <td>24</td>\n",
       "      <td>375</td>\n",
       "      <td>6.49</td>\n",
       "      <td>9.74</td>\n",
       "      <td>1</td>\n",
       "      <td>9.74</td>\n",
       "      <td>0.37</td>\n",
       "      <td>0.09</td>\n",
       "    </tr>\n",
       "    <tr>\n",
       "      <th>2021-04-01</th>\n",
       "      <td>INV-35494000053</td>\n",
       "      <td>3385</td>\n",
       "      <td>Sam's Club 8162 / Cedar Rapids</td>\n",
       "      <td>2605 Blairs Ferry Rd NE</td>\n",
       "      <td>Cedar Rapids</td>\n",
       "      <td>52402.0</td>\n",
       "      <td>POINT (-91.67969 42.031819)</td>\n",
       "      <td>57</td>\n",
       "      <td>LINN</td>\n",
       "      <td>1012300</td>\n",
       "      <td>...</td>\n",
       "      <td>5486</td>\n",
       "      <td>Macallan 12YR</td>\n",
       "      <td>12</td>\n",
       "      <td>750</td>\n",
       "      <td>40.01</td>\n",
       "      <td>60.02</td>\n",
       "      <td>7</td>\n",
       "      <td>420.14</td>\n",
       "      <td>5.25</td>\n",
       "      <td>1.38</td>\n",
       "    </tr>\n",
       "    <tr>\n",
       "      <th>2014-05-29</th>\n",
       "      <td>S19192700001</td>\n",
       "      <td>2248</td>\n",
       "      <td>Ingersoll Liquor and Beverage</td>\n",
       "      <td>3500 INGERSOLL AVE</td>\n",
       "      <td>DES MOINES</td>\n",
       "      <td>50312</td>\n",
       "      <td>POINT (-93.664182 41.586319)</td>\n",
       "      <td>77</td>\n",
       "      <td>Polk</td>\n",
       "      <td>1022200.0</td>\n",
       "      <td>...</td>\n",
       "      <td>902088</td>\n",
       "      <td>Ardbeg Auriverdes HA</td>\n",
       "      <td>6</td>\n",
       "      <td>750</td>\n",
       "      <td>49.99</td>\n",
       "      <td>74.99</td>\n",
       "      <td>30</td>\n",
       "      <td>2249.70</td>\n",
       "      <td>22.50</td>\n",
       "      <td>5.94</td>\n",
       "    </tr>\n",
       "    <tr>\n",
       "      <th>2014-11-05</th>\n",
       "      <td>S22219300036</td>\n",
       "      <td>4251</td>\n",
       "      <td>Aj's Liquor / Ames</td>\n",
       "      <td>4518 MORTENSON RD STE 109</td>\n",
       "      <td>AMES</td>\n",
       "      <td>50014</td>\n",
       "      <td>None</td>\n",
       "      <td>85</td>\n",
       "      <td>Story</td>\n",
       "      <td>1081330.0</td>\n",
       "      <td>...</td>\n",
       "      <td>82847</td>\n",
       "      <td>Dekuyper Peachtree</td>\n",
       "      <td>12</td>\n",
       "      <td>1000</td>\n",
       "      <td>7.62</td>\n",
       "      <td>11.43</td>\n",
       "      <td>4</td>\n",
       "      <td>45.72</td>\n",
       "      <td>4.00</td>\n",
       "      <td>1.06</td>\n",
       "    </tr>\n",
       "  </tbody>\n",
       "</table>\n",
       "<p>5 rows × 23 columns</p>\n",
       "</div>"
      ],
      "text/plain": [
       "           invoice_and_item_number store_number  \\\n",
       "date                                              \n",
       "2019-09-24         INV-22091000025         5003   \n",
       "2018-08-31         INV-14207000035         3907   \n",
       "2021-04-01         INV-35494000053         3385   \n",
       "2014-05-29            S19192700001         2248   \n",
       "2014-11-05            S22219300036         4251   \n",
       "\n",
       "                                             store_name  \\\n",
       "date                                                      \n",
       "2019-09-24                               Famous Liquors   \n",
       "2018-08-31  Smokin' Joe's #16 Tobacco and Liquor Outlet   \n",
       "2021-04-01               Sam's Club 8162 / Cedar Rapids   \n",
       "2014-05-29                Ingersoll Liquor and Beverage   \n",
       "2014-11-05                           Aj's Liquor / Ames   \n",
       "\n",
       "                              address          city zip_code  \\\n",
       "date                                                           \n",
       "2019-09-24           2604 W Locust St     Davenport  52804.0   \n",
       "2018-08-31              1504 Park Ave     Muscatine    52761   \n",
       "2021-04-01    2605 Blairs Ferry Rd NE  Cedar Rapids  52402.0   \n",
       "2014-05-29         3500 INGERSOLL AVE    DES MOINES    50312   \n",
       "2014-11-05  4518 MORTENSON RD STE 109          AMES    50014   \n",
       "\n",
       "                          store_location county_number     county   category  \\\n",
       "date                                                                           \n",
       "2019-09-24  POINT (-90.615542 41.538186)            82      SCOTT  1062100.0   \n",
       "2018-08-31  POINT (-91.030569 41.442458)            70  MUSCATINE  1081100.0   \n",
       "2021-04-01   POINT (-91.67969 42.031819)            57       LINN    1012300   \n",
       "2014-05-29  POINT (-93.664182 41.586319)            77       Polk  1022200.0   \n",
       "2014-11-05                          None            85      Story  1081330.0   \n",
       "\n",
       "            ... item_number       item_description pack bottle_volume_ml  \\\n",
       "date        ...                                                            \n",
       "2019-09-24  ...       45248     Paramount Gold Rum    6             1750   \n",
       "2018-08-31  ...       67524  Kahlua Coffee Liqueur   24              375   \n",
       "2021-04-01  ...        5486          Macallan 12YR   12              750   \n",
       "2014-05-29  ...      902088   Ardbeg Auriverdes HA    6              750   \n",
       "2014-11-05  ...       82847     Dekuyper Peachtree   12             1000   \n",
       "\n",
       "           state_bottle_cost  state_bottle_retail  bottles_sold  sale_dollars  \\\n",
       "date                                                                            \n",
       "2019-09-24              7.84                11.76            72        846.72   \n",
       "2018-08-31              6.49                 9.74             1          9.74   \n",
       "2021-04-01             40.01                60.02             7        420.14   \n",
       "2014-05-29             49.99                74.99            30       2249.70   \n",
       "2014-11-05              7.62                11.43             4         45.72   \n",
       "\n",
       "            volume_sold_liters  volume_sold_gallons  \n",
       "date                                                 \n",
       "2019-09-24              126.00                33.28  \n",
       "2018-08-31                0.37                 0.09  \n",
       "2021-04-01                5.25                 1.38  \n",
       "2014-05-29               22.50                 5.94  \n",
       "2014-11-05                4.00                 1.06  \n",
       "\n",
       "[5 rows x 23 columns]"
      ]
     },
     "execution_count": 7,
     "metadata": {},
     "output_type": "execute_result"
    }
   ],
   "source": [
    "data.head()"
   ]
  },
  {
   "cell_type": "markdown",
   "id": "fe16d013",
   "metadata": {},
   "source": [
    "```NOTE```\n",
    "- The data is now has formatted index by date"
   ]
  },
  {
   "cell_type": "markdown",
   "id": "3e835141",
   "metadata": {},
   "source": [
    "## Step 2: Prepare Data\n",
    "### Explore Data\n",
    "#### Drop unnecessary columns\n",
    "- In this project the column that will be used are following:\n",
    "1. <b>date</b>: date of order\n",
    "2. <b>store_name</b>: name of store who ordered the liquor\n",
    "3. <b>address</b>: address of the store who ordered the liquor\n",
    "4. <b>city</b>: city where the store who ordered the liquor is located\n",
    "5. <b>category_name</b>: category of the liquor ordered \n",
    "6. <b>vendor_name</b>: the vendor name of the company for the brand of liquor ordered\n",
    "7. <b>item_description</b>: description of the individual liquor product ordered\n",
    "8. <b>pack</b>: the number of bottles in a case for the liquor ordered\n",
    "9. <b>bottle_volume_ml</b>: volume of each liquor bottle ordered in milliliters\n",
    "10. <b>state_bottle_retail</b>: the amount the store paid for each bottle of liquor orderes\n",
    "11. <b>bottles_sold</b>: the number of bottles of liquor ordered by the store\n",
    "12. <b>sales_dollars</b>: the cost of liquor order (number of bottles multiply by the state bottle retail)\n",
    "13. <b>store_location</b>: information about latitude and longitude store who ordered the liquor (can be useful for folium visualization)"
   ]
  },
  {
   "cell_type": "code",
   "execution_count": 8,
   "id": "5d69e723",
   "metadata": {},
   "outputs": [],
   "source": [
    "dataframe = data.drop(columns=['invoice_and_item_number', 'store_number', 'zip_code', 'county_number', 'county', 'category','vendor_number', 'item_number', 'state_bottle_cost', 'volume_sold_liters', 'volume_sold_gallons'], axis=1)"
   ]
  },
  {
   "cell_type": "code",
   "execution_count": 9,
   "id": "a207a2b4",
   "metadata": {},
   "outputs": [
    {
     "data": {
      "text/html": [
       "<div>\n",
       "<style scoped>\n",
       "    .dataframe tbody tr th:only-of-type {\n",
       "        vertical-align: middle;\n",
       "    }\n",
       "\n",
       "    .dataframe tbody tr th {\n",
       "        vertical-align: top;\n",
       "    }\n",
       "\n",
       "    .dataframe thead th {\n",
       "        text-align: right;\n",
       "    }\n",
       "</style>\n",
       "<table border=\"1\" class=\"dataframe\">\n",
       "  <thead>\n",
       "    <tr style=\"text-align: right;\">\n",
       "      <th></th>\n",
       "      <th>store_name</th>\n",
       "      <th>address</th>\n",
       "      <th>city</th>\n",
       "      <th>store_location</th>\n",
       "      <th>category_name</th>\n",
       "      <th>vendor_name</th>\n",
       "      <th>item_description</th>\n",
       "      <th>pack</th>\n",
       "      <th>bottle_volume_ml</th>\n",
       "      <th>state_bottle_retail</th>\n",
       "      <th>bottles_sold</th>\n",
       "      <th>sale_dollars</th>\n",
       "    </tr>\n",
       "    <tr>\n",
       "      <th>date</th>\n",
       "      <th></th>\n",
       "      <th></th>\n",
       "      <th></th>\n",
       "      <th></th>\n",
       "      <th></th>\n",
       "      <th></th>\n",
       "      <th></th>\n",
       "      <th></th>\n",
       "      <th></th>\n",
       "      <th></th>\n",
       "      <th></th>\n",
       "      <th></th>\n",
       "    </tr>\n",
       "  </thead>\n",
       "  <tbody>\n",
       "    <tr>\n",
       "      <th>2019-09-24</th>\n",
       "      <td>Famous Liquors</td>\n",
       "      <td>2604 W Locust St</td>\n",
       "      <td>Davenport</td>\n",
       "      <td>POINT (-90.615542 41.538186)</td>\n",
       "      <td>Gold Rum</td>\n",
       "      <td>LUXCO INC</td>\n",
       "      <td>Paramount Gold Rum</td>\n",
       "      <td>6</td>\n",
       "      <td>1750</td>\n",
       "      <td>11.76</td>\n",
       "      <td>72</td>\n",
       "      <td>846.72</td>\n",
       "    </tr>\n",
       "    <tr>\n",
       "      <th>2018-08-31</th>\n",
       "      <td>Smokin' Joe's #16 Tobacco and Liquor Outlet</td>\n",
       "      <td>1504 Park Ave</td>\n",
       "      <td>Muscatine</td>\n",
       "      <td>POINT (-91.030569 41.442458)</td>\n",
       "      <td>Coffee Liqueurs</td>\n",
       "      <td>PERNOD RICARD USA</td>\n",
       "      <td>Kahlua Coffee Liqueur</td>\n",
       "      <td>24</td>\n",
       "      <td>375</td>\n",
       "      <td>9.74</td>\n",
       "      <td>1</td>\n",
       "      <td>9.74</td>\n",
       "    </tr>\n",
       "    <tr>\n",
       "      <th>2021-04-01</th>\n",
       "      <td>Sam's Club 8162 / Cedar Rapids</td>\n",
       "      <td>2605 Blairs Ferry Rd NE</td>\n",
       "      <td>Cedar Rapids</td>\n",
       "      <td>POINT (-91.67969 42.031819)</td>\n",
       "      <td>Single Malt Scotch</td>\n",
       "      <td>Edrington Group USA LLC</td>\n",
       "      <td>Macallan 12YR</td>\n",
       "      <td>12</td>\n",
       "      <td>750</td>\n",
       "      <td>60.02</td>\n",
       "      <td>7</td>\n",
       "      <td>420.14</td>\n",
       "    </tr>\n",
       "    <tr>\n",
       "      <th>2014-05-29</th>\n",
       "      <td>Ingersoll Liquor and Beverage</td>\n",
       "      <td>3500 INGERSOLL AVE</td>\n",
       "      <td>DES MOINES</td>\n",
       "      <td>POINT (-93.664182 41.586319)</td>\n",
       "      <td>None</td>\n",
       "      <td>Moet Hennessy USA, Inc.</td>\n",
       "      <td>Ardbeg Auriverdes HA</td>\n",
       "      <td>6</td>\n",
       "      <td>750</td>\n",
       "      <td>74.99</td>\n",
       "      <td>30</td>\n",
       "      <td>2249.70</td>\n",
       "    </tr>\n",
       "    <tr>\n",
       "      <th>2014-11-05</th>\n",
       "      <td>Aj's Liquor / Ames</td>\n",
       "      <td>4518 MORTENSON RD STE 109</td>\n",
       "      <td>AMES</td>\n",
       "      <td>None</td>\n",
       "      <td>PEACH SCHNAPPS</td>\n",
       "      <td>Jim Beam Brands</td>\n",
       "      <td>Dekuyper Peachtree</td>\n",
       "      <td>12</td>\n",
       "      <td>1000</td>\n",
       "      <td>11.43</td>\n",
       "      <td>4</td>\n",
       "      <td>45.72</td>\n",
       "    </tr>\n",
       "  </tbody>\n",
       "</table>\n",
       "</div>"
      ],
      "text/plain": [
       "                                             store_name  \\\n",
       "date                                                      \n",
       "2019-09-24                               Famous Liquors   \n",
       "2018-08-31  Smokin' Joe's #16 Tobacco and Liquor Outlet   \n",
       "2021-04-01               Sam's Club 8162 / Cedar Rapids   \n",
       "2014-05-29                Ingersoll Liquor and Beverage   \n",
       "2014-11-05                           Aj's Liquor / Ames   \n",
       "\n",
       "                              address          city  \\\n",
       "date                                                  \n",
       "2019-09-24           2604 W Locust St     Davenport   \n",
       "2018-08-31              1504 Park Ave     Muscatine   \n",
       "2021-04-01    2605 Blairs Ferry Rd NE  Cedar Rapids   \n",
       "2014-05-29         3500 INGERSOLL AVE    DES MOINES   \n",
       "2014-11-05  4518 MORTENSON RD STE 109          AMES   \n",
       "\n",
       "                          store_location       category_name  \\\n",
       "date                                                           \n",
       "2019-09-24  POINT (-90.615542 41.538186)            Gold Rum   \n",
       "2018-08-31  POINT (-91.030569 41.442458)     Coffee Liqueurs   \n",
       "2021-04-01   POINT (-91.67969 42.031819)  Single Malt Scotch   \n",
       "2014-05-29  POINT (-93.664182 41.586319)                None   \n",
       "2014-11-05                          None      PEACH SCHNAPPS   \n",
       "\n",
       "                        vendor_name       item_description  pack  \\\n",
       "date                                                               \n",
       "2019-09-24                LUXCO INC     Paramount Gold Rum     6   \n",
       "2018-08-31        PERNOD RICARD USA  Kahlua Coffee Liqueur    24   \n",
       "2021-04-01  Edrington Group USA LLC          Macallan 12YR    12   \n",
       "2014-05-29  Moet Hennessy USA, Inc.   Ardbeg Auriverdes HA     6   \n",
       "2014-11-05          Jim Beam Brands     Dekuyper Peachtree    12   \n",
       "\n",
       "            bottle_volume_ml  state_bottle_retail  bottles_sold  sale_dollars  \n",
       "date                                                                           \n",
       "2019-09-24              1750                11.76            72        846.72  \n",
       "2018-08-31               375                 9.74             1          9.74  \n",
       "2021-04-01               750                60.02             7        420.14  \n",
       "2014-05-29               750                74.99            30       2249.70  \n",
       "2014-11-05              1000                11.43             4         45.72  "
      ]
     },
     "execution_count": 9,
     "metadata": {},
     "output_type": "execute_result"
    }
   ],
   "source": [
    "dataframe.head()"
   ]
  },
  {
   "cell_type": "markdown",
   "id": "1a13271e",
   "metadata": {},
   "source": [
    "#### Check if there any missing value"
   ]
  },
  {
   "cell_type": "code",
   "execution_count": 10,
   "id": "364989c7",
   "metadata": {},
   "outputs": [
    {
     "data": {
      "text/plain": [
       "store_name             False\n",
       "address                 True\n",
       "city                    True\n",
       "store_location          True\n",
       "category_name           True\n",
       "vendor_name            False\n",
       "item_description       False\n",
       "pack                   False\n",
       "bottle_volume_ml       False\n",
       "state_bottle_retail     True\n",
       "bottles_sold           False\n",
       "sale_dollars            True\n",
       "dtype: bool"
      ]
     },
     "execution_count": 10,
     "metadata": {},
     "output_type": "execute_result"
    }
   ],
   "source": [
    "dataframe.isnull().any()"
   ]
  },
  {
   "cell_type": "markdown",
   "id": "aaa3bfba",
   "metadata": {},
   "source": [
    "There are missing value in column ```address```, ```city```, ```store_location```, ```category_name```, ```state_bottle_retail```, and ```sale_dollars```\n",
    "#### How many missing values for each column"
   ]
  },
  {
   "cell_type": "code",
   "execution_count": 11,
   "id": "8645e9a7",
   "metadata": {},
   "outputs": [
    {
     "data": {
      "text/plain": [
       "store_name                  0\n",
       "address                  8497\n",
       "city                     8497\n",
       "store_location         245915\n",
       "category_name            2984\n",
       "vendor_name                 0\n",
       "item_description            0\n",
       "pack                        0\n",
       "bottle_volume_ml            0\n",
       "state_bottle_retail         1\n",
       "bottles_sold                0\n",
       "sale_dollars                1\n",
       "dtype: int64"
      ]
     },
     "execution_count": 11,
     "metadata": {},
     "output_type": "execute_result"
    }
   ],
   "source": [
    "dataframe.isnull().sum()"
   ]
  },
  {
   "cell_type": "code",
   "execution_count": 12,
   "id": "8fbb13e3",
   "metadata": {},
   "outputs": [
    {
     "data": {
      "text/plain": [
       "(2500000, 12)"
      ]
     },
     "execution_count": 12,
     "metadata": {},
     "output_type": "execute_result"
    }
   ],
   "source": [
    "dataframe.shape"
   ]
  },
  {
   "cell_type": "markdown",
   "id": "654ce902",
   "metadata": {},
   "source": [
    "#### Check info of dataset"
   ]
  },
  {
   "cell_type": "code",
   "execution_count": 13,
   "id": "07c1ee2f",
   "metadata": {},
   "outputs": [
    {
     "name": "stdout",
     "output_type": "stream",
     "text": [
      "<class 'pandas.core.frame.DataFrame'>\n",
      "DatetimeIndex: 2500000 entries, 2019-09-24 to 2018-11-15\n",
      "Data columns (total 12 columns):\n",
      " #   Column               Dtype  \n",
      "---  ------               -----  \n",
      " 0   store_name           object \n",
      " 1   address              object \n",
      " 2   city                 object \n",
      " 3   store_location       object \n",
      " 4   category_name        object \n",
      " 5   vendor_name          object \n",
      " 6   item_description     object \n",
      " 7   pack                 Int64  \n",
      " 8   bottle_volume_ml     Int64  \n",
      " 9   state_bottle_retail  float64\n",
      " 10  bottles_sold         Int64  \n",
      " 11  sale_dollars         float64\n",
      "dtypes: Int64(3), float64(2), object(7)\n",
      "memory usage: 255.1+ MB\n"
     ]
    }
   ],
   "source": [
    "dataframe.info()"
   ]
  },
  {
   "cell_type": "markdown",
   "id": "a1b492d6",
   "metadata": {},
   "source": [
    "```NOTE```"
   ]
  },
  {
   "cell_type": "code",
   "execution_count": 14,
   "id": "0df49264",
   "metadata": {},
   "outputs": [
    {
     "data": {
      "text/html": [
       "<div>\n",
       "<style scoped>\n",
       "    .dataframe tbody tr th:only-of-type {\n",
       "        vertical-align: middle;\n",
       "    }\n",
       "\n",
       "    .dataframe tbody tr th {\n",
       "        vertical-align: top;\n",
       "    }\n",
       "\n",
       "    .dataframe thead th {\n",
       "        text-align: right;\n",
       "    }\n",
       "</style>\n",
       "<table border=\"1\" class=\"dataframe\">\n",
       "  <thead>\n",
       "    <tr style=\"text-align: right;\">\n",
       "      <th></th>\n",
       "      <th>pack</th>\n",
       "      <th>bottle_volume_ml</th>\n",
       "      <th>state_bottle_retail</th>\n",
       "      <th>bottles_sold</th>\n",
       "      <th>sale_dollars</th>\n",
       "    </tr>\n",
       "  </thead>\n",
       "  <tbody>\n",
       "    <tr>\n",
       "      <th>count</th>\n",
       "      <td>2.500000e+06</td>\n",
       "      <td>2.500000e+06</td>\n",
       "      <td>2.499999e+06</td>\n",
       "      <td>2.500000e+06</td>\n",
       "      <td>2.499999e+06</td>\n",
       "    </tr>\n",
       "    <tr>\n",
       "      <th>mean</th>\n",
       "      <td>1.223183e+01</td>\n",
       "      <td>9.060521e+02</td>\n",
       "      <td>1.506457e+01</td>\n",
       "      <td>1.091490e+01</td>\n",
       "      <td>1.411850e+02</td>\n",
       "    </tr>\n",
       "    <tr>\n",
       "      <th>std</th>\n",
       "      <td>7.771454e+00</td>\n",
       "      <td>7.127471e+02</td>\n",
       "      <td>1.446421e+01</td>\n",
       "      <td>3.161188e+01</td>\n",
       "      <td>5.107631e+02</td>\n",
       "    </tr>\n",
       "    <tr>\n",
       "      <th>min</th>\n",
       "      <td>1.000000e+00</td>\n",
       "      <td>0.000000e+00</td>\n",
       "      <td>0.000000e+00</td>\n",
       "      <td>1.000000e+00</td>\n",
       "      <td>0.000000e+00</td>\n",
       "    </tr>\n",
       "    <tr>\n",
       "      <th>25%</th>\n",
       "      <td>6.000000e+00</td>\n",
       "      <td>7.500000e+02</td>\n",
       "      <td>8.250000e+00</td>\n",
       "      <td>3.000000e+00</td>\n",
       "      <td>3.372000e+01</td>\n",
       "    </tr>\n",
       "    <tr>\n",
       "      <th>50%</th>\n",
       "      <td>1.200000e+01</td>\n",
       "      <td>7.500000e+02</td>\n",
       "      <td>1.230000e+01</td>\n",
       "      <td>6.000000e+00</td>\n",
       "      <td>7.434000e+01</td>\n",
       "    </tr>\n",
       "    <tr>\n",
       "      <th>75%</th>\n",
       "      <td>1.200000e+01</td>\n",
       "      <td>1.000000e+03</td>\n",
       "      <td>1.812000e+01</td>\n",
       "      <td>1.200000e+01</td>\n",
       "      <td>1.440000e+02</td>\n",
       "    </tr>\n",
       "    <tr>\n",
       "      <th>max</th>\n",
       "      <td>3.360000e+02</td>\n",
       "      <td>3.780000e+05</td>\n",
       "      <td>5.305950e+03</td>\n",
       "      <td>1.320000e+04</td>\n",
       "      <td>2.509320e+05</td>\n",
       "    </tr>\n",
       "  </tbody>\n",
       "</table>\n",
       "</div>"
      ],
      "text/plain": [
       "               pack  bottle_volume_ml  state_bottle_retail  bottles_sold  \\\n",
       "count  2.500000e+06      2.500000e+06         2.499999e+06  2.500000e+06   \n",
       "mean   1.223183e+01      9.060521e+02         1.506457e+01  1.091490e+01   \n",
       "std    7.771454e+00      7.127471e+02         1.446421e+01  3.161188e+01   \n",
       "min    1.000000e+00      0.000000e+00         0.000000e+00  1.000000e+00   \n",
       "25%    6.000000e+00      7.500000e+02         8.250000e+00  3.000000e+00   \n",
       "50%    1.200000e+01      7.500000e+02         1.230000e+01  6.000000e+00   \n",
       "75%    1.200000e+01      1.000000e+03         1.812000e+01  1.200000e+01   \n",
       "max    3.360000e+02      3.780000e+05         5.305950e+03  1.320000e+04   \n",
       "\n",
       "       sale_dollars  \n",
       "count  2.499999e+06  \n",
       "mean   1.411850e+02  \n",
       "std    5.107631e+02  \n",
       "min    0.000000e+00  \n",
       "25%    3.372000e+01  \n",
       "50%    7.434000e+01  \n",
       "75%    1.440000e+02  \n",
       "max    2.509320e+05  "
      ]
     },
     "execution_count": 14,
     "metadata": {},
     "output_type": "execute_result"
    }
   ],
   "source": [
    "dataframe.describe()"
   ]
  },
  {
   "cell_type": "markdown",
   "id": "726ff9d5",
   "metadata": {},
   "source": [
    "```NOTE```"
   ]
  },
  {
   "cell_type": "markdown",
   "id": "6a1f0443",
   "metadata": {},
   "source": [
    "### Visualize Ideas\n",
    "\n",
    "#### Histogram plot to see the distribution of dataset"
   ]
  },
  {
   "cell_type": "code",
   "execution_count": 16,
   "id": "9f30033b",
   "metadata": {},
   "outputs": [
    {
     "data": {
      "text/plain": [
       "<AxesSubplot:>"
      ]
     },
     "execution_count": 16,
     "metadata": {},
     "output_type": "execute_result"
    },
    {
     "data": {
      "image/png": "[encoded data removed]",
      "text/plain": [
       "<Figure size 432x288 with 1 Axes>"
      ]
     },
     "metadata": {
      "needs_background": "light"
     },
     "output_type": "display_data"
    }
   ],
   "source": [
    "dataframe['pack'].hist(bins=15)"
   ]
  },
  {
   "cell_type": "code",
   "execution_count": 27,
   "id": "732c13f2",
   "metadata": {},
   "outputs": [
    {
     "data": {
      "text/plain": [
       "<AxesSubplot:>"
      ]
     },
     "execution_count": 27,
     "metadata": {},
     "output_type": "execute_result"
    },
    {
     "data": {
      "image/png": "[encoded data removed]",
      "text/plain": [
       "<Figure size 432x288 with 1 Axes>"
      ]
     },
     "metadata": {
      "needs_background": "light"
     },
     "output_type": "display_data"
    }
   ],
   "source": [
    "dataframe['bottles_sold'].hist(bins=4)"
   ]
  },
  {
   "cell_type": "markdown",
   "id": "735ef932",
   "metadata": {},
   "source": [
    "```NOTE```\n",
    "\n",
    "#### Box plot visualization to see an outlier in dataset"
   ]
  },
  {
   "cell_type": "code",
   "execution_count": 28,
   "id": "a88b60a8",
   "metadata": {},
   "outputs": [
    {
     "data": {
      "text/plain": [
       "<AxesSubplot:title={'center':'Liquor Ordered (pack) Data Distribution'}>"
      ]
     },
     "execution_count": 28,
     "metadata": {},
     "output_type": "execute_result"
    },
    {
     "data": {
      "image/png": "[encoded data removed]",
      "text/plain": [
       "<Figure size 432x288 with 1 Axes>"
      ]
     },
     "metadata": {
      "needs_background": "light"
     },
     "output_type": "display_data"
    }
   ],
   "source": [
    "dataframe['pack'].plot.box(vert=False, title='Liquor Ordered (pack) Data Distribution')"
   ]
  },
  {
   "cell_type": "markdown",
   "id": "94cdec51",
   "metadata": {},
   "source": [
    "```NOTE```"
   ]
  },
  {
   "cell_type": "code",
   "execution_count": 29,
   "id": "bbc2bb43",
   "metadata": {},
   "outputs": [
    {
     "data": {
      "text/plain": [
       "<AxesSubplot:title={'center':'Liquor Ordered Cost Distribution'}>"
      ]
     },
     "execution_count": 29,
     "metadata": {},
     "output_type": "execute_result"
    },
    {
     "data": {
      "image/png": "[encoded data removed]",
      "text/plain": [
       "<Figure size 432x288 with 1 Axes>"
      ]
     },
     "metadata": {
      "needs_background": "light"
     },
     "output_type": "display_data"
    }
   ],
   "source": [
    "dataframe['sale_dollars'].plot.box(vert=False, title='Liquor Ordered Cost Distribution')"
   ]
  },
  {
   "cell_type": "code",
   "execution_count": 30,
   "id": "9a752151",
   "metadata": {},
   "outputs": [
    {
     "data": {
      "text/plain": [
       "<AxesSubplot:title={'center':'Number of liquor bottles ordered sold'}>"
      ]
     },
     "execution_count": 30,
     "metadata": {},
     "output_type": "execute_result"
    },
    {
     "data": {
      "image/png": "[encoded data removed]",
      "text/plain": [
       "<Figure size 432x288 with 1 Axes>"
      ]
     },
     "metadata": {
      "needs_background": "light"
     },
     "output_type": "display_data"
    }
   ],
   "source": [
    "dataframe['bottles_sold'].plot.box(vert=False, title='Number of liquor bottles ordered sold')"
   ]
  },
  {
   "cell_type": "markdown",
   "id": "25af86fb",
   "metadata": {},
   "source": [
    "```NOTE```"
   ]
  },
  {
   "cell_type": "markdown",
   "id": "17114a7f",
   "metadata": {},
   "source": [
    "#### Scatter plot visualization to see relationship/correlation between two variables"
   ]
  },
  {
   "cell_type": "code",
   "execution_count": 31,
   "id": "bcd40bda",
   "metadata": {},
   "outputs": [
    {
     "data": {
      "text/plain": [
       "<AxesSubplot:xlabel='bottles_sold', ylabel='sale_dollars'>"
      ]
     },
     "execution_count": 31,
     "metadata": {},
     "output_type": "execute_result"
    },
    {
     "data": {
      "image/png": "[encoded data removed]",
      "text/plain": [
       "<Figure size 432x288 with 1 Axes>"
      ]
     },
     "metadata": {
      "needs_background": "light"
     },
     "output_type": "display_data"
    }
   ],
   "source": [
    "dataframe.plot.scatter(x='bottles_sold', y='sale_dollars')"
   ]
  },
  {
   "cell_type": "markdown",
   "id": "1dcac03b",
   "metadata": {},
   "source": [
    "```NOTE```"
   ]
  },
  {
   "cell_type": "code",
   "execution_count": 34,
   "id": "9a774de3",
   "metadata": {},
   "outputs": [
    {
     "data": {
      "text/plain": [
       "<AxesSubplot:xlabel='state_bottle_retail', ylabel='pack'>"
      ]
     },
     "execution_count": 34,
     "metadata": {},
     "output_type": "execute_result"
    },
    {
     "data": {
      "image/png": "[encoded data removed]",
      "text/plain": [
       "<Figure size 432x288 with 1 Axes>"
      ]
     },
     "metadata": {
      "needs_background": "light"
     },
     "output_type": "display_data"
    }
   ],
   "source": [
    "dataframe.plot.scatter(x='state_bottle_retail', y='pack')"
   ]
  },
  {
   "cell_type": "code",
   "execution_count": 36,
   "id": "84e30b2e",
   "metadata": {},
   "outputs": [
    {
     "data": {
      "text/plain": [
       "<AxesSubplot:xlabel='bottle_volume_ml', ylabel='sale_dollars'>"
      ]
     },
     "execution_count": 36,
     "metadata": {},
     "output_type": "execute_result"
    },
    {
     "data": {
      "image/png": "[encoded data removed]",
      "text/plain": [
       "<Figure size 432x288 with 1 Axes>"
      ]
     },
     "metadata": {
      "needs_background": "light"
     },
     "output_type": "display_data"
    }
   ],
   "source": [
    "dataframe.plot.scatter(x='bottle_volume_ml', y='sale_dollars')"
   ]
  },
  {
   "cell_type": "code",
   "execution_count": 37,
   "id": "dbfcbb63",
   "metadata": {},
   "outputs": [
    {
     "data": {
      "text/plain": [
       "<AxesSubplot:xlabel='pack', ylabel='sale_dollars'>"
      ]
     },
     "execution_count": 37,
     "metadata": {},
     "output_type": "execute_result"
    },
    {
     "data": {
      "image/png": "[encoded data removed]",
      "text/plain": [
       "<Figure size 432x288 with 1 Axes>"
      ]
     },
     "metadata": {
      "needs_background": "light"
     },
     "output_type": "display_data"
    }
   ],
   "source": [
    "dataframe.plot.scatter(x='pack', y='sale_dollars')"
   ]
  },
  {
   "cell_type": "markdown",
   "id": "eef325fc",
   "metadata": {},
   "source": [
    "```NOTE```"
   ]
  },
  {
   "cell_type": "code",
   "execution_count": 38,
   "id": "be9ef0e3",
   "metadata": {},
   "outputs": [
    {
     "data": {
      "text/plain": [
       "date\n",
       "2019-09-24       Davenport\n",
       "2018-08-31       Muscatine\n",
       "2021-04-01    Cedar Rapids\n",
       "2014-05-29      DES MOINES\n",
       "2014-11-05            AMES\n",
       "                  ...     \n",
       "2017-04-18            None\n",
       "2018-03-06         Dubuque\n",
       "2022-04-13    Cedar Rapids\n",
       "2018-11-07      Fort Dodge\n",
       "2018-11-15    Marshalltown\n",
       "Name: city, Length: 2500000, dtype: object"
      ]
     },
     "execution_count": 38,
     "metadata": {},
     "output_type": "execute_result"
    }
   ],
   "source": [
    "dataframe['city']"
   ]
  },
  {
   "cell_type": "markdown",
   "id": "e21484a3",
   "metadata": {},
   "source": [
    "#### Line plot to see some trend happen in dataset"
   ]
  },
  {
   "cell_type": "code",
   "execution_count": 39,
   "id": "46f899b4",
   "metadata": {},
   "outputs": [
    {
     "data": {
      "text/plain": [
       "Int64Index([2019, 2018, 2021, 2014, 2014, 2020, 2016, 2022, 2014, 2014,\n",
       "            ...\n",
       "            2022, 2021, 2021, 2018, 2019, 2017, 2018, 2022, 2018, 2018],\n",
       "           dtype='int64', name='date', length=2500000)"
      ]
     },
     "execution_count": 39,
     "metadata": {},
     "output_type": "execute_result"
    }
   ],
   "source": [
    "dataframe.index.year"
   ]
  },
  {
   "cell_type": "code",
   "execution_count": 40,
   "id": "6678ee2b",
   "metadata": {},
   "outputs": [
    {
     "data": {
      "text/html": [
       "<div>\n",
       "<style scoped>\n",
       "    .dataframe tbody tr th:only-of-type {\n",
       "        vertical-align: middle;\n",
       "    }\n",
       "\n",
       "    .dataframe tbody tr th {\n",
       "        vertical-align: top;\n",
       "    }\n",
       "\n",
       "    .dataframe thead th {\n",
       "        text-align: right;\n",
       "    }\n",
       "</style>\n",
       "<table border=\"1\" class=\"dataframe\">\n",
       "  <thead>\n",
       "    <tr style=\"text-align: right;\">\n",
       "      <th></th>\n",
       "      <th>store_name</th>\n",
       "      <th>address</th>\n",
       "      <th>city</th>\n",
       "      <th>store_location</th>\n",
       "      <th>category_name</th>\n",
       "      <th>vendor_name</th>\n",
       "      <th>item_description</th>\n",
       "      <th>pack</th>\n",
       "      <th>bottle_volume_ml</th>\n",
       "      <th>state_bottle_retail</th>\n",
       "      <th>bottles_sold</th>\n",
       "      <th>sale_dollars</th>\n",
       "    </tr>\n",
       "    <tr>\n",
       "      <th>date</th>\n",
       "      <th></th>\n",
       "      <th></th>\n",
       "      <th></th>\n",
       "      <th></th>\n",
       "      <th></th>\n",
       "      <th></th>\n",
       "      <th></th>\n",
       "      <th></th>\n",
       "      <th></th>\n",
       "      <th></th>\n",
       "      <th></th>\n",
       "      <th></th>\n",
       "    </tr>\n",
       "  </thead>\n",
       "  <tbody>\n",
       "    <tr>\n",
       "      <th>2012-01-03</th>\n",
       "      <td>Hartig Drug Co. / JFK Rd / Dubuque</td>\n",
       "      <td>2255 JOHN F KENNEDY RD</td>\n",
       "      <td>DUBUQUE</td>\n",
       "      <td>POINT (-90.72051800000001 42.511352)</td>\n",
       "      <td>BLENDED WHISKIES</td>\n",
       "      <td>Diageo Americas</td>\n",
       "      <td>Seagrams 7 Crown Bl Whiskey</td>\n",
       "      <td>24</td>\n",
       "      <td>375</td>\n",
       "      <td>5.00</td>\n",
       "      <td>24</td>\n",
       "      <td>120.00</td>\n",
       "    </tr>\n",
       "    <tr>\n",
       "      <th>2012-01-03</th>\n",
       "      <td>Hy-Vee Food Store / Keokuk</td>\n",
       "      <td>3111 MAIN</td>\n",
       "      <td>KEOKUK</td>\n",
       "      <td>POINT (-91.403752 40.41538)</td>\n",
       "      <td>VODKA FLAVORED</td>\n",
       "      <td>Jim Beam Brands</td>\n",
       "      <td>Pucker Vodka 50ml Gravity Feed</td>\n",
       "      <td>3</td>\n",
       "      <td>2000</td>\n",
       "      <td>40.02</td>\n",
       "      <td>1</td>\n",
       "      <td>40.02</td>\n",
       "    </tr>\n",
       "    <tr>\n",
       "      <th>2012-01-03</th>\n",
       "      <td>Shamrock Spirits</td>\n",
       "      <td>1204 WATER ST PO BOX 177</td>\n",
       "      <td>ALDEN</td>\n",
       "      <td>POINT (-93.376271 42.520423)</td>\n",
       "      <td>IMPORTED VODKA</td>\n",
       "      <td>Pernod Ricard USA/Austin Nichols</td>\n",
       "      <td>Absolut Swedish Vodka 80 Prf</td>\n",
       "      <td>12</td>\n",
       "      <td>1000</td>\n",
       "      <td>22.34</td>\n",
       "      <td>6</td>\n",
       "      <td>134.04</td>\n",
       "    </tr>\n",
       "    <tr>\n",
       "      <th>2012-01-03</th>\n",
       "      <td>Save A Lot  #482</td>\n",
       "      <td>2122 MAIN ST</td>\n",
       "      <td>KEOKUK</td>\n",
       "      <td>POINT (-91.39688800000002 40.408821)</td>\n",
       "      <td>IMPORTED VODKA</td>\n",
       "      <td>Bacardi U.S.A., Inc.</td>\n",
       "      <td>Grey Goose Vodka</td>\n",
       "      <td>6</td>\n",
       "      <td>1000</td>\n",
       "      <td>32.66</td>\n",
       "      <td>6</td>\n",
       "      <td>195.96</td>\n",
       "    </tr>\n",
       "    <tr>\n",
       "      <th>2012-01-03</th>\n",
       "      <td>Hy-Vee Wine and Spirits / Hubbell</td>\n",
       "      <td>2310 HUBBELL AVE</td>\n",
       "      <td>DES MOINES</td>\n",
       "      <td>POINT (-93.573845 41.604312)</td>\n",
       "      <td>IMPORTED SCHNAPPS</td>\n",
       "      <td>Diageo Americas</td>\n",
       "      <td>Rumple Minze Peppermint Schnapps Liqueur Mini</td>\n",
       "      <td>8</td>\n",
       "      <td>800</td>\n",
       "      <td>30.17</td>\n",
       "      <td>1</td>\n",
       "      <td>30.17</td>\n",
       "    </tr>\n",
       "  </tbody>\n",
       "</table>\n",
       "</div>"
      ],
      "text/plain": [
       "                                    store_name                   address  \\\n",
       "date                                                                       \n",
       "2012-01-03  Hartig Drug Co. / JFK Rd / Dubuque    2255 JOHN F KENNEDY RD   \n",
       "2012-01-03          Hy-Vee Food Store / Keokuk                 3111 MAIN   \n",
       "2012-01-03                    Shamrock Spirits  1204 WATER ST PO BOX 177   \n",
       "2012-01-03                    Save A Lot  #482              2122 MAIN ST   \n",
       "2012-01-03   Hy-Vee Wine and Spirits / Hubbell          2310 HUBBELL AVE   \n",
       "\n",
       "                  city                        store_location  \\\n",
       "date                                                           \n",
       "2012-01-03     DUBUQUE  POINT (-90.72051800000001 42.511352)   \n",
       "2012-01-03      KEOKUK           POINT (-91.403752 40.41538)   \n",
       "2012-01-03       ALDEN          POINT (-93.376271 42.520423)   \n",
       "2012-01-03      KEOKUK  POINT (-91.39688800000002 40.408821)   \n",
       "2012-01-03  DES MOINES          POINT (-93.573845 41.604312)   \n",
       "\n",
       "                category_name                       vendor_name  \\\n",
       "date                                                              \n",
       "2012-01-03   BLENDED WHISKIES                   Diageo Americas   \n",
       "2012-01-03     VODKA FLAVORED                   Jim Beam Brands   \n",
       "2012-01-03     IMPORTED VODKA  Pernod Ricard USA/Austin Nichols   \n",
       "2012-01-03     IMPORTED VODKA              Bacardi U.S.A., Inc.   \n",
       "2012-01-03  IMPORTED SCHNAPPS                   Diageo Americas   \n",
       "\n",
       "                                         item_description  pack  \\\n",
       "date                                                              \n",
       "2012-01-03                    Seagrams 7 Crown Bl Whiskey    24   \n",
       "2012-01-03                 Pucker Vodka 50ml Gravity Feed     3   \n",
       "2012-01-03                   Absolut Swedish Vodka 80 Prf    12   \n",
       "2012-01-03                               Grey Goose Vodka     6   \n",
       "2012-01-03  Rumple Minze Peppermint Schnapps Liqueur Mini     8   \n",
       "\n",
       "            bottle_volume_ml  state_bottle_retail  bottles_sold  sale_dollars  \n",
       "date                                                                           \n",
       "2012-01-03               375                 5.00            24        120.00  \n",
       "2012-01-03              2000                40.02             1         40.02  \n",
       "2012-01-03              1000                22.34             6        134.04  \n",
       "2012-01-03              1000                32.66             6        195.96  \n",
       "2012-01-03               800                30.17             1         30.17  "
      ]
     },
     "execution_count": 40,
     "metadata": {},
     "output_type": "execute_result"
    }
   ],
   "source": [
    "dataframe = dataframe.sort_index()\n",
    "dataframe.head()"
   ]
  },
  {
   "cell_type": "code",
   "execution_count": 54,
   "id": "17554847",
   "metadata": {},
   "outputs": [
    {
     "data": {
      "text/plain": [
       "<AxesSubplot:xlabel='date'>"
      ]
     },
     "execution_count": 54,
     "metadata": {},
     "output_type": "execute_result"
    },
    {
     "data": {
      "image/png": "[encoded data removed]",
      "text/plain": [
       "<Figure size 432x288 with 1 Axes>"
      ]
     },
     "metadata": {
      "needs_background": "light"
     },
     "output_type": "display_data"
    }
   ],
   "source": [
    "dataframe.groupby([dataframe.index.year])['sale_dollars'].sum().plot()"
   ]
  },
  {
   "cell_type": "markdown",
   "id": "3ea6e01b",
   "metadata": {},
   "source": [
    "```NOTE```"
   ]
  },
  {
   "cell_type": "code",
   "execution_count": 53,
   "id": "f6330ad1",
   "metadata": {},
   "outputs": [
    {
     "data": {
      "text/plain": [
       "<AxesSubplot:xlabel='date'>"
      ]
     },
     "execution_count": 53,
     "metadata": {},
     "output_type": "execute_result"
    },
    {
     "data": {
      "image/png": "[encoded data removed]",
      "text/plain": [
       "<Figure size 432x288 with 1 Axes>"
      ]
     },
     "metadata": {
      "needs_background": "light"
     },
     "output_type": "display_data"
    }
   ],
   "source": [
    "dataframe.groupby([dataframe.index.year])['bottles_sold'].sum().plot()"
   ]
  },
  {
   "cell_type": "markdown",
   "id": "b8c39536",
   "metadata": {},
   "source": [
    "```NOTE```"
   ]
  },
  {
   "cell_type": "code",
   "execution_count": 49,
   "id": "2b64fae7",
   "metadata": {},
   "outputs": [
    {
     "data": {
      "text/plain": [
       "<AxesSubplot:xlabel='date'>"
      ]
     },
     "execution_count": 49,
     "metadata": {},
     "output_type": "execute_result"
    },
    {
     "data": {
      "image/png": "[encoded data removed]",
      "text/plain": [
       "<Figure size 432x288 with 1 Axes>"
      ]
     },
     "metadata": {
      "needs_background": "light"
     },
     "output_type": "display_data"
    }
   ],
   "source": [
    "dataframe.groupby([dataframe.index.year])[['bottles_sold', 'pack']].sum().plot(ylim=0)"
   ]
  },
  {
   "cell_type": "code",
   "execution_count": 52,
   "id": "2e4b4a8e",
   "metadata": {},
   "outputs": [
    {
     "data": {
      "text/plain": [
       "<AxesSubplot:xlabel='date'>"
      ]
     },
     "execution_count": 52,
     "metadata": {},
     "output_type": "execute_result"
    },
    {
     "data": {
      "image/png": "[encoded data removed]",
      "text/plain": [
       "<Figure size 432x288 with 1 Axes>"
      ]
     },
     "metadata": {
      "needs_background": "light"
     },
     "output_type": "display_data"
    }
   ],
   "source": [
    "dataframe.groupby([dataframe.index.month])[['sale_dollars']].sum().plot()"
   ]
  },
  {
   "cell_type": "markdown",
   "id": "b26b9273",
   "metadata": {},
   "source": [
    "```NOTE```"
   ]
  },
  {
   "cell_type": "markdown",
   "id": "7ebfcc53",
   "metadata": {},
   "source": [
    "### Cleaning Dataset\n",
    "- We know the data has null values in some columns\n",
    "- Do cleaning data with drop the ```NaN``` values\n",
    "- Assume that it's not affected the data quality if we remove rows of data that contain ```NaN``` value"
   ]
  },
  {
   "cell_type": "code",
   "execution_count": 55,
   "id": "a944907c",
   "metadata": {},
   "outputs": [
    {
     "data": {
      "text/plain": [
       "(2500000, 2251390)"
      ]
     },
     "execution_count": 55,
     "metadata": {},
     "output_type": "execute_result"
    }
   ],
   "source": [
    "len(dataframe), len(dataframe.dropna())"
   ]
  },
  {
   "cell_type": "code",
   "execution_count": 56,
   "id": "099d6e51",
   "metadata": {},
   "outputs": [
    {
     "data": {
      "text/html": [
       "<div>\n",
       "<style scoped>\n",
       "    .dataframe tbody tr th:only-of-type {\n",
       "        vertical-align: middle;\n",
       "    }\n",
       "\n",
       "    .dataframe tbody tr th {\n",
       "        vertical-align: top;\n",
       "    }\n",
       "\n",
       "    .dataframe thead th {\n",
       "        text-align: right;\n",
       "    }\n",
       "</style>\n",
       "<table border=\"1\" class=\"dataframe\">\n",
       "  <thead>\n",
       "    <tr style=\"text-align: right;\">\n",
       "      <th></th>\n",
       "      <th>store_name</th>\n",
       "      <th>address</th>\n",
       "      <th>city</th>\n",
       "      <th>store_location</th>\n",
       "      <th>category_name</th>\n",
       "      <th>vendor_name</th>\n",
       "      <th>item_description</th>\n",
       "      <th>pack</th>\n",
       "      <th>bottle_volume_ml</th>\n",
       "      <th>state_bottle_retail</th>\n",
       "      <th>bottles_sold</th>\n",
       "      <th>sale_dollars</th>\n",
       "    </tr>\n",
       "    <tr>\n",
       "      <th>date</th>\n",
       "      <th></th>\n",
       "      <th></th>\n",
       "      <th></th>\n",
       "      <th></th>\n",
       "      <th></th>\n",
       "      <th></th>\n",
       "      <th></th>\n",
       "      <th></th>\n",
       "      <th></th>\n",
       "      <th></th>\n",
       "      <th></th>\n",
       "      <th></th>\n",
       "    </tr>\n",
       "  </thead>\n",
       "  <tbody>\n",
       "    <tr>\n",
       "      <th>2012-01-03</th>\n",
       "      <td>Hartig Drug Co. / JFK Rd / Dubuque</td>\n",
       "      <td>2255 JOHN F KENNEDY RD</td>\n",
       "      <td>DUBUQUE</td>\n",
       "      <td>POINT (-90.72051800000001 42.511352)</td>\n",
       "      <td>BLENDED WHISKIES</td>\n",
       "      <td>Diageo Americas</td>\n",
       "      <td>Seagrams 7 Crown Bl Whiskey</td>\n",
       "      <td>24</td>\n",
       "      <td>375</td>\n",
       "      <td>5.00</td>\n",
       "      <td>24</td>\n",
       "      <td>120.00</td>\n",
       "    </tr>\n",
       "    <tr>\n",
       "      <th>2012-01-03</th>\n",
       "      <td>Hy-Vee Food Store / Keokuk</td>\n",
       "      <td>3111 MAIN</td>\n",
       "      <td>KEOKUK</td>\n",
       "      <td>POINT (-91.403752 40.41538)</td>\n",
       "      <td>VODKA FLAVORED</td>\n",
       "      <td>Jim Beam Brands</td>\n",
       "      <td>Pucker Vodka 50ml Gravity Feed</td>\n",
       "      <td>3</td>\n",
       "      <td>2000</td>\n",
       "      <td>40.02</td>\n",
       "      <td>1</td>\n",
       "      <td>40.02</td>\n",
       "    </tr>\n",
       "    <tr>\n",
       "      <th>2012-01-03</th>\n",
       "      <td>Shamrock Spirits</td>\n",
       "      <td>1204 WATER ST PO BOX 177</td>\n",
       "      <td>ALDEN</td>\n",
       "      <td>POINT (-93.376271 42.520423)</td>\n",
       "      <td>IMPORTED VODKA</td>\n",
       "      <td>Pernod Ricard USA/Austin Nichols</td>\n",
       "      <td>Absolut Swedish Vodka 80 Prf</td>\n",
       "      <td>12</td>\n",
       "      <td>1000</td>\n",
       "      <td>22.34</td>\n",
       "      <td>6</td>\n",
       "      <td>134.04</td>\n",
       "    </tr>\n",
       "    <tr>\n",
       "      <th>2012-01-03</th>\n",
       "      <td>Save A Lot  #482</td>\n",
       "      <td>2122 MAIN ST</td>\n",
       "      <td>KEOKUK</td>\n",
       "      <td>POINT (-91.39688800000002 40.408821)</td>\n",
       "      <td>IMPORTED VODKA</td>\n",
       "      <td>Bacardi U.S.A., Inc.</td>\n",
       "      <td>Grey Goose Vodka</td>\n",
       "      <td>6</td>\n",
       "      <td>1000</td>\n",
       "      <td>32.66</td>\n",
       "      <td>6</td>\n",
       "      <td>195.96</td>\n",
       "    </tr>\n",
       "    <tr>\n",
       "      <th>2012-01-03</th>\n",
       "      <td>Hy-Vee Wine and Spirits / Hubbell</td>\n",
       "      <td>2310 HUBBELL AVE</td>\n",
       "      <td>DES MOINES</td>\n",
       "      <td>POINT (-93.573845 41.604312)</td>\n",
       "      <td>IMPORTED SCHNAPPS</td>\n",
       "      <td>Diageo Americas</td>\n",
       "      <td>Rumple Minze Peppermint Schnapps Liqueur Mini</td>\n",
       "      <td>8</td>\n",
       "      <td>800</td>\n",
       "      <td>30.17</td>\n",
       "      <td>1</td>\n",
       "      <td>30.17</td>\n",
       "    </tr>\n",
       "  </tbody>\n",
       "</table>\n",
       "</div>"
      ],
      "text/plain": [
       "                                    store_name                   address  \\\n",
       "date                                                                       \n",
       "2012-01-03  Hartig Drug Co. / JFK Rd / Dubuque    2255 JOHN F KENNEDY RD   \n",
       "2012-01-03          Hy-Vee Food Store / Keokuk                 3111 MAIN   \n",
       "2012-01-03                    Shamrock Spirits  1204 WATER ST PO BOX 177   \n",
       "2012-01-03                    Save A Lot  #482              2122 MAIN ST   \n",
       "2012-01-03   Hy-Vee Wine and Spirits / Hubbell          2310 HUBBELL AVE   \n",
       "\n",
       "                  city                        store_location  \\\n",
       "date                                                           \n",
       "2012-01-03     DUBUQUE  POINT (-90.72051800000001 42.511352)   \n",
       "2012-01-03      KEOKUK           POINT (-91.403752 40.41538)   \n",
       "2012-01-03       ALDEN          POINT (-93.376271 42.520423)   \n",
       "2012-01-03      KEOKUK  POINT (-91.39688800000002 40.408821)   \n",
       "2012-01-03  DES MOINES          POINT (-93.573845 41.604312)   \n",
       "\n",
       "                category_name                       vendor_name  \\\n",
       "date                                                              \n",
       "2012-01-03   BLENDED WHISKIES                   Diageo Americas   \n",
       "2012-01-03     VODKA FLAVORED                   Jim Beam Brands   \n",
       "2012-01-03     IMPORTED VODKA  Pernod Ricard USA/Austin Nichols   \n",
       "2012-01-03     IMPORTED VODKA              Bacardi U.S.A., Inc.   \n",
       "2012-01-03  IMPORTED SCHNAPPS                   Diageo Americas   \n",
       "\n",
       "                                         item_description  pack  \\\n",
       "date                                                              \n",
       "2012-01-03                    Seagrams 7 Crown Bl Whiskey    24   \n",
       "2012-01-03                 Pucker Vodka 50ml Gravity Feed     3   \n",
       "2012-01-03                   Absolut Swedish Vodka 80 Prf    12   \n",
       "2012-01-03                               Grey Goose Vodka     6   \n",
       "2012-01-03  Rumple Minze Peppermint Schnapps Liqueur Mini     8   \n",
       "\n",
       "            bottle_volume_ml  state_bottle_retail  bottles_sold  sale_dollars  \n",
       "date                                                                           \n",
       "2012-01-03               375                 5.00            24        120.00  \n",
       "2012-01-03              2000                40.02             1         40.02  \n",
       "2012-01-03              1000                22.34             6        134.04  \n",
       "2012-01-03              1000                32.66             6        195.96  \n",
       "2012-01-03               800                30.17             1         30.17  "
      ]
     },
     "execution_count": 56,
     "metadata": {},
     "output_type": "execute_result"
    }
   ],
   "source": [
    "dataframe = dataframe.dropna()\n",
    "dataframe.head()"
   ]
  },
  {
   "cell_type": "code",
   "execution_count": 57,
   "id": "6d2b316a",
   "metadata": {},
   "outputs": [
    {
     "data": {
      "text/plain": [
       "(2251390, 12)"
      ]
     },
     "execution_count": 57,
     "metadata": {},
     "output_type": "execute_result"
    }
   ],
   "source": [
    "dataframe.shape"
   ]
  },
  {
   "cell_type": "markdown",
   "id": "7c27d1e9",
   "metadata": {},
   "source": [
    "### Transforming Dataset\n",
    "- Make sure each column has the correct type values"
   ]
  },
  {
   "cell_type": "markdown",
   "id": "40d48653",
   "metadata": {},
   "source": [
    "#### Change string values in categorical columns to <i>Proper Case</i>\n",
    "- Make sure for each categorical columns has string data types\n",
    "- Change string values in columns ```city```, ```category_name```, and ```item_description``` to ```title case```"
   ]
  },
  {
   "cell_type": "code",
   "execution_count": 58,
   "id": "581bbfae",
   "metadata": {},
   "outputs": [
    {
     "data": {
      "text/html": [
       "<div>\n",
       "<style scoped>\n",
       "    .dataframe tbody tr th:only-of-type {\n",
       "        vertical-align: middle;\n",
       "    }\n",
       "\n",
       "    .dataframe tbody tr th {\n",
       "        vertical-align: top;\n",
       "    }\n",
       "\n",
       "    .dataframe thead th {\n",
       "        text-align: right;\n",
       "    }\n",
       "</style>\n",
       "<table border=\"1\" class=\"dataframe\">\n",
       "  <thead>\n",
       "    <tr style=\"text-align: right;\">\n",
       "      <th></th>\n",
       "      <th>store_name</th>\n",
       "      <th>address</th>\n",
       "      <th>city</th>\n",
       "      <th>store_location</th>\n",
       "      <th>category_name</th>\n",
       "      <th>vendor_name</th>\n",
       "      <th>item_description</th>\n",
       "      <th>pack</th>\n",
       "      <th>bottle_volume_ml</th>\n",
       "      <th>state_bottle_retail</th>\n",
       "      <th>bottles_sold</th>\n",
       "      <th>sale_dollars</th>\n",
       "      <th>kota</th>\n",
       "    </tr>\n",
       "    <tr>\n",
       "      <th>date</th>\n",
       "      <th></th>\n",
       "      <th></th>\n",
       "      <th></th>\n",
       "      <th></th>\n",
       "      <th></th>\n",
       "      <th></th>\n",
       "      <th></th>\n",
       "      <th></th>\n",
       "      <th></th>\n",
       "      <th></th>\n",
       "      <th></th>\n",
       "      <th></th>\n",
       "      <th></th>\n",
       "    </tr>\n",
       "  </thead>\n",
       "  <tbody>\n",
       "    <tr>\n",
       "      <th>2012-01-03</th>\n",
       "      <td>Hartig Drug Co. / JFK Rd / Dubuque</td>\n",
       "      <td>2255 JOHN F KENNEDY RD</td>\n",
       "      <td>DUBUQUE</td>\n",
       "      <td>POINT (-90.72051800000001 42.511352)</td>\n",
       "      <td>BLENDED WHISKIES</td>\n",
       "      <td>Diageo Americas</td>\n",
       "      <td>Seagrams 7 Crown Bl Whiskey</td>\n",
       "      <td>24</td>\n",
       "      <td>375</td>\n",
       "      <td>5.00</td>\n",
       "      <td>24</td>\n",
       "      <td>120.00</td>\n",
       "      <td>DUBUQUE</td>\n",
       "    </tr>\n",
       "    <tr>\n",
       "      <th>2012-01-03</th>\n",
       "      <td>Hy-Vee Food Store / Keokuk</td>\n",
       "      <td>3111 MAIN</td>\n",
       "      <td>KEOKUK</td>\n",
       "      <td>POINT (-91.403752 40.41538)</td>\n",
       "      <td>VODKA FLAVORED</td>\n",
       "      <td>Jim Beam Brands</td>\n",
       "      <td>Pucker Vodka 50ml Gravity Feed</td>\n",
       "      <td>3</td>\n",
       "      <td>2000</td>\n",
       "      <td>40.02</td>\n",
       "      <td>1</td>\n",
       "      <td>40.02</td>\n",
       "      <td>KEOKUK</td>\n",
       "    </tr>\n",
       "    <tr>\n",
       "      <th>2012-01-03</th>\n",
       "      <td>Shamrock Spirits</td>\n",
       "      <td>1204 WATER ST PO BOX 177</td>\n",
       "      <td>ALDEN</td>\n",
       "      <td>POINT (-93.376271 42.520423)</td>\n",
       "      <td>IMPORTED VODKA</td>\n",
       "      <td>Pernod Ricard USA/Austin Nichols</td>\n",
       "      <td>Absolut Swedish Vodka 80 Prf</td>\n",
       "      <td>12</td>\n",
       "      <td>1000</td>\n",
       "      <td>22.34</td>\n",
       "      <td>6</td>\n",
       "      <td>134.04</td>\n",
       "      <td>ALDEN</td>\n",
       "    </tr>\n",
       "    <tr>\n",
       "      <th>2012-01-03</th>\n",
       "      <td>Save A Lot  #482</td>\n",
       "      <td>2122 MAIN ST</td>\n",
       "      <td>KEOKUK</td>\n",
       "      <td>POINT (-91.39688800000002 40.408821)</td>\n",
       "      <td>IMPORTED VODKA</td>\n",
       "      <td>Bacardi U.S.A., Inc.</td>\n",
       "      <td>Grey Goose Vodka</td>\n",
       "      <td>6</td>\n",
       "      <td>1000</td>\n",
       "      <td>32.66</td>\n",
       "      <td>6</td>\n",
       "      <td>195.96</td>\n",
       "      <td>KEOKUK</td>\n",
       "    </tr>\n",
       "    <tr>\n",
       "      <th>2012-01-03</th>\n",
       "      <td>Hy-Vee Wine and Spirits / Hubbell</td>\n",
       "      <td>2310 HUBBELL AVE</td>\n",
       "      <td>DES MOINES</td>\n",
       "      <td>POINT (-93.573845 41.604312)</td>\n",
       "      <td>IMPORTED SCHNAPPS</td>\n",
       "      <td>Diageo Americas</td>\n",
       "      <td>Rumple Minze Peppermint Schnapps Liqueur Mini</td>\n",
       "      <td>8</td>\n",
       "      <td>800</td>\n",
       "      <td>30.17</td>\n",
       "      <td>1</td>\n",
       "      <td>30.17</td>\n",
       "      <td>DES MOINES</td>\n",
       "    </tr>\n",
       "  </tbody>\n",
       "</table>\n",
       "</div>"
      ],
      "text/plain": [
       "                                    store_name                   address  \\\n",
       "date                                                                       \n",
       "2012-01-03  Hartig Drug Co. / JFK Rd / Dubuque    2255 JOHN F KENNEDY RD   \n",
       "2012-01-03          Hy-Vee Food Store / Keokuk                 3111 MAIN   \n",
       "2012-01-03                    Shamrock Spirits  1204 WATER ST PO BOX 177   \n",
       "2012-01-03                    Save A Lot  #482              2122 MAIN ST   \n",
       "2012-01-03   Hy-Vee Wine and Spirits / Hubbell          2310 HUBBELL AVE   \n",
       "\n",
       "                  city                        store_location  \\\n",
       "date                                                           \n",
       "2012-01-03     DUBUQUE  POINT (-90.72051800000001 42.511352)   \n",
       "2012-01-03      KEOKUK           POINT (-91.403752 40.41538)   \n",
       "2012-01-03       ALDEN          POINT (-93.376271 42.520423)   \n",
       "2012-01-03      KEOKUK  POINT (-91.39688800000002 40.408821)   \n",
       "2012-01-03  DES MOINES          POINT (-93.573845 41.604312)   \n",
       "\n",
       "                category_name                       vendor_name  \\\n",
       "date                                                              \n",
       "2012-01-03   BLENDED WHISKIES                   Diageo Americas   \n",
       "2012-01-03     VODKA FLAVORED                   Jim Beam Brands   \n",
       "2012-01-03     IMPORTED VODKA  Pernod Ricard USA/Austin Nichols   \n",
       "2012-01-03     IMPORTED VODKA              Bacardi U.S.A., Inc.   \n",
       "2012-01-03  IMPORTED SCHNAPPS                   Diageo Americas   \n",
       "\n",
       "                                         item_description  pack  \\\n",
       "date                                                              \n",
       "2012-01-03                    Seagrams 7 Crown Bl Whiskey    24   \n",
       "2012-01-03                 Pucker Vodka 50ml Gravity Feed     3   \n",
       "2012-01-03                   Absolut Swedish Vodka 80 Prf    12   \n",
       "2012-01-03                               Grey Goose Vodka     6   \n",
       "2012-01-03  Rumple Minze Peppermint Schnapps Liqueur Mini     8   \n",
       "\n",
       "            bottle_volume_ml  state_bottle_retail  bottles_sold  sale_dollars  \\\n",
       "date                                                                            \n",
       "2012-01-03               375                 5.00            24        120.00   \n",
       "2012-01-03              2000                40.02             1         40.02   \n",
       "2012-01-03              1000                22.34             6        134.04   \n",
       "2012-01-03              1000                32.66             6        195.96   \n",
       "2012-01-03               800                30.17             1         30.17   \n",
       "\n",
       "                  kota  \n",
       "date                    \n",
       "2012-01-03     DUBUQUE  \n",
       "2012-01-03      KEOKUK  \n",
       "2012-01-03       ALDEN  \n",
       "2012-01-03      KEOKUK  \n",
       "2012-01-03  DES MOINES  "
      ]
     },
     "execution_count": 58,
     "metadata": {},
     "output_type": "execute_result"
    }
   ],
   "source": [
    "dataframe['kota'] = dataframe['city'].astype(str)\n",
    "dataframe.head()"
   ]
  },
  {
   "cell_type": "code",
   "execution_count": 59,
   "id": "3d4c62fa",
   "metadata": {},
   "outputs": [],
   "source": [
    "dataframe['kota'] = dataframe['kota'].str.title()"
   ]
  },
  {
   "cell_type": "code",
   "execution_count": 60,
   "id": "4e73dcaa",
   "metadata": {},
   "outputs": [
    {
     "data": {
      "text/plain": [
       "date\n",
       "2012-01-03          Dubuque\n",
       "2012-01-03           Keokuk\n",
       "2012-01-03            Alden\n",
       "2012-01-03           Keokuk\n",
       "2012-01-03       Des Moines\n",
       "                  ...      \n",
       "2022-06-30             Ames\n",
       "2022-06-30             Ames\n",
       "2022-06-30    Pleasant Hill\n",
       "2022-06-30         Waterloo\n",
       "2022-06-30         Waterloo\n",
       "Name: kota, Length: 2251390, dtype: object"
      ]
     },
     "execution_count": 60,
     "metadata": {},
     "output_type": "execute_result"
    }
   ],
   "source": [
    "dataframe['kota']"
   ]
  },
  {
   "cell_type": "code",
   "execution_count": 61,
   "id": "4020bd81",
   "metadata": {},
   "outputs": [],
   "source": [
    "# Make sure the column types is string\n",
    "dataframe['city'] = dataframe['city'].astype(str)\n",
    "dataframe['category_name'] = dataframe['category_name'].astype(str)\n",
    "dataframe['item_description'] = dataframe['item_description'].astype(str)\n",
    "\n",
    "# Change string values to title case\n",
    "dataframe['city'] = dataframe['city'].str.title()\n",
    "dataframe['category_name'] = dataframe['category_name'].str.title()\n",
    "dataframe['item_description'] = dataframe['item_description'].str.title()"
   ]
  },
  {
   "cell_type": "code",
   "execution_count": 62,
   "id": "e56386ea",
   "metadata": {},
   "outputs": [
    {
     "data": {
      "text/html": [
       "<div>\n",
       "<style scoped>\n",
       "    .dataframe tbody tr th:only-of-type {\n",
       "        vertical-align: middle;\n",
       "    }\n",
       "\n",
       "    .dataframe tbody tr th {\n",
       "        vertical-align: top;\n",
       "    }\n",
       "\n",
       "    .dataframe thead th {\n",
       "        text-align: right;\n",
       "    }\n",
       "</style>\n",
       "<table border=\"1\" class=\"dataframe\">\n",
       "  <thead>\n",
       "    <tr style=\"text-align: right;\">\n",
       "      <th></th>\n",
       "      <th>store_name</th>\n",
       "      <th>address</th>\n",
       "      <th>city</th>\n",
       "      <th>store_location</th>\n",
       "      <th>category_name</th>\n",
       "      <th>vendor_name</th>\n",
       "      <th>item_description</th>\n",
       "      <th>pack</th>\n",
       "      <th>bottle_volume_ml</th>\n",
       "      <th>state_bottle_retail</th>\n",
       "      <th>bottles_sold</th>\n",
       "      <th>sale_dollars</th>\n",
       "    </tr>\n",
       "    <tr>\n",
       "      <th>date</th>\n",
       "      <th></th>\n",
       "      <th></th>\n",
       "      <th></th>\n",
       "      <th></th>\n",
       "      <th></th>\n",
       "      <th></th>\n",
       "      <th></th>\n",
       "      <th></th>\n",
       "      <th></th>\n",
       "      <th></th>\n",
       "      <th></th>\n",
       "      <th></th>\n",
       "    </tr>\n",
       "  </thead>\n",
       "  <tbody>\n",
       "    <tr>\n",
       "      <th>2012-01-03</th>\n",
       "      <td>Hartig Drug Co. / JFK Rd / Dubuque</td>\n",
       "      <td>2255 JOHN F KENNEDY RD</td>\n",
       "      <td>Dubuque</td>\n",
       "      <td>POINT (-90.72051800000001 42.511352)</td>\n",
       "      <td>Blended Whiskies</td>\n",
       "      <td>Diageo Americas</td>\n",
       "      <td>Seagrams 7 Crown Bl Whiskey</td>\n",
       "      <td>24</td>\n",
       "      <td>375</td>\n",
       "      <td>5.00</td>\n",
       "      <td>24</td>\n",
       "      <td>120.00</td>\n",
       "    </tr>\n",
       "    <tr>\n",
       "      <th>2012-01-03</th>\n",
       "      <td>Hy-Vee Food Store / Keokuk</td>\n",
       "      <td>3111 MAIN</td>\n",
       "      <td>Keokuk</td>\n",
       "      <td>POINT (-91.403752 40.41538)</td>\n",
       "      <td>Vodka Flavored</td>\n",
       "      <td>Jim Beam Brands</td>\n",
       "      <td>Pucker Vodka 50Ml Gravity Feed</td>\n",
       "      <td>3</td>\n",
       "      <td>2000</td>\n",
       "      <td>40.02</td>\n",
       "      <td>1</td>\n",
       "      <td>40.02</td>\n",
       "    </tr>\n",
       "    <tr>\n",
       "      <th>2012-01-03</th>\n",
       "      <td>Shamrock Spirits</td>\n",
       "      <td>1204 WATER ST PO BOX 177</td>\n",
       "      <td>Alden</td>\n",
       "      <td>POINT (-93.376271 42.520423)</td>\n",
       "      <td>Imported Vodka</td>\n",
       "      <td>Pernod Ricard USA/Austin Nichols</td>\n",
       "      <td>Absolut Swedish Vodka 80 Prf</td>\n",
       "      <td>12</td>\n",
       "      <td>1000</td>\n",
       "      <td>22.34</td>\n",
       "      <td>6</td>\n",
       "      <td>134.04</td>\n",
       "    </tr>\n",
       "    <tr>\n",
       "      <th>2012-01-03</th>\n",
       "      <td>Save A Lot  #482</td>\n",
       "      <td>2122 MAIN ST</td>\n",
       "      <td>Keokuk</td>\n",
       "      <td>POINT (-91.39688800000002 40.408821)</td>\n",
       "      <td>Imported Vodka</td>\n",
       "      <td>Bacardi U.S.A., Inc.</td>\n",
       "      <td>Grey Goose Vodka</td>\n",
       "      <td>6</td>\n",
       "      <td>1000</td>\n",
       "      <td>32.66</td>\n",
       "      <td>6</td>\n",
       "      <td>195.96</td>\n",
       "    </tr>\n",
       "    <tr>\n",
       "      <th>2012-01-03</th>\n",
       "      <td>Hy-Vee Wine and Spirits / Hubbell</td>\n",
       "      <td>2310 HUBBELL AVE</td>\n",
       "      <td>Des Moines</td>\n",
       "      <td>POINT (-93.573845 41.604312)</td>\n",
       "      <td>Imported Schnapps</td>\n",
       "      <td>Diageo Americas</td>\n",
       "      <td>Rumple Minze Peppermint Schnapps Liqueur Mini</td>\n",
       "      <td>8</td>\n",
       "      <td>800</td>\n",
       "      <td>30.17</td>\n",
       "      <td>1</td>\n",
       "      <td>30.17</td>\n",
       "    </tr>\n",
       "  </tbody>\n",
       "</table>\n",
       "</div>"
      ],
      "text/plain": [
       "                                    store_name                   address  \\\n",
       "date                                                                       \n",
       "2012-01-03  Hartig Drug Co. / JFK Rd / Dubuque    2255 JOHN F KENNEDY RD   \n",
       "2012-01-03          Hy-Vee Food Store / Keokuk                 3111 MAIN   \n",
       "2012-01-03                    Shamrock Spirits  1204 WATER ST PO BOX 177   \n",
       "2012-01-03                    Save A Lot  #482              2122 MAIN ST   \n",
       "2012-01-03   Hy-Vee Wine and Spirits / Hubbell          2310 HUBBELL AVE   \n",
       "\n",
       "                  city                        store_location  \\\n",
       "date                                                           \n",
       "2012-01-03     Dubuque  POINT (-90.72051800000001 42.511352)   \n",
       "2012-01-03      Keokuk           POINT (-91.403752 40.41538)   \n",
       "2012-01-03       Alden          POINT (-93.376271 42.520423)   \n",
       "2012-01-03      Keokuk  POINT (-91.39688800000002 40.408821)   \n",
       "2012-01-03  Des Moines          POINT (-93.573845 41.604312)   \n",
       "\n",
       "                category_name                       vendor_name  \\\n",
       "date                                                              \n",
       "2012-01-03   Blended Whiskies                   Diageo Americas   \n",
       "2012-01-03     Vodka Flavored                   Jim Beam Brands   \n",
       "2012-01-03     Imported Vodka  Pernod Ricard USA/Austin Nichols   \n",
       "2012-01-03     Imported Vodka              Bacardi U.S.A., Inc.   \n",
       "2012-01-03  Imported Schnapps                   Diageo Americas   \n",
       "\n",
       "                                         item_description  pack  \\\n",
       "date                                                              \n",
       "2012-01-03                    Seagrams 7 Crown Bl Whiskey    24   \n",
       "2012-01-03                 Pucker Vodka 50Ml Gravity Feed     3   \n",
       "2012-01-03                   Absolut Swedish Vodka 80 Prf    12   \n",
       "2012-01-03                               Grey Goose Vodka     6   \n",
       "2012-01-03  Rumple Minze Peppermint Schnapps Liqueur Mini     8   \n",
       "\n",
       "            bottle_volume_ml  state_bottle_retail  bottles_sold  sale_dollars  \n",
       "date                                                                           \n",
       "2012-01-03               375                 5.00            24        120.00  \n",
       "2012-01-03              2000                40.02             1         40.02  \n",
       "2012-01-03              1000                22.34             6        134.04  \n",
       "2012-01-03              1000                32.66             6        195.96  \n",
       "2012-01-03               800                30.17             1         30.17  "
      ]
     },
     "execution_count": 62,
     "metadata": {},
     "output_type": "execute_result"
    }
   ],
   "source": [
    "dataframe.drop(columns=['kota'], inplace=True)\n",
    "dataframe.head()"
   ]
  },
  {
   "cell_type": "markdown",
   "id": "98f1bd1e",
   "metadata": {},
   "source": [
    "#### Split the values of <i>store location</i> columns into latitude and longitude"
   ]
  },
  {
   "cell_type": "code",
   "execution_count": 63,
   "id": "f272f731",
   "metadata": {},
   "outputs": [
    {
     "data": {
      "text/plain": [
       "array(['POINT (-90.72051800000001 42.511352)',\n",
       "       'POINT (-91.403752 40.41538)', 'POINT (-93.376271 42.520423)', ...,\n",
       "       'POINT (-92.219401 42.466286)', 'POINT (-91.801676 40.699004)',\n",
       "       'POINT (-91.100819 40.811941)'], dtype=object)"
      ]
     },
     "execution_count": 63,
     "metadata": {},
     "output_type": "execute_result"
    }
   ],
   "source": [
    "dataframe['store_location'].unique()"
   ]
  },
  {
   "cell_type": "code",
   "execution_count": 64,
   "id": "e2b9857c",
   "metadata": {},
   "outputs": [
    {
     "data": {
      "text/plain": [
       "3145"
      ]
     },
     "execution_count": 64,
     "metadata": {},
     "output_type": "execute_result"
    }
   ],
   "source": [
    "dataframe['store_location'].nunique()"
   ]
  },
  {
   "cell_type": "markdown",
   "id": "a0792d84",
   "metadata": {},
   "source": [
    "```NOTE```"
   ]
  },
  {
   "cell_type": "markdown",
   "id": "a509aa59",
   "metadata": {},
   "source": [
    "#### Remove characters with slicing on <i>store location</i> column\n",
    "- Remove ```POINT ``` string in ```store_location``` column, take only the map location of latitude and longitude"
   ]
  },
  {
   "cell_type": "code",
   "execution_count": 65,
   "id": "e3afbade",
   "metadata": {},
   "outputs": [
    {
     "data": {
      "text/html": [
       "<div>\n",
       "<style scoped>\n",
       "    .dataframe tbody tr th:only-of-type {\n",
       "        vertical-align: middle;\n",
       "    }\n",
       "\n",
       "    .dataframe tbody tr th {\n",
       "        vertical-align: top;\n",
       "    }\n",
       "\n",
       "    .dataframe thead th {\n",
       "        text-align: right;\n",
       "    }\n",
       "</style>\n",
       "<table border=\"1\" class=\"dataframe\">\n",
       "  <thead>\n",
       "    <tr style=\"text-align: right;\">\n",
       "      <th></th>\n",
       "      <th>store_name</th>\n",
       "      <th>address</th>\n",
       "      <th>city</th>\n",
       "      <th>store_location</th>\n",
       "      <th>category_name</th>\n",
       "      <th>vendor_name</th>\n",
       "      <th>item_description</th>\n",
       "      <th>pack</th>\n",
       "      <th>bottle_volume_ml</th>\n",
       "      <th>state_bottle_retail</th>\n",
       "      <th>bottles_sold</th>\n",
       "      <th>sale_dollars</th>\n",
       "      <th>map_location</th>\n",
       "    </tr>\n",
       "    <tr>\n",
       "      <th>date</th>\n",
       "      <th></th>\n",
       "      <th></th>\n",
       "      <th></th>\n",
       "      <th></th>\n",
       "      <th></th>\n",
       "      <th></th>\n",
       "      <th></th>\n",
       "      <th></th>\n",
       "      <th></th>\n",
       "      <th></th>\n",
       "      <th></th>\n",
       "      <th></th>\n",
       "      <th></th>\n",
       "    </tr>\n",
       "  </thead>\n",
       "  <tbody>\n",
       "    <tr>\n",
       "      <th>2012-01-03</th>\n",
       "      <td>Hartig Drug Co. / JFK Rd / Dubuque</td>\n",
       "      <td>2255 JOHN F KENNEDY RD</td>\n",
       "      <td>Dubuque</td>\n",
       "      <td>POINT (-90.72051800000001 42.511352)</td>\n",
       "      <td>Blended Whiskies</td>\n",
       "      <td>Diageo Americas</td>\n",
       "      <td>Seagrams 7 Crown Bl Whiskey</td>\n",
       "      <td>24</td>\n",
       "      <td>375</td>\n",
       "      <td>5.00</td>\n",
       "      <td>24</td>\n",
       "      <td>120.00</td>\n",
       "      <td>-90.72051800000001 42.511352)</td>\n",
       "    </tr>\n",
       "    <tr>\n",
       "      <th>2012-01-03</th>\n",
       "      <td>Hy-Vee Food Store / Keokuk</td>\n",
       "      <td>3111 MAIN</td>\n",
       "      <td>Keokuk</td>\n",
       "      <td>POINT (-91.403752 40.41538)</td>\n",
       "      <td>Vodka Flavored</td>\n",
       "      <td>Jim Beam Brands</td>\n",
       "      <td>Pucker Vodka 50Ml Gravity Feed</td>\n",
       "      <td>3</td>\n",
       "      <td>2000</td>\n",
       "      <td>40.02</td>\n",
       "      <td>1</td>\n",
       "      <td>40.02</td>\n",
       "      <td>-91.403752 40.41538)</td>\n",
       "    </tr>\n",
       "    <tr>\n",
       "      <th>2012-01-03</th>\n",
       "      <td>Shamrock Spirits</td>\n",
       "      <td>1204 WATER ST PO BOX 177</td>\n",
       "      <td>Alden</td>\n",
       "      <td>POINT (-93.376271 42.520423)</td>\n",
       "      <td>Imported Vodka</td>\n",
       "      <td>Pernod Ricard USA/Austin Nichols</td>\n",
       "      <td>Absolut Swedish Vodka 80 Prf</td>\n",
       "      <td>12</td>\n",
       "      <td>1000</td>\n",
       "      <td>22.34</td>\n",
       "      <td>6</td>\n",
       "      <td>134.04</td>\n",
       "      <td>-93.376271 42.520423)</td>\n",
       "    </tr>\n",
       "    <tr>\n",
       "      <th>2012-01-03</th>\n",
       "      <td>Save A Lot  #482</td>\n",
       "      <td>2122 MAIN ST</td>\n",
       "      <td>Keokuk</td>\n",
       "      <td>POINT (-91.39688800000002 40.408821)</td>\n",
       "      <td>Imported Vodka</td>\n",
       "      <td>Bacardi U.S.A., Inc.</td>\n",
       "      <td>Grey Goose Vodka</td>\n",
       "      <td>6</td>\n",
       "      <td>1000</td>\n",
       "      <td>32.66</td>\n",
       "      <td>6</td>\n",
       "      <td>195.96</td>\n",
       "      <td>-91.39688800000002 40.408821)</td>\n",
       "    </tr>\n",
       "    <tr>\n",
       "      <th>2012-01-03</th>\n",
       "      <td>Hy-Vee Wine and Spirits / Hubbell</td>\n",
       "      <td>2310 HUBBELL AVE</td>\n",
       "      <td>Des Moines</td>\n",
       "      <td>POINT (-93.573845 41.604312)</td>\n",
       "      <td>Imported Schnapps</td>\n",
       "      <td>Diageo Americas</td>\n",
       "      <td>Rumple Minze Peppermint Schnapps Liqueur Mini</td>\n",
       "      <td>8</td>\n",
       "      <td>800</td>\n",
       "      <td>30.17</td>\n",
       "      <td>1</td>\n",
       "      <td>30.17</td>\n",
       "      <td>-93.573845 41.604312)</td>\n",
       "    </tr>\n",
       "  </tbody>\n",
       "</table>\n",
       "</div>"
      ],
      "text/plain": [
       "                                    store_name                   address  \\\n",
       "date                                                                       \n",
       "2012-01-03  Hartig Drug Co. / JFK Rd / Dubuque    2255 JOHN F KENNEDY RD   \n",
       "2012-01-03          Hy-Vee Food Store / Keokuk                 3111 MAIN   \n",
       "2012-01-03                    Shamrock Spirits  1204 WATER ST PO BOX 177   \n",
       "2012-01-03                    Save A Lot  #482              2122 MAIN ST   \n",
       "2012-01-03   Hy-Vee Wine and Spirits / Hubbell          2310 HUBBELL AVE   \n",
       "\n",
       "                  city                        store_location  \\\n",
       "date                                                           \n",
       "2012-01-03     Dubuque  POINT (-90.72051800000001 42.511352)   \n",
       "2012-01-03      Keokuk           POINT (-91.403752 40.41538)   \n",
       "2012-01-03       Alden          POINT (-93.376271 42.520423)   \n",
       "2012-01-03      Keokuk  POINT (-91.39688800000002 40.408821)   \n",
       "2012-01-03  Des Moines          POINT (-93.573845 41.604312)   \n",
       "\n",
       "                category_name                       vendor_name  \\\n",
       "date                                                              \n",
       "2012-01-03   Blended Whiskies                   Diageo Americas   \n",
       "2012-01-03     Vodka Flavored                   Jim Beam Brands   \n",
       "2012-01-03     Imported Vodka  Pernod Ricard USA/Austin Nichols   \n",
       "2012-01-03     Imported Vodka              Bacardi U.S.A., Inc.   \n",
       "2012-01-03  Imported Schnapps                   Diageo Americas   \n",
       "\n",
       "                                         item_description  pack  \\\n",
       "date                                                              \n",
       "2012-01-03                    Seagrams 7 Crown Bl Whiskey    24   \n",
       "2012-01-03                 Pucker Vodka 50Ml Gravity Feed     3   \n",
       "2012-01-03                   Absolut Swedish Vodka 80 Prf    12   \n",
       "2012-01-03                               Grey Goose Vodka     6   \n",
       "2012-01-03  Rumple Minze Peppermint Schnapps Liqueur Mini     8   \n",
       "\n",
       "            bottle_volume_ml  state_bottle_retail  bottles_sold  sale_dollars  \\\n",
       "date                                                                            \n",
       "2012-01-03               375                 5.00            24        120.00   \n",
       "2012-01-03              2000                40.02             1         40.02   \n",
       "2012-01-03              1000                22.34             6        134.04   \n",
       "2012-01-03              1000                32.66             6        195.96   \n",
       "2012-01-03               800                30.17             1         30.17   \n",
       "\n",
       "                             map_location  \n",
       "date                                       \n",
       "2012-01-03  -90.72051800000001 42.511352)  \n",
       "2012-01-03           -91.403752 40.41538)  \n",
       "2012-01-03          -93.376271 42.520423)  \n",
       "2012-01-03  -91.39688800000002 40.408821)  \n",
       "2012-01-03          -93.573845 41.604312)  "
      ]
     },
     "execution_count": 65,
     "metadata": {},
     "output_type": "execute_result"
    }
   ],
   "source": [
    "dataframe['map_location'] = dataframe['store_location'].str[7:]\n",
    "dataframe.head()"
   ]
  },
  {
   "cell_type": "markdown",
   "id": "87437f46",
   "metadata": {},
   "source": [
    "#### Create new columns <i>latitude</i> and <i>longitude</i>"
   ]
  },
  {
   "cell_type": "code",
   "execution_count": 66,
   "id": "45909162",
   "metadata": {},
   "outputs": [
    {
     "data": {
      "text/plain": [
       "array(['-90.720518', '-91.403752', '-93.376271', ..., '-91.948629',\n",
       "       '-91.801676', '-91.100819'], dtype=object)"
      ]
     },
     "execution_count": 66,
     "metadata": {},
     "output_type": "execute_result"
    }
   ],
   "source": [
    "# Apply slicing to fetch value that only contain latitudes from map_location column\n",
    "dataframe['latitude'] = dataframe['map_location'].str[:10]\n",
    "dataframe['latitude'].unique()"
   ]
  },
  {
   "cell_type": "code",
   "execution_count": 67,
   "id": "6dcf1236",
   "metadata": {},
   "outputs": [
    {
     "data": {
      "text/plain": [
       "array(['0000001 42.511352', '40.41538', '42.520423', ..., '42.466286',\n",
       "       '40.699004', '40.811941'], dtype=object)"
      ]
     },
     "execution_count": 67,
     "metadata": {},
     "output_type": "execute_result"
    }
   ],
   "source": [
    "# Apply slicing to fetch value that only contain longitudes from map_location column\n",
    "dataframe['longitude'] = dataframe['map_location'].str[11:-1]\n",
    "dataframe['longitude'].unique()"
   ]
  },
  {
   "cell_type": "markdown",
   "id": "08bd6ed0",
   "metadata": {},
   "source": [
    "#### Drop columns <i>store_location</i> and <i>map_location</i>\n",
    "- We want only fetch information of latitudes and longitudes by separated new columns"
   ]
  },
  {
   "cell_type": "code",
   "execution_count": 68,
   "id": "f01ca5e8",
   "metadata": {},
   "outputs": [
    {
     "data": {
      "text/html": [
       "<div>\n",
       "<style scoped>\n",
       "    .dataframe tbody tr th:only-of-type {\n",
       "        vertical-align: middle;\n",
       "    }\n",
       "\n",
       "    .dataframe tbody tr th {\n",
       "        vertical-align: top;\n",
       "    }\n",
       "\n",
       "    .dataframe thead th {\n",
       "        text-align: right;\n",
       "    }\n",
       "</style>\n",
       "<table border=\"1\" class=\"dataframe\">\n",
       "  <thead>\n",
       "    <tr style=\"text-align: right;\">\n",
       "      <th></th>\n",
       "      <th>store_name</th>\n",
       "      <th>address</th>\n",
       "      <th>city</th>\n",
       "      <th>category_name</th>\n",
       "      <th>vendor_name</th>\n",
       "      <th>item_description</th>\n",
       "      <th>pack</th>\n",
       "      <th>bottle_volume_ml</th>\n",
       "      <th>state_bottle_retail</th>\n",
       "      <th>bottles_sold</th>\n",
       "      <th>sale_dollars</th>\n",
       "      <th>latitude</th>\n",
       "      <th>longitude</th>\n",
       "    </tr>\n",
       "    <tr>\n",
       "      <th>date</th>\n",
       "      <th></th>\n",
       "      <th></th>\n",
       "      <th></th>\n",
       "      <th></th>\n",
       "      <th></th>\n",
       "      <th></th>\n",
       "      <th></th>\n",
       "      <th></th>\n",
       "      <th></th>\n",
       "      <th></th>\n",
       "      <th></th>\n",
       "      <th></th>\n",
       "      <th></th>\n",
       "    </tr>\n",
       "  </thead>\n",
       "  <tbody>\n",
       "    <tr>\n",
       "      <th>2012-01-03</th>\n",
       "      <td>Hartig Drug Co. / JFK Rd / Dubuque</td>\n",
       "      <td>2255 JOHN F KENNEDY RD</td>\n",
       "      <td>Dubuque</td>\n",
       "      <td>Blended Whiskies</td>\n",
       "      <td>Diageo Americas</td>\n",
       "      <td>Seagrams 7 Crown Bl Whiskey</td>\n",
       "      <td>24</td>\n",
       "      <td>375</td>\n",
       "      <td>5.00</td>\n",
       "      <td>24</td>\n",
       "      <td>120.00</td>\n",
       "      <td>-90.720518</td>\n",
       "      <td>0000001 42.511352</td>\n",
       "    </tr>\n",
       "    <tr>\n",
       "      <th>2012-01-03</th>\n",
       "      <td>Hy-Vee Food Store / Keokuk</td>\n",
       "      <td>3111 MAIN</td>\n",
       "      <td>Keokuk</td>\n",
       "      <td>Vodka Flavored</td>\n",
       "      <td>Jim Beam Brands</td>\n",
       "      <td>Pucker Vodka 50Ml Gravity Feed</td>\n",
       "      <td>3</td>\n",
       "      <td>2000</td>\n",
       "      <td>40.02</td>\n",
       "      <td>1</td>\n",
       "      <td>40.02</td>\n",
       "      <td>-91.403752</td>\n",
       "      <td>40.41538</td>\n",
       "    </tr>\n",
       "    <tr>\n",
       "      <th>2012-01-03</th>\n",
       "      <td>Shamrock Spirits</td>\n",
       "      <td>1204 WATER ST PO BOX 177</td>\n",
       "      <td>Alden</td>\n",
       "      <td>Imported Vodka</td>\n",
       "      <td>Pernod Ricard USA/Austin Nichols</td>\n",
       "      <td>Absolut Swedish Vodka 80 Prf</td>\n",
       "      <td>12</td>\n",
       "      <td>1000</td>\n",
       "      <td>22.34</td>\n",
       "      <td>6</td>\n",
       "      <td>134.04</td>\n",
       "      <td>-93.376271</td>\n",
       "      <td>42.520423</td>\n",
       "    </tr>\n",
       "    <tr>\n",
       "      <th>2012-01-03</th>\n",
       "      <td>Save A Lot  #482</td>\n",
       "      <td>2122 MAIN ST</td>\n",
       "      <td>Keokuk</td>\n",
       "      <td>Imported Vodka</td>\n",
       "      <td>Bacardi U.S.A., Inc.</td>\n",
       "      <td>Grey Goose Vodka</td>\n",
       "      <td>6</td>\n",
       "      <td>1000</td>\n",
       "      <td>32.66</td>\n",
       "      <td>6</td>\n",
       "      <td>195.96</td>\n",
       "      <td>-91.396888</td>\n",
       "      <td>0000002 40.408821</td>\n",
       "    </tr>\n",
       "    <tr>\n",
       "      <th>2012-01-03</th>\n",
       "      <td>Hy-Vee Wine and Spirits / Hubbell</td>\n",
       "      <td>2310 HUBBELL AVE</td>\n",
       "      <td>Des Moines</td>\n",
       "      <td>Imported Schnapps</td>\n",
       "      <td>Diageo Americas</td>\n",
       "      <td>Rumple Minze Peppermint Schnapps Liqueur Mini</td>\n",
       "      <td>8</td>\n",
       "      <td>800</td>\n",
       "      <td>30.17</td>\n",
       "      <td>1</td>\n",
       "      <td>30.17</td>\n",
       "      <td>-93.573845</td>\n",
       "      <td>41.604312</td>\n",
       "    </tr>\n",
       "  </tbody>\n",
       "</table>\n",
       "</div>"
      ],
      "text/plain": [
       "                                    store_name                   address  \\\n",
       "date                                                                       \n",
       "2012-01-03  Hartig Drug Co. / JFK Rd / Dubuque    2255 JOHN F KENNEDY RD   \n",
       "2012-01-03          Hy-Vee Food Store / Keokuk                 3111 MAIN   \n",
       "2012-01-03                    Shamrock Spirits  1204 WATER ST PO BOX 177   \n",
       "2012-01-03                    Save A Lot  #482              2122 MAIN ST   \n",
       "2012-01-03   Hy-Vee Wine and Spirits / Hubbell          2310 HUBBELL AVE   \n",
       "\n",
       "                  city      category_name                       vendor_name  \\\n",
       "date                                                                          \n",
       "2012-01-03     Dubuque   Blended Whiskies                   Diageo Americas   \n",
       "2012-01-03      Keokuk     Vodka Flavored                   Jim Beam Brands   \n",
       "2012-01-03       Alden     Imported Vodka  Pernod Ricard USA/Austin Nichols   \n",
       "2012-01-03      Keokuk     Imported Vodka              Bacardi U.S.A., Inc.   \n",
       "2012-01-03  Des Moines  Imported Schnapps                   Diageo Americas   \n",
       "\n",
       "                                         item_description  pack  \\\n",
       "date                                                              \n",
       "2012-01-03                    Seagrams 7 Crown Bl Whiskey    24   \n",
       "2012-01-03                 Pucker Vodka 50Ml Gravity Feed     3   \n",
       "2012-01-03                   Absolut Swedish Vodka 80 Prf    12   \n",
       "2012-01-03                               Grey Goose Vodka     6   \n",
       "2012-01-03  Rumple Minze Peppermint Schnapps Liqueur Mini     8   \n",
       "\n",
       "            bottle_volume_ml  state_bottle_retail  bottles_sold  sale_dollars  \\\n",
       "date                                                                            \n",
       "2012-01-03               375                 5.00            24        120.00   \n",
       "2012-01-03              2000                40.02             1         40.02   \n",
       "2012-01-03              1000                22.34             6        134.04   \n",
       "2012-01-03              1000                32.66             6        195.96   \n",
       "2012-01-03               800                30.17             1         30.17   \n",
       "\n",
       "              latitude          longitude  \n",
       "date                                       \n",
       "2012-01-03  -90.720518  0000001 42.511352  \n",
       "2012-01-03  -91.403752           40.41538  \n",
       "2012-01-03  -93.376271          42.520423  \n",
       "2012-01-03  -91.396888  0000002 40.408821  \n",
       "2012-01-03  -93.573845          41.604312  "
      ]
     },
     "execution_count": 68,
     "metadata": {},
     "output_type": "execute_result"
    }
   ],
   "source": [
    "dataframe.drop(columns=['store_location', 'map_location'], inplace=True)\n",
    "dataframe.head()"
   ]
  },
  {
   "cell_type": "code",
   "execution_count": 69,
   "id": "0bca409a",
   "metadata": {},
   "outputs": [
    {
     "data": {
      "text/plain": [
       "(2251390, 13)"
      ]
     },
     "execution_count": 69,
     "metadata": {},
     "output_type": "execute_result"
    }
   ],
   "source": [
    "dataframe.shape"
   ]
  },
  {
   "cell_type": "markdown",
   "id": "c1a45536",
   "metadata": {},
   "source": [
    "```NOTE```"
   ]
  },
  {
   "cell_type": "markdown",
   "id": "f48550f5",
   "metadata": {},
   "source": [
    "## Analyze Data\n",
    "\n",
    "### Descriptive Analytics\n",
    "- In this section we want to do some descriptive analytics such as:\n",
    "1. Trend ordered liquors for each city\n",
    "2. How many liquors ordered each year\n",
    "3. What liquor are most sold\n",
    "4. What city most ordered liquor\n",
    "5. What kind of liquor most ordered (vodka/beer/coffee/etc.)"
   ]
  },
  {
   "cell_type": "markdown",
   "id": "eb96a6ef",
   "metadata": {},
   "source": [
    "#### 1. Trend ordered liquors for each city\n",
    "- We want to see what brand of liquors most ordered for each city (<i>show 10 city with largest amount of liquor ordered</i>)"
   ]
  },
  {
   "cell_type": "code",
   "execution_count": 70,
   "id": "33aec2aa",
   "metadata": {},
   "outputs": [
    {
     "data": {
      "text/plain": [
       "city          item_description                \n",
       "Des Moines    Black Velvet                        84174\n",
       "              Fireball Cinnamon Whiskey           72198\n",
       "Cedar Rapids  Black Velvet                        64662\n",
       "              Hawkeye Vodka                       55296\n",
       "Des Moines    Hawkeye Vodka                       54420\n",
       "                                                  ...  \n",
       "Glenwood      Tooters Rainbow Pack                    1\n",
       "Dubuque       99 Brand Cherry Limeade Pet Mini        1\n",
       "Spencer       Blue Ox Vodka Mini                      1\n",
       "Dubuque       99 Brand Candy Canes                    1\n",
       "Sac City      99 Grapes Pet Mini                      1\n",
       "Name: pack, Length: 224065, dtype: Int64"
      ]
     },
     "execution_count": 70,
     "metadata": {},
     "output_type": "execute_result"
    }
   ],
   "source": [
    "dataframe.groupby(['city', 'item_description'])['pack'].sum().sort_values(ascending=False)"
   ]
  },
  {
   "cell_type": "code",
   "execution_count": 71,
   "id": "8f4bc930",
   "metadata": {},
   "outputs": [
    {
     "data": {
      "text/plain": [
       "<AxesSubplot:xlabel='city,item_description'>"
      ]
     },
     "execution_count": 71,
     "metadata": {},
     "output_type": "execute_result"
    },
    {
     "data": {
      "image/png": "[encoded data removed]",
      "text/plain": [
       "<Figure size 432x288 with 1 Axes>"
      ]
     },
     "metadata": {
      "needs_background": "light"
     },
     "output_type": "display_data"
    }
   ],
   "source": [
    "dataframe.groupby(['city', 'item_description'])['pack'].sum().sort_values(ascending=False).head(10).plot.bar()"
   ]
  },
  {
   "cell_type": "markdown",
   "id": "cc1c915e",
   "metadata": {},
   "source": [
    "```NOTE```"
   ]
  },
  {
   "cell_type": "code",
   "execution_count": 72,
   "id": "bfe15423",
   "metadata": {},
   "outputs": [
    {
     "data": {
      "text/plain": [
       "city\n",
       "Ackley                     Black Velvet\n",
       "Adair                      Black Velvet\n",
       "Adel                      Hawkeye Vodka\n",
       "Afton                      Black Velvet\n",
       "Akron                      Black Velvet\n",
       "                       ...             \n",
       "Winthrop                   Black Velvet\n",
       "Woodbine                  Hawkeye Vodka\n",
       "Woodward                   Black Velvet\n",
       "Wyoming                    Black Velvet\n",
       "Zwingle     Seagrams 7 Crown Bl Whiskey\n",
       "Length: 462, dtype: object"
      ]
     },
     "execution_count": 72,
     "metadata": {},
     "output_type": "execute_result"
    }
   ],
   "source": [
    "dataframe.groupby(['city', 'item_description'])['pack'].sum().sort_values(ascending=False).unstack().idxmax(axis=1)"
   ]
  },
  {
   "cell_type": "code",
   "execution_count": 73,
   "id": "21189788",
   "metadata": {},
   "outputs": [
    {
     "data": {
      "text/plain": [
       "city\n",
       "Ackley       834.0\n",
       "Adair        612.0\n",
       "Adel        2436.0\n",
       "Afton        450.0\n",
       "Akron        696.0\n",
       "             ...  \n",
       "Winthrop     198.0\n",
       "Woodbine     348.0\n",
       "Woodward     888.0\n",
       "Wyoming      132.0\n",
       "Zwingle      192.0\n",
       "Length: 462, dtype: float64"
      ]
     },
     "execution_count": 73,
     "metadata": {},
     "output_type": "execute_result"
    }
   ],
   "source": [
    "dataframe.groupby(['city', 'item_description'])['pack'].sum().sort_values(ascending=False).unstack().max(axis=1)"
   ]
  },
  {
   "cell_type": "markdown",
   "id": "5535a993",
   "metadata": {},
   "source": [
    "```NOTE```"
   ]
  },
  {
   "cell_type": "markdown",
   "id": "7c6e730e",
   "metadata": {},
   "source": [
    "####  2. How many liquors ordered each year\n",
    "- We want to see what trend happen in the past 10 years of ordered liquor in ```Iowa```"
   ]
  },
  {
   "cell_type": "code",
   "execution_count": 74,
   "id": "51a54fe6",
   "metadata": {},
   "outputs": [
    {
     "data": {
      "text/plain": [
       "date\n",
       "2012    2336390\n",
       "2013    2318055\n",
       "2014    2386630\n",
       "2015    2505316\n",
       "2016    2607488\n",
       "2017    2607647\n",
       "2018    2736671\n",
       "2019    2794731\n",
       "2020    3011697\n",
       "2021    2851162\n",
       "2022    1400436\n",
       "Name: pack, dtype: Int64"
      ]
     },
     "execution_count": 74,
     "metadata": {},
     "output_type": "execute_result"
    }
   ],
   "source": [
    "dataframe.groupby([dataframe.index.year])['pack'].sum()"
   ]
  },
  {
   "cell_type": "code",
   "execution_count": 75,
   "id": "46bd2e3d",
   "metadata": {},
   "outputs": [
    {
     "data": {
      "text/plain": [
       "<AxesSubplot:xlabel='date'>"
      ]
     },
     "execution_count": 75,
     "metadata": {},
     "output_type": "execute_result"
    },
    {
     "data": {
      "image/png": "[encoded data removed]",
      "text/plain": [
       "<Figure size 432x288 with 1 Axes>"
      ]
     },
     "metadata": {
      "needs_background": "light"
     },
     "output_type": "display_data"
    }
   ],
   "source": [
    "dataframe.groupby([dataframe.index.year])['pack'].sum().plot()"
   ]
  },
  {
   "cell_type": "markdown",
   "id": "2387320b",
   "metadata": {},
   "source": [
    "```NOTE```"
   ]
  },
  {
   "cell_type": "code",
   "execution_count": 76,
   "id": "f6330510",
   "metadata": {},
   "outputs": [
    {
     "data": {
      "text/plain": [
       "<AxesSubplot:xlabel='date'>"
      ]
     },
     "execution_count": 76,
     "metadata": {},
     "output_type": "execute_result"
    },
    {
     "data": {
      "image/png": "[encoded data removed]",
      "text/plain": [
       "<Figure size 432x288 with 1 Axes>"
      ]
     },
     "metadata": {
      "needs_background": "light"
     },
     "output_type": "display_data"
    }
   ],
   "source": [
    "dataframe.groupby([dataframe.index.year])['pack'].sum().plot.bar()"
   ]
  },
  {
   "cell_type": "markdown",
   "id": "4ee0b38c",
   "metadata": {},
   "source": [
    "```NOTE```"
   ]
  },
  {
   "cell_type": "code",
   "execution_count": null,
   "id": "6fd04eb6",
   "metadata": {},
   "outputs": [],
   "source": []
  },
  {
   "cell_type": "markdown",
   "id": "8653a3a0",
   "metadata": {},
   "source": [
    "#### 3. What liquor (brand) are most sold (for the past 10 years)"
   ]
  },
  {
   "cell_type": "code",
   "execution_count": 77,
   "id": "8454fbda",
   "metadata": {},
   "outputs": [
    {
     "data": {
      "text/plain": [
       "item_description\n",
       "Black Velvet                             1287376\n",
       "Fireball Cinnamon Whiskey                1156773\n",
       "Hawkeye Vodka                             881028\n",
       "Titos Handmade Vodka                      662215\n",
       "Five O'Clock Vodka                        534163\n",
       "                                          ...   \n",
       "Wicked 87 American Light Whiskey Mini          1\n",
       "Giro Gold                                      1\n",
       "Schwartzhog Krauter Liqueur Mini               1\n",
       "Ha Green Spot Chateau Leoville Barton          1\n",
       "Noah'S Mill Ha                                 1\n",
       "Name: bottles_sold, Length: 7606, dtype: Int64"
      ]
     },
     "execution_count": 77,
     "metadata": {},
     "output_type": "execute_result"
    }
   ],
   "source": [
    "# What liquor (brand) most sold (in past 10 years)\n",
    "dataframe.groupby(['item_description'])['bottles_sold'].sum().sort_values(ascending=False)"
   ]
  },
  {
   "cell_type": "code",
   "execution_count": 78,
   "id": "6fe6a5c6",
   "metadata": {},
   "outputs": [
    {
     "data": {
      "text/plain": [
       "<AxesSubplot:xlabel='Liquor Brand'>"
      ]
     },
     "execution_count": 78,
     "metadata": {},
     "output_type": "execute_result"
    },
    {
     "data": {
      "image/png": "[encoded data removed]",
      "text/plain": [
       "<Figure size 432x288 with 1 Axes>"
      ]
     },
     "metadata": {
      "needs_background": "light"
     },
     "output_type": "display_data"
    }
   ],
   "source": [
    "# 10 highest sold liquor (every store, for the past 10 years)\n",
    "dataframe.groupby(['item_description'])['bottles_sold'].sum().sort_values(ascending=False).head(10).plot.bar(xlabel='Liquor Brand')"
   ]
  },
  {
   "cell_type": "markdown",
   "id": "f5d5cbad",
   "metadata": {},
   "source": [
    "```NOTE```"
   ]
  },
  {
   "cell_type": "markdown",
   "id": "c42b6880",
   "metadata": {},
   "source": [
    "#### 4. What liquor (brand) are most sold for each year"
   ]
  },
  {
   "cell_type": "code",
   "execution_count": 79,
   "id": "f4440173",
   "metadata": {},
   "outputs": [
    {
     "data": {
      "text/plain": [
       "item_description           date\n",
       "Fireball Cinnamon Whiskey  2020    293843\n",
       "                           2021    284716\n",
       "                           2022    167686\n",
       "Titos Handmade Vodka       2020    153027\n",
       "Black Velvet               2020    147262\n",
       "Fireball Cinnamon          2019    135651\n",
       "Black Velvet               2019    132134\n",
       "Titos Handmade Vodka       2021    131988\n",
       "Black Velvet               2015    124290\n",
       "                           2018    123043\n",
       "Name: bottles_sold, dtype: Int64"
      ]
     },
     "execution_count": 79,
     "metadata": {},
     "output_type": "execute_result"
    }
   ],
   "source": [
    "# Group dataset by item_description and year to see how many liquors are sold\n",
    "dataframe.groupby(['item_description', dataframe.index.year])['bottles_sold'].sum().sort_values(ascending=False).head(10)"
   ]
  },
  {
   "cell_type": "code",
   "execution_count": 80,
   "id": "8e71f255",
   "metadata": {},
   "outputs": [
    {
     "data": {
      "text/html": [
       "<div>\n",
       "<style scoped>\n",
       "    .dataframe tbody tr th:only-of-type {\n",
       "        vertical-align: middle;\n",
       "    }\n",
       "\n",
       "    .dataframe tbody tr th {\n",
       "        vertical-align: top;\n",
       "    }\n",
       "\n",
       "    .dataframe thead th {\n",
       "        text-align: right;\n",
       "    }\n",
       "</style>\n",
       "<table border=\"1\" class=\"dataframe\">\n",
       "  <thead>\n",
       "    <tr style=\"text-align: right;\">\n",
       "      <th>date</th>\n",
       "      <th>2020</th>\n",
       "      <th>2021</th>\n",
       "      <th>2022</th>\n",
       "      <th>2019</th>\n",
       "      <th>2015</th>\n",
       "      <th>2018</th>\n",
       "    </tr>\n",
       "    <tr>\n",
       "      <th>item_description</th>\n",
       "      <th></th>\n",
       "      <th></th>\n",
       "      <th></th>\n",
       "      <th></th>\n",
       "      <th></th>\n",
       "      <th></th>\n",
       "    </tr>\n",
       "  </thead>\n",
       "  <tbody>\n",
       "    <tr>\n",
       "      <th>Fireball Cinnamon Whiskey</th>\n",
       "      <td>293843</td>\n",
       "      <td>284716</td>\n",
       "      <td>167686</td>\n",
       "      <td>&lt;NA&gt;</td>\n",
       "      <td>&lt;NA&gt;</td>\n",
       "      <td>&lt;NA&gt;</td>\n",
       "    </tr>\n",
       "    <tr>\n",
       "      <th>Titos Handmade Vodka</th>\n",
       "      <td>153027</td>\n",
       "      <td>131988</td>\n",
       "      <td>&lt;NA&gt;</td>\n",
       "      <td>&lt;NA&gt;</td>\n",
       "      <td>&lt;NA&gt;</td>\n",
       "      <td>&lt;NA&gt;</td>\n",
       "    </tr>\n",
       "    <tr>\n",
       "      <th>Black Velvet</th>\n",
       "      <td>147262</td>\n",
       "      <td>&lt;NA&gt;</td>\n",
       "      <td>&lt;NA&gt;</td>\n",
       "      <td>132134</td>\n",
       "      <td>124290</td>\n",
       "      <td>123043</td>\n",
       "    </tr>\n",
       "    <tr>\n",
       "      <th>Fireball Cinnamon</th>\n",
       "      <td>&lt;NA&gt;</td>\n",
       "      <td>&lt;NA&gt;</td>\n",
       "      <td>&lt;NA&gt;</td>\n",
       "      <td>135651</td>\n",
       "      <td>&lt;NA&gt;</td>\n",
       "      <td>&lt;NA&gt;</td>\n",
       "    </tr>\n",
       "  </tbody>\n",
       "</table>\n",
       "</div>"
      ],
      "text/plain": [
       "date                         2020    2021    2022    2019    2015    2018\n",
       "item_description                                                         \n",
       "Fireball Cinnamon Whiskey  293843  284716  167686    <NA>    <NA>    <NA>\n",
       "Titos Handmade Vodka       153027  131988    <NA>    <NA>    <NA>    <NA>\n",
       "Black Velvet               147262    <NA>    <NA>  132134  124290  123043\n",
       "Fireball Cinnamon            <NA>    <NA>    <NA>  135651    <NA>    <NA>"
      ]
     },
     "execution_count": 80,
     "metadata": {},
     "output_type": "execute_result"
    }
   ],
   "source": [
    "# Show into multi index dataframe\n",
    "# Item description as index and date (year) as column\n",
    "# Show 10 data entry with maximum sold for each liquor brand\n",
    "dataframe.groupby(['item_description', dataframe.index.year])['bottles_sold'].sum().sort_values(ascending=False).head(10).unstack()"
   ]
  },
  {
   "cell_type": "code",
   "execution_count": 81,
   "id": "1fde7e57",
   "metadata": {},
   "outputs": [
    {
     "data": {
      "text/html": [
       "<div>\n",
       "<style scoped>\n",
       "    .dataframe tbody tr th:only-of-type {\n",
       "        vertical-align: middle;\n",
       "    }\n",
       "\n",
       "    .dataframe tbody tr th {\n",
       "        vertical-align: top;\n",
       "    }\n",
       "\n",
       "    .dataframe thead th {\n",
       "        text-align: right;\n",
       "    }\n",
       "</style>\n",
       "<table border=\"1\" class=\"dataframe\">\n",
       "  <thead>\n",
       "    <tr style=\"text-align: right;\">\n",
       "      <th>date</th>\n",
       "      <th>2012</th>\n",
       "      <th>2013</th>\n",
       "      <th>2014</th>\n",
       "      <th>2015</th>\n",
       "      <th>2016</th>\n",
       "      <th>2017</th>\n",
       "      <th>2018</th>\n",
       "      <th>2019</th>\n",
       "      <th>2020</th>\n",
       "      <th>2021</th>\n",
       "      <th>2022</th>\n",
       "    </tr>\n",
       "    <tr>\n",
       "      <th>item_description</th>\n",
       "      <th></th>\n",
       "      <th></th>\n",
       "      <th></th>\n",
       "      <th></th>\n",
       "      <th></th>\n",
       "      <th></th>\n",
       "      <th></th>\n",
       "      <th></th>\n",
       "      <th></th>\n",
       "      <th></th>\n",
       "      <th></th>\n",
       "    </tr>\n",
       "  </thead>\n",
       "  <tbody>\n",
       "    <tr>\n",
       "      <th>\"Jose Cuervo Silver \"\"Rolling Stones\"\"\"</th>\n",
       "      <td>&lt;NA&gt;</td>\n",
       "      <td>&lt;NA&gt;</td>\n",
       "      <td>&lt;NA&gt;</td>\n",
       "      <td>&lt;NA&gt;</td>\n",
       "      <td>30</td>\n",
       "      <td>48</td>\n",
       "      <td>&lt;NA&gt;</td>\n",
       "      <td>&lt;NA&gt;</td>\n",
       "      <td>&lt;NA&gt;</td>\n",
       "      <td>&lt;NA&gt;</td>\n",
       "      <td>&lt;NA&gt;</td>\n",
       "    </tr>\n",
       "    <tr>\n",
       "      <th>\"Rumchata \"\"Gochatas\"\"\"</th>\n",
       "      <td>&lt;NA&gt;</td>\n",
       "      <td>&lt;NA&gt;</td>\n",
       "      <td>&lt;NA&gt;</td>\n",
       "      <td>&lt;NA&gt;</td>\n",
       "      <td>1</td>\n",
       "      <td>&lt;NA&gt;</td>\n",
       "      <td>&lt;NA&gt;</td>\n",
       "      <td>&lt;NA&gt;</td>\n",
       "      <td>&lt;NA&gt;</td>\n",
       "      <td>&lt;NA&gt;</td>\n",
       "      <td>&lt;NA&gt;</td>\n",
       "    </tr>\n",
       "    <tr>\n",
       "      <th>\"Rumchata \"\"Minichatas\"\" Creamer Cups\"</th>\n",
       "      <td>&lt;NA&gt;</td>\n",
       "      <td>&lt;NA&gt;</td>\n",
       "      <td>&lt;NA&gt;</td>\n",
       "      <td>&lt;NA&gt;</td>\n",
       "      <td>398</td>\n",
       "      <td>421</td>\n",
       "      <td>276</td>\n",
       "      <td>&lt;NA&gt;</td>\n",
       "      <td>&lt;NA&gt;</td>\n",
       "      <td>&lt;NA&gt;</td>\n",
       "      <td>&lt;NA&gt;</td>\n",
       "    </tr>\n",
       "    <tr>\n",
       "      <th>(Ri)1 Rye</th>\n",
       "      <td>44</td>\n",
       "      <td>9</td>\n",
       "      <td>&lt;NA&gt;</td>\n",
       "      <td>&lt;NA&gt;</td>\n",
       "      <td>&lt;NA&gt;</td>\n",
       "      <td>&lt;NA&gt;</td>\n",
       "      <td>&lt;NA&gt;</td>\n",
       "      <td>&lt;NA&gt;</td>\n",
       "      <td>&lt;NA&gt;</td>\n",
       "      <td>&lt;NA&gt;</td>\n",
       "      <td>&lt;NA&gt;</td>\n",
       "    </tr>\n",
       "    <tr>\n",
       "      <th>10 Cane Rum</th>\n",
       "      <td>18</td>\n",
       "      <td>79</td>\n",
       "      <td>79</td>\n",
       "      <td>&lt;NA&gt;</td>\n",
       "      <td>&lt;NA&gt;</td>\n",
       "      <td>&lt;NA&gt;</td>\n",
       "      <td>&lt;NA&gt;</td>\n",
       "      <td>&lt;NA&gt;</td>\n",
       "      <td>&lt;NA&gt;</td>\n",
       "      <td>&lt;NA&gt;</td>\n",
       "      <td>&lt;NA&gt;</td>\n",
       "    </tr>\n",
       "    <tr>\n",
       "      <th>...</th>\n",
       "      <td>...</td>\n",
       "      <td>...</td>\n",
       "      <td>...</td>\n",
       "      <td>...</td>\n",
       "      <td>...</td>\n",
       "      <td>...</td>\n",
       "      <td>...</td>\n",
       "      <td>...</td>\n",
       "      <td>...</td>\n",
       "      <td>...</td>\n",
       "      <td>...</td>\n",
       "    </tr>\n",
       "    <tr>\n",
       "      <th>Zing 72 Gin W/Copper Cup</th>\n",
       "      <td>&lt;NA&gt;</td>\n",
       "      <td>&lt;NA&gt;</td>\n",
       "      <td>&lt;NA&gt;</td>\n",
       "      <td>&lt;NA&gt;</td>\n",
       "      <td>&lt;NA&gt;</td>\n",
       "      <td>&lt;NA&gt;</td>\n",
       "      <td>15</td>\n",
       "      <td>&lt;NA&gt;</td>\n",
       "      <td>&lt;NA&gt;</td>\n",
       "      <td>&lt;NA&gt;</td>\n",
       "      <td>&lt;NA&gt;</td>\n",
       "    </tr>\n",
       "    <tr>\n",
       "      <th>Ziyad White Rye</th>\n",
       "      <td>&lt;NA&gt;</td>\n",
       "      <td>&lt;NA&gt;</td>\n",
       "      <td>&lt;NA&gt;</td>\n",
       "      <td>&lt;NA&gt;</td>\n",
       "      <td>&lt;NA&gt;</td>\n",
       "      <td>&lt;NA&gt;</td>\n",
       "      <td>1</td>\n",
       "      <td>4</td>\n",
       "      <td>&lt;NA&gt;</td>\n",
       "      <td>&lt;NA&gt;</td>\n",
       "      <td>&lt;NA&gt;</td>\n",
       "    </tr>\n",
       "    <tr>\n",
       "      <th>Zu Bison Grass Vodka</th>\n",
       "      <td>&lt;NA&gt;</td>\n",
       "      <td>&lt;NA&gt;</td>\n",
       "      <td>&lt;NA&gt;</td>\n",
       "      <td>12</td>\n",
       "      <td>&lt;NA&gt;</td>\n",
       "      <td>&lt;NA&gt;</td>\n",
       "      <td>&lt;NA&gt;</td>\n",
       "      <td>&lt;NA&gt;</td>\n",
       "      <td>&lt;NA&gt;</td>\n",
       "      <td>&lt;NA&gt;</td>\n",
       "      <td>&lt;NA&gt;</td>\n",
       "    </tr>\n",
       "    <tr>\n",
       "      <th>Zubrowka Bison Grass Vodka</th>\n",
       "      <td>&lt;NA&gt;</td>\n",
       "      <td>&lt;NA&gt;</td>\n",
       "      <td>&lt;NA&gt;</td>\n",
       "      <td>&lt;NA&gt;</td>\n",
       "      <td>6</td>\n",
       "      <td>&lt;NA&gt;</td>\n",
       "      <td>30</td>\n",
       "      <td>6</td>\n",
       "      <td>&lt;NA&gt;</td>\n",
       "      <td>&lt;NA&gt;</td>\n",
       "      <td>&lt;NA&gt;</td>\n",
       "    </tr>\n",
       "    <tr>\n",
       "      <th>Zyr Vodka</th>\n",
       "      <td>&lt;NA&gt;</td>\n",
       "      <td>6</td>\n",
       "      <td>&lt;NA&gt;</td>\n",
       "      <td>9</td>\n",
       "      <td>6</td>\n",
       "      <td>12</td>\n",
       "      <td>&lt;NA&gt;</td>\n",
       "      <td>6</td>\n",
       "      <td>&lt;NA&gt;</td>\n",
       "      <td>&lt;NA&gt;</td>\n",
       "      <td>66</td>\n",
       "    </tr>\n",
       "  </tbody>\n",
       "</table>\n",
       "<p>7606 rows × 11 columns</p>\n",
       "</div>"
      ],
      "text/plain": [
       "date                                     2012  2013  2014  2015  2016  2017  \\\n",
       "item_description                                                              \n",
       "\"Jose Cuervo Silver \"\"Rolling Stones\"\"\"  <NA>  <NA>  <NA>  <NA>    30    48   \n",
       "\"Rumchata \"\"Gochatas\"\"\"                  <NA>  <NA>  <NA>  <NA>     1  <NA>   \n",
       "\"Rumchata \"\"Minichatas\"\" Creamer Cups\"   <NA>  <NA>  <NA>  <NA>   398   421   \n",
       "(Ri)1 Rye                                  44     9  <NA>  <NA>  <NA>  <NA>   \n",
       "10 Cane Rum                                18    79    79  <NA>  <NA>  <NA>   \n",
       "...                                       ...   ...   ...   ...   ...   ...   \n",
       "Zing 72 Gin W/Copper Cup                 <NA>  <NA>  <NA>  <NA>  <NA>  <NA>   \n",
       "Ziyad White Rye                          <NA>  <NA>  <NA>  <NA>  <NA>  <NA>   \n",
       "Zu Bison Grass Vodka                     <NA>  <NA>  <NA>    12  <NA>  <NA>   \n",
       "Zubrowka Bison Grass Vodka               <NA>  <NA>  <NA>  <NA>     6  <NA>   \n",
       "Zyr Vodka                                <NA>     6  <NA>     9     6    12   \n",
       "\n",
       "date                                     2018  2019  2020  2021  2022  \n",
       "item_description                                                       \n",
       "\"Jose Cuervo Silver \"\"Rolling Stones\"\"\"  <NA>  <NA>  <NA>  <NA>  <NA>  \n",
       "\"Rumchata \"\"Gochatas\"\"\"                  <NA>  <NA>  <NA>  <NA>  <NA>  \n",
       "\"Rumchata \"\"Minichatas\"\" Creamer Cups\"    276  <NA>  <NA>  <NA>  <NA>  \n",
       "(Ri)1 Rye                                <NA>  <NA>  <NA>  <NA>  <NA>  \n",
       "10 Cane Rum                              <NA>  <NA>  <NA>  <NA>  <NA>  \n",
       "...                                       ...   ...   ...   ...   ...  \n",
       "Zing 72 Gin W/Copper Cup                   15  <NA>  <NA>  <NA>  <NA>  \n",
       "Ziyad White Rye                             1     4  <NA>  <NA>  <NA>  \n",
       "Zu Bison Grass Vodka                     <NA>  <NA>  <NA>  <NA>  <NA>  \n",
       "Zubrowka Bison Grass Vodka                 30     6  <NA>  <NA>  <NA>  \n",
       "Zyr Vodka                                <NA>     6  <NA>  <NA>    66  \n",
       "\n",
       "[7606 rows x 11 columns]"
      ]
     },
     "execution_count": 81,
     "metadata": {},
     "output_type": "execute_result"
    }
   ],
   "source": [
    "# Create new dataframe as df1 to simplify dataset\n",
    "# Make sure the amount of bottles_sold by each liquor brand and year is sorted\n",
    "df1 = dataframe.groupby(['item_description', dataframe.index.year])['bottles_sold'].sum().sort_values(ascending=False).unstack()\n",
    "df1"
   ]
  },
  {
   "cell_type": "code",
   "execution_count": 82,
   "id": "6ff5ad4b",
   "metadata": {},
   "outputs": [
    {
     "data": {
      "text/html": [
       "<div>\n",
       "<style scoped>\n",
       "    .dataframe tbody tr th:only-of-type {\n",
       "        vertical-align: middle;\n",
       "    }\n",
       "\n",
       "    .dataframe tbody tr th {\n",
       "        vertical-align: top;\n",
       "    }\n",
       "\n",
       "    .dataframe thead th {\n",
       "        text-align: right;\n",
       "    }\n",
       "</style>\n",
       "<table border=\"1\" class=\"dataframe\">\n",
       "  <thead>\n",
       "    <tr style=\"text-align: right;\">\n",
       "      <th></th>\n",
       "      <th>liquor_brand</th>\n",
       "      <th>bottles_sold</th>\n",
       "    </tr>\n",
       "    <tr>\n",
       "      <th>date</th>\n",
       "      <th></th>\n",
       "      <th></th>\n",
       "    </tr>\n",
       "  </thead>\n",
       "  <tbody>\n",
       "    <tr>\n",
       "      <th>2012</th>\n",
       "      <td>Black Velvet</td>\n",
       "      <td>101725</td>\n",
       "    </tr>\n",
       "    <tr>\n",
       "      <th>2013</th>\n",
       "      <td>Black Velvet</td>\n",
       "      <td>115667</td>\n",
       "    </tr>\n",
       "    <tr>\n",
       "      <th>2014</th>\n",
       "      <td>Black Velvet</td>\n",
       "      <td>119713</td>\n",
       "    </tr>\n",
       "    <tr>\n",
       "      <th>2015</th>\n",
       "      <td>Black Velvet</td>\n",
       "      <td>124290</td>\n",
       "    </tr>\n",
       "    <tr>\n",
       "      <th>2016</th>\n",
       "      <td>Black Velvet</td>\n",
       "      <td>121258</td>\n",
       "    </tr>\n",
       "    <tr>\n",
       "      <th>2017</th>\n",
       "      <td>Black Velvet</td>\n",
       "      <td>122343</td>\n",
       "    </tr>\n",
       "    <tr>\n",
       "      <th>2018</th>\n",
       "      <td>Black Velvet</td>\n",
       "      <td>123043</td>\n",
       "    </tr>\n",
       "    <tr>\n",
       "      <th>2019</th>\n",
       "      <td>Fireball Cinnamon</td>\n",
       "      <td>135651</td>\n",
       "    </tr>\n",
       "    <tr>\n",
       "      <th>2020</th>\n",
       "      <td>Fireball Cinnamon Whiskey</td>\n",
       "      <td>293843</td>\n",
       "    </tr>\n",
       "    <tr>\n",
       "      <th>2021</th>\n",
       "      <td>Fireball Cinnamon Whiskey</td>\n",
       "      <td>284716</td>\n",
       "    </tr>\n",
       "    <tr>\n",
       "      <th>2022</th>\n",
       "      <td>Fireball Cinnamon Whiskey</td>\n",
       "      <td>167686</td>\n",
       "    </tr>\n",
       "  </tbody>\n",
       "</table>\n",
       "</div>"
      ],
      "text/plain": [
       "                   liquor_brand  bottles_sold\n",
       "date                                         \n",
       "2012               Black Velvet        101725\n",
       "2013               Black Velvet        115667\n",
       "2014               Black Velvet        119713\n",
       "2015               Black Velvet        124290\n",
       "2016               Black Velvet        121258\n",
       "2017               Black Velvet        122343\n",
       "2018               Black Velvet        123043\n",
       "2019          Fireball Cinnamon        135651\n",
       "2020  Fireball Cinnamon Whiskey        293843\n",
       "2021  Fireball Cinnamon Whiskey        284716\n",
       "2022  Fireball Cinnamon Whiskey        167686"
      ]
     },
     "execution_count": 82,
     "metadata": {},
     "output_type": "execute_result"
    }
   ],
   "source": [
    "# Create new dataframe as df2 to simplify dataset for plotting\n",
    "# Fetch value that only contain maximum value for each column and rows in dataset df1\n",
    "df2 = pd.DataFrame({'liquor_brand':df1.idxmax(), 'bottles_sold': df1.max()})\n",
    "df2"
   ]
  },
  {
   "cell_type": "markdown",
   "id": "cc38b0e4",
   "metadata": {},
   "source": [
    "```NOTE```"
   ]
  },
  {
   "cell_type": "code",
   "execution_count": 83,
   "id": "759a7ed2",
   "metadata": {},
   "outputs": [
    {
     "data": {
      "text/plain": [
       "<AxesSubplot:xlabel='date'>"
      ]
     },
     "execution_count": 83,
     "metadata": {},
     "output_type": "execute_result"
    },
    {
     "data": {
      "image/png": "[encoded data removed]",
      "text/plain": [
       "<Figure size 432x288 with 1 Axes>"
      ]
     },
     "metadata": {
      "needs_background": "light"
     },
     "output_type": "display_data"
    }
   ],
   "source": [
    "df2.plot.bar()"
   ]
  },
  {
   "cell_type": "markdown",
   "id": "78423088",
   "metadata": {},
   "source": [
    "```NOTE```"
   ]
  },
  {
   "cell_type": "code",
   "execution_count": 84,
   "id": "2af42710",
   "metadata": {},
   "outputs": [
    {
     "data": {
      "text/plain": [
       "date  liquor_brand             \n",
       "2012  Black Velvet                 101725\n",
       "2013  Black Velvet                 115667\n",
       "2014  Black Velvet                 119713\n",
       "2015  Black Velvet                 124290\n",
       "2016  Black Velvet                 121258\n",
       "2017  Black Velvet                 122343\n",
       "2018  Black Velvet                 123043\n",
       "2019  Fireball Cinnamon            135651\n",
       "2020  Fireball Cinnamon Whiskey    293843\n",
       "2021  Fireball Cinnamon Whiskey    284716\n",
       "2022  Fireball Cinnamon Whiskey    167686\n",
       "Name: bottles_sold, dtype: int64"
      ]
     },
     "execution_count": 84,
     "metadata": {},
     "output_type": "execute_result"
    }
   ],
   "source": [
    "# Groupby dataset df2 by year and item_description\n",
    "df2.groupby([df2.index, 'liquor_brand'])['bottles_sold'].sum()"
   ]
  },
  {
   "cell_type": "code",
   "execution_count": 85,
   "id": "e7208495",
   "metadata": {},
   "outputs": [
    {
     "data": {
      "image/png": "[encoded data removed]",
      "text/plain": [
       "<Figure size 432x288 with 1 Axes>"
      ]
     },
     "metadata": {
      "needs_background": "light"
     },
     "output_type": "display_data"
    }
   ],
   "source": [
    "fig, ax = plt.subplots()\n",
    "ax = df2.groupby([df2.index, 'liquor_brand'])['bottles_sold'].sum().plot(kind='bar', color=['C0','C9'], xlabel='Year, Liquor Brand')"
   ]
  },
  {
   "cell_type": "markdown",
   "id": "56b30973",
   "metadata": {},
   "source": [
    "```NOTE```"
   ]
  },
  {
   "cell_type": "markdown",
   "id": "e90c2bcc",
   "metadata": {},
   "source": [
    "#### 5. What city most ordered liquor (for the past 10 years)"
   ]
  },
  {
   "cell_type": "code",
   "execution_count": 86,
   "id": "60710c8f",
   "metadata": {},
   "outputs": [
    {
     "data": {
      "text/plain": [
       "<AxesSubplot:xlabel='city'>"
      ]
     },
     "execution_count": 86,
     "metadata": {},
     "output_type": "execute_result"
    },
    {
     "data": {
      "image/png": "[encoded data removed]",
      "text/plain": [
       "<Figure size 432x288 with 1 Axes>"
      ]
     },
     "metadata": {
      "needs_background": "light"
     },
     "output_type": "display_data"
    }
   ],
   "source": [
    "dataframe.groupby(['city'])['pack'].sum().sort_values(ascending=False).head(10).plot.bar()"
   ]
  },
  {
   "cell_type": "code",
   "execution_count": 87,
   "id": "e9561969",
   "metadata": {},
   "outputs": [
    {
     "data": {
      "text/html": [
       "<div>\n",
       "<style scoped>\n",
       "    .dataframe tbody tr th:only-of-type {\n",
       "        vertical-align: middle;\n",
       "    }\n",
       "\n",
       "    .dataframe tbody tr th {\n",
       "        vertical-align: top;\n",
       "    }\n",
       "\n",
       "    .dataframe thead th {\n",
       "        text-align: right;\n",
       "    }\n",
       "</style>\n",
       "<table border=\"1\" class=\"dataframe\">\n",
       "  <thead>\n",
       "    <tr style=\"text-align: right;\">\n",
       "      <th>date</th>\n",
       "      <th>2012</th>\n",
       "      <th>2013</th>\n",
       "      <th>2014</th>\n",
       "      <th>2015</th>\n",
       "      <th>2016</th>\n",
       "      <th>2017</th>\n",
       "      <th>2018</th>\n",
       "      <th>2019</th>\n",
       "      <th>2020</th>\n",
       "      <th>2021</th>\n",
       "      <th>2022</th>\n",
       "    </tr>\n",
       "    <tr>\n",
       "      <th>city</th>\n",
       "      <th></th>\n",
       "      <th></th>\n",
       "      <th></th>\n",
       "      <th></th>\n",
       "      <th></th>\n",
       "      <th></th>\n",
       "      <th></th>\n",
       "      <th></th>\n",
       "      <th></th>\n",
       "      <th></th>\n",
       "      <th></th>\n",
       "    </tr>\n",
       "  </thead>\n",
       "  <tbody>\n",
       "    <tr>\n",
       "      <th>Ackley</th>\n",
       "      <td>678</td>\n",
       "      <td>708</td>\n",
       "      <td>768</td>\n",
       "      <td>962</td>\n",
       "      <td>1217</td>\n",
       "      <td>1331</td>\n",
       "      <td>1078</td>\n",
       "      <td>949</td>\n",
       "      <td>462</td>\n",
       "      <td>443</td>\n",
       "      <td>263</td>\n",
       "    </tr>\n",
       "    <tr>\n",
       "      <th>Adair</th>\n",
       "      <td>616</td>\n",
       "      <td>322</td>\n",
       "      <td>468</td>\n",
       "      <td>340</td>\n",
       "      <td>592</td>\n",
       "      <td>925</td>\n",
       "      <td>597</td>\n",
       "      <td>688</td>\n",
       "      <td>1443</td>\n",
       "      <td>1184</td>\n",
       "      <td>&lt;NA&gt;</td>\n",
       "    </tr>\n",
       "    <tr>\n",
       "      <th>Adel</th>\n",
       "      <td>3376</td>\n",
       "      <td>2968</td>\n",
       "      <td>3134</td>\n",
       "      <td>2670</td>\n",
       "      <td>3781</td>\n",
       "      <td>3559</td>\n",
       "      <td>3223</td>\n",
       "      <td>4224</td>\n",
       "      <td>4495</td>\n",
       "      <td>6361</td>\n",
       "      <td>3466</td>\n",
       "    </tr>\n",
       "    <tr>\n",
       "      <th>Afton</th>\n",
       "      <td>318</td>\n",
       "      <td>336</td>\n",
       "      <td>172</td>\n",
       "      <td>222</td>\n",
       "      <td>241</td>\n",
       "      <td>230</td>\n",
       "      <td>257</td>\n",
       "      <td>493</td>\n",
       "      <td>615</td>\n",
       "      <td>603</td>\n",
       "      <td>229</td>\n",
       "    </tr>\n",
       "    <tr>\n",
       "      <th>Akron</th>\n",
       "      <td>515</td>\n",
       "      <td>756</td>\n",
       "      <td>762</td>\n",
       "      <td>686</td>\n",
       "      <td>752</td>\n",
       "      <td>798</td>\n",
       "      <td>748</td>\n",
       "      <td>858</td>\n",
       "      <td>594</td>\n",
       "      <td>757</td>\n",
       "      <td>272</td>\n",
       "    </tr>\n",
       "    <tr>\n",
       "      <th>...</th>\n",
       "      <td>...</td>\n",
       "      <td>...</td>\n",
       "      <td>...</td>\n",
       "      <td>...</td>\n",
       "      <td>...</td>\n",
       "      <td>...</td>\n",
       "      <td>...</td>\n",
       "      <td>...</td>\n",
       "      <td>...</td>\n",
       "      <td>...</td>\n",
       "      <td>...</td>\n",
       "    </tr>\n",
       "    <tr>\n",
       "      <th>Winthrop</th>\n",
       "      <td>642</td>\n",
       "      <td>624</td>\n",
       "      <td>378</td>\n",
       "      <td>312</td>\n",
       "      <td>342</td>\n",
       "      <td>288</td>\n",
       "      <td>282</td>\n",
       "      <td>234</td>\n",
       "      <td>378</td>\n",
       "      <td>330</td>\n",
       "      <td>60</td>\n",
       "    </tr>\n",
       "    <tr>\n",
       "      <th>Woodbine</th>\n",
       "      <td>&lt;NA&gt;</td>\n",
       "      <td>&lt;NA&gt;</td>\n",
       "      <td>&lt;NA&gt;</td>\n",
       "      <td>&lt;NA&gt;</td>\n",
       "      <td>&lt;NA&gt;</td>\n",
       "      <td>&lt;NA&gt;</td>\n",
       "      <td>1934</td>\n",
       "      <td>2058</td>\n",
       "      <td>2749</td>\n",
       "      <td>2704</td>\n",
       "      <td>1368</td>\n",
       "    </tr>\n",
       "    <tr>\n",
       "      <th>Woodward</th>\n",
       "      <td>510</td>\n",
       "      <td>540</td>\n",
       "      <td>474</td>\n",
       "      <td>438</td>\n",
       "      <td>600</td>\n",
       "      <td>697</td>\n",
       "      <td>592</td>\n",
       "      <td>579</td>\n",
       "      <td>628</td>\n",
       "      <td>410</td>\n",
       "      <td>110</td>\n",
       "    </tr>\n",
       "    <tr>\n",
       "      <th>Wyoming</th>\n",
       "      <td>&lt;NA&gt;</td>\n",
       "      <td>&lt;NA&gt;</td>\n",
       "      <td>&lt;NA&gt;</td>\n",
       "      <td>&lt;NA&gt;</td>\n",
       "      <td>&lt;NA&gt;</td>\n",
       "      <td>&lt;NA&gt;</td>\n",
       "      <td>&lt;NA&gt;</td>\n",
       "      <td>&lt;NA&gt;</td>\n",
       "      <td>257</td>\n",
       "      <td>400</td>\n",
       "      <td>264</td>\n",
       "    </tr>\n",
       "    <tr>\n",
       "      <th>Zwingle</th>\n",
       "      <td>&lt;NA&gt;</td>\n",
       "      <td>662</td>\n",
       "      <td>598</td>\n",
       "      <td>420</td>\n",
       "      <td>456</td>\n",
       "      <td>310</td>\n",
       "      <td>427</td>\n",
       "      <td>194</td>\n",
       "      <td>222</td>\n",
       "      <td>508</td>\n",
       "      <td>217</td>\n",
       "    </tr>\n",
       "  </tbody>\n",
       "</table>\n",
       "<p>462 rows × 11 columns</p>\n",
       "</div>"
      ],
      "text/plain": [
       "date      2012  2013  2014  2015  2016  2017  2018  2019  2020  2021  2022\n",
       "city                                                                      \n",
       "Ackley     678   708   768   962  1217  1331  1078   949   462   443   263\n",
       "Adair      616   322   468   340   592   925   597   688  1443  1184  <NA>\n",
       "Adel      3376  2968  3134  2670  3781  3559  3223  4224  4495  6361  3466\n",
       "Afton      318   336   172   222   241   230   257   493   615   603   229\n",
       "Akron      515   756   762   686   752   798   748   858   594   757   272\n",
       "...        ...   ...   ...   ...   ...   ...   ...   ...   ...   ...   ...\n",
       "Winthrop   642   624   378   312   342   288   282   234   378   330    60\n",
       "Woodbine  <NA>  <NA>  <NA>  <NA>  <NA>  <NA>  1934  2058  2749  2704  1368\n",
       "Woodward   510   540   474   438   600   697   592   579   628   410   110\n",
       "Wyoming   <NA>  <NA>  <NA>  <NA>  <NA>  <NA>  <NA>  <NA>   257   400   264\n",
       "Zwingle   <NA>   662   598   420   456   310   427   194   222   508   217\n",
       "\n",
       "[462 rows x 11 columns]"
      ]
     },
     "execution_count": 87,
     "metadata": {},
     "output_type": "execute_result"
    }
   ],
   "source": [
    "# Create new dataframe as df3\n",
    "df3 = dataframe.groupby(['city', dataframe.index.year])['pack'].sum().sort_values(ascending=False).unstack()\n",
    "df3"
   ]
  },
  {
   "cell_type": "code",
   "execution_count": 88,
   "id": "4c2d665f",
   "metadata": {},
   "outputs": [
    {
     "data": {
      "text/html": [
       "<div>\n",
       "<style scoped>\n",
       "    .dataframe tbody tr th:only-of-type {\n",
       "        vertical-align: middle;\n",
       "    }\n",
       "\n",
       "    .dataframe tbody tr th {\n",
       "        vertical-align: top;\n",
       "    }\n",
       "\n",
       "    .dataframe thead th {\n",
       "        text-align: right;\n",
       "    }\n",
       "</style>\n",
       "<table border=\"1\" class=\"dataframe\">\n",
       "  <thead>\n",
       "    <tr style=\"text-align: right;\">\n",
       "      <th></th>\n",
       "      <th>city</th>\n",
       "      <th>pack</th>\n",
       "    </tr>\n",
       "    <tr>\n",
       "      <th>date</th>\n",
       "      <th></th>\n",
       "      <th></th>\n",
       "    </tr>\n",
       "  </thead>\n",
       "  <tbody>\n",
       "    <tr>\n",
       "      <th>2012</th>\n",
       "      <td>Des Moines</td>\n",
       "      <td>219258</td>\n",
       "    </tr>\n",
       "    <tr>\n",
       "      <th>2013</th>\n",
       "      <td>Des Moines</td>\n",
       "      <td>216481</td>\n",
       "    </tr>\n",
       "    <tr>\n",
       "      <th>2014</th>\n",
       "      <td>Des Moines</td>\n",
       "      <td>234721</td>\n",
       "    </tr>\n",
       "    <tr>\n",
       "      <th>2015</th>\n",
       "      <td>Des Moines</td>\n",
       "      <td>237175</td>\n",
       "    </tr>\n",
       "    <tr>\n",
       "      <th>2016</th>\n",
       "      <td>Des Moines</td>\n",
       "      <td>255438</td>\n",
       "    </tr>\n",
       "    <tr>\n",
       "      <th>2017</th>\n",
       "      <td>Des Moines</td>\n",
       "      <td>250358</td>\n",
       "    </tr>\n",
       "    <tr>\n",
       "      <th>2018</th>\n",
       "      <td>Des Moines</td>\n",
       "      <td>255103</td>\n",
       "    </tr>\n",
       "    <tr>\n",
       "      <th>2019</th>\n",
       "      <td>Des Moines</td>\n",
       "      <td>253751</td>\n",
       "    </tr>\n",
       "    <tr>\n",
       "      <th>2020</th>\n",
       "      <td>Des Moines</td>\n",
       "      <td>262657</td>\n",
       "    </tr>\n",
       "    <tr>\n",
       "      <th>2021</th>\n",
       "      <td>Des Moines</td>\n",
       "      <td>249912</td>\n",
       "    </tr>\n",
       "    <tr>\n",
       "      <th>2022</th>\n",
       "      <td>Des Moines</td>\n",
       "      <td>123423</td>\n",
       "    </tr>\n",
       "  </tbody>\n",
       "</table>\n",
       "</div>"
      ],
      "text/plain": [
       "            city    pack\n",
       "date                    \n",
       "2012  Des Moines  219258\n",
       "2013  Des Moines  216481\n",
       "2014  Des Moines  234721\n",
       "2015  Des Moines  237175\n",
       "2016  Des Moines  255438\n",
       "2017  Des Moines  250358\n",
       "2018  Des Moines  255103\n",
       "2019  Des Moines  253751\n",
       "2020  Des Moines  262657\n",
       "2021  Des Moines  249912\n",
       "2022  Des Moines  123423"
      ]
     },
     "execution_count": 88,
     "metadata": {},
     "output_type": "execute_result"
    }
   ],
   "source": [
    "# Create new dataframe as df4 for simplifying df3\n",
    "df4 = pd.DataFrame({'city':df3.idxmax(), 'pack': df3.max()})\n",
    "df4"
   ]
  },
  {
   "cell_type": "code",
   "execution_count": 89,
   "id": "897b8af9",
   "metadata": {},
   "outputs": [
    {
     "data": {
      "text/plain": [
       "date  city      \n",
       "2012  Des Moines    219258\n",
       "2013  Des Moines    216481\n",
       "2014  Des Moines    234721\n",
       "2015  Des Moines    237175\n",
       "2016  Des Moines    255438\n",
       "2017  Des Moines    250358\n",
       "2018  Des Moines    255103\n",
       "2019  Des Moines    253751\n",
       "2020  Des Moines    262657\n",
       "2021  Des Moines    249912\n",
       "2022  Des Moines    123423\n",
       "Name: pack, dtype: int64"
      ]
     },
     "execution_count": 89,
     "metadata": {},
     "output_type": "execute_result"
    }
   ],
   "source": [
    "# Groupby dataset df4 by year and city\n",
    "df4.groupby([df4.index, 'city'])['pack'].sum()"
   ]
  },
  {
   "cell_type": "code",
   "execution_count": 90,
   "id": "4e239220",
   "metadata": {},
   "outputs": [
    {
     "data": {
      "image/png": "[encoded data removed]",
      "text/plain": [
       "<Figure size 432x288 with 1 Axes>"
      ]
     },
     "metadata": {
      "needs_background": "light"
     },
     "output_type": "display_data"
    }
   ],
   "source": [
    "fig, ax = plt.subplots()\n",
    "ax = df4.groupby([df4.index, 'city'])['pack'].sum().plot(kind='bar', color=['C1','C8'], xlabel='Year, City')"
   ]
  },
  {
   "cell_type": "code",
   "execution_count": 93,
   "id": "cb09fa42",
   "metadata": {},
   "outputs": [
    {
     "data": {
      "text/plain": [
       "(array([-2.,  0.,  2.,  4.,  6.,  8., 10., 12.]),\n",
       " [Text(-2.0, 0, '(2021, Des Moines)'),\n",
       "  Text(0.0, 0, '(2012, Des Moines)'),\n",
       "  Text(2.0, 0, '(2014, Des Moines)'),\n",
       "  Text(4.0, 0, '(2016, Des Moines)'),\n",
       "  Text(6.0, 0, '(2018, Des Moines)'),\n",
       "  Text(8.0, 0, '(2020, Des Moines)'),\n",
       "  Text(10.0, 0, '(2022, Des Moines)'),\n",
       "  Text(12.0, 0, '')])"
      ]
     },
     "execution_count": 93,
     "metadata": {},
     "output_type": "execute_result"
    },
    {
     "data": {
      "image/png": "[encoded data removed]",
      "text/plain": [
       "<Figure size 432x288 with 1 Axes>"
      ]
     },
     "metadata": {
      "needs_background": "light"
     },
     "output_type": "display_data"
    }
   ],
   "source": [
    "fig, ax = plt.subplots()\n",
    "ax = df4.groupby([df4.index, 'city'])['pack'].sum().plot()\n",
    "plt.xticks(rotation=90)"
   ]
  },
  {
   "cell_type": "markdown",
   "id": "8821a063",
   "metadata": {},
   "source": [
    "#### 6. What kind of liquor most ordered each year"
   ]
  },
  {
   "cell_type": "code",
   "execution_count": 94,
   "id": "44b09c92",
   "metadata": {},
   "outputs": [
    {
     "data": {
      "text/plain": [
       "<AxesSubplot:xlabel='category_name'>"
      ]
     },
     "execution_count": 94,
     "metadata": {},
     "output_type": "execute_result"
    },
    {
     "data": {
      "image/png": "[encoded data removed]",
      "text/plain": [
       "<Figure size 432x288 with 1 Axes>"
      ]
     },
     "metadata": {
      "needs_background": "light"
     },
     "output_type": "display_data"
    }
   ],
   "source": [
    "dataframe.groupby(['category_name'])['pack'].sum().sort_values(ascending=False).head(10).plot.bar()"
   ]
  },
  {
   "cell_type": "code",
   "execution_count": 95,
   "id": "f83a75b5",
   "metadata": {},
   "outputs": [
    {
     "data": {
      "text/html": [
       "<div>\n",
       "<style scoped>\n",
       "    .dataframe tbody tr th:only-of-type {\n",
       "        vertical-align: middle;\n",
       "    }\n",
       "\n",
       "    .dataframe tbody tr th {\n",
       "        vertical-align: top;\n",
       "    }\n",
       "\n",
       "    .dataframe thead th {\n",
       "        text-align: right;\n",
       "    }\n",
       "</style>\n",
       "<table border=\"1\" class=\"dataframe\">\n",
       "  <thead>\n",
       "    <tr style=\"text-align: right;\">\n",
       "      <th></th>\n",
       "      <th>liquor_category</th>\n",
       "      <th>pack</th>\n",
       "    </tr>\n",
       "    <tr>\n",
       "      <th>date</th>\n",
       "      <th></th>\n",
       "      <th></th>\n",
       "    </tr>\n",
       "  </thead>\n",
       "  <tbody>\n",
       "    <tr>\n",
       "      <th>2012</th>\n",
       "      <td>Vodka 80 Proof</td>\n",
       "      <td>341433</td>\n",
       "    </tr>\n",
       "    <tr>\n",
       "      <th>2013</th>\n",
       "      <td>Vodka 80 Proof</td>\n",
       "      <td>337705</td>\n",
       "    </tr>\n",
       "    <tr>\n",
       "      <th>2014</th>\n",
       "      <td>Vodka 80 Proof</td>\n",
       "      <td>364384</td>\n",
       "    </tr>\n",
       "    <tr>\n",
       "      <th>2015</th>\n",
       "      <td>Vodka 80 Proof</td>\n",
       "      <td>393034</td>\n",
       "    </tr>\n",
       "    <tr>\n",
       "      <th>2016</th>\n",
       "      <td>Canadian Whiskies</td>\n",
       "      <td>315891</td>\n",
       "    </tr>\n",
       "    <tr>\n",
       "      <th>2017</th>\n",
       "      <td>American Vodkas</td>\n",
       "      <td>453439</td>\n",
       "    </tr>\n",
       "    <tr>\n",
       "      <th>2018</th>\n",
       "      <td>American Vodkas</td>\n",
       "      <td>484716</td>\n",
       "    </tr>\n",
       "    <tr>\n",
       "      <th>2019</th>\n",
       "      <td>American Vodkas</td>\n",
       "      <td>498562</td>\n",
       "    </tr>\n",
       "    <tr>\n",
       "      <th>2020</th>\n",
       "      <td>American Vodkas</td>\n",
       "      <td>518495</td>\n",
       "    </tr>\n",
       "    <tr>\n",
       "      <th>2021</th>\n",
       "      <td>American Vodkas</td>\n",
       "      <td>512246</td>\n",
       "    </tr>\n",
       "    <tr>\n",
       "      <th>2022</th>\n",
       "      <td>American Vodkas</td>\n",
       "      <td>265689</td>\n",
       "    </tr>\n",
       "  </tbody>\n",
       "</table>\n",
       "</div>"
      ],
      "text/plain": [
       "        liquor_category    pack\n",
       "date                           \n",
       "2012     Vodka 80 Proof  341433\n",
       "2013     Vodka 80 Proof  337705\n",
       "2014     Vodka 80 Proof  364384\n",
       "2015     Vodka 80 Proof  393034\n",
       "2016  Canadian Whiskies  315891\n",
       "2017    American Vodkas  453439\n",
       "2018    American Vodkas  484716\n",
       "2019    American Vodkas  498562\n",
       "2020    American Vodkas  518495\n",
       "2021    American Vodkas  512246\n",
       "2022    American Vodkas  265689"
      ]
     },
     "execution_count": 95,
     "metadata": {},
     "output_type": "execute_result"
    }
   ],
   "source": [
    "# Create new dataframe as df5\n",
    "df5 = dataframe.groupby(['category_name', dataframe.index.year])['pack'].sum().sort_values(ascending=False).unstack()\n",
    "\n",
    "# Create new dataframe as df6 for simplifying df5\n",
    "df6 = pd.DataFrame({'liquor_category':df5.idxmax(), 'pack': df5.max()})\n",
    "df6"
   ]
  },
  {
   "cell_type": "code",
   "execution_count": 96,
   "id": "69453790",
   "metadata": {},
   "outputs": [
    {
     "data": {
      "image/png": "[encoded data removed]",
      "text/plain": [
       "<Figure size 432x288 with 1 Axes>"
      ]
     },
     "metadata": {
      "needs_background": "light"
     },
     "output_type": "display_data"
    }
   ],
   "source": [
    "# Groupby dataset df6 by year and liquor_category\n",
    "df6.groupby([df6.index, 'liquor_category'])['pack'].sum()\n",
    "\n",
    "fig, ax = plt.subplots()\n",
    "ax = df6.groupby([df6.index, 'liquor_category'])['pack'].sum().plot(kind='bar', color=['C2','C4'], xlabel='Year, Liquor Category')"
   ]
  },
  {
   "cell_type": "markdown",
   "id": "231c9686",
   "metadata": {},
   "source": [
    "```NOTE```"
   ]
  },
  {
   "cell_type": "markdown",
   "id": "80a07a08",
   "metadata": {},
   "source": [
    "#### 7. What city are having most spend on liquor"
   ]
  },
  {
   "cell_type": "code",
   "execution_count": 97,
   "id": "3ec44524",
   "metadata": {
    "scrolled": true
   },
   "outputs": [
    {
     "data": {
      "text/html": [
       "<div>\n",
       "<style scoped>\n",
       "    .dataframe tbody tr th:only-of-type {\n",
       "        vertical-align: middle;\n",
       "    }\n",
       "\n",
       "    .dataframe tbody tr th {\n",
       "        vertical-align: top;\n",
       "    }\n",
       "\n",
       "    .dataframe thead th {\n",
       "        text-align: right;\n",
       "    }\n",
       "</style>\n",
       "<table border=\"1\" class=\"dataframe\">\n",
       "  <thead>\n",
       "    <tr style=\"text-align: right;\">\n",
       "      <th></th>\n",
       "      <th>store_name</th>\n",
       "      <th>address</th>\n",
       "      <th>city</th>\n",
       "      <th>category_name</th>\n",
       "      <th>vendor_name</th>\n",
       "      <th>item_description</th>\n",
       "      <th>pack</th>\n",
       "      <th>bottle_volume_ml</th>\n",
       "      <th>state_bottle_retail</th>\n",
       "      <th>bottles_sold</th>\n",
       "      <th>sale_dollars</th>\n",
       "      <th>latitude</th>\n",
       "      <th>longitude</th>\n",
       "    </tr>\n",
       "    <tr>\n",
       "      <th>date</th>\n",
       "      <th></th>\n",
       "      <th></th>\n",
       "      <th></th>\n",
       "      <th></th>\n",
       "      <th></th>\n",
       "      <th></th>\n",
       "      <th></th>\n",
       "      <th></th>\n",
       "      <th></th>\n",
       "      <th></th>\n",
       "      <th></th>\n",
       "      <th></th>\n",
       "      <th></th>\n",
       "    </tr>\n",
       "  </thead>\n",
       "  <tbody>\n",
       "    <tr>\n",
       "      <th>2012-01-03</th>\n",
       "      <td>Hartig Drug Co. / JFK Rd / Dubuque</td>\n",
       "      <td>2255 JOHN F KENNEDY RD</td>\n",
       "      <td>Dubuque</td>\n",
       "      <td>Blended Whiskies</td>\n",
       "      <td>Diageo Americas</td>\n",
       "      <td>Seagrams 7 Crown Bl Whiskey</td>\n",
       "      <td>24</td>\n",
       "      <td>375</td>\n",
       "      <td>5.00</td>\n",
       "      <td>24</td>\n",
       "      <td>120.00</td>\n",
       "      <td>-90.720518</td>\n",
       "      <td>0000001 42.511352</td>\n",
       "    </tr>\n",
       "    <tr>\n",
       "      <th>2012-01-03</th>\n",
       "      <td>Hy-Vee Food Store / Keokuk</td>\n",
       "      <td>3111 MAIN</td>\n",
       "      <td>Keokuk</td>\n",
       "      <td>Vodka Flavored</td>\n",
       "      <td>Jim Beam Brands</td>\n",
       "      <td>Pucker Vodka 50Ml Gravity Feed</td>\n",
       "      <td>3</td>\n",
       "      <td>2000</td>\n",
       "      <td>40.02</td>\n",
       "      <td>1</td>\n",
       "      <td>40.02</td>\n",
       "      <td>-91.403752</td>\n",
       "      <td>40.41538</td>\n",
       "    </tr>\n",
       "    <tr>\n",
       "      <th>2012-01-03</th>\n",
       "      <td>Shamrock Spirits</td>\n",
       "      <td>1204 WATER ST PO BOX 177</td>\n",
       "      <td>Alden</td>\n",
       "      <td>Imported Vodka</td>\n",
       "      <td>Pernod Ricard USA/Austin Nichols</td>\n",
       "      <td>Absolut Swedish Vodka 80 Prf</td>\n",
       "      <td>12</td>\n",
       "      <td>1000</td>\n",
       "      <td>22.34</td>\n",
       "      <td>6</td>\n",
       "      <td>134.04</td>\n",
       "      <td>-93.376271</td>\n",
       "      <td>42.520423</td>\n",
       "    </tr>\n",
       "    <tr>\n",
       "      <th>2012-01-03</th>\n",
       "      <td>Save A Lot  #482</td>\n",
       "      <td>2122 MAIN ST</td>\n",
       "      <td>Keokuk</td>\n",
       "      <td>Imported Vodka</td>\n",
       "      <td>Bacardi U.S.A., Inc.</td>\n",
       "      <td>Grey Goose Vodka</td>\n",
       "      <td>6</td>\n",
       "      <td>1000</td>\n",
       "      <td>32.66</td>\n",
       "      <td>6</td>\n",
       "      <td>195.96</td>\n",
       "      <td>-91.396888</td>\n",
       "      <td>0000002 40.408821</td>\n",
       "    </tr>\n",
       "    <tr>\n",
       "      <th>2012-01-03</th>\n",
       "      <td>Hy-Vee Wine and Spirits / Hubbell</td>\n",
       "      <td>2310 HUBBELL AVE</td>\n",
       "      <td>Des Moines</td>\n",
       "      <td>Imported Schnapps</td>\n",
       "      <td>Diageo Americas</td>\n",
       "      <td>Rumple Minze Peppermint Schnapps Liqueur Mini</td>\n",
       "      <td>8</td>\n",
       "      <td>800</td>\n",
       "      <td>30.17</td>\n",
       "      <td>1</td>\n",
       "      <td>30.17</td>\n",
       "      <td>-93.573845</td>\n",
       "      <td>41.604312</td>\n",
       "    </tr>\n",
       "  </tbody>\n",
       "</table>\n",
       "</div>"
      ],
      "text/plain": [
       "                                    store_name                   address  \\\n",
       "date                                                                       \n",
       "2012-01-03  Hartig Drug Co. / JFK Rd / Dubuque    2255 JOHN F KENNEDY RD   \n",
       "2012-01-03          Hy-Vee Food Store / Keokuk                 3111 MAIN   \n",
       "2012-01-03                    Shamrock Spirits  1204 WATER ST PO BOX 177   \n",
       "2012-01-03                    Save A Lot  #482              2122 MAIN ST   \n",
       "2012-01-03   Hy-Vee Wine and Spirits / Hubbell          2310 HUBBELL AVE   \n",
       "\n",
       "                  city      category_name                       vendor_name  \\\n",
       "date                                                                          \n",
       "2012-01-03     Dubuque   Blended Whiskies                   Diageo Americas   \n",
       "2012-01-03      Keokuk     Vodka Flavored                   Jim Beam Brands   \n",
       "2012-01-03       Alden     Imported Vodka  Pernod Ricard USA/Austin Nichols   \n",
       "2012-01-03      Keokuk     Imported Vodka              Bacardi U.S.A., Inc.   \n",
       "2012-01-03  Des Moines  Imported Schnapps                   Diageo Americas   \n",
       "\n",
       "                                         item_description  pack  \\\n",
       "date                                                              \n",
       "2012-01-03                    Seagrams 7 Crown Bl Whiskey    24   \n",
       "2012-01-03                 Pucker Vodka 50Ml Gravity Feed     3   \n",
       "2012-01-03                   Absolut Swedish Vodka 80 Prf    12   \n",
       "2012-01-03                               Grey Goose Vodka     6   \n",
       "2012-01-03  Rumple Minze Peppermint Schnapps Liqueur Mini     8   \n",
       "\n",
       "            bottle_volume_ml  state_bottle_retail  bottles_sold  sale_dollars  \\\n",
       "date                                                                            \n",
       "2012-01-03               375                 5.00            24        120.00   \n",
       "2012-01-03              2000                40.02             1         40.02   \n",
       "2012-01-03              1000                22.34             6        134.04   \n",
       "2012-01-03              1000                32.66             6        195.96   \n",
       "2012-01-03               800                30.17             1         30.17   \n",
       "\n",
       "              latitude          longitude  \n",
       "date                                       \n",
       "2012-01-03  -90.720518  0000001 42.511352  \n",
       "2012-01-03  -91.403752           40.41538  \n",
       "2012-01-03  -93.376271          42.520423  \n",
       "2012-01-03  -91.396888  0000002 40.408821  \n",
       "2012-01-03  -93.573845          41.604312  "
      ]
     },
     "execution_count": 97,
     "metadata": {},
     "output_type": "execute_result"
    }
   ],
   "source": [
    "dataframe.head()"
   ]
  },
  {
   "cell_type": "code",
   "execution_count": 98,
   "id": "b23efe25",
   "metadata": {},
   "outputs": [
    {
     "data": {
      "text/html": [
       "<div>\n",
       "<style scoped>\n",
       "    .dataframe tbody tr th:only-of-type {\n",
       "        vertical-align: middle;\n",
       "    }\n",
       "\n",
       "    .dataframe tbody tr th {\n",
       "        vertical-align: top;\n",
       "    }\n",
       "\n",
       "    .dataframe thead th {\n",
       "        text-align: right;\n",
       "    }\n",
       "</style>\n",
       "<table border=\"1\" class=\"dataframe\">\n",
       "  <thead>\n",
       "    <tr style=\"text-align: right;\">\n",
       "      <th></th>\n",
       "      <th>store_name</th>\n",
       "      <th>address</th>\n",
       "      <th>city</th>\n",
       "      <th>category_name</th>\n",
       "      <th>vendor_name</th>\n",
       "      <th>item_description</th>\n",
       "      <th>pack</th>\n",
       "      <th>bottle_volume_ml</th>\n",
       "      <th>state_bottle_retail</th>\n",
       "      <th>bottles_sold</th>\n",
       "      <th>sale_dollars</th>\n",
       "      <th>latitude</th>\n",
       "      <th>longitude</th>\n",
       "      <th>order_cost</th>\n",
       "    </tr>\n",
       "    <tr>\n",
       "      <th>date</th>\n",
       "      <th></th>\n",
       "      <th></th>\n",
       "      <th></th>\n",
       "      <th></th>\n",
       "      <th></th>\n",
       "      <th></th>\n",
       "      <th></th>\n",
       "      <th></th>\n",
       "      <th></th>\n",
       "      <th></th>\n",
       "      <th></th>\n",
       "      <th></th>\n",
       "      <th></th>\n",
       "      <th></th>\n",
       "    </tr>\n",
       "  </thead>\n",
       "  <tbody>\n",
       "    <tr>\n",
       "      <th>2012-01-03</th>\n",
       "      <td>Hartig Drug Co. / JFK Rd / Dubuque</td>\n",
       "      <td>2255 JOHN F KENNEDY RD</td>\n",
       "      <td>Dubuque</td>\n",
       "      <td>Blended Whiskies</td>\n",
       "      <td>Diageo Americas</td>\n",
       "      <td>Seagrams 7 Crown Bl Whiskey</td>\n",
       "      <td>24</td>\n",
       "      <td>375</td>\n",
       "      <td>5.00</td>\n",
       "      <td>24</td>\n",
       "      <td>120.00</td>\n",
       "      <td>-90.720518</td>\n",
       "      <td>0000001 42.511352</td>\n",
       "      <td>120.0</td>\n",
       "    </tr>\n",
       "    <tr>\n",
       "      <th>2012-01-03</th>\n",
       "      <td>Hy-Vee Food Store / Keokuk</td>\n",
       "      <td>3111 MAIN</td>\n",
       "      <td>Keokuk</td>\n",
       "      <td>Vodka Flavored</td>\n",
       "      <td>Jim Beam Brands</td>\n",
       "      <td>Pucker Vodka 50Ml Gravity Feed</td>\n",
       "      <td>3</td>\n",
       "      <td>2000</td>\n",
       "      <td>40.02</td>\n",
       "      <td>1</td>\n",
       "      <td>40.02</td>\n",
       "      <td>-91.403752</td>\n",
       "      <td>40.41538</td>\n",
       "      <td>120.06</td>\n",
       "    </tr>\n",
       "    <tr>\n",
       "      <th>2012-01-03</th>\n",
       "      <td>Shamrock Spirits</td>\n",
       "      <td>1204 WATER ST PO BOX 177</td>\n",
       "      <td>Alden</td>\n",
       "      <td>Imported Vodka</td>\n",
       "      <td>Pernod Ricard USA/Austin Nichols</td>\n",
       "      <td>Absolut Swedish Vodka 80 Prf</td>\n",
       "      <td>12</td>\n",
       "      <td>1000</td>\n",
       "      <td>22.34</td>\n",
       "      <td>6</td>\n",
       "      <td>134.04</td>\n",
       "      <td>-93.376271</td>\n",
       "      <td>42.520423</td>\n",
       "      <td>268.08</td>\n",
       "    </tr>\n",
       "    <tr>\n",
       "      <th>2012-01-03</th>\n",
       "      <td>Save A Lot  #482</td>\n",
       "      <td>2122 MAIN ST</td>\n",
       "      <td>Keokuk</td>\n",
       "      <td>Imported Vodka</td>\n",
       "      <td>Bacardi U.S.A., Inc.</td>\n",
       "      <td>Grey Goose Vodka</td>\n",
       "      <td>6</td>\n",
       "      <td>1000</td>\n",
       "      <td>32.66</td>\n",
       "      <td>6</td>\n",
       "      <td>195.96</td>\n",
       "      <td>-91.396888</td>\n",
       "      <td>0000002 40.408821</td>\n",
       "      <td>195.96</td>\n",
       "    </tr>\n",
       "    <tr>\n",
       "      <th>2012-01-03</th>\n",
       "      <td>Hy-Vee Wine and Spirits / Hubbell</td>\n",
       "      <td>2310 HUBBELL AVE</td>\n",
       "      <td>Des Moines</td>\n",
       "      <td>Imported Schnapps</td>\n",
       "      <td>Diageo Americas</td>\n",
       "      <td>Rumple Minze Peppermint Schnapps Liqueur Mini</td>\n",
       "      <td>8</td>\n",
       "      <td>800</td>\n",
       "      <td>30.17</td>\n",
       "      <td>1</td>\n",
       "      <td>30.17</td>\n",
       "      <td>-93.573845</td>\n",
       "      <td>41.604312</td>\n",
       "      <td>241.36</td>\n",
       "    </tr>\n",
       "  </tbody>\n",
       "</table>\n",
       "</div>"
      ],
      "text/plain": [
       "                                    store_name                   address  \\\n",
       "date                                                                       \n",
       "2012-01-03  Hartig Drug Co. / JFK Rd / Dubuque    2255 JOHN F KENNEDY RD   \n",
       "2012-01-03          Hy-Vee Food Store / Keokuk                 3111 MAIN   \n",
       "2012-01-03                    Shamrock Spirits  1204 WATER ST PO BOX 177   \n",
       "2012-01-03                    Save A Lot  #482              2122 MAIN ST   \n",
       "2012-01-03   Hy-Vee Wine and Spirits / Hubbell          2310 HUBBELL AVE   \n",
       "\n",
       "                  city      category_name                       vendor_name  \\\n",
       "date                                                                          \n",
       "2012-01-03     Dubuque   Blended Whiskies                   Diageo Americas   \n",
       "2012-01-03      Keokuk     Vodka Flavored                   Jim Beam Brands   \n",
       "2012-01-03       Alden     Imported Vodka  Pernod Ricard USA/Austin Nichols   \n",
       "2012-01-03      Keokuk     Imported Vodka              Bacardi U.S.A., Inc.   \n",
       "2012-01-03  Des Moines  Imported Schnapps                   Diageo Americas   \n",
       "\n",
       "                                         item_description  pack  \\\n",
       "date                                                              \n",
       "2012-01-03                    Seagrams 7 Crown Bl Whiskey    24   \n",
       "2012-01-03                 Pucker Vodka 50Ml Gravity Feed     3   \n",
       "2012-01-03                   Absolut Swedish Vodka 80 Prf    12   \n",
       "2012-01-03                               Grey Goose Vodka     6   \n",
       "2012-01-03  Rumple Minze Peppermint Schnapps Liqueur Mini     8   \n",
       "\n",
       "            bottle_volume_ml  state_bottle_retail  bottles_sold  sale_dollars  \\\n",
       "date                                                                            \n",
       "2012-01-03               375                 5.00            24        120.00   \n",
       "2012-01-03              2000                40.02             1         40.02   \n",
       "2012-01-03              1000                22.34             6        134.04   \n",
       "2012-01-03              1000                32.66             6        195.96   \n",
       "2012-01-03               800                30.17             1         30.17   \n",
       "\n",
       "              latitude          longitude  order_cost  \n",
       "date                                                   \n",
       "2012-01-03  -90.720518  0000001 42.511352       120.0  \n",
       "2012-01-03  -91.403752           40.41538      120.06  \n",
       "2012-01-03  -93.376271          42.520423      268.08  \n",
       "2012-01-03  -91.396888  0000002 40.408821      195.96  \n",
       "2012-01-03  -93.573845          41.604312      241.36  "
      ]
     },
     "execution_count": 98,
     "metadata": {},
     "output_type": "execute_result"
    }
   ],
   "source": [
    "dataframe['order_cost'] = dataframe['pack'] * dataframe['state_bottle_retail']\n",
    "dataframe.head()"
   ]
  },
  {
   "cell_type": "code",
   "execution_count": 102,
   "id": "57baecaa",
   "metadata": {},
   "outputs": [
    {
     "data": {
      "image/png": "[encoded data removed]",
      "text/plain": [
       "<Figure size 432x288 with 1 Axes>"
      ]
     },
     "metadata": {
      "needs_background": "light"
     },
     "output_type": "display_data"
    }
   ],
   "source": [
    "df7 = dataframe.groupby(['city'])['order_cost'].sum().sort_values(ascending=False).head(10).plot.bar()"
   ]
  },
  {
   "cell_type": "code",
   "execution_count": 99,
   "id": "9f69639a",
   "metadata": {},
   "outputs": [
    {
     "data": {
      "text/html": [
       "<div>\n",
       "<style scoped>\n",
       "    .dataframe tbody tr th:only-of-type {\n",
       "        vertical-align: middle;\n",
       "    }\n",
       "\n",
       "    .dataframe tbody tr th {\n",
       "        vertical-align: top;\n",
       "    }\n",
       "\n",
       "    .dataframe thead th {\n",
       "        text-align: right;\n",
       "    }\n",
       "</style>\n",
       "<table border=\"1\" class=\"dataframe\">\n",
       "  <thead>\n",
       "    <tr style=\"text-align: right;\">\n",
       "      <th></th>\n",
       "      <th>City</th>\n",
       "      <th>Order_cost</th>\n",
       "    </tr>\n",
       "    <tr>\n",
       "      <th>date</th>\n",
       "      <th></th>\n",
       "      <th></th>\n",
       "    </tr>\n",
       "  </thead>\n",
       "  <tbody>\n",
       "    <tr>\n",
       "      <th>2012</th>\n",
       "      <td>Des Moines</td>\n",
       "      <td>2476234.88</td>\n",
       "    </tr>\n",
       "    <tr>\n",
       "      <th>2013</th>\n",
       "      <td>Des Moines</td>\n",
       "      <td>2528625.69</td>\n",
       "    </tr>\n",
       "    <tr>\n",
       "      <th>2014</th>\n",
       "      <td>Des Moines</td>\n",
       "      <td>2756254.88</td>\n",
       "    </tr>\n",
       "    <tr>\n",
       "      <th>2015</th>\n",
       "      <td>Des Moines</td>\n",
       "      <td>2769729.82</td>\n",
       "    </tr>\n",
       "    <tr>\n",
       "      <th>2016</th>\n",
       "      <td>Des Moines</td>\n",
       "      <td>2960624.91</td>\n",
       "    </tr>\n",
       "    <tr>\n",
       "      <th>2017</th>\n",
       "      <td>Des Moines</td>\n",
       "      <td>2990640.66</td>\n",
       "    </tr>\n",
       "    <tr>\n",
       "      <th>2018</th>\n",
       "      <td>Des Moines</td>\n",
       "      <td>3001465.76</td>\n",
       "    </tr>\n",
       "    <tr>\n",
       "      <th>2019</th>\n",
       "      <td>Des Moines</td>\n",
       "      <td>2994153.22</td>\n",
       "    </tr>\n",
       "    <tr>\n",
       "      <th>2020</th>\n",
       "      <td>Des Moines</td>\n",
       "      <td>3112450.49</td>\n",
       "    </tr>\n",
       "    <tr>\n",
       "      <th>2021</th>\n",
       "      <td>Des Moines</td>\n",
       "      <td>3046666.53</td>\n",
       "    </tr>\n",
       "    <tr>\n",
       "      <th>2022</th>\n",
       "      <td>Des Moines</td>\n",
       "      <td>1505968.32</td>\n",
       "    </tr>\n",
       "  </tbody>\n",
       "</table>\n",
       "</div>"
      ],
      "text/plain": [
       "            City  Order_cost\n",
       "date                        \n",
       "2012  Des Moines  2476234.88\n",
       "2013  Des Moines  2528625.69\n",
       "2014  Des Moines  2756254.88\n",
       "2015  Des Moines  2769729.82\n",
       "2016  Des Moines  2960624.91\n",
       "2017  Des Moines  2990640.66\n",
       "2018  Des Moines  3001465.76\n",
       "2019  Des Moines  2994153.22\n",
       "2020  Des Moines  3112450.49\n",
       "2021  Des Moines  3046666.53\n",
       "2022  Des Moines  1505968.32"
      ]
     },
     "execution_count": 99,
     "metadata": {},
     "output_type": "execute_result"
    }
   ],
   "source": [
    "# Create new dataframe as df7\n",
    "df7 = dataframe.groupby(['city', dataframe.index.year])['order_cost'].sum().sort_values(ascending=False).unstack()\n",
    "\n",
    "# Create new dataframe as df8 for simplifying df7\n",
    "df8 = pd.DataFrame({'City':df7.idxmax(), 'Order_cost': df7.max()})\n",
    "df8"
   ]
  },
  {
   "cell_type": "code",
   "execution_count": 100,
   "id": "bd7fb54f",
   "metadata": {},
   "outputs": [
    {
     "data": {
      "image/png": "[encoded data removed]",
      "text/plain": [
       "<Figure size 432x288 with 1 Axes>"
      ]
     },
     "metadata": {
      "needs_background": "light"
     },
     "output_type": "display_data"
    }
   ],
   "source": [
    "# Groupby dataset df8 by city and cost order\n",
    "df8.groupby([df8.index, 'City'])['Order_cost'].sum()\n",
    "\n",
    "fig, ax = plt.subplots()\n",
    "ax = df8.groupby([df8.index, 'City'])['Order_cost'].sum().plot(kind='bar', color=['C6','C8'], xlabel='City, Cost Order Spend')"
   ]
  },
  {
   "cell_type": "markdown",
   "id": "8fc8854f",
   "metadata": {},
   "source": [
    "```NOTE```"
   ]
  },
  {
   "cell_type": "markdown",
   "id": "d67c45d9",
   "metadata": {},
   "source": [
    "### Diagnostic Analytics\n",
    "1. The higher place liquor less sold? if yes, then it is affect on what liquor sold most?\n",
    "2. Why on specific date liquor sales lower/higher\n",
    "3. Why this area have low liquor sales?"
   ]
  },
  {
   "cell_type": "markdown",
   "id": "2a6d7c2f",
   "metadata": {},
   "source": [
    "```CODE```"
   ]
  },
  {
   "cell_type": "code",
   "execution_count": null,
   "id": "2f031523",
   "metadata": {},
   "outputs": [],
   "source": []
  }
 ],
 "metadata": {
  "kernelspec": {
   "display_name": "Python 3",
   "language": "python",
   "name": "python3"
  },
  "language_info": {
   "codemirror_mode": {
    "name": "ipython",
    "version": 3
   },
   "file_extension": ".py",
   "mimetype": "text/x-python",
   "name": "python",
   "nbconvert_exporter": "python",
   "pygments_lexer": "ipython3",
   "version": "3.8.8"
  }
 },
 "nbformat": 4,
 "nbformat_minor": 5
}
