{
 "cells": [
  {
   "cell_type": "code",
   "execution_count": 1,
   "id": "22f4bc0f",
   "metadata": {},
   "outputs": [],
   "source": [
    "import pandas as pd\n",
    "import matplotlib.pyplot as plt\n",
    "import numpy as np\n",
    "plt.rcParams['font.family']='Times New Roman'\n",
    "import warnings\n",
    "warnings.filterwarnings('ignore')"
   ]
  },
  {
   "cell_type": "code",
   "execution_count": 2,
   "id": "3d2e1453",
   "metadata": {},
   "outputs": [],
   "source": [
    "# Data Reading\n",
    "# Data Cleansing\n",
    "# Data Wrangling\n",
    "# Data Filtering and Exploration Data Analysis (EDA)\n",
    "# Data Visualization"
   ]
  },
  {
   "cell_type": "markdown",
   "id": "231eaae4",
   "metadata": {},
   "source": [
    "##  Data Reading"
   ]
  },
  {
   "cell_type": "code",
   "execution_count": 3,
   "id": "eb453bec",
   "metadata": {},
   "outputs": [
    {
     "data": {
      "text/html": [
       "<div>\n",
       "<style scoped>\n",
       "    .dataframe tbody tr th:only-of-type {\n",
       "        vertical-align: middle;\n",
       "    }\n",
       "\n",
       "    .dataframe tbody tr th {\n",
       "        vertical-align: top;\n",
       "    }\n",
       "\n",
       "    .dataframe thead th {\n",
       "        text-align: right;\n",
       "    }\n",
       "</style>\n",
       "<table border=\"1\" class=\"dataframe\">\n",
       "  <thead>\n",
       "    <tr style=\"text-align: right;\">\n",
       "      <th></th>\n",
       "      <th>tahun</th>\n",
       "      <th>nama_provinsi</th>\n",
       "      <th>nama_kabupaten/kota</th>\n",
       "      <th>nama_kecamatan</th>\n",
       "      <th>nama_kelurahan</th>\n",
       "      <th>usia</th>\n",
       "      <th>jenis_kelamin</th>\n",
       "      <th>jumlah</th>\n",
       "    </tr>\n",
       "  </thead>\n",
       "  <tbody>\n",
       "    <tr>\n",
       "      <th>0</th>\n",
       "      <td>2016</td>\n",
       "      <td>PROVINSI DKI JAKARTA</td>\n",
       "      <td>KAB.ADM.KEP.SERIBU</td>\n",
       "      <td>KEP. SERIBU UTR</td>\n",
       "      <td>P. PANGGANG</td>\n",
       "      <td>15 s.d 64</td>\n",
       "      <td>Laki-laki</td>\n",
       "      <td>68</td>\n",
       "    </tr>\n",
       "    <tr>\n",
       "      <th>1</th>\n",
       "      <td>2016</td>\n",
       "      <td>PROVINSI DKI JAKARTA</td>\n",
       "      <td>KAB.ADM.KEP.SERIBU</td>\n",
       "      <td>KEP. SERIBU UTR</td>\n",
       "      <td>P. KELAPA</td>\n",
       "      <td>15 s.d 64</td>\n",
       "      <td>Laki-laki</td>\n",
       "      <td>80</td>\n",
       "    </tr>\n",
       "    <tr>\n",
       "      <th>2</th>\n",
       "      <td>2016</td>\n",
       "      <td>PROVINSI DKI JAKARTA</td>\n",
       "      <td>KAB.ADM.KEP.SERIBU</td>\n",
       "      <td>KEP. SERIBU UTR</td>\n",
       "      <td>P. HARAPAN</td>\n",
       "      <td>15 s.d 64</td>\n",
       "      <td>Laki-laki</td>\n",
       "      <td>19</td>\n",
       "    </tr>\n",
       "    <tr>\n",
       "      <th>3</th>\n",
       "      <td>2016</td>\n",
       "      <td>PROVINSI DKI JAKARTA</td>\n",
       "      <td>KAB.ADM.KEP.SERIBU</td>\n",
       "      <td>KEP. SERIBU SLT</td>\n",
       "      <td>P. UNTUNG JAWA</td>\n",
       "      <td>15 s.d 64</td>\n",
       "      <td>Laki-laki</td>\n",
       "      <td>18</td>\n",
       "    </tr>\n",
       "    <tr>\n",
       "      <th>4</th>\n",
       "      <td>2016</td>\n",
       "      <td>PROVINSI DKI JAKARTA</td>\n",
       "      <td>KAB.ADM.KEP.SERIBU</td>\n",
       "      <td>KEP. SERIBU SLT</td>\n",
       "      <td>P. TIDUNG</td>\n",
       "      <td>15 s.d 64</td>\n",
       "      <td>Laki-laki</td>\n",
       "      <td>59</td>\n",
       "    </tr>\n",
       "  </tbody>\n",
       "</table>\n",
       "</div>"
      ],
      "text/plain": [
       "   tahun         nama_provinsi nama_kabupaten/kota   nama_kecamatan  \\\n",
       "0   2016  PROVINSI DKI JAKARTA  KAB.ADM.KEP.SERIBU  KEP. SERIBU UTR   \n",
       "1   2016  PROVINSI DKI JAKARTA  KAB.ADM.KEP.SERIBU  KEP. SERIBU UTR   \n",
       "2   2016  PROVINSI DKI JAKARTA  KAB.ADM.KEP.SERIBU  KEP. SERIBU UTR   \n",
       "3   2016  PROVINSI DKI JAKARTA  KAB.ADM.KEP.SERIBU  KEP. SERIBU SLT   \n",
       "4   2016  PROVINSI DKI JAKARTA  KAB.ADM.KEP.SERIBU  KEP. SERIBU SLT   \n",
       "\n",
       "   nama_kelurahan       usia jenis_kelamin  jumlah  \n",
       "0     P. PANGGANG  15 s.d 64     Laki-laki      68  \n",
       "1       P. KELAPA  15 s.d 64     Laki-laki      80  \n",
       "2      P. HARAPAN  15 s.d 64     Laki-laki      19  \n",
       "3  P. UNTUNG JAWA  15 s.d 64     Laki-laki      18  \n",
       "4       P. TIDUNG  15 s.d 64     Laki-laki      59  "
      ]
     },
     "execution_count": 3,
     "metadata": {},
     "output_type": "execute_result"
    }
   ],
   "source": [
    "df = pd.read_csv('data-jumlah-penduduk-penggangguran-tahun-2016.csv')\n",
    "df.head()"
   ]
  },
  {
   "cell_type": "code",
   "execution_count": 4,
   "id": "543022dc",
   "metadata": {},
   "outputs": [
    {
     "data": {
      "text/plain": [
       "(534, 8)"
      ]
     },
     "execution_count": 4,
     "metadata": {},
     "output_type": "execute_result"
    }
   ],
   "source": [
    "df.shape"
   ]
  },
  {
   "cell_type": "code",
   "execution_count": 5,
   "id": "310f016d",
   "metadata": {},
   "outputs": [
    {
     "data": {
      "text/plain": [
       "Index(['tahun', 'nama_provinsi', 'nama_kabupaten/kota', 'nama_kecamatan',\n",
       "       'nama_kelurahan', 'usia', 'jenis_kelamin', 'jumlah'],\n",
       "      dtype='object')"
      ]
     },
     "execution_count": 5,
     "metadata": {},
     "output_type": "execute_result"
    }
   ],
   "source": [
    "df.columns"
   ]
  },
  {
   "cell_type": "code",
   "execution_count": 6,
   "id": "d8a877c9",
   "metadata": {},
   "outputs": [
    {
     "name": "stdout",
     "output_type": "stream",
     "text": [
      "<class 'pandas.core.frame.DataFrame'>\n",
      "RangeIndex: 534 entries, 0 to 533\n",
      "Data columns (total 8 columns):\n",
      " #   Column               Non-Null Count  Dtype \n",
      "---  ------               --------------  ----- \n",
      " 0   tahun                534 non-null    int64 \n",
      " 1   nama_provinsi        534 non-null    object\n",
      " 2   nama_kabupaten/kota  534 non-null    object\n",
      " 3   nama_kecamatan       534 non-null    object\n",
      " 4   nama_kelurahan       534 non-null    object\n",
      " 5   usia                 534 non-null    object\n",
      " 6   jenis_kelamin        534 non-null    object\n",
      " 7   jumlah               534 non-null    int64 \n",
      "dtypes: int64(2), object(6)\n",
      "memory usage: 33.5+ KB\n"
     ]
    }
   ],
   "source": [
    "df.info()"
   ]
  },
  {
   "cell_type": "markdown",
   "id": "d18e74d9",
   "metadata": {},
   "source": [
    "### Dummy Reading"
   ]
  },
  {
   "cell_type": "code",
   "execution_count": 7,
   "id": "a02724cf",
   "metadata": {},
   "outputs": [
    {
     "data": {
      "text/plain": [
       "2016    534\n",
       "Name: tahun, dtype: int64"
      ]
     },
     "execution_count": 7,
     "metadata": {},
     "output_type": "execute_result"
    }
   ],
   "source": [
    "df['tahun'].value_counts()"
   ]
  },
  {
   "cell_type": "code",
   "execution_count": 8,
   "id": "140a5678",
   "metadata": {},
   "outputs": [
    {
     "data": {
      "text/plain": [
       "PROVINSI DKI JAKARTA    534\n",
       "Name: nama_provinsi, dtype: int64"
      ]
     },
     "execution_count": 8,
     "metadata": {},
     "output_type": "execute_result"
    }
   ],
   "source": [
    "df['nama_provinsi'].value_counts()"
   ]
  },
  {
   "cell_type": "code",
   "execution_count": 9,
   "id": "78adb3dc",
   "metadata": {},
   "outputs": [
    {
     "data": {
      "text/plain": [
       "JAKARTA TIMUR         130\n",
       "JAKARTA SELATAN       130\n",
       "JAKARTA BARAT         112\n",
       "JAKARTA PUSAT          88\n",
       "JAKARTA UTARA          62\n",
       "KAB.ADM.KEP.SERIBU     12\n",
       "Name: nama_kabupaten/kota, dtype: int64"
      ]
     },
     "execution_count": 9,
     "metadata": {},
     "output_type": "execute_result"
    }
   ],
   "source": [
    "df['nama_kabupaten/kota'].value_counts()"
   ]
  },
  {
   "cell_type": "code",
   "execution_count": 10,
   "id": "7e48d2a8",
   "metadata": {},
   "outputs": [
    {
     "data": {
      "text/plain": [
       "TAMBORA              22\n",
       "KEBAYORAN BARU       20\n",
       "CIPAYUNG             16\n",
       "KEMAYORAN            16\n",
       "JATINEGARA           16\n",
       "SETIA BUDI           16\n",
       "TAMAN SARI           16\n",
       "TANJUNG PRIOK        14\n",
       "GROGOL PETAMBURAN    14\n",
       "TANAH ABANG          14\n",
       "PASAR MINGGU         14\n",
       "DUREN SAWIT          14\n",
       "PULO GADUNG          14\n",
       "CILINCING            14\n",
       "KRAMAT JATI          14\n",
       "CAKUNG               14\n",
       "TEBET                14\n",
       "KEBON JERUK          14\n",
       "MATRAMAN             12\n",
       "CENGKARENG           12\n",
       "KEBAYORAN LAMA       12\n",
       "SENEN                12\n",
       "JAGAKARSA            12\n",
       "PANCORAN             12\n",
       "PALMERAH             12\n",
       "GAMBIR               12\n",
       "KEMBANGAN            12\n",
       "KOJA                 12\n",
       "KALI DERES           10\n",
       "SAWAH BESAR          10\n",
       "PESANGGRAHAN         10\n",
       "PENJARINGAN          10\n",
       "MAMPANG PRAPATAN     10\n",
       "MENTENG              10\n",
       "PASAR REBO           10\n",
       "CIRACAS              10\n",
       "MAKASAR              10\n",
       "CILANDAK             10\n",
       "JOHAR BARU            8\n",
       "KEP. SERIBU SLT       6\n",
       "KEP. SERIBU UTR       6\n",
       "PADEMANGAN            6\n",
       "CEMPAKA PUTIH         6\n",
       "KELAPA GADING         6\n",
       "Name: nama_kecamatan, dtype: int64"
      ]
     },
     "execution_count": 10,
     "metadata": {},
     "output_type": "execute_result"
    }
   ],
   "source": [
    "df['nama_kecamatan'].value_counts()"
   ]
  },
  {
   "cell_type": "code",
   "execution_count": 11,
   "id": "cd6db974",
   "metadata": {},
   "outputs": [
    {
     "data": {
      "text/plain": [
       "KWITANG              2\n",
       "SERDANG              2\n",
       "KEMBANGAN SELATAN    2\n",
       "KOJA                 2\n",
       "DUREN SAWIT          2\n",
       "                    ..\n",
       "KEBAGUSAN            2\n",
       "PESANGGRAHAN         2\n",
       "KEBON BAWANG         2\n",
       "KAPUK MUARA          2\n",
       "BATU AMPAR           2\n",
       "Name: nama_kelurahan, Length: 267, dtype: int64"
      ]
     },
     "execution_count": 11,
     "metadata": {},
     "output_type": "execute_result"
    }
   ],
   "source": [
    "df['nama_kelurahan'].value_counts()"
   ]
  },
  {
   "cell_type": "code",
   "execution_count": 12,
   "id": "a80cf114",
   "metadata": {},
   "outputs": [
    {
     "data": {
      "text/plain": [
       "15 s.d 64    534\n",
       "Name: usia, dtype: int64"
      ]
     },
     "execution_count": 12,
     "metadata": {},
     "output_type": "execute_result"
    }
   ],
   "source": [
    "df['usia'].value_counts()"
   ]
  },
  {
   "cell_type": "code",
   "execution_count": 13,
   "id": "0a7b4500",
   "metadata": {},
   "outputs": [
    {
     "data": {
      "text/plain": [
       "Laki-laki    267\n",
       "Perempuan    267\n",
       "Name: jenis_kelamin, dtype: int64"
      ]
     },
     "execution_count": 13,
     "metadata": {},
     "output_type": "execute_result"
    }
   ],
   "source": [
    "df['jenis_kelamin'].value_counts()"
   ]
  },
  {
   "cell_type": "code",
   "execution_count": 14,
   "id": "381c703f",
   "metadata": {},
   "outputs": [
    {
     "data": {
      "text/plain": [
       "42     9\n",
       "101    9\n",
       "58     7\n",
       "46     7\n",
       "34     7\n",
       "      ..\n",
       "159    1\n",
       "156    1\n",
       "155    1\n",
       "152    1\n",
       "730    1\n",
       "Name: jumlah, Length: 211, dtype: int64"
      ]
     },
     "execution_count": 14,
     "metadata": {},
     "output_type": "execute_result"
    }
   ],
   "source": [
    "df['jumlah'].value_counts()"
   ]
  },
  {
   "cell_type": "markdown",
   "id": "dbc69918",
   "metadata": {},
   "source": [
    "## Data Cleansing"
   ]
  },
  {
   "cell_type": "markdown",
   "id": "b1a7498a",
   "metadata": {},
   "source": [
    "### Check is there any NaN/Null values in dataframe ?"
   ]
  },
  {
   "cell_type": "code",
   "execution_count": 15,
   "id": "fafda654",
   "metadata": {},
   "outputs": [
    {
     "data": {
      "text/plain": [
       "False"
      ]
     },
     "execution_count": 15,
     "metadata": {},
     "output_type": "execute_result"
    }
   ],
   "source": [
    "df.isnull().values.any()"
   ]
  },
  {
   "cell_type": "code",
   "execution_count": 16,
   "id": "c2a2a7bb",
   "metadata": {},
   "outputs": [
    {
     "data": {
      "text/plain": [
       "0"
      ]
     },
     "execution_count": 16,
     "metadata": {},
     "output_type": "execute_result"
    }
   ],
   "source": [
    "df.isnull().values.sum()"
   ]
  },
  {
   "cell_type": "code",
   "execution_count": 17,
   "id": "2281615a",
   "metadata": {},
   "outputs": [
    {
     "data": {
      "text/plain": [
       "tahun                  False\n",
       "nama_provinsi          False\n",
       "nama_kabupaten/kota    False\n",
       "nama_kecamatan         False\n",
       "nama_kelurahan         False\n",
       "usia                   False\n",
       "jenis_kelamin          False\n",
       "jumlah                 False\n",
       "dtype: bool"
      ]
     },
     "execution_count": 17,
     "metadata": {},
     "output_type": "execute_result"
    }
   ],
   "source": [
    "df.isnull().any()"
   ]
  },
  {
   "cell_type": "code",
   "execution_count": 18,
   "id": "808dba66",
   "metadata": {},
   "outputs": [
    {
     "data": {
      "text/plain": [
       "tahun                  0\n",
       "nama_provinsi          0\n",
       "nama_kabupaten/kota    0\n",
       "nama_kecamatan         0\n",
       "nama_kelurahan         0\n",
       "usia                   0\n",
       "jenis_kelamin          0\n",
       "jumlah                 0\n",
       "dtype: int64"
      ]
     },
     "execution_count": 18,
     "metadata": {},
     "output_type": "execute_result"
    }
   ],
   "source": [
    "df.isnull().sum()"
   ]
  },
  {
   "cell_type": "markdown",
   "id": "ae9317d4",
   "metadata": {},
   "source": [
    "## Data Wrangling"
   ]
  },
  {
   "cell_type": "code",
   "execution_count": 19,
   "id": "9a8e3b88",
   "metadata": {},
   "outputs": [],
   "source": [
    "# Drop column\n",
    "# Add column\n",
    "# Transpose datashape\n",
    "# Change datatype\n",
    "# Change column name"
   ]
  },
  {
   "cell_type": "code",
   "execution_count": 20,
   "id": "81a4c77d",
   "metadata": {},
   "outputs": [],
   "source": [
    "dfnew = df\n",
    "dfnew.drop(['tahun','nama_provinsi','usia'], axis=1, inplace=True)"
   ]
  },
  {
   "cell_type": "code",
   "execution_count": 21,
   "id": "8ff1c6b5",
   "metadata": {},
   "outputs": [
    {
     "data": {
      "text/html": [
       "<div>\n",
       "<style scoped>\n",
       "    .dataframe tbody tr th:only-of-type {\n",
       "        vertical-align: middle;\n",
       "    }\n",
       "\n",
       "    .dataframe tbody tr th {\n",
       "        vertical-align: top;\n",
       "    }\n",
       "\n",
       "    .dataframe thead th {\n",
       "        text-align: right;\n",
       "    }\n",
       "</style>\n",
       "<table border=\"1\" class=\"dataframe\">\n",
       "  <thead>\n",
       "    <tr style=\"text-align: right;\">\n",
       "      <th></th>\n",
       "      <th>nama_kabupaten/kota</th>\n",
       "      <th>nama_kecamatan</th>\n",
       "      <th>nama_kelurahan</th>\n",
       "      <th>jenis_kelamin</th>\n",
       "      <th>jumlah</th>\n",
       "    </tr>\n",
       "  </thead>\n",
       "  <tbody>\n",
       "    <tr>\n",
       "      <th>0</th>\n",
       "      <td>KAB.ADM.KEP.SERIBU</td>\n",
       "      <td>KEP. SERIBU UTR</td>\n",
       "      <td>P. PANGGANG</td>\n",
       "      <td>Laki-laki</td>\n",
       "      <td>68</td>\n",
       "    </tr>\n",
       "    <tr>\n",
       "      <th>1</th>\n",
       "      <td>KAB.ADM.KEP.SERIBU</td>\n",
       "      <td>KEP. SERIBU UTR</td>\n",
       "      <td>P. KELAPA</td>\n",
       "      <td>Laki-laki</td>\n",
       "      <td>80</td>\n",
       "    </tr>\n",
       "    <tr>\n",
       "      <th>2</th>\n",
       "      <td>KAB.ADM.KEP.SERIBU</td>\n",
       "      <td>KEP. SERIBU UTR</td>\n",
       "      <td>P. HARAPAN</td>\n",
       "      <td>Laki-laki</td>\n",
       "      <td>19</td>\n",
       "    </tr>\n",
       "    <tr>\n",
       "      <th>3</th>\n",
       "      <td>KAB.ADM.KEP.SERIBU</td>\n",
       "      <td>KEP. SERIBU SLT</td>\n",
       "      <td>P. UNTUNG JAWA</td>\n",
       "      <td>Laki-laki</td>\n",
       "      <td>18</td>\n",
       "    </tr>\n",
       "    <tr>\n",
       "      <th>4</th>\n",
       "      <td>KAB.ADM.KEP.SERIBU</td>\n",
       "      <td>KEP. SERIBU SLT</td>\n",
       "      <td>P. TIDUNG</td>\n",
       "      <td>Laki-laki</td>\n",
       "      <td>59</td>\n",
       "    </tr>\n",
       "  </tbody>\n",
       "</table>\n",
       "</div>"
      ],
      "text/plain": [
       "  nama_kabupaten/kota   nama_kecamatan  nama_kelurahan jenis_kelamin  jumlah\n",
       "0  KAB.ADM.KEP.SERIBU  KEP. SERIBU UTR     P. PANGGANG     Laki-laki      68\n",
       "1  KAB.ADM.KEP.SERIBU  KEP. SERIBU UTR       P. KELAPA     Laki-laki      80\n",
       "2  KAB.ADM.KEP.SERIBU  KEP. SERIBU UTR      P. HARAPAN     Laki-laki      19\n",
       "3  KAB.ADM.KEP.SERIBU  KEP. SERIBU SLT  P. UNTUNG JAWA     Laki-laki      18\n",
       "4  KAB.ADM.KEP.SERIBU  KEP. SERIBU SLT       P. TIDUNG     Laki-laki      59"
      ]
     },
     "execution_count": 21,
     "metadata": {},
     "output_type": "execute_result"
    }
   ],
   "source": [
    "dfnew.head()"
   ]
  },
  {
   "cell_type": "code",
   "execution_count": 22,
   "id": "0b37c6ed",
   "metadata": {},
   "outputs": [
    {
     "data": {
      "text/plain": [
       "(534, 5)"
      ]
     },
     "execution_count": 22,
     "metadata": {},
     "output_type": "execute_result"
    }
   ],
   "source": [
    "dfnew.shape"
   ]
  },
  {
   "cell_type": "code",
   "execution_count": 23,
   "id": "07cec94b",
   "metadata": {},
   "outputs": [
    {
     "data": {
      "text/plain": [
       "Index(['nama_kabupaten/kota', 'nama_kecamatan', 'nama_kelurahan',\n",
       "       'jenis_kelamin', 'jumlah'],\n",
       "      dtype='object')"
      ]
     },
     "execution_count": 23,
     "metadata": {},
     "output_type": "execute_result"
    }
   ],
   "source": [
    "dfnew.columns"
   ]
  },
  {
   "cell_type": "code",
   "execution_count": 24,
   "id": "1b728f06",
   "metadata": {},
   "outputs": [
    {
     "name": "stdout",
     "output_type": "stream",
     "text": [
      "<class 'pandas.core.frame.DataFrame'>\n",
      "RangeIndex: 534 entries, 0 to 533\n",
      "Data columns (total 5 columns):\n",
      " #   Column               Non-Null Count  Dtype \n",
      "---  ------               --------------  ----- \n",
      " 0   nama_kabupaten/kota  534 non-null    object\n",
      " 1   nama_kecamatan       534 non-null    object\n",
      " 2   nama_kelurahan       534 non-null    object\n",
      " 3   jenis_kelamin        534 non-null    object\n",
      " 4   jumlah               534 non-null    int64 \n",
      "dtypes: int64(1), object(4)\n",
      "memory usage: 21.0+ KB\n"
     ]
    }
   ],
   "source": [
    "dfnew.info()"
   ]
  },
  {
   "cell_type": "markdown",
   "id": "398f62b6",
   "metadata": {},
   "source": [
    "## Data Filtering and Exploration Data Analysis (EDA) 1"
   ]
  },
  {
   "cell_type": "code",
   "execution_count": 25,
   "id": "74f228a0",
   "metadata": {},
   "outputs": [
    {
     "name": "stdout",
     "output_type": "stream",
     "text": [
      "Total Pengangguran Tahun 2016 :54,777 Orang\n"
     ]
    }
   ],
   "source": [
    "total = sum(list(df['jumlah']))\n",
    "print(\"Total Pengangguran Tahun 2016 :{:,}\".format(total), \"Orang\")"
   ]
  },
  {
   "cell_type": "markdown",
   "id": "4f623780",
   "metadata": {},
   "source": [
    "### Grouping data by column nama_kabupaten/kota"
   ]
  },
  {
   "cell_type": "code",
   "execution_count": 26,
   "id": "c5a6ab4a",
   "metadata": {},
   "outputs": [
    {
     "data": {
      "text/html": [
       "<div>\n",
       "<style scoped>\n",
       "    .dataframe tbody tr th:only-of-type {\n",
       "        vertical-align: middle;\n",
       "    }\n",
       "\n",
       "    .dataframe tbody tr th {\n",
       "        vertical-align: top;\n",
       "    }\n",
       "\n",
       "    .dataframe thead th {\n",
       "        text-align: right;\n",
       "    }\n",
       "</style>\n",
       "<table border=\"1\" class=\"dataframe\">\n",
       "  <thead>\n",
       "    <tr style=\"text-align: right;\">\n",
       "      <th></th>\n",
       "      <th>jumlah</th>\n",
       "    </tr>\n",
       "    <tr>\n",
       "      <th>nama_kabupaten/kota</th>\n",
       "      <th></th>\n",
       "    </tr>\n",
       "  </thead>\n",
       "  <tbody>\n",
       "    <tr>\n",
       "      <th>JAKARTA BARAT</th>\n",
       "      <td>10747</td>\n",
       "    </tr>\n",
       "    <tr>\n",
       "      <th>JAKARTA PUSAT</th>\n",
       "      <td>7186</td>\n",
       "    </tr>\n",
       "    <tr>\n",
       "      <th>JAKARTA SELATAN</th>\n",
       "      <td>6871</td>\n",
       "    </tr>\n",
       "    <tr>\n",
       "      <th>JAKARTA TIMUR</th>\n",
       "      <td>18487</td>\n",
       "    </tr>\n",
       "    <tr>\n",
       "      <th>JAKARTA UTARA</th>\n",
       "      <td>10991</td>\n",
       "    </tr>\n",
       "  </tbody>\n",
       "</table>\n",
       "</div>"
      ],
      "text/plain": [
       "                     jumlah\n",
       "nama_kabupaten/kota        \n",
       "JAKARTA BARAT         10747\n",
       "JAKARTA PUSAT          7186\n",
       "JAKARTA SELATAN        6871\n",
       "JAKARTA TIMUR         18487\n",
       "JAKARTA UTARA         10991"
      ]
     },
     "execution_count": 26,
     "metadata": {},
     "output_type": "execute_result"
    }
   ],
   "source": [
    "dfnew_city = dfnew.groupby(['nama_kabupaten/kota']).sum()\n",
    "dfnew_city.head()"
   ]
  },
  {
   "cell_type": "code",
   "execution_count": 27,
   "id": "08da404b",
   "metadata": {},
   "outputs": [
    {
     "data": {
      "text/plain": [
       "54777"
      ]
     },
     "execution_count": 27,
     "metadata": {},
     "output_type": "execute_result"
    }
   ],
   "source": [
    "# Cek apakah benar jumlah total pengangguran = 54,777 orang\n",
    "dummy= sum(list(dfnew_city['jumlah']))\n",
    "dummy"
   ]
  },
  {
   "cell_type": "code",
   "execution_count": 28,
   "id": "a61a4e54",
   "metadata": {},
   "outputs": [
    {
     "data": {
      "text/plain": [
       "array(['JAKARTA BARAT', 'JAKARTA PUSAT', 'JAKARTA SELATAN',\n",
       "       'JAKARTA TIMUR', 'JAKARTA UTARA', 'KAB.ADM.KEP.SERIBU'],\n",
       "      dtype=object)"
      ]
     },
     "execution_count": 28,
     "metadata": {},
     "output_type": "execute_result"
    }
   ],
   "source": [
    "dfnew_city.index.values"
   ]
  },
  {
   "cell_type": "code",
   "execution_count": 29,
   "id": "0d23c300",
   "metadata": {},
   "outputs": [
    {
     "data": {
      "text/html": [
       "<div>\n",
       "<style scoped>\n",
       "    .dataframe tbody tr th:only-of-type {\n",
       "        vertical-align: middle;\n",
       "    }\n",
       "\n",
       "    .dataframe tbody tr th {\n",
       "        vertical-align: top;\n",
       "    }\n",
       "\n",
       "    .dataframe thead th {\n",
       "        text-align: right;\n",
       "    }\n",
       "</style>\n",
       "<table border=\"1\" class=\"dataframe\">\n",
       "  <thead>\n",
       "    <tr style=\"text-align: right;\">\n",
       "      <th></th>\n",
       "      <th>jumlah</th>\n",
       "    </tr>\n",
       "    <tr>\n",
       "      <th>nama_kabupaten/kota</th>\n",
       "      <th></th>\n",
       "    </tr>\n",
       "  </thead>\n",
       "  <tbody>\n",
       "    <tr>\n",
       "      <th>KAB.ADM.KEP.SERIBU</th>\n",
       "      <td>495</td>\n",
       "    </tr>\n",
       "    <tr>\n",
       "      <th>JAKARTA SELATAN</th>\n",
       "      <td>6871</td>\n",
       "    </tr>\n",
       "    <tr>\n",
       "      <th>JAKARTA PUSAT</th>\n",
       "      <td>7186</td>\n",
       "    </tr>\n",
       "    <tr>\n",
       "      <th>JAKARTA BARAT</th>\n",
       "      <td>10747</td>\n",
       "    </tr>\n",
       "    <tr>\n",
       "      <th>JAKARTA UTARA</th>\n",
       "      <td>10991</td>\n",
       "    </tr>\n",
       "  </tbody>\n",
       "</table>\n",
       "</div>"
      ],
      "text/plain": [
       "                     jumlah\n",
       "nama_kabupaten/kota        \n",
       "KAB.ADM.KEP.SERIBU      495\n",
       "JAKARTA SELATAN        6871\n",
       "JAKARTA PUSAT          7186\n",
       "JAKARTA BARAT         10747\n",
       "JAKARTA UTARA         10991"
      ]
     },
     "execution_count": 29,
     "metadata": {},
     "output_type": "execute_result"
    }
   ],
   "source": [
    "dfnew_city = dfnew_city.sort_values(by=['jumlah'])\n",
    "dfnew_city.head()"
   ]
  },
  {
   "cell_type": "code",
   "execution_count": 30,
   "id": "9ee5ef52",
   "metadata": {},
   "outputs": [
    {
     "name": "stdout",
     "output_type": "stream",
     "text": [
      "Jumlah penduduk pengangguran berdasarkan tiap kota di Provinsi DKI Jakarta tahun 2016\n",
      "\n",
      "Kota KAB.ADM.KEP.SERIBU memiliki pengangguran sebanyak 495 orang.\n",
      "Kota JAKARTA SELATAN memiliki pengangguran sebanyak 6,871 orang.\n",
      "Kota JAKARTA PUSAT memiliki pengangguran sebanyak 7,186 orang.\n",
      "Kota JAKARTA BARAT memiliki pengangguran sebanyak 10,747 orang.\n",
      "Kota JAKARTA UTARA memiliki pengangguran sebanyak 10,991 orang.\n",
      "Kota JAKARTA TIMUR memiliki pengangguran sebanyak 18,487 orang.\n"
     ]
    }
   ],
   "source": [
    "print(\"Jumlah penduduk pengangguran berdasarkan tiap kota di Provinsi DKI Jakarta tahun 2016\\n\")\n",
    "for i in range(len(dfnew_city)):\n",
    "    print(\"Kota\", dfnew_city.index[i], \"memiliki pengangguran sebanyak {:,}\".format(dfnew_city['jumlah'][i]), \"orang.\" )"
   ]
  },
  {
   "cell_type": "markdown",
   "id": "51dc2751",
   "metadata": {},
   "source": [
    "## Data Visualization 1"
   ]
  },
  {
   "cell_type": "markdown",
   "id": "b95ea952",
   "metadata": {},
   "source": [
    "### Visualization with Pie Chart by Matplotlib Library"
   ]
  },
  {
   "cell_type": "code",
   "execution_count": 31,
   "id": "1dc668bb",
   "metadata": {},
   "outputs": [
    {
     "data": {
      "text/plain": [
       "array(['KAB.ADM.KEP.SERIBU', 'JAKARTA SELATAN', 'JAKARTA PUSAT',\n",
       "       'JAKARTA BARAT', 'JAKARTA UTARA', 'JAKARTA TIMUR'], dtype=object)"
      ]
     },
     "execution_count": 31,
     "metadata": {},
     "output_type": "execute_result"
    }
   ],
   "source": [
    "dfnew_city.index.values"
   ]
  },
  {
   "cell_type": "code",
   "execution_count": 32,
   "id": "54cc2aa6",
   "metadata": {},
   "outputs": [
    {
     "data": {
      "image/png": "[encoded data removed]",
      "text/plain": [
       "<Figure size 360x360 with 1 Axes>"
      ]
     },
     "metadata": {},
     "output_type": "display_data"
    }
   ],
   "source": [
    "citylabels = ['Kepulauan Seribu','Jakarta Selatan','Jakarta Pusat','Jakarta Barat','Jakarta Utara','Jakarta Timur']\n",
    "citycolors = ['silver','lightblue','lightcoral','plum','lightgreen','gold']\n",
    "\n",
    "plt.figure(figsize=(5,5))\n",
    "plt.pie(dfnew_city['jumlah'], labels=citylabels, autopct='%1.1f%%', colors=citycolors, explode=[1,0,0,0,0,0])\n",
    "plt.title(\"Presentase Penduduk Pengangguran Untuk Setiap Kota pada Provinsi DKI Jakarta Tahun 2016\", loc='center')\n",
    "plt.show()"
   ]
  },
  {
   "cell_type": "code",
   "execution_count": 33,
   "id": "f8a81bff",
   "metadata": {},
   "outputs": [
    {
     "data": {
      "image/png": "[encoded data removed]",
      "text/plain": [
       "<Figure size 360x360 with 1 Axes>"
      ]
     },
     "metadata": {},
     "output_type": "display_data"
    }
   ],
   "source": [
    "plt.figure(figsize=(5,5))\n",
    "plt.pie(dfnew_city['jumlah'], labels=citylabels, autopct='%1.1f%%', colors=citycolors, explode=[0,0,0,0,0,0.1])\n",
    "plt.title(\"Presentase Penduduk Pengangguran Untuk Setiap Kota pada Provinsi DKI Jakarta Tahun 2016\", loc='center')\n",
    "plt.show()"
   ]
  },
  {
   "cell_type": "markdown",
   "id": "1aa9433d",
   "metadata": {},
   "source": [
    "### Grouping data by column nama_kecamatan"
   ]
  },
  {
   "cell_type": "code",
   "execution_count": 34,
   "id": "1986cb01",
   "metadata": {},
   "outputs": [
    {
     "data": {
      "text/html": [
       "<div>\n",
       "<style scoped>\n",
       "    .dataframe tbody tr th:only-of-type {\n",
       "        vertical-align: middle;\n",
       "    }\n",
       "\n",
       "    .dataframe tbody tr th {\n",
       "        vertical-align: top;\n",
       "    }\n",
       "\n",
       "    .dataframe thead th {\n",
       "        text-align: right;\n",
       "    }\n",
       "</style>\n",
       "<table border=\"1\" class=\"dataframe\">\n",
       "  <thead>\n",
       "    <tr style=\"text-align: right;\">\n",
       "      <th></th>\n",
       "      <th>jumlah</th>\n",
       "    </tr>\n",
       "    <tr>\n",
       "      <th>nama_kecamatan</th>\n",
       "      <th></th>\n",
       "    </tr>\n",
       "  </thead>\n",
       "  <tbody>\n",
       "    <tr>\n",
       "      <th>CAKUNG</th>\n",
       "      <td>2909</td>\n",
       "    </tr>\n",
       "    <tr>\n",
       "      <th>CEMPAKA PUTIH</th>\n",
       "      <td>544</td>\n",
       "    </tr>\n",
       "    <tr>\n",
       "      <th>CENGKARENG</th>\n",
       "      <td>2839</td>\n",
       "    </tr>\n",
       "    <tr>\n",
       "      <th>CILANDAK</th>\n",
       "      <td>584</td>\n",
       "    </tr>\n",
       "    <tr>\n",
       "      <th>CILINCING</th>\n",
       "      <td>2746</td>\n",
       "    </tr>\n",
       "  </tbody>\n",
       "</table>\n",
       "</div>"
      ],
      "text/plain": [
       "                jumlah\n",
       "nama_kecamatan        \n",
       "CAKUNG            2909\n",
       "CEMPAKA PUTIH      544\n",
       "CENGKARENG        2839\n",
       "CILANDAK           584\n",
       "CILINCING         2746"
      ]
     },
     "execution_count": 34,
     "metadata": {},
     "output_type": "execute_result"
    }
   ],
   "source": [
    "dfnew_district = dfnew.groupby(['nama_kecamatan']).sum()\n",
    "dfnew_district.head()"
   ]
  },
  {
   "cell_type": "code",
   "execution_count": 35,
   "id": "9bd01057",
   "metadata": {},
   "outputs": [
    {
     "data": {
      "text/plain": [
       "array(['CAKUNG', 'CEMPAKA PUTIH', 'CENGKARENG', 'CILANDAK', 'CILINCING',\n",
       "       'CIPAYUNG', 'CIRACAS', 'DUREN SAWIT', 'GAMBIR',\n",
       "       'GROGOL PETAMBURAN', 'JAGAKARSA', 'JATINEGARA', 'JOHAR BARU',\n",
       "       'KALI DERES', 'KEBAYORAN BARU', 'KEBAYORAN LAMA', 'KEBON JERUK',\n",
       "       'KELAPA GADING', 'KEMAYORAN', 'KEMBANGAN', 'KEP. SERIBU SLT',\n",
       "       'KEP. SERIBU UTR', 'KOJA', 'KRAMAT JATI', 'MAKASAR',\n",
       "       'MAMPANG PRAPATAN', 'MATRAMAN', 'MENTENG', 'PADEMANGAN',\n",
       "       'PALMERAH', 'PANCORAN', 'PASAR MINGGU', 'PASAR REBO',\n",
       "       'PENJARINGAN', 'PESANGGRAHAN', 'PULO GADUNG', 'SAWAH BESAR',\n",
       "       'SENEN', 'SETIA BUDI', 'TAMAN SARI', 'TAMBORA', 'TANAH ABANG',\n",
       "       'TANJUNG PRIOK', 'TEBET'], dtype=object)"
      ]
     },
     "execution_count": 35,
     "metadata": {},
     "output_type": "execute_result"
    }
   ],
   "source": [
    "dfnew_district.index.values"
   ]
  },
  {
   "cell_type": "code",
   "execution_count": 36,
   "id": "213e3ded",
   "metadata": {},
   "outputs": [
    {
     "name": "stdout",
     "output_type": "stream",
     "text": [
      "Provinsi DKI Jakarta memiliki 44 kecamatan.\n"
     ]
    }
   ],
   "source": [
    "distnames = dfnew_district.index.values\n",
    "print(\"Provinsi DKI Jakarta memiliki\",len(distnames),\"kecamatan.\")"
   ]
  },
  {
   "cell_type": "markdown",
   "id": "35efd97f",
   "metadata": {},
   "source": [
    "### Visualization with Barchart by Matplotlib Library"
   ]
  },
  {
   "cell_type": "code",
   "execution_count": 37,
   "id": "a3509543",
   "metadata": {},
   "outputs": [
    {
     "data": {
      "image/png": "[encoded data removed]",
      "text/plain": [
       "<Figure size 720x1080 with 1 Axes>"
      ]
     },
     "metadata": {
      "needs_background": "light"
     },
     "output_type": "display_data"
    }
   ],
   "source": [
    "distnames\n",
    "valuedist = dfnew_district['jumlah'].values\n",
    "totdist = np.zeros(len(distnames))\n",
    "\n",
    "y = np.arange(len(totdist))\n",
    "x = valuedist\n",
    "plt.figure(figsize=(10,15))\n",
    "plt.barh(y,x,align='center',color='teal')\n",
    "plt.yticks(y,(distnames))\n",
    "plt.title(\"Perbandingan Jumlah Pengangguran Tiap Kecamatan pada Provinsi DKI Jakarta Tahun 2016\", loc='center')\n",
    "plt.grid()\n",
    "plt.show()"
   ]
  },
  {
   "cell_type": "code",
   "execution_count": 38,
   "id": "39fa4950",
   "metadata": {},
   "outputs": [
    {
     "data": {
      "text/html": [
       "<div>\n",
       "<style scoped>\n",
       "    .dataframe tbody tr th:only-of-type {\n",
       "        vertical-align: middle;\n",
       "    }\n",
       "\n",
       "    .dataframe tbody tr th {\n",
       "        vertical-align: top;\n",
       "    }\n",
       "\n",
       "    .dataframe thead th {\n",
       "        text-align: right;\n",
       "    }\n",
       "</style>\n",
       "<table border=\"1\" class=\"dataframe\">\n",
       "  <thead>\n",
       "    <tr style=\"text-align: right;\">\n",
       "      <th></th>\n",
       "      <th>jumlah</th>\n",
       "    </tr>\n",
       "    <tr>\n",
       "      <th>nama_kecamatan</th>\n",
       "      <th></th>\n",
       "    </tr>\n",
       "  </thead>\n",
       "  <tbody>\n",
       "    <tr>\n",
       "      <th>KEP. SERIBU SLT</th>\n",
       "      <td>207</td>\n",
       "    </tr>\n",
       "    <tr>\n",
       "      <th>KEP. SERIBU UTR</th>\n",
       "      <td>288</td>\n",
       "    </tr>\n",
       "    <tr>\n",
       "      <th>MAMPANG PRAPATAN</th>\n",
       "      <td>354</td>\n",
       "    </tr>\n",
       "    <tr>\n",
       "      <th>PADEMANGAN</th>\n",
       "      <td>397</td>\n",
       "    </tr>\n",
       "    <tr>\n",
       "      <th>KELAPA GADING</th>\n",
       "      <td>460</td>\n",
       "    </tr>\n",
       "  </tbody>\n",
       "</table>\n",
       "</div>"
      ],
      "text/plain": [
       "                  jumlah\n",
       "nama_kecamatan          \n",
       "KEP. SERIBU SLT      207\n",
       "KEP. SERIBU UTR      288\n",
       "MAMPANG PRAPATAN     354\n",
       "PADEMANGAN           397\n",
       "KELAPA GADING        460"
      ]
     },
     "execution_count": 38,
     "metadata": {},
     "output_type": "execute_result"
    }
   ],
   "source": [
    "dfnew_district_2 = dfnew_district.sort_values(by=['jumlah'])\n",
    "dfnew_district_2.head()"
   ]
  },
  {
   "cell_type": "code",
   "execution_count": 39,
   "id": "a885bcab",
   "metadata": {},
   "outputs": [
    {
     "data": {
      "text/plain": [
       "array(['KEP. SERIBU SLT', 'KEP. SERIBU UTR', 'MAMPANG PRAPATAN',\n",
       "       'PADEMANGAN', 'KELAPA GADING', 'KEBAYORAN BARU', 'PANCORAN',\n",
       "       'CEMPAKA PUTIH', 'KEMBANGAN', 'CILANDAK', 'PESANGGRAHAN',\n",
       "       'SETIA BUDI', 'GAMBIR', 'TAMAN SARI', 'MENTENG', 'KEBAYORAN LAMA',\n",
       "       'SAWAH BESAR', 'TANAH ABANG', 'JOHAR BARU', 'PASAR MINGGU',\n",
       "       'PENJARINGAN', 'PALMERAH', 'TEBET', 'KEBON JERUK', 'SENEN',\n",
       "       'GROGOL PETAMBURAN', 'JAGAKARSA', 'MAKASAR', 'PASAR REBO',\n",
       "       'PULO GADUNG', 'TAMBORA', 'KRAMAT JATI', 'KEMAYORAN', 'CIRACAS',\n",
       "       'MATRAMAN', 'JATINEGARA', 'KALI DERES', 'DUREN SAWIT', 'CIPAYUNG',\n",
       "       'CILINCING', 'CENGKARENG', 'CAKUNG', 'TANJUNG PRIOK', 'KOJA'],\n",
       "      dtype=object)"
      ]
     },
     "execution_count": 39,
     "metadata": {},
     "output_type": "execute_result"
    }
   ],
   "source": [
    "dfnew_district_2.index.values"
   ]
  },
  {
   "cell_type": "code",
   "execution_count": 40,
   "id": "f3f367b2",
   "metadata": {},
   "outputs": [
    {
     "data": {
      "text/plain": [
       "array([ 207,  288,  354,  397,  460,  470,  504,  544,  567,  584,  588,\n",
       "        599,  702,  723,  726,  790,  804,  846,  851,  855,  857,  928,\n",
       "        934, 1005, 1097, 1187, 1193, 1201, 1267, 1456, 1459, 1475, 1616,\n",
       "       1818, 1865, 2037, 2039, 2071, 2388, 2746, 2839, 2909, 3063, 3468],\n",
       "      dtype=int64)"
      ]
     },
     "execution_count": 40,
     "metadata": {},
     "output_type": "execute_result"
    }
   ],
   "source": [
    "dfnew_district_2['jumlah'].values"
   ]
  },
  {
   "cell_type": "code",
   "execution_count": 41,
   "id": "7d6fbdfb",
   "metadata": {},
   "outputs": [
    {
     "data": {
      "image/png": "[encoded data removed]",
      "text/plain": [
       "<Figure size 720x1080 with 1 Axes>"
      ]
     },
     "metadata": {
      "needs_background": "light"
     },
     "output_type": "display_data"
    }
   ],
   "source": [
    "distnames_2 = dfnew_district_2.index.values\n",
    "valuedist_2 = dfnew_district_2['jumlah'].values\n",
    "totdist_2 = np.zeros(len(distnames_2))\n",
    "\n",
    "y_2 = np.arange(len(totdist_2))\n",
    "x_2 = valuedist_2\n",
    "plt.figure(figsize=(10,15))\n",
    "plt.barh(y_2,x_2,align='center',color='teal')\n",
    "plt.yticks(y_2,(distnames_2))\n",
    "plt.title(\"Perbandingan Jumlah Pengangguran Tiap Kecamatan pada Provinsi DKI Jakarta Tahun 2016\", loc='center')\n",
    "plt.grid()\n",
    "plt.show()"
   ]
  },
  {
   "cell_type": "markdown",
   "id": "686b3330",
   "metadata": {},
   "source": [
    "## Data Filtering and Exploration Data Analysis (EDA) 2"
   ]
  },
  {
   "cell_type": "code",
   "execution_count": 42,
   "id": "0a7c0871",
   "metadata": {},
   "outputs": [],
   "source": [
    "# 5 kecamatan yang memiliki jumlah pengangguran tertinggi\n",
    "# 5 Kecamatan yang memiliki jumlah pengangguran terendah\n",
    "\n",
    "max5_dist = dfnew_district_2['jumlah'].tail().to_numpy(str)\n",
    "min5_dist = dfnew_district_2['jumlah'].head().to_numpy(str)\n",
    "district_minmax= np.concatenate((min5_dist,max5_dist))"
   ]
  },
  {
   "cell_type": "code",
   "execution_count": 43,
   "id": "226c235e",
   "metadata": {},
   "outputs": [
    {
     "name": "stdout",
     "output_type": "stream",
     "text": [
      "Lima kecamatan yang memiliki jumlah pengangguran tertinggi ['2746' '2839' '2909' '3063' '3468']\n",
      "Lima kecamatan yang memiliki jumlah pengangguran terendah ['207' '288' '354' '397' '460']\n",
      "Lokasi kecamatan untuk dianalisis ['207' '288' '354' '397' '460' '2746' '2839' '2909' '3063' '3468']\n"
     ]
    }
   ],
   "source": [
    "print(\"Lima kecamatan yang memiliki jumlah pengangguran tertinggi\", max5_dist)\n",
    "print(\"Lima kecamatan yang memiliki jumlah pengangguran terendah\", min5_dist)\n",
    "print(\"Lokasi kecamatan untuk dianalisis\", district_minmax)"
   ]
  },
  {
   "cell_type": "code",
   "execution_count": 44,
   "id": "f2ff83de",
   "metadata": {},
   "outputs": [],
   "source": [
    "dfnew_district_2.reset_index(level=0, inplace=True)"
   ]
  },
  {
   "cell_type": "code",
   "execution_count": 45,
   "id": "00401e3d",
   "metadata": {},
   "outputs": [
    {
     "data": {
      "text/html": [
       "<div>\n",
       "<style scoped>\n",
       "    .dataframe tbody tr th:only-of-type {\n",
       "        vertical-align: middle;\n",
       "    }\n",
       "\n",
       "    .dataframe tbody tr th {\n",
       "        vertical-align: top;\n",
       "    }\n",
       "\n",
       "    .dataframe thead th {\n",
       "        text-align: right;\n",
       "    }\n",
       "</style>\n",
       "<table border=\"1\" class=\"dataframe\">\n",
       "  <thead>\n",
       "    <tr style=\"text-align: right;\">\n",
       "      <th></th>\n",
       "      <th>nama_kecamatan</th>\n",
       "      <th>jumlah</th>\n",
       "    </tr>\n",
       "  </thead>\n",
       "  <tbody>\n",
       "    <tr>\n",
       "      <th>0</th>\n",
       "      <td>KEP. SERIBU SLT</td>\n",
       "      <td>207</td>\n",
       "    </tr>\n",
       "    <tr>\n",
       "      <th>1</th>\n",
       "      <td>KEP. SERIBU UTR</td>\n",
       "      <td>288</td>\n",
       "    </tr>\n",
       "    <tr>\n",
       "      <th>2</th>\n",
       "      <td>MAMPANG PRAPATAN</td>\n",
       "      <td>354</td>\n",
       "    </tr>\n",
       "    <tr>\n",
       "      <th>3</th>\n",
       "      <td>PADEMANGAN</td>\n",
       "      <td>397</td>\n",
       "    </tr>\n",
       "    <tr>\n",
       "      <th>4</th>\n",
       "      <td>KELAPA GADING</td>\n",
       "      <td>460</td>\n",
       "    </tr>\n",
       "  </tbody>\n",
       "</table>\n",
       "</div>"
      ],
      "text/plain": [
       "     nama_kecamatan  jumlah\n",
       "0   KEP. SERIBU SLT     207\n",
       "1   KEP. SERIBU UTR     288\n",
       "2  MAMPANG PRAPATAN     354\n",
       "3        PADEMANGAN     397\n",
       "4     KELAPA GADING     460"
      ]
     },
     "execution_count": 45,
     "metadata": {},
     "output_type": "execute_result"
    }
   ],
   "source": [
    "dfnew_district_2.head()"
   ]
  },
  {
   "cell_type": "code",
   "execution_count": 46,
   "id": "3fb57dff",
   "metadata": {},
   "outputs": [
    {
     "name": "stdout",
     "output_type": "stream",
     "text": [
      "A. Lima kecamatan yang memiliki jumlah pengangguran tertinggi ['CILINCING' 'CENGKARENG' 'CAKUNG' 'TANJUNG PRIOK' 'KOJA']\n",
      "\n",
      "B. Lima kecamatan yang memiliki jumlah pengangguran terendah ['KEP. SERIBU SLT' 'KEP. SERIBU UTR' 'MAMPANG PRAPATAN' 'PADEMANGAN'\n",
      " 'KELAPA GADING']\n",
      "\n",
      "C. Lokasi kecamatan untuk dianalisis ['KEP. SERIBU SLT' 'KEP. SERIBU UTR' 'MAMPANG PRAPATAN' 'PADEMANGAN'\n",
      " 'KELAPA GADING' 'CILINCING' 'CENGKARENG' 'CAKUNG' 'TANJUNG PRIOK' 'KOJA']\n"
     ]
    }
   ],
   "source": [
    "max5_dist = dfnew_district_2['nama_kecamatan'].tail().to_numpy(str)\n",
    "min5_dist = dfnew_district_2['nama_kecamatan'].head().to_numpy(str)\n",
    "district_minmax= np.concatenate((min5_dist,max5_dist))\n",
    "\n",
    "print(\"A. Lima kecamatan yang memiliki jumlah pengangguran tertinggi\", max5_dist)\n",
    "print(\"\\nB. Lima kecamatan yang memiliki jumlah pengangguran terendah\", min5_dist)\n",
    "print(\"\\nC. Lokasi kecamatan untuk dianalisis\", district_minmax)"
   ]
  },
  {
   "cell_type": "code",
   "execution_count": 47,
   "id": "efd2d9bc",
   "metadata": {},
   "outputs": [
    {
     "name": "stdout",
     "output_type": "stream",
     "text": [
      "Kecamatan KEP. SERIBU SLT memiliki 207 orang pengangguran.\n",
      "Kecamatan KEP. SERIBU UTR memiliki 288 orang pengangguran.\n",
      "Kecamatan MAMPANG PRAPATAN memiliki 354 orang pengangguran.\n",
      "Kecamatan PADEMANGAN memiliki 397 orang pengangguran.\n",
      "Kecamatan KELAPA GADING memiliki 460 orang pengangguran.\n"
     ]
    }
   ],
   "source": [
    "# Berapa banyaknya pengangguran pada tiap lokasi kecamatan yang ingin dianalisis\n",
    "# 5 Kecamatan dengan jumlah pengangguran terendah\n",
    "\n",
    "min5 = dfnew_district_2.head()\n",
    "\n",
    "for i in range(len(min5)):\n",
    "    print('Kecamatan',min5['nama_kecamatan'][i],'memiliki',min5['jumlah'][i],'orang pengangguran.')"
   ]
  },
  {
   "cell_type": "code",
   "execution_count": 48,
   "id": "cc16c517",
   "metadata": {},
   "outputs": [
    {
     "name": "stdout",
     "output_type": "stream",
     "text": [
      "Kecamatan CILINCING memiliki 2746 orang pengangguran.\n",
      "Kecamatan CENGKARENG memiliki 2839 orang pengangguran.\n",
      "Kecamatan CAKUNG memiliki 2909 orang pengangguran.\n",
      "Kecamatan TANJUNG PRIOK memiliki 3063 orang pengangguran.\n",
      "Kecamatan KOJA memiliki 3468 orang pengangguran.\n"
     ]
    }
   ],
   "source": [
    "# 5 Kecamatan dengan jumlah pengangguran tertinggi\n",
    "max5 = dfnew_district_2.tail().reset_index()\n",
    "\n",
    "for j in range(len(max5)):\n",
    "    print('Kecamatan',max5['nama_kecamatan'][j],'memiliki',max5['jumlah'][j],'orang pengangguran.')"
   ]
  },
  {
   "cell_type": "markdown",
   "id": "570ecd77",
   "metadata": {},
   "source": [
    "### Perbandingan jumlah pengangguran laki-laki dan perempuan per kecamatan"
   ]
  },
  {
   "cell_type": "code",
   "execution_count": 49,
   "id": "5570cddf",
   "metadata": {},
   "outputs": [
    {
     "data": {
      "text/html": [
       "<div>\n",
       "<style scoped>\n",
       "    .dataframe tbody tr th:only-of-type {\n",
       "        vertical-align: middle;\n",
       "    }\n",
       "\n",
       "    .dataframe tbody tr th {\n",
       "        vertical-align: top;\n",
       "    }\n",
       "\n",
       "    .dataframe thead th {\n",
       "        text-align: right;\n",
       "    }\n",
       "</style>\n",
       "<table border=\"1\" class=\"dataframe\">\n",
       "  <thead>\n",
       "    <tr style=\"text-align: right;\">\n",
       "      <th></th>\n",
       "      <th>nama_kabupaten/kota</th>\n",
       "      <th>nama_kecamatan</th>\n",
       "      <th>nama_kelurahan</th>\n",
       "      <th>jenis_kelamin</th>\n",
       "      <th>jumlah</th>\n",
       "    </tr>\n",
       "  </thead>\n",
       "  <tbody>\n",
       "    <tr>\n",
       "      <th>0</th>\n",
       "      <td>KAB.ADM.KEP.SERIBU</td>\n",
       "      <td>KEP. SERIBU UTR</td>\n",
       "      <td>P. PANGGANG</td>\n",
       "      <td>Laki-laki</td>\n",
       "      <td>68</td>\n",
       "    </tr>\n",
       "    <tr>\n",
       "      <th>1</th>\n",
       "      <td>KAB.ADM.KEP.SERIBU</td>\n",
       "      <td>KEP. SERIBU UTR</td>\n",
       "      <td>P. KELAPA</td>\n",
       "      <td>Laki-laki</td>\n",
       "      <td>80</td>\n",
       "    </tr>\n",
       "    <tr>\n",
       "      <th>2</th>\n",
       "      <td>KAB.ADM.KEP.SERIBU</td>\n",
       "      <td>KEP. SERIBU UTR</td>\n",
       "      <td>P. HARAPAN</td>\n",
       "      <td>Laki-laki</td>\n",
       "      <td>19</td>\n",
       "    </tr>\n",
       "    <tr>\n",
       "      <th>3</th>\n",
       "      <td>KAB.ADM.KEP.SERIBU</td>\n",
       "      <td>KEP. SERIBU SLT</td>\n",
       "      <td>P. UNTUNG JAWA</td>\n",
       "      <td>Laki-laki</td>\n",
       "      <td>18</td>\n",
       "    </tr>\n",
       "    <tr>\n",
       "      <th>4</th>\n",
       "      <td>KAB.ADM.KEP.SERIBU</td>\n",
       "      <td>KEP. SERIBU SLT</td>\n",
       "      <td>P. TIDUNG</td>\n",
       "      <td>Laki-laki</td>\n",
       "      <td>59</td>\n",
       "    </tr>\n",
       "  </tbody>\n",
       "</table>\n",
       "</div>"
      ],
      "text/plain": [
       "  nama_kabupaten/kota   nama_kecamatan  nama_kelurahan jenis_kelamin  jumlah\n",
       "0  KAB.ADM.KEP.SERIBU  KEP. SERIBU UTR     P. PANGGANG     Laki-laki      68\n",
       "1  KAB.ADM.KEP.SERIBU  KEP. SERIBU UTR       P. KELAPA     Laki-laki      80\n",
       "2  KAB.ADM.KEP.SERIBU  KEP. SERIBU UTR      P. HARAPAN     Laki-laki      19\n",
       "3  KAB.ADM.KEP.SERIBU  KEP. SERIBU SLT  P. UNTUNG JAWA     Laki-laki      18\n",
       "4  KAB.ADM.KEP.SERIBU  KEP. SERIBU SLT       P. TIDUNG     Laki-laki      59"
      ]
     },
     "execution_count": 49,
     "metadata": {},
     "output_type": "execute_result"
    }
   ],
   "source": [
    "dfnew.head()"
   ]
  },
  {
   "cell_type": "code",
   "execution_count": 50,
   "id": "727bbb0b",
   "metadata": {},
   "outputs": [
    {
     "name": "stdout",
     "output_type": "stream",
     "text": [
      "JATINEGARA\t:61 orang\n",
      "RAWA TERATE\t:198 orang\n",
      "PENGGILINGAN\t:184 orang\n",
      "CAKUNG TIMUR\t:145 orang\n",
      "PULO GEBANG\t:93 orang\n",
      "UJUNG MENTENG\t:75 orang\n",
      "CAKUNG BARAT\t:379 orang\n"
     ]
    }
   ],
   "source": [
    "# Perbandingan jumlah pengangguran berjenis kelamin perempuan untuk tiap kelurahan per kecamatan\n",
    "# jumlah pengangguran perempuan untuk tiap kelurahan di Kecamatan Cakung:\n",
    "\n",
    "for i in range(len(dfnew)):\n",
    "    if(dfnew['nama_kecamatan'][i]=='CAKUNG' and dfnew['jenis_kelamin'][i]=='Perempuan'):\n",
    "        print(dfnew['nama_kelurahan'][i], end='\\t:')\n",
    "        print(dfnew['jumlah'][i],'orang')"
   ]
  },
  {
   "cell_type": "code",
   "execution_count": 51,
   "id": "73941c5a",
   "metadata": {},
   "outputs": [
    {
     "name": "stdout",
     "output_type": "stream",
     "text": [
      "JATINEGARA\t:57 orang\n",
      "RAWA TERATE\t:407 orang\n",
      "PENGGILINGAN\t:330 orang\n",
      "CAKUNG TIMUR\t:174 orang\n",
      "PULO GEBANG\t:96 orang\n",
      "UJUNG MENTENG\t:108 orang\n",
      "CAKUNG BARAT\t:602 orang\n"
     ]
    }
   ],
   "source": [
    "for i in range(len(dfnew)):\n",
    "    if(dfnew['nama_kecamatan'][i]=='CAKUNG' and dfnew['jenis_kelamin'][i]=='Laki-laki'):\n",
    "        print(dfnew['nama_kelurahan'][i], end='\\t:')\n",
    "        print(dfnew['jumlah'][i],'orang')"
   ]
  },
  {
   "cell_type": "code",
   "execution_count": 52,
   "id": "db1862a2",
   "metadata": {},
   "outputs": [
    {
     "data": {
      "text/html": [
       "<div>\n",
       "<style scoped>\n",
       "    .dataframe tbody tr th:only-of-type {\n",
       "        vertical-align: middle;\n",
       "    }\n",
       "\n",
       "    .dataframe tbody tr th {\n",
       "        vertical-align: top;\n",
       "    }\n",
       "\n",
       "    .dataframe thead th {\n",
       "        text-align: right;\n",
       "    }\n",
       "</style>\n",
       "<table border=\"1\" class=\"dataframe\">\n",
       "  <thead>\n",
       "    <tr style=\"text-align: right;\">\n",
       "      <th></th>\n",
       "      <th></th>\n",
       "      <th>jumlah</th>\n",
       "    </tr>\n",
       "    <tr>\n",
       "      <th>nama_kecamatan</th>\n",
       "      <th>jenis_kelamin</th>\n",
       "      <th></th>\n",
       "    </tr>\n",
       "  </thead>\n",
       "  <tbody>\n",
       "    <tr>\n",
       "      <th rowspan=\"2\" valign=\"top\">CAKUNG</th>\n",
       "      <th>Laki-laki</th>\n",
       "      <td>1774</td>\n",
       "    </tr>\n",
       "    <tr>\n",
       "      <th>Perempuan</th>\n",
       "      <td>1135</td>\n",
       "    </tr>\n",
       "    <tr>\n",
       "      <th rowspan=\"2\" valign=\"top\">CEMPAKA PUTIH</th>\n",
       "      <th>Laki-laki</th>\n",
       "      <td>273</td>\n",
       "    </tr>\n",
       "    <tr>\n",
       "      <th>Perempuan</th>\n",
       "      <td>271</td>\n",
       "    </tr>\n",
       "    <tr>\n",
       "      <th>CENGKARENG</th>\n",
       "      <th>Laki-laki</th>\n",
       "      <td>1763</td>\n",
       "    </tr>\n",
       "  </tbody>\n",
       "</table>\n",
       "</div>"
      ],
      "text/plain": [
       "                              jumlah\n",
       "nama_kecamatan jenis_kelamin        \n",
       "CAKUNG         Laki-laki        1774\n",
       "               Perempuan        1135\n",
       "CEMPAKA PUTIH  Laki-laki         273\n",
       "               Perempuan         271\n",
       "CENGKARENG     Laki-laki        1763"
      ]
     },
     "execution_count": 52,
     "metadata": {},
     "output_type": "execute_result"
    }
   ],
   "source": [
    "dfnew.groupby(['nama_kecamatan','jenis_kelamin'])[['jumlah']].sum().head()"
   ]
  },
  {
   "cell_type": "markdown",
   "id": "3addaf63",
   "metadata": {},
   "source": [
    "## Data Visualization 2"
   ]
  },
  {
   "cell_type": "markdown",
   "id": "80878864",
   "metadata": {},
   "source": [
    "### Visualization with Stacked Barchart by Matplotlib Library"
   ]
  },
  {
   "cell_type": "code",
   "execution_count": 53,
   "id": "f595e046",
   "metadata": {},
   "outputs": [
    {
     "data": {
      "image/png": "[encoded data removed]",
      "text/plain": [
       "<Figure size 1080x720 with 1 Axes>"
      ]
     },
     "metadata": {
      "needs_background": "light"
     },
     "output_type": "display_data"
    }
   ],
   "source": [
    "dfnew.groupby(['nama_kecamatan','jenis_kelamin']).jumlah.sum().unstack().plot(figsize=(15,10), kind='bar', stacked=True)\n",
    "plt.ylabel('Jumlah Pengangguran')\n",
    "plt.title('Perbandingan Jumlah Pengangguran Laki-laki dan Perempuan per Kecamatan Tahun 2016')\n",
    "plt.show()"
   ]
  },
  {
   "cell_type": "code",
   "execution_count": 55,
   "id": "8751bd8f",
   "metadata": {},
   "outputs": [],
   "source": [
    "dfnew_district_gender = dfnew.groupby(['nama_kecamatan','jenis_kelamin'])[['jumlah']].sum().sort_values(by=['jumlah'])"
   ]
  },
  {
   "cell_type": "code",
   "execution_count": 56,
   "id": "50beae3e",
   "metadata": {},
   "outputs": [
    {
     "data": {
      "text/html": [
       "<div>\n",
       "<style scoped>\n",
       "    .dataframe tbody tr th:only-of-type {\n",
       "        vertical-align: middle;\n",
       "    }\n",
       "\n",
       "    .dataframe tbody tr th {\n",
       "        vertical-align: top;\n",
       "    }\n",
       "\n",
       "    .dataframe thead th {\n",
       "        text-align: right;\n",
       "    }\n",
       "</style>\n",
       "<table border=\"1\" class=\"dataframe\">\n",
       "  <thead>\n",
       "    <tr style=\"text-align: right;\">\n",
       "      <th></th>\n",
       "      <th></th>\n",
       "      <th>jumlah</th>\n",
       "    </tr>\n",
       "    <tr>\n",
       "      <th>nama_kecamatan</th>\n",
       "      <th>jenis_kelamin</th>\n",
       "      <th></th>\n",
       "    </tr>\n",
       "  </thead>\n",
       "  <tbody>\n",
       "    <tr>\n",
       "      <th rowspan=\"2\" valign=\"top\">KEP. SERIBU SLT</th>\n",
       "      <th>Perempuan</th>\n",
       "      <td>101</td>\n",
       "    </tr>\n",
       "    <tr>\n",
       "      <th>Laki-laki</th>\n",
       "      <td>106</td>\n",
       "    </tr>\n",
       "    <tr>\n",
       "      <th rowspan=\"2\" valign=\"top\">KEP. SERIBU UTR</th>\n",
       "      <th>Perempuan</th>\n",
       "      <td>121</td>\n",
       "    </tr>\n",
       "    <tr>\n",
       "      <th>Laki-laki</th>\n",
       "      <td>167</td>\n",
       "    </tr>\n",
       "    <tr>\n",
       "      <th>MAMPANG PRAPATAN</th>\n",
       "      <th>Laki-laki</th>\n",
       "      <td>167</td>\n",
       "    </tr>\n",
       "  </tbody>\n",
       "</table>\n",
       "</div>"
      ],
      "text/plain": [
       "                                jumlah\n",
       "nama_kecamatan   jenis_kelamin        \n",
       "KEP. SERIBU SLT  Perempuan         101\n",
       "                 Laki-laki         106\n",
       "KEP. SERIBU UTR  Perempuan         121\n",
       "                 Laki-laki         167\n",
       "MAMPANG PRAPATAN Laki-laki         167"
      ]
     },
     "execution_count": 56,
     "metadata": {},
     "output_type": "execute_result"
    }
   ],
   "source": [
    "dfnew_district_gender.head()"
   ]
  },
  {
   "cell_type": "code",
   "execution_count": 57,
   "id": "67f4d6bb",
   "metadata": {},
   "outputs": [
    {
     "data": {
      "text/plain": [
       "(88, 1)"
      ]
     },
     "execution_count": 57,
     "metadata": {},
     "output_type": "execute_result"
    }
   ],
   "source": [
    "dfnew_district_gender.shape"
   ]
  },
  {
   "cell_type": "code",
   "execution_count": 61,
   "id": "d159bcff",
   "metadata": {},
   "outputs": [
    {
     "data": {
      "text/plain": [
       "Index(['jumlah'], dtype='object')"
      ]
     },
     "execution_count": 61,
     "metadata": {},
     "output_type": "execute_result"
    }
   ],
   "source": [
    "dfnew_district_gender.columns"
   ]
  },
  {
   "cell_type": "code",
   "execution_count": 58,
   "id": "f9507752",
   "metadata": {},
   "outputs": [
    {
     "name": "stdout",
     "output_type": "stream",
     "text": [
      "<class 'pandas.core.frame.DataFrame'>\n",
      "MultiIndex: 88 entries, ('KEP. SERIBU SLT', 'Perempuan') to ('KOJA', 'Laki-laki')\n",
      "Data columns (total 1 columns):\n",
      " #   Column  Non-Null Count  Dtype\n",
      "---  ------  --------------  -----\n",
      " 0   jumlah  88 non-null     int64\n",
      "dtypes: int64(1)\n",
      "memory usage: 1.3+ KB\n"
     ]
    }
   ],
   "source": [
    "dfnew_district_gender.info()"
   ]
  },
  {
   "cell_type": "code",
   "execution_count": 62,
   "id": "c59bb44b",
   "metadata": {},
   "outputs": [
    {
     "data": {
      "text/plain": [
       "<AxesSubplot:xlabel='nama_kecamatan'>"
      ]
     },
     "execution_count": 62,
     "metadata": {},
     "output_type": "execute_result"
    },
    {
     "data": {
      "image/png": "[encoded data removed]",
      "text/plain": [
       "<Figure size 1080x720 with 1 Axes>"
      ]
     },
     "metadata": {
      "needs_background": "light"
     },
     "output_type": "display_data"
    }
   ],
   "source": [
    "dfnew_district_gender.unstack().plot.bar(stacked=True, figsize=(15,10))"
   ]
  },
  {
   "cell_type": "code",
   "execution_count": 63,
   "id": "4a533ac7",
   "metadata": {},
   "outputs": [
    {
     "data": {
      "text/plain": [
       "bar  one      10\n",
       "     two      20\n",
       "baz  one      10\n",
       "     two      22\n",
       "foo  one      10\n",
       "     two      24\n",
       "qux  one      10\n",
       "     two      26\n",
       "     three    11\n",
       "dtype: int64"
      ]
     },
     "execution_count": 63,
     "metadata": {},
     "output_type": "execute_result"
    }
   ],
   "source": [
    "# Percobaan dummy\n",
    "arrays = [np.array(['bar', 'bar', 'baz', 'baz', 'foo', 'foo', 'qux', 'qux', 'qux']),\n",
    "          np.array(['one', 'two', 'one', 'two', 'one', 'two', 'one', 'two', 'three'])]\n",
    "\n",
    "s = pd.Series([10,20,10,22,10,24,10,26, 11], index=arrays)\n",
    "s"
   ]
  },
  {
   "cell_type": "code",
   "execution_count": 64,
   "id": "43494432",
   "metadata": {},
   "outputs": [
    {
     "data": {
      "text/plain": [
       "qux    47\n",
       "foo    34\n",
       "baz    32\n",
       "bar    30\n",
       "dtype: int64"
      ]
     },
     "execution_count": 64,
     "metadata": {},
     "output_type": "execute_result"
    }
   ],
   "source": [
    "s_sort = s.groupby(level=[0]).sum().sort_values(ascending=False)\n",
    "s_sort"
   ]
  },
  {
   "cell_type": "code",
   "execution_count": 65,
   "id": "79d6e59a",
   "metadata": {},
   "outputs": [
    {
     "data": {
      "text/plain": [
       "<AxesSubplot:>"
      ]
     },
     "execution_count": 65,
     "metadata": {},
     "output_type": "execute_result"
    },
    {
     "data": {
      "image/png": "[encoded data removed]",
      "text/plain": [
       "<Figure size 432x288 with 1 Axes>"
      ]
     },
     "metadata": {
      "needs_background": "light"
     },
     "output_type": "display_data"
    }
   ],
   "source": [
    "cmp = plt.cm.get_cmap('jet')\n",
    "s.reindex(index=s_sort.index, level=0).unstack().plot.bar(stacked=True, cmap=cmp)"
   ]
  },
  {
   "cell_type": "code",
   "execution_count": 67,
   "id": "ff0968fc",
   "metadata": {},
   "outputs": [
    {
     "data": {
      "text/html": [
       "<div>\n",
       "<style scoped>\n",
       "    .dataframe tbody tr th:only-of-type {\n",
       "        vertical-align: middle;\n",
       "    }\n",
       "\n",
       "    .dataframe tbody tr th {\n",
       "        vertical-align: top;\n",
       "    }\n",
       "\n",
       "    .dataframe thead th {\n",
       "        text-align: right;\n",
       "    }\n",
       "</style>\n",
       "<table border=\"1\" class=\"dataframe\">\n",
       "  <thead>\n",
       "    <tr style=\"text-align: right;\">\n",
       "      <th></th>\n",
       "      <th>0</th>\n",
       "      <th>1</th>\n",
       "      <th>2</th>\n",
       "      <th>3</th>\n",
       "      <th>4</th>\n",
       "      <th>5</th>\n",
       "      <th>6</th>\n",
       "      <th>7</th>\n",
       "    </tr>\n",
       "  </thead>\n",
       "  <tbody>\n",
       "    <tr>\n",
       "      <th>0</th>\n",
       "      <td>-1.16183</td>\n",
       "      <td>-1.442977</td>\n",
       "      <td>1.099608</td>\n",
       "      <td>0.561779</td>\n",
       "      <td>-1.066762</td>\n",
       "      <td>0.391235</td>\n",
       "      <td>-0.925429</td>\n",
       "      <td>-0.495801</td>\n",
       "    </tr>\n",
       "  </tbody>\n",
       "</table>\n",
       "</div>"
      ],
      "text/plain": [
       "         0         1         2         3         4         5         6  \\\n",
       "0 -1.16183 -1.442977  1.099608  0.561779 -1.066762  0.391235 -0.925429   \n",
       "\n",
       "          7  \n",
       "0 -0.495801  "
      ]
     },
     "execution_count": 67,
     "metadata": {},
     "output_type": "execute_result"
    }
   ],
   "source": [
    "# Change Dataframe to Series\n",
    "# Percobaan dummy 2\n",
    "dummy3 = pd.DataFrame(data=np.random.randn(1,8))\n",
    "dummy3.head()"
   ]
  },
  {
   "cell_type": "code",
   "execution_count": 68,
   "id": "11e85b5b",
   "metadata": {},
   "outputs": [],
   "source": [
    "series1=dummy3.iloc[0,:]"
   ]
  },
  {
   "cell_type": "code",
   "execution_count": 69,
   "id": "ea3cfdca",
   "metadata": {},
   "outputs": [
    {
     "data": {
      "text/plain": [
       "0   -1.161830\n",
       "1   -1.442977\n",
       "2    1.099608\n",
       "3    0.561779\n",
       "4   -1.066762\n",
       "5    0.391235\n",
       "6   -0.925429\n",
       "7   -0.495801\n",
       "Name: 0, dtype: float64"
      ]
     },
     "execution_count": 69,
     "metadata": {},
     "output_type": "execute_result"
    }
   ],
   "source": [
    "series1"
   ]
  },
  {
   "cell_type": "code",
   "execution_count": 70,
   "id": "0146d0a4",
   "metadata": {},
   "outputs": [],
   "source": [
    "dummy4 = dfnew_district_gender.iloc[0,:]"
   ]
  },
  {
   "cell_type": "code",
   "execution_count": 71,
   "id": "adc6f5de",
   "metadata": {},
   "outputs": [
    {
     "data": {
      "text/plain": [
       "jumlah    101\n",
       "Name: (KEP. SERIBU SLT, Perempuan), dtype: int64"
      ]
     },
     "execution_count": 71,
     "metadata": {},
     "output_type": "execute_result"
    }
   ],
   "source": [
    "dummy4.head()"
   ]
  },
  {
   "cell_type": "code",
   "execution_count": 73,
   "id": "6c7c464f",
   "metadata": {},
   "outputs": [],
   "source": [
    "# Percobaan dummy3\n",
    "dummy5 = pd.Series(dfnew_district_gender['jumlah'], index=dfnew_district_gender.index)"
   ]
  },
  {
   "cell_type": "code",
   "execution_count": 74,
   "id": "50b64d9a",
   "metadata": {},
   "outputs": [
    {
     "data": {
      "text/plain": [
       "nama_kecamatan    jenis_kelamin\n",
       "KEP. SERIBU SLT   Perempuan         101\n",
       "                  Laki-laki         106\n",
       "KEP. SERIBU UTR   Perempuan         121\n",
       "                  Laki-laki         167\n",
       "MAMPANG PRAPATAN  Laki-laki         167\n",
       "                                   ... \n",
       "CILINCING         Laki-laki        1544\n",
       "CENGKARENG        Laki-laki        1763\n",
       "CAKUNG            Laki-laki        1774\n",
       "TANJUNG PRIOK     Laki-laki        1848\n",
       "KOJA              Laki-laki        2084\n",
       "Name: jumlah, Length: 88, dtype: int64"
      ]
     },
     "execution_count": 74,
     "metadata": {},
     "output_type": "execute_result"
    }
   ],
   "source": [
    "dummy5"
   ]
  },
  {
   "cell_type": "code",
   "execution_count": 75,
   "id": "a41d9f23",
   "metadata": {},
   "outputs": [
    {
     "data": {
      "text/plain": [
       "nama_kecamatan\n",
       "KOJA                 3468\n",
       "TANJUNG PRIOK        3063\n",
       "CAKUNG               2909\n",
       "CENGKARENG           2839\n",
       "CILINCING            2746\n",
       "CIPAYUNG             2388\n",
       "DUREN SAWIT          2071\n",
       "KALI DERES           2039\n",
       "JATINEGARA           2037\n",
       "MATRAMAN             1865\n",
       "CIRACAS              1818\n",
       "KEMAYORAN            1616\n",
       "KRAMAT JATI          1475\n",
       "TAMBORA              1459\n",
       "PULO GADUNG          1456\n",
       "PASAR REBO           1267\n",
       "MAKASAR              1201\n",
       "JAGAKARSA            1193\n",
       "GROGOL PETAMBURAN    1187\n",
       "SENEN                1097\n",
       "KEBON JERUK          1005\n",
       "TEBET                 934\n",
       "PALMERAH              928\n",
       "PENJARINGAN           857\n",
       "PASAR MINGGU          855\n",
       "JOHAR BARU            851\n",
       "TANAH ABANG           846\n",
       "SAWAH BESAR           804\n",
       "KEBAYORAN LAMA        790\n",
       "MENTENG               726\n",
       "TAMAN SARI            723\n",
       "GAMBIR                702\n",
       "SETIA BUDI            599\n",
       "PESANGGRAHAN          588\n",
       "CILANDAK              584\n",
       "KEMBANGAN             567\n",
       "CEMPAKA PUTIH         544\n",
       "PANCORAN              504\n",
       "KEBAYORAN BARU        470\n",
       "KELAPA GADING         460\n",
       "PADEMANGAN            397\n",
       "MAMPANG PRAPATAN      354\n",
       "KEP. SERIBU UTR       288\n",
       "KEP. SERIBU SLT       207\n",
       "Name: jumlah, dtype: int64"
      ]
     },
     "execution_count": 75,
     "metadata": {},
     "output_type": "execute_result"
    }
   ],
   "source": [
    "dummy6 = dummy5.groupby(level=[0]).sum().sort_values(ascending=False)\n",
    "dummy6"
   ]
  },
  {
   "cell_type": "code",
   "execution_count": 83,
   "id": "9e23f2ae",
   "metadata": {},
   "outputs": [],
   "source": [
    "# Percobaan dummy4\n",
    "# Change multi index Dataframe to multi index Series\n",
    "\n",
    "dummy7 = dfnew_district_gender.values.ravel()\n",
    "dummy8 = dfnew_district_gender.index\n",
    "dummy9 = pd.Series(dummy7, index=dummy8)"
   ]
  },
  {
   "cell_type": "code",
   "execution_count": 84,
   "id": "fb09b54f",
   "metadata": {},
   "outputs": [
    {
     "data": {
      "text/plain": [
       "nama_kecamatan    jenis_kelamin\n",
       "KEP. SERIBU SLT   Perempuan         101\n",
       "                  Laki-laki         106\n",
       "KEP. SERIBU UTR   Perempuan         121\n",
       "                  Laki-laki         167\n",
       "MAMPANG PRAPATAN  Laki-laki         167\n",
       "                                   ... \n",
       "CILINCING         Laki-laki        1544\n",
       "CENGKARENG        Laki-laki        1763\n",
       "CAKUNG            Laki-laki        1774\n",
       "TANJUNG PRIOK     Laki-laki        1848\n",
       "KOJA              Laki-laki        2084\n",
       "Length: 88, dtype: int64"
      ]
     },
     "execution_count": 84,
     "metadata": {},
     "output_type": "execute_result"
    }
   ],
   "source": [
    "dummy9"
   ]
  },
  {
   "cell_type": "code",
   "execution_count": 85,
   "id": "ce99f44d",
   "metadata": {},
   "outputs": [
    {
     "data": {
      "text/plain": [
       "nama_kecamatan\n",
       "KOJA                 3468\n",
       "TANJUNG PRIOK        3063\n",
       "CAKUNG               2909\n",
       "CENGKARENG           2839\n",
       "CILINCING            2746\n",
       "CIPAYUNG             2388\n",
       "DUREN SAWIT          2071\n",
       "KALI DERES           2039\n",
       "JATINEGARA           2037\n",
       "MATRAMAN             1865\n",
       "CIRACAS              1818\n",
       "KEMAYORAN            1616\n",
       "KRAMAT JATI          1475\n",
       "TAMBORA              1459\n",
       "PULO GADUNG          1456\n",
       "PASAR REBO           1267\n",
       "MAKASAR              1201\n",
       "JAGAKARSA            1193\n",
       "GROGOL PETAMBURAN    1187\n",
       "SENEN                1097\n",
       "KEBON JERUK          1005\n",
       "TEBET                 934\n",
       "PALMERAH              928\n",
       "PENJARINGAN           857\n",
       "PASAR MINGGU          855\n",
       "JOHAR BARU            851\n",
       "TANAH ABANG           846\n",
       "SAWAH BESAR           804\n",
       "KEBAYORAN LAMA        790\n",
       "MENTENG               726\n",
       "TAMAN SARI            723\n",
       "GAMBIR                702\n",
       "SETIA BUDI            599\n",
       "PESANGGRAHAN          588\n",
       "CILANDAK              584\n",
       "KEMBANGAN             567\n",
       "CEMPAKA PUTIH         544\n",
       "PANCORAN              504\n",
       "KEBAYORAN BARU        470\n",
       "KELAPA GADING         460\n",
       "PADEMANGAN            397\n",
       "MAMPANG PRAPATAN      354\n",
       "KEP. SERIBU UTR       288\n",
       "KEP. SERIBU SLT       207\n",
       "dtype: int64"
      ]
     },
     "execution_count": 85,
     "metadata": {},
     "output_type": "execute_result"
    }
   ],
   "source": [
    "dummy10 = dummy9.groupby(level=[0]).sum().sort_values(ascending=False)\n",
    "dummy10"
   ]
  },
  {
   "cell_type": "code",
   "execution_count": 88,
   "id": "d1d5b418",
   "metadata": {},
   "outputs": [
    {
     "data": {
      "image/png": "[encoded data removed]",
      "text/plain": [
       "<Figure size 1080x720 with 1 Axes>"
      ]
     },
     "metadata": {
      "needs_background": "light"
     },
     "output_type": "display_data"
    }
   ],
   "source": [
    "dummy9.reindex(index=dummy10.index, level=0).unstack().plot.bar(stacked=True, figsize=(15,10))\n",
    "plt.ylabel('Jumlah Pengangguran')\n",
    "plt.title('Perbandingan Jumlah Pengangguran Laki-laki dan Perempuan per Kecamatan Tahun 2016')\n",
    "plt.show()"
   ]
  },
  {
   "cell_type": "code",
   "execution_count": null,
   "id": "6178721c",
   "metadata": {},
   "outputs": [],
   "source": []
  }
 ],
 "metadata": {
  "kernelspec": {
   "display_name": "Python 3",
   "language": "python",
   "name": "python3"
  },
  "language_info": {
   "codemirror_mode": {
    "name": "ipython",
    "version": 3
   },
   "file_extension": ".py",
   "mimetype": "text/x-python",
   "name": "python",
   "nbconvert_exporter": "python",
   "pygments_lexer": "ipython3",
   "version": "3.8.8"
  }
 },
 "nbformat": 4,
 "nbformat_minor": 5
}
