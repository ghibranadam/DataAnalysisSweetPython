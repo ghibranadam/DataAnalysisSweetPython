{
 "cells": [
  {
   "cell_type": "markdown",
   "id": "f86be8cd",
   "metadata": {},
   "source": [
    "## Step 1: Acquire Data\n",
    "### Explore Problem\n",
    "1. Find 3 Descriptive Analytics that might be useful to be known\n",
    "2. Try to show one Diagnostic Analytics to clarify some tren in Descriptive Analytics\n",
    "\n",
    "#### Descriptive Analytics\n",
    "1. Bagaimana tren pekerjaan (job title) yang ada / terjadi tiap tahun?\n",
    "2. Bagaimana tren gaji yang terjadi untuk setiap jenis pekerjaan\n",
    "3. Bagaimana tren salary yang terjadi pada setiap jenis pekerjaan (job title) berdasarkan tingkat employmentnya (pada tahun 2020 s.d 2022)\n",
    "\n",
    "#### Diagnostic Analytics\n",
    "<p style='text-align: justify;'>Mengapa job title (X: ditentukan setelah melihat tren jenis pekerjaan dalam Descriptive Analytics) memiliki minat paling banyak? apakah gaji tinggi pada tingkat entry level mempengaruhi banyaknya jumlah employee pada job title (X: ditentukan setelah melihat tren jenis pekerjaan dalam Descriptive Analytics)?</p>\n",
    "\n",
    "### Identify Data\n",
    "1. The data that will be use is from [Salary Data]('https://drive.google.com/file/d/1IGl3WjMH22V_vqWo5RUc3d6CDiJv8c_6/view')\n",
    "2. The description of the data can be read from [Data Description]('https://docs.google.com/document/d/1sxJuMd6yK6BxNp1JIhAU8Twpb3XCzBToLfcyNgaoKd8/edit')\n",
    "\n",
    "### Import Library and Dataset"
   ]
  },
  {
   "cell_type": "code",
   "execution_count": 1,
   "id": "da5a6fa7",
   "metadata": {},
   "outputs": [],
   "source": [
    "import pandas as pd\n",
    "import numpy as np\n",
    "import matplotlib.pyplot as plt"
   ]
  },
  {
   "cell_type": "code",
   "execution_count": 2,
   "id": "6eb436d1",
   "metadata": {},
   "outputs": [],
   "source": [
    "data = pd.read_csv('salary_dataset.csv')"
   ]
  },
  {
   "cell_type": "code",
   "execution_count": 3,
   "id": "2dd996ca",
   "metadata": {
    "scrolled": true
   },
   "outputs": [
    {
     "data": {
      "text/html": [
       "<div>\n",
       "<style scoped>\n",
       "    .dataframe tbody tr th:only-of-type {\n",
       "        vertical-align: middle;\n",
       "    }\n",
       "\n",
       "    .dataframe tbody tr th {\n",
       "        vertical-align: top;\n",
       "    }\n",
       "\n",
       "    .dataframe thead th {\n",
       "        text-align: right;\n",
       "    }\n",
       "</style>\n",
       "<table border=\"1\" class=\"dataframe\">\n",
       "  <thead>\n",
       "    <tr style=\"text-align: right;\">\n",
       "      <th></th>\n",
       "      <th>work_year</th>\n",
       "      <th>experience_level</th>\n",
       "      <th>employment_type</th>\n",
       "      <th>job_title</th>\n",
       "      <th>salary</th>\n",
       "      <th>salary_currency</th>\n",
       "      <th>salary_in_usd</th>\n",
       "      <th>employee_residence</th>\n",
       "      <th>remote_ratio</th>\n",
       "      <th>company_location</th>\n",
       "      <th>company_size</th>\n",
       "    </tr>\n",
       "  </thead>\n",
       "  <tbody>\n",
       "    <tr>\n",
       "      <th>0</th>\n",
       "      <td>2020</td>\n",
       "      <td>MI</td>\n",
       "      <td>FT</td>\n",
       "      <td>Data Scientist</td>\n",
       "      <td>70000</td>\n",
       "      <td>EUR</td>\n",
       "      <td>79833</td>\n",
       "      <td>DE</td>\n",
       "      <td>0</td>\n",
       "      <td>DE</td>\n",
       "      <td>L</td>\n",
       "    </tr>\n",
       "    <tr>\n",
       "      <th>1</th>\n",
       "      <td>2020</td>\n",
       "      <td>SE</td>\n",
       "      <td>FT</td>\n",
       "      <td>Machine Learning Developer</td>\n",
       "      <td>260000</td>\n",
       "      <td>USD</td>\n",
       "      <td>260000</td>\n",
       "      <td>JP</td>\n",
       "      <td>0</td>\n",
       "      <td>JP</td>\n",
       "      <td>S</td>\n",
       "    </tr>\n",
       "    <tr>\n",
       "      <th>2</th>\n",
       "      <td>2020</td>\n",
       "      <td>SE</td>\n",
       "      <td>FT</td>\n",
       "      <td>Data Engineer</td>\n",
       "      <td>85000</td>\n",
       "      <td>GBP</td>\n",
       "      <td>109024</td>\n",
       "      <td>GB</td>\n",
       "      <td>50</td>\n",
       "      <td>GB</td>\n",
       "      <td>M</td>\n",
       "    </tr>\n",
       "    <tr>\n",
       "      <th>3</th>\n",
       "      <td>2020</td>\n",
       "      <td>MI</td>\n",
       "      <td>FT</td>\n",
       "      <td>Data Analyst</td>\n",
       "      <td>20000</td>\n",
       "      <td>USD</td>\n",
       "      <td>20000</td>\n",
       "      <td>HN</td>\n",
       "      <td>0</td>\n",
       "      <td>HN</td>\n",
       "      <td>S</td>\n",
       "    </tr>\n",
       "    <tr>\n",
       "      <th>4</th>\n",
       "      <td>2020</td>\n",
       "      <td>SE</td>\n",
       "      <td>FT</td>\n",
       "      <td>Machine Learning Developer</td>\n",
       "      <td>150000</td>\n",
       "      <td>USD</td>\n",
       "      <td>150000</td>\n",
       "      <td>US</td>\n",
       "      <td>50</td>\n",
       "      <td>US</td>\n",
       "      <td>L</td>\n",
       "    </tr>\n",
       "  </tbody>\n",
       "</table>\n",
       "</div>"
      ],
      "text/plain": [
       "   work_year experience_level employment_type                   job_title  \\\n",
       "0       2020               MI              FT              Data Scientist   \n",
       "1       2020               SE              FT  Machine Learning Developer   \n",
       "2       2020               SE              FT               Data Engineer   \n",
       "3       2020               MI              FT                Data Analyst   \n",
       "4       2020               SE              FT  Machine Learning Developer   \n",
       "\n",
       "   salary salary_currency  salary_in_usd employee_residence  remote_ratio  \\\n",
       "0   70000             EUR          79833                 DE             0   \n",
       "1  260000             USD         260000                 JP             0   \n",
       "2   85000             GBP         109024                 GB            50   \n",
       "3   20000             USD          20000                 HN             0   \n",
       "4  150000             USD         150000                 US            50   \n",
       "\n",
       "  company_location company_size  \n",
       "0               DE            L  \n",
       "1               JP            S  \n",
       "2               GB            M  \n",
       "3               HN            S  \n",
       "4               US            L  "
      ]
     },
     "execution_count": 3,
     "metadata": {},
     "output_type": "execute_result"
    }
   ],
   "source": [
    "data.head()"
   ]
  },
  {
   "cell_type": "markdown",
   "id": "52047637",
   "metadata": {},
   "source": [
    "#### Showing initial data shape"
   ]
  },
  {
   "cell_type": "code",
   "execution_count": 4,
   "id": "d160e92e",
   "metadata": {},
   "outputs": [
    {
     "data": {
      "text/plain": [
       "(607, 11)"
      ]
     },
     "execution_count": 4,
     "metadata": {},
     "output_type": "execute_result"
    }
   ],
   "source": [
    "data.shape"
   ]
  },
  {
   "cell_type": "markdown",
   "id": "f239ecd0",
   "metadata": {},
   "source": [
    "```NOTE```: Data has 607 entry rows and 11 columns"
   ]
  },
  {
   "cell_type": "markdown",
   "id": "7fafaf35",
   "metadata": {},
   "source": [
    "#### Check column names and statistics of the data"
   ]
  },
  {
   "cell_type": "code",
   "execution_count": 5,
   "id": "e8654b75",
   "metadata": {},
   "outputs": [
    {
     "name": "stdout",
     "output_type": "stream",
     "text": [
      "<class 'pandas.core.frame.DataFrame'>\n",
      "RangeIndex: 607 entries, 0 to 606\n",
      "Data columns (total 11 columns):\n",
      " #   Column              Non-Null Count  Dtype \n",
      "---  ------              --------------  ----- \n",
      " 0   work_year           607 non-null    int64 \n",
      " 1   experience_level    607 non-null    object\n",
      " 2   employment_type     607 non-null    object\n",
      " 3   job_title           607 non-null    object\n",
      " 4   salary              607 non-null    int64 \n",
      " 5   salary_currency     607 non-null    object\n",
      " 6   salary_in_usd       607 non-null    int64 \n",
      " 7   employee_residence  607 non-null    object\n",
      " 8   remote_ratio        607 non-null    int64 \n",
      " 9   company_location    607 non-null    object\n",
      " 10  company_size        607 non-null    object\n",
      "dtypes: int64(4), object(7)\n",
      "memory usage: 52.3+ KB\n"
     ]
    }
   ],
   "source": [
    "data.info()"
   ]
  },
  {
   "cell_type": "code",
   "execution_count": 6,
   "id": "96a15c81",
   "metadata": {},
   "outputs": [
    {
     "data": {
      "text/html": [
       "<div>\n",
       "<style scoped>\n",
       "    .dataframe tbody tr th:only-of-type {\n",
       "        vertical-align: middle;\n",
       "    }\n",
       "\n",
       "    .dataframe tbody tr th {\n",
       "        vertical-align: top;\n",
       "    }\n",
       "\n",
       "    .dataframe thead th {\n",
       "        text-align: right;\n",
       "    }\n",
       "</style>\n",
       "<table border=\"1\" class=\"dataframe\">\n",
       "  <thead>\n",
       "    <tr style=\"text-align: right;\">\n",
       "      <th></th>\n",
       "      <th>work_year</th>\n",
       "      <th>salary</th>\n",
       "      <th>salary_in_usd</th>\n",
       "      <th>remote_ratio</th>\n",
       "    </tr>\n",
       "  </thead>\n",
       "  <tbody>\n",
       "    <tr>\n",
       "      <th>count</th>\n",
       "      <td>607.000000</td>\n",
       "      <td>6.070000e+02</td>\n",
       "      <td>607.000000</td>\n",
       "      <td>607.00000</td>\n",
       "    </tr>\n",
       "    <tr>\n",
       "      <th>mean</th>\n",
       "      <td>2021.405272</td>\n",
       "      <td>3.240001e+05</td>\n",
       "      <td>112297.869852</td>\n",
       "      <td>70.92257</td>\n",
       "    </tr>\n",
       "    <tr>\n",
       "      <th>std</th>\n",
       "      <td>0.692133</td>\n",
       "      <td>1.544357e+06</td>\n",
       "      <td>70957.259411</td>\n",
       "      <td>40.70913</td>\n",
       "    </tr>\n",
       "    <tr>\n",
       "      <th>min</th>\n",
       "      <td>2020.000000</td>\n",
       "      <td>4.000000e+03</td>\n",
       "      <td>2859.000000</td>\n",
       "      <td>0.00000</td>\n",
       "    </tr>\n",
       "    <tr>\n",
       "      <th>25%</th>\n",
       "      <td>2021.000000</td>\n",
       "      <td>7.000000e+04</td>\n",
       "      <td>62726.000000</td>\n",
       "      <td>50.00000</td>\n",
       "    </tr>\n",
       "    <tr>\n",
       "      <th>50%</th>\n",
       "      <td>2022.000000</td>\n",
       "      <td>1.150000e+05</td>\n",
       "      <td>101570.000000</td>\n",
       "      <td>100.00000</td>\n",
       "    </tr>\n",
       "    <tr>\n",
       "      <th>75%</th>\n",
       "      <td>2022.000000</td>\n",
       "      <td>1.650000e+05</td>\n",
       "      <td>150000.000000</td>\n",
       "      <td>100.00000</td>\n",
       "    </tr>\n",
       "    <tr>\n",
       "      <th>max</th>\n",
       "      <td>2022.000000</td>\n",
       "      <td>3.040000e+07</td>\n",
       "      <td>600000.000000</td>\n",
       "      <td>100.00000</td>\n",
       "    </tr>\n",
       "  </tbody>\n",
       "</table>\n",
       "</div>"
      ],
      "text/plain": [
       "         work_year        salary  salary_in_usd  remote_ratio\n",
       "count   607.000000  6.070000e+02     607.000000     607.00000\n",
       "mean   2021.405272  3.240001e+05  112297.869852      70.92257\n",
       "std       0.692133  1.544357e+06   70957.259411      40.70913\n",
       "min    2020.000000  4.000000e+03    2859.000000       0.00000\n",
       "25%    2021.000000  7.000000e+04   62726.000000      50.00000\n",
       "50%    2022.000000  1.150000e+05  101570.000000     100.00000\n",
       "75%    2022.000000  1.650000e+05  150000.000000     100.00000\n",
       "max    2022.000000  3.040000e+07  600000.000000     100.00000"
      ]
     },
     "execution_count": 6,
     "metadata": {},
     "output_type": "execute_result"
    }
   ],
   "source": [
    "data.describe()"
   ]
  },
  {
   "cell_type": "code",
   "execution_count": 7,
   "id": "2b2aacaf",
   "metadata": {},
   "outputs": [
    {
     "data": {
      "text/plain": [
       "array([2020, 2021, 2022], dtype=int64)"
      ]
     },
     "execution_count": 7,
     "metadata": {},
     "output_type": "execute_result"
    }
   ],
   "source": [
    "data['work_year'].unique()"
   ]
  },
  {
   "cell_type": "code",
   "execution_count": 8,
   "id": "73b4bf93",
   "metadata": {},
   "outputs": [
    {
     "data": {
      "text/plain": [
       "array([  0,  50, 100], dtype=int64)"
      ]
     },
     "execution_count": 8,
     "metadata": {},
     "output_type": "execute_result"
    }
   ],
   "source": [
    "data['remote_ratio'].unique()"
   ]
  },
  {
   "cell_type": "markdown",
   "id": "94bdf7af",
   "metadata": {},
   "source": [
    "```NOTE```\n",
    "1. There are 4 numeric columns:\n",
    "    - work year\n",
    "    - salary\n",
    "    - salary_in_usd\n",
    "    - remote ratio\n",
    "2. work_year is the year the salary was paid : ```2020```,```2021```, and ```2022```\n",
    "3. On the descriptive statistics above we know roughly the maximum salary was ```600,000 USD``` and the mean salary was around ```112,298 USD```"
   ]
  },
  {
   "cell_type": "markdown",
   "id": "df6522f2",
   "metadata": {},
   "source": [
    "## Step 2: Prepare Data\n",
    "### Explore Data\n",
    "- Check if there any missing value"
   ]
  },
  {
   "cell_type": "code",
   "execution_count": 9,
   "id": "eef0be7b",
   "metadata": {},
   "outputs": [
    {
     "data": {
      "text/plain": [
       "work_year             0\n",
       "experience_level      0\n",
       "employment_type       0\n",
       "job_title             0\n",
       "salary                0\n",
       "salary_currency       0\n",
       "salary_in_usd         0\n",
       "employee_residence    0\n",
       "remote_ratio          0\n",
       "company_location      0\n",
       "company_size          0\n",
       "dtype: int64"
      ]
     },
     "execution_count": 9,
     "metadata": {},
     "output_type": "execute_result"
    }
   ],
   "source": [
    "# check if data has missing values\n",
    "data.isnull().sum()"
   ]
  },
  {
   "cell_type": "markdown",
   "id": "8d27797d",
   "metadata": {},
   "source": [
    "```NOTE```:\n",
    "- The data is already clean, so we dont need to clean the data "
   ]
  },
  {
   "cell_type": "markdown",
   "id": "abad20b8",
   "metadata": {},
   "source": [
    "### Visualize Ideas\n",
    "#### Find some descriptive statistics of the data\n",
    "- This is used to get an ideas of the dataset\n",
    "- Find trends on dataset as many as possible\n",
    "#### Histogram plot to see the distribution of dataset"
   ]
  },
  {
   "cell_type": "code",
   "execution_count": 10,
   "id": "43b5169d",
   "metadata": {},
   "outputs": [
    {
     "data": {
      "text/plain": [
       "<AxesSubplot:ylabel='Frequency'>"
      ]
     },
     "execution_count": 10,
     "metadata": {},
     "output_type": "execute_result"
    },
    {
     "data": {
      "image/png": "[encoded data removed]",
      "text/plain": [
       "<Figure size 432x288 with 1 Axes>"
      ]
     },
     "metadata": {
      "needs_background": "light"
     },
     "output_type": "display_data"
    }
   ],
   "source": [
    "data['salary_in_usd'].plot.hist(bins=25)"
   ]
  },
  {
   "cell_type": "markdown",
   "id": "7d7b2462",
   "metadata": {},
   "source": [
    "```NOTE```\n",
    "- The average salary of employee in data field industry is around <b>50,000 - 150,000 USD</b>"
   ]
  },
  {
   "cell_type": "markdown",
   "id": "367a2279",
   "metadata": {},
   "source": [
    "#### Boxplot visualization to see an outlier in dataset"
   ]
  },
  {
   "cell_type": "code",
   "execution_count": 11,
   "id": "bfca3a2c",
   "metadata": {},
   "outputs": [
    {
     "data": {
      "text/plain": [
       "<AxesSubplot:>"
      ]
     },
     "execution_count": 11,
     "metadata": {},
     "output_type": "execute_result"
    },
    {
     "data": {
      "image/png": "[encoded data removed]",
      "text/plain": [
       "<Figure size 432x288 with 1 Axes>"
      ]
     },
     "metadata": {
      "needs_background": "light"
     },
     "output_type": "display_data"
    }
   ],
   "source": [
    "data['salary_in_usd'].plot.box()"
   ]
  },
  {
   "cell_type": "markdown",
   "id": "f6c5cc14",
   "metadata": {},
   "source": [
    "```NOTE```\n",
    "- From the boxplot above we know the median of salary is around <b>101,000 USD</b> with <i><b>average salary</b></i> on <b>112,000 USD</b>\n",
    "- There are seems like an outliers in salary, but we can considered the value is represented as the highest salary was paid for senior level experience employee"
   ]
  },
  {
   "cell_type": "markdown",
   "id": "9ee86d72",
   "metadata": {},
   "source": [
    "#### Scatter plot visualization to see relationship/correlation between two variables"
   ]
  },
  {
   "cell_type": "code",
   "execution_count": 12,
   "id": "ec7f0013",
   "metadata": {},
   "outputs": [
    {
     "data": {
      "text/plain": [
       "<AxesSubplot:xlabel='remote_ratio', ylabel='salary_in_usd'>"
      ]
     },
     "execution_count": 12,
     "metadata": {},
     "output_type": "execute_result"
    },
    {
     "data": {
      "image/png": "[encoded data removed]",
      "text/plain": [
       "<Figure size 432x288 with 1 Axes>"
      ]
     },
     "metadata": {
      "needs_background": "light"
     },
     "output_type": "display_data"
    }
   ],
   "source": [
    "data.plot.scatter(x='remote_ratio', y='salary_in_usd')"
   ]
  },
  {
   "cell_type": "markdown",
   "id": "2fcc52e0",
   "metadata": {},
   "source": [
    "```NOTE```\n",
    "- The distribution more like discrete, because the remote ratio values were discrete\n",
    "- We can tell there's no significan difference between employee that had 100 remote work and employee with 0 remote work"
   ]
  },
  {
   "cell_type": "code",
   "execution_count": 13,
   "id": "ca31741f",
   "metadata": {},
   "outputs": [
    {
     "data": {
      "text/plain": [
       "<AxesSubplot:xlabel='salary', ylabel='salary_in_usd'>"
      ]
     },
     "execution_count": 13,
     "metadata": {},
     "output_type": "execute_result"
    },
    {
     "data": {
      "image/png": "[encoded data removed]",
      "text/plain": [
       "<Figure size 432x288 with 1 Axes>"
      ]
     },
     "metadata": {
      "needs_background": "light"
     },
     "output_type": "display_data"
    }
   ],
   "source": [
    "data.plot.scatter(x='salary', y='salary_in_usd')"
   ]
  },
  {
   "cell_type": "markdown",
   "id": "f194bcb0",
   "metadata": {},
   "source": [
    "```NOTE```\n",
    "- From the figure above, most employee are paid with USD than other countries currencies"
   ]
  },
  {
   "cell_type": "markdown",
   "id": "80c25216",
   "metadata": {},
   "source": [
    "#### Line plot visualization to see some trend happen in the dataset"
   ]
  },
  {
   "cell_type": "code",
   "execution_count": 14,
   "id": "0d6c74a6",
   "metadata": {},
   "outputs": [
    {
     "data": {
      "text/html": [
       "<div>\n",
       "<style scoped>\n",
       "    .dataframe tbody tr th:only-of-type {\n",
       "        vertical-align: middle;\n",
       "    }\n",
       "\n",
       "    .dataframe tbody tr th {\n",
       "        vertical-align: top;\n",
       "    }\n",
       "\n",
       "    .dataframe thead th {\n",
       "        text-align: right;\n",
       "    }\n",
       "</style>\n",
       "<table border=\"1\" class=\"dataframe\">\n",
       "  <thead>\n",
       "    <tr style=\"text-align: right;\">\n",
       "      <th>job_title</th>\n",
       "      <th>Data Analyst</th>\n",
       "      <th>Data Engineer</th>\n",
       "      <th>Data Scientist</th>\n",
       "      <th>Machine Learning Developer</th>\n",
       "    </tr>\n",
       "    <tr>\n",
       "      <th>work_year</th>\n",
       "      <th></th>\n",
       "      <th></th>\n",
       "      <th></th>\n",
       "      <th></th>\n",
       "    </tr>\n",
       "  </thead>\n",
       "  <tbody>\n",
       "    <tr>\n",
       "      <th>2020</th>\n",
       "      <td>279072</td>\n",
       "      <td>182397</td>\n",
       "      <td>423503</td>\n",
       "      <td>388000</td>\n",
       "    </tr>\n",
       "    <tr>\n",
       "      <th>2021</th>\n",
       "      <td>472830</td>\n",
       "      <td>390297</td>\n",
       "      <td>1231954</td>\n",
       "      <td>682667</td>\n",
       "    </tr>\n",
       "    <tr>\n",
       "      <th>2022</th>\n",
       "      <td>239000</td>\n",
       "      <td>648176</td>\n",
       "      <td>417541</td>\n",
       "      <td>69175</td>\n",
       "    </tr>\n",
       "  </tbody>\n",
       "</table>\n",
       "</div>"
      ],
      "text/plain": [
       "job_title  Data Analyst  Data Engineer  Data Scientist  \\\n",
       "work_year                                                \n",
       "2020             279072         182397          423503   \n",
       "2021             472830         390297         1231954   \n",
       "2022             239000         648176          417541   \n",
       "\n",
       "job_title  Machine Learning Developer  \n",
       "work_year                              \n",
       "2020                           388000  \n",
       "2021                           682667  \n",
       "2022                            69175  "
      ]
     },
     "execution_count": 14,
     "metadata": {},
     "output_type": "execute_result"
    }
   ],
   "source": [
    "data_by_explevel = data[data['experience_level'] == 'EN']\n",
    "data_by_explevel.groupby(['work_year', 'job_title'])['salary_in_usd'].sum().unstack()"
   ]
  },
  {
   "cell_type": "code",
   "execution_count": 15,
   "id": "0ddcc921",
   "metadata": {},
   "outputs": [
    {
     "data": {
      "text/plain": [
       "<AxesSubplot:xlabel='work_year'>"
      ]
     },
     "execution_count": 15,
     "metadata": {},
     "output_type": "execute_result"
    },
    {
     "data": {
      "image/png": "[encoded data removed]",
      "text/plain": [
       "<Figure size 432x288 with 1 Axes>"
      ]
     },
     "metadata": {
      "needs_background": "light"
     },
     "output_type": "display_data"
    }
   ],
   "source": [
    "data_by_explevel.groupby(['work_year', 'job_title'])['salary_in_usd'].sum().unstack().plot()"
   ]
  },
  {
   "cell_type": "code",
   "execution_count": 59,
   "id": "604d1180",
   "metadata": {},
   "outputs": [
    {
     "data": {
      "text/html": [
       "<div>\n",
       "<style scoped>\n",
       "    .dataframe tbody tr th:only-of-type {\n",
       "        vertical-align: middle;\n",
       "    }\n",
       "\n",
       "    .dataframe tbody tr th {\n",
       "        vertical-align: top;\n",
       "    }\n",
       "\n",
       "    .dataframe thead th {\n",
       "        text-align: right;\n",
       "    }\n",
       "</style>\n",
       "<table border=\"1\" class=\"dataframe\">\n",
       "  <thead>\n",
       "    <tr style=\"text-align: right;\">\n",
       "      <th>job_title</th>\n",
       "      <th>Data Analyst</th>\n",
       "      <th>Data Engineer</th>\n",
       "      <th>Data Scientist</th>\n",
       "      <th>Machine Learning Developer</th>\n",
       "    </tr>\n",
       "    <tr>\n",
       "      <th>work_year</th>\n",
       "      <th></th>\n",
       "      <th></th>\n",
       "      <th></th>\n",
       "      <th></th>\n",
       "    </tr>\n",
       "  </thead>\n",
       "  <tbody>\n",
       "    <tr>\n",
       "      <th>2020</th>\n",
       "      <td>55814.400000</td>\n",
       "      <td>45599.250000</td>\n",
       "      <td>47055.888889</td>\n",
       "      <td>194000.000</td>\n",
       "    </tr>\n",
       "    <tr>\n",
       "      <th>2021</th>\n",
       "      <td>52536.666667</td>\n",
       "      <td>43366.333333</td>\n",
       "      <td>58664.476190</td>\n",
       "      <td>85333.375</td>\n",
       "    </tr>\n",
       "    <tr>\n",
       "      <th>2022</th>\n",
       "      <td>59750.000000</td>\n",
       "      <td>72019.555556</td>\n",
       "      <td>69590.166667</td>\n",
       "      <td>34587.500</td>\n",
       "    </tr>\n",
       "  </tbody>\n",
       "</table>\n",
       "</div>"
      ],
      "text/plain": [
       "job_title  Data Analyst  Data Engineer  Data Scientist  \\\n",
       "work_year                                                \n",
       "2020       55814.400000   45599.250000    47055.888889   \n",
       "2021       52536.666667   43366.333333    58664.476190   \n",
       "2022       59750.000000   72019.555556    69590.166667   \n",
       "\n",
       "job_title  Machine Learning Developer  \n",
       "work_year                              \n",
       "2020                       194000.000  \n",
       "2021                        85333.375  \n",
       "2022                        34587.500  "
      ]
     },
     "execution_count": 59,
     "metadata": {},
     "output_type": "execute_result"
    }
   ],
   "source": [
    "data_by_explevel.groupby(['work_year', 'job_title'])['salary_in_usd'].mean().unstack()"
   ]
  },
  {
   "cell_type": "code",
   "execution_count": 60,
   "id": "fb375439",
   "metadata": {},
   "outputs": [
    {
     "data": {
      "text/plain": [
       "<AxesSubplot:xlabel='work_year'>"
      ]
     },
     "execution_count": 60,
     "metadata": {},
     "output_type": "execute_result"
    },
    {
     "data": {
      "image/png": "[encoded data removed]",
      "text/plain": [
       "<Figure size 432x288 with 1 Axes>"
      ]
     },
     "metadata": {
      "needs_background": "light"
     },
     "output_type": "display_data"
    }
   ],
   "source": [
    "data_by_explevel.groupby(['work_year', 'job_title'])['salary_in_usd'].mean().unstack().plot()"
   ]
  },
  {
   "cell_type": "markdown",
   "id": "6ebebdef",
   "metadata": {},
   "source": [
    "```NOTE```\n",
    "- Entry level employee in Data Engineer has a salary increase every year compared to others job title"
   ]
  },
  {
   "cell_type": "markdown",
   "id": "014f34e2",
   "metadata": {},
   "source": [
    "### Transforming Dataset\n",
    "- Make sure each columns has correct data types\n",
    "- Changing index to date index (year)"
   ]
  },
  {
   "cell_type": "markdown",
   "id": "498ad583",
   "metadata": {},
   "source": [
    "#### Change data type on columns salary and salary in usd"
   ]
  },
  {
   "cell_type": "code",
   "execution_count": 16,
   "id": "ab2a2b7e",
   "metadata": {},
   "outputs": [],
   "source": [
    "data['salary'] = data['salary'].astype(float)\n",
    "data['salary_in_usd'] = data['salary_in_usd'].astype(float)"
   ]
  },
  {
   "cell_type": "code",
   "execution_count": 17,
   "id": "c7f8b3d9",
   "metadata": {},
   "outputs": [
    {
     "data": {
      "text/html": [
       "<div>\n",
       "<style scoped>\n",
       "    .dataframe tbody tr th:only-of-type {\n",
       "        vertical-align: middle;\n",
       "    }\n",
       "\n",
       "    .dataframe tbody tr th {\n",
       "        vertical-align: top;\n",
       "    }\n",
       "\n",
       "    .dataframe thead th {\n",
       "        text-align: right;\n",
       "    }\n",
       "</style>\n",
       "<table border=\"1\" class=\"dataframe\">\n",
       "  <thead>\n",
       "    <tr style=\"text-align: right;\">\n",
       "      <th></th>\n",
       "      <th>work_year</th>\n",
       "      <th>experience_level</th>\n",
       "      <th>employment_type</th>\n",
       "      <th>job_title</th>\n",
       "      <th>salary</th>\n",
       "      <th>salary_currency</th>\n",
       "      <th>salary_in_usd</th>\n",
       "      <th>employee_residence</th>\n",
       "      <th>remote_ratio</th>\n",
       "      <th>company_location</th>\n",
       "      <th>company_size</th>\n",
       "    </tr>\n",
       "  </thead>\n",
       "  <tbody>\n",
       "    <tr>\n",
       "      <th>0</th>\n",
       "      <td>2020</td>\n",
       "      <td>MI</td>\n",
       "      <td>FT</td>\n",
       "      <td>Data Scientist</td>\n",
       "      <td>70000.0</td>\n",
       "      <td>EUR</td>\n",
       "      <td>79833.0</td>\n",
       "      <td>DE</td>\n",
       "      <td>0</td>\n",
       "      <td>DE</td>\n",
       "      <td>L</td>\n",
       "    </tr>\n",
       "    <tr>\n",
       "      <th>1</th>\n",
       "      <td>2020</td>\n",
       "      <td>SE</td>\n",
       "      <td>FT</td>\n",
       "      <td>Machine Learning Developer</td>\n",
       "      <td>260000.0</td>\n",
       "      <td>USD</td>\n",
       "      <td>260000.0</td>\n",
       "      <td>JP</td>\n",
       "      <td>0</td>\n",
       "      <td>JP</td>\n",
       "      <td>S</td>\n",
       "    </tr>\n",
       "    <tr>\n",
       "      <th>2</th>\n",
       "      <td>2020</td>\n",
       "      <td>SE</td>\n",
       "      <td>FT</td>\n",
       "      <td>Data Engineer</td>\n",
       "      <td>85000.0</td>\n",
       "      <td>GBP</td>\n",
       "      <td>109024.0</td>\n",
       "      <td>GB</td>\n",
       "      <td>50</td>\n",
       "      <td>GB</td>\n",
       "      <td>M</td>\n",
       "    </tr>\n",
       "    <tr>\n",
       "      <th>3</th>\n",
       "      <td>2020</td>\n",
       "      <td>MI</td>\n",
       "      <td>FT</td>\n",
       "      <td>Data Analyst</td>\n",
       "      <td>20000.0</td>\n",
       "      <td>USD</td>\n",
       "      <td>20000.0</td>\n",
       "      <td>HN</td>\n",
       "      <td>0</td>\n",
       "      <td>HN</td>\n",
       "      <td>S</td>\n",
       "    </tr>\n",
       "    <tr>\n",
       "      <th>4</th>\n",
       "      <td>2020</td>\n",
       "      <td>SE</td>\n",
       "      <td>FT</td>\n",
       "      <td>Machine Learning Developer</td>\n",
       "      <td>150000.0</td>\n",
       "      <td>USD</td>\n",
       "      <td>150000.0</td>\n",
       "      <td>US</td>\n",
       "      <td>50</td>\n",
       "      <td>US</td>\n",
       "      <td>L</td>\n",
       "    </tr>\n",
       "  </tbody>\n",
       "</table>\n",
       "</div>"
      ],
      "text/plain": [
       "   work_year experience_level employment_type                   job_title  \\\n",
       "0       2020               MI              FT              Data Scientist   \n",
       "1       2020               SE              FT  Machine Learning Developer   \n",
       "2       2020               SE              FT               Data Engineer   \n",
       "3       2020               MI              FT                Data Analyst   \n",
       "4       2020               SE              FT  Machine Learning Developer   \n",
       "\n",
       "     salary salary_currency  salary_in_usd employee_residence  remote_ratio  \\\n",
       "0   70000.0             EUR        79833.0                 DE             0   \n",
       "1  260000.0             USD       260000.0                 JP             0   \n",
       "2   85000.0             GBP       109024.0                 GB            50   \n",
       "3   20000.0             USD        20000.0                 HN             0   \n",
       "4  150000.0             USD       150000.0                 US            50   \n",
       "\n",
       "  company_location company_size  \n",
       "0               DE            L  \n",
       "1               JP            S  \n",
       "2               GB            M  \n",
       "3               HN            S  \n",
       "4               US            L  "
      ]
     },
     "execution_count": 17,
     "metadata": {},
     "output_type": "execute_result"
    }
   ],
   "source": [
    "data.head()"
   ]
  },
  {
   "cell_type": "code",
   "execution_count": 18,
   "id": "30abf668",
   "metadata": {},
   "outputs": [
    {
     "name": "stdout",
     "output_type": "stream",
     "text": [
      "<class 'pandas.core.frame.DataFrame'>\n",
      "RangeIndex: 607 entries, 0 to 606\n",
      "Data columns (total 11 columns):\n",
      " #   Column              Non-Null Count  Dtype  \n",
      "---  ------              --------------  -----  \n",
      " 0   work_year           607 non-null    int64  \n",
      " 1   experience_level    607 non-null    object \n",
      " 2   employment_type     607 non-null    object \n",
      " 3   job_title           607 non-null    object \n",
      " 4   salary              607 non-null    float64\n",
      " 5   salary_currency     607 non-null    object \n",
      " 6   salary_in_usd       607 non-null    float64\n",
      " 7   employee_residence  607 non-null    object \n",
      " 8   remote_ratio        607 non-null    int64  \n",
      " 9   company_location    607 non-null    object \n",
      " 10  company_size        607 non-null    object \n",
      "dtypes: float64(2), int64(2), object(7)\n",
      "memory usage: 52.3+ KB\n"
     ]
    }
   ],
   "source": [
    "data.info()"
   ]
  },
  {
   "cell_type": "markdown",
   "id": "d402bbac",
   "metadata": {},
   "source": [
    "```NOTE```\n",
    "- Now the data types on column ```salary``` and ```salary_in_usd``` has changed to float"
   ]
  },
  {
   "cell_type": "markdown",
   "id": "a8270765",
   "metadata": {},
   "source": [
    "#### Change index to date time (year)"
   ]
  },
  {
   "cell_type": "code",
   "execution_count": 19,
   "id": "44253b08",
   "metadata": {},
   "outputs": [],
   "source": [
    "data['work_year'] = pd.to_datetime(data['work_year'], format='%Y')"
   ]
  },
  {
   "cell_type": "code",
   "execution_count": 20,
   "id": "4687a0db",
   "metadata": {},
   "outputs": [
    {
     "data": {
      "text/html": [
       "<div>\n",
       "<style scoped>\n",
       "    .dataframe tbody tr th:only-of-type {\n",
       "        vertical-align: middle;\n",
       "    }\n",
       "\n",
       "    .dataframe tbody tr th {\n",
       "        vertical-align: top;\n",
       "    }\n",
       "\n",
       "    .dataframe thead th {\n",
       "        text-align: right;\n",
       "    }\n",
       "</style>\n",
       "<table border=\"1\" class=\"dataframe\">\n",
       "  <thead>\n",
       "    <tr style=\"text-align: right;\">\n",
       "      <th></th>\n",
       "      <th>experience_level</th>\n",
       "      <th>employment_type</th>\n",
       "      <th>job_title</th>\n",
       "      <th>salary</th>\n",
       "      <th>salary_currency</th>\n",
       "      <th>salary_in_usd</th>\n",
       "      <th>employee_residence</th>\n",
       "      <th>remote_ratio</th>\n",
       "      <th>company_location</th>\n",
       "      <th>company_size</th>\n",
       "    </tr>\n",
       "    <tr>\n",
       "      <th>work_year</th>\n",
       "      <th></th>\n",
       "      <th></th>\n",
       "      <th></th>\n",
       "      <th></th>\n",
       "      <th></th>\n",
       "      <th></th>\n",
       "      <th></th>\n",
       "      <th></th>\n",
       "      <th></th>\n",
       "      <th></th>\n",
       "    </tr>\n",
       "  </thead>\n",
       "  <tbody>\n",
       "    <tr>\n",
       "      <th>2020-01-01</th>\n",
       "      <td>MI</td>\n",
       "      <td>FT</td>\n",
       "      <td>Data Scientist</td>\n",
       "      <td>70000.0</td>\n",
       "      <td>EUR</td>\n",
       "      <td>79833.0</td>\n",
       "      <td>DE</td>\n",
       "      <td>0</td>\n",
       "      <td>DE</td>\n",
       "      <td>L</td>\n",
       "    </tr>\n",
       "    <tr>\n",
       "      <th>2020-01-01</th>\n",
       "      <td>SE</td>\n",
       "      <td>FT</td>\n",
       "      <td>Machine Learning Developer</td>\n",
       "      <td>260000.0</td>\n",
       "      <td>USD</td>\n",
       "      <td>260000.0</td>\n",
       "      <td>JP</td>\n",
       "      <td>0</td>\n",
       "      <td>JP</td>\n",
       "      <td>S</td>\n",
       "    </tr>\n",
       "    <tr>\n",
       "      <th>2020-01-01</th>\n",
       "      <td>SE</td>\n",
       "      <td>FT</td>\n",
       "      <td>Data Engineer</td>\n",
       "      <td>85000.0</td>\n",
       "      <td>GBP</td>\n",
       "      <td>109024.0</td>\n",
       "      <td>GB</td>\n",
       "      <td>50</td>\n",
       "      <td>GB</td>\n",
       "      <td>M</td>\n",
       "    </tr>\n",
       "    <tr>\n",
       "      <th>2020-01-01</th>\n",
       "      <td>MI</td>\n",
       "      <td>FT</td>\n",
       "      <td>Data Analyst</td>\n",
       "      <td>20000.0</td>\n",
       "      <td>USD</td>\n",
       "      <td>20000.0</td>\n",
       "      <td>HN</td>\n",
       "      <td>0</td>\n",
       "      <td>HN</td>\n",
       "      <td>S</td>\n",
       "    </tr>\n",
       "    <tr>\n",
       "      <th>2020-01-01</th>\n",
       "      <td>SE</td>\n",
       "      <td>FT</td>\n",
       "      <td>Machine Learning Developer</td>\n",
       "      <td>150000.0</td>\n",
       "      <td>USD</td>\n",
       "      <td>150000.0</td>\n",
       "      <td>US</td>\n",
       "      <td>50</td>\n",
       "      <td>US</td>\n",
       "      <td>L</td>\n",
       "    </tr>\n",
       "  </tbody>\n",
       "</table>\n",
       "</div>"
      ],
      "text/plain": [
       "           experience_level employment_type                   job_title  \\\n",
       "work_year                                                                 \n",
       "2020-01-01               MI              FT              Data Scientist   \n",
       "2020-01-01               SE              FT  Machine Learning Developer   \n",
       "2020-01-01               SE              FT               Data Engineer   \n",
       "2020-01-01               MI              FT                Data Analyst   \n",
       "2020-01-01               SE              FT  Machine Learning Developer   \n",
       "\n",
       "              salary salary_currency  salary_in_usd employee_residence  \\\n",
       "work_year                                                                \n",
       "2020-01-01   70000.0             EUR        79833.0                 DE   \n",
       "2020-01-01  260000.0             USD       260000.0                 JP   \n",
       "2020-01-01   85000.0             GBP       109024.0                 GB   \n",
       "2020-01-01   20000.0             USD        20000.0                 HN   \n",
       "2020-01-01  150000.0             USD       150000.0                 US   \n",
       "\n",
       "            remote_ratio company_location company_size  \n",
       "work_year                                               \n",
       "2020-01-01             0               DE            L  \n",
       "2020-01-01             0               JP            S  \n",
       "2020-01-01            50               GB            M  \n",
       "2020-01-01             0               HN            S  \n",
       "2020-01-01            50               US            L  "
      ]
     },
     "execution_count": 20,
     "metadata": {},
     "output_type": "execute_result"
    }
   ],
   "source": [
    "data.set_index('work_year', inplace=True)\n",
    "data = data.sort_index()\n",
    "data.head()"
   ]
  },
  {
   "cell_type": "markdown",
   "id": "87902880",
   "metadata": {},
   "source": [
    "```NOTE```"
   ]
  },
  {
   "cell_type": "markdown",
   "id": "c821ac9f",
   "metadata": {},
   "source": [
    "## Step 3: Analyze Data\n",
    "### Descriptive Analytics\n",
    "1. Bagaimana tren pekerjaan (job title) yang terjadi tiap tahun (<b>done</b>)\n",
    "2. Bagaimana tren salary yang terjadi untuk setiap jenis pekerjaan\n",
    "3. Bagaimana tren salary yang terjadi untuk setiap pekerjaan (job title) berdasarkan tingkat employement pada tiap tahun\n",
    "    - Tren salary pada tahun 2020\n",
    "    - Tren salary pada tahun 2021\n",
    "    - Tren salary pada tahun 2022\n"
   ]
  },
  {
   "cell_type": "markdown",
   "id": "be86ce93",
   "metadata": {},
   "source": [
    "#### 1. Bagaimana tren pekerjaan (job title) yang terjadi tiap tahun?"
   ]
  },
  {
   "cell_type": "code",
   "execution_count": 21,
   "id": "54ebb1d6",
   "metadata": {},
   "outputs": [
    {
     "data": {
      "text/plain": [
       "work_year\n",
       "2020     6898536.0\n",
       "2021    21668273.0\n",
       "2022    39597998.0\n",
       "Name: salary_in_usd, dtype: float64"
      ]
     },
     "execution_count": 21,
     "metadata": {},
     "output_type": "execute_result"
    }
   ],
   "source": [
    "# Trend general salary in data job\n",
    "data.groupby(data.index.year)['salary_in_usd'].sum()"
   ]
  },
  {
   "cell_type": "code",
   "execution_count": 22,
   "id": "ee287a02",
   "metadata": {},
   "outputs": [
    {
     "data": {
      "text/plain": [
       "work_year  job_title                 \n",
       "2020       Data Analyst                    764903.0\n",
       "           Data Engineer                  1658955.0\n",
       "           Data Scientist                 3420445.0\n",
       "           Machine Learning Developer     1054233.0\n",
       "2021       Data Analyst                   3908420.0\n",
       "           Data Engineer                  7020582.0\n",
       "           Data Scientist                 8057869.0\n",
       "           Machine Learning Developer     2681402.0\n",
       "2022       Data Analyst                   9472472.0\n",
       "           Data Engineer                 13336370.0\n",
       "           Data Scientist                13544038.0\n",
       "           Machine Learning Developer     3245118.0\n",
       "Name: salary_in_usd, dtype: float64"
      ]
     },
     "execution_count": 22,
     "metadata": {},
     "output_type": "execute_result"
    }
   ],
   "source": [
    "# Trend salary for each job title every year\n",
    "data.groupby([data.index.year, 'job_title'])['salary_in_usd'].sum()"
   ]
  },
  {
   "cell_type": "code",
   "execution_count": 23,
   "id": "4298aeab",
   "metadata": {},
   "outputs": [
    {
     "data": {
      "text/html": [
       "<div>\n",
       "<style scoped>\n",
       "    .dataframe tbody tr th:only-of-type {\n",
       "        vertical-align: middle;\n",
       "    }\n",
       "\n",
       "    .dataframe tbody tr th {\n",
       "        vertical-align: top;\n",
       "    }\n",
       "\n",
       "    .dataframe thead th {\n",
       "        text-align: right;\n",
       "    }\n",
       "</style>\n",
       "<table border=\"1\" class=\"dataframe\">\n",
       "  <thead>\n",
       "    <tr style=\"text-align: right;\">\n",
       "      <th></th>\n",
       "      <th></th>\n",
       "      <th>experience_level</th>\n",
       "      <th>employment_type</th>\n",
       "      <th>salary</th>\n",
       "      <th>salary_currency</th>\n",
       "      <th>salary_in_usd</th>\n",
       "      <th>employee_residence</th>\n",
       "      <th>remote_ratio</th>\n",
       "      <th>company_location</th>\n",
       "      <th>company_size</th>\n",
       "    </tr>\n",
       "    <tr>\n",
       "      <th>work_year</th>\n",
       "      <th>job_title</th>\n",
       "      <th></th>\n",
       "      <th></th>\n",
       "      <th></th>\n",
       "      <th></th>\n",
       "      <th></th>\n",
       "      <th></th>\n",
       "      <th></th>\n",
       "      <th></th>\n",
       "      <th></th>\n",
       "    </tr>\n",
       "  </thead>\n",
       "  <tbody>\n",
       "    <tr>\n",
       "      <th rowspan=\"4\" valign=\"top\">2020</th>\n",
       "      <th>Data Analyst</th>\n",
       "      <td>13</td>\n",
       "      <td>13</td>\n",
       "      <td>13</td>\n",
       "      <td>13</td>\n",
       "      <td>13</td>\n",
       "      <td>13</td>\n",
       "      <td>13</td>\n",
       "      <td>13</td>\n",
       "      <td>13</td>\n",
       "    </tr>\n",
       "    <tr>\n",
       "      <th>Data Engineer</th>\n",
       "      <td>20</td>\n",
       "      <td>20</td>\n",
       "      <td>20</td>\n",
       "      <td>20</td>\n",
       "      <td>20</td>\n",
       "      <td>20</td>\n",
       "      <td>20</td>\n",
       "      <td>20</td>\n",
       "      <td>20</td>\n",
       "    </tr>\n",
       "    <tr>\n",
       "      <th>Data Scientist</th>\n",
       "      <td>31</td>\n",
       "      <td>31</td>\n",
       "      <td>31</td>\n",
       "      <td>31</td>\n",
       "      <td>31</td>\n",
       "      <td>31</td>\n",
       "      <td>31</td>\n",
       "      <td>31</td>\n",
       "      <td>31</td>\n",
       "    </tr>\n",
       "    <tr>\n",
       "      <th>Machine Learning Developer</th>\n",
       "      <td>8</td>\n",
       "      <td>8</td>\n",
       "      <td>8</td>\n",
       "      <td>8</td>\n",
       "      <td>8</td>\n",
       "      <td>8</td>\n",
       "      <td>8</td>\n",
       "      <td>8</td>\n",
       "      <td>8</td>\n",
       "    </tr>\n",
       "    <tr>\n",
       "      <th rowspan=\"4\" valign=\"top\">2021</th>\n",
       "      <th>Data Analyst</th>\n",
       "      <td>38</td>\n",
       "      <td>38</td>\n",
       "      <td>38</td>\n",
       "      <td>38</td>\n",
       "      <td>38</td>\n",
       "      <td>38</td>\n",
       "      <td>38</td>\n",
       "      <td>38</td>\n",
       "      <td>38</td>\n",
       "    </tr>\n",
       "    <tr>\n",
       "      <th>Data Engineer</th>\n",
       "      <td>65</td>\n",
       "      <td>65</td>\n",
       "      <td>65</td>\n",
       "      <td>65</td>\n",
       "      <td>65</td>\n",
       "      <td>65</td>\n",
       "      <td>65</td>\n",
       "      <td>65</td>\n",
       "      <td>65</td>\n",
       "    </tr>\n",
       "    <tr>\n",
       "      <th>Data Scientist</th>\n",
       "      <td>88</td>\n",
       "      <td>88</td>\n",
       "      <td>88</td>\n",
       "      <td>88</td>\n",
       "      <td>88</td>\n",
       "      <td>88</td>\n",
       "      <td>88</td>\n",
       "      <td>88</td>\n",
       "      <td>88</td>\n",
       "    </tr>\n",
       "    <tr>\n",
       "      <th>Machine Learning Developer</th>\n",
       "      <td>26</td>\n",
       "      <td>26</td>\n",
       "      <td>26</td>\n",
       "      <td>26</td>\n",
       "      <td>26</td>\n",
       "      <td>26</td>\n",
       "      <td>26</td>\n",
       "      <td>26</td>\n",
       "      <td>26</td>\n",
       "    </tr>\n",
       "    <tr>\n",
       "      <th rowspan=\"4\" valign=\"top\">2022</th>\n",
       "      <th>Data Analyst</th>\n",
       "      <td>89</td>\n",
       "      <td>89</td>\n",
       "      <td>89</td>\n",
       "      <td>89</td>\n",
       "      <td>89</td>\n",
       "      <td>89</td>\n",
       "      <td>89</td>\n",
       "      <td>89</td>\n",
       "      <td>89</td>\n",
       "    </tr>\n",
       "    <tr>\n",
       "      <th>Data Engineer</th>\n",
       "      <td>106</td>\n",
       "      <td>106</td>\n",
       "      <td>106</td>\n",
       "      <td>106</td>\n",
       "      <td>106</td>\n",
       "      <td>106</td>\n",
       "      <td>106</td>\n",
       "      <td>106</td>\n",
       "      <td>106</td>\n",
       "    </tr>\n",
       "    <tr>\n",
       "      <th>Data Scientist</th>\n",
       "      <td>95</td>\n",
       "      <td>95</td>\n",
       "      <td>95</td>\n",
       "      <td>95</td>\n",
       "      <td>95</td>\n",
       "      <td>95</td>\n",
       "      <td>95</td>\n",
       "      <td>95</td>\n",
       "      <td>95</td>\n",
       "    </tr>\n",
       "    <tr>\n",
       "      <th>Machine Learning Developer</th>\n",
       "      <td>28</td>\n",
       "      <td>28</td>\n",
       "      <td>28</td>\n",
       "      <td>28</td>\n",
       "      <td>28</td>\n",
       "      <td>28</td>\n",
       "      <td>28</td>\n",
       "      <td>28</td>\n",
       "      <td>28</td>\n",
       "    </tr>\n",
       "  </tbody>\n",
       "</table>\n",
       "</div>"
      ],
      "text/plain": [
       "                                      experience_level  employment_type  \\\n",
       "work_year job_title                                                       \n",
       "2020      Data Analyst                              13               13   \n",
       "          Data Engineer                             20               20   \n",
       "          Data Scientist                            31               31   \n",
       "          Machine Learning Developer                 8                8   \n",
       "2021      Data Analyst                              38               38   \n",
       "          Data Engineer                             65               65   \n",
       "          Data Scientist                            88               88   \n",
       "          Machine Learning Developer                26               26   \n",
       "2022      Data Analyst                              89               89   \n",
       "          Data Engineer                            106              106   \n",
       "          Data Scientist                            95               95   \n",
       "          Machine Learning Developer                28               28   \n",
       "\n",
       "                                      salary  salary_currency  salary_in_usd  \\\n",
       "work_year job_title                                                            \n",
       "2020      Data Analyst                    13               13             13   \n",
       "          Data Engineer                   20               20             20   \n",
       "          Data Scientist                  31               31             31   \n",
       "          Machine Learning Developer       8                8              8   \n",
       "2021      Data Analyst                    38               38             38   \n",
       "          Data Engineer                   65               65             65   \n",
       "          Data Scientist                  88               88             88   \n",
       "          Machine Learning Developer      26               26             26   \n",
       "2022      Data Analyst                    89               89             89   \n",
       "          Data Engineer                  106              106            106   \n",
       "          Data Scientist                  95               95             95   \n",
       "          Machine Learning Developer      28               28             28   \n",
       "\n",
       "                                      employee_residence  remote_ratio  \\\n",
       "work_year job_title                                                      \n",
       "2020      Data Analyst                                13            13   \n",
       "          Data Engineer                               20            20   \n",
       "          Data Scientist                              31            31   \n",
       "          Machine Learning Developer                   8             8   \n",
       "2021      Data Analyst                                38            38   \n",
       "          Data Engineer                               65            65   \n",
       "          Data Scientist                              88            88   \n",
       "          Machine Learning Developer                  26            26   \n",
       "2022      Data Analyst                                89            89   \n",
       "          Data Engineer                              106           106   \n",
       "          Data Scientist                              95            95   \n",
       "          Machine Learning Developer                  28            28   \n",
       "\n",
       "                                      company_location  company_size  \n",
       "work_year job_title                                                   \n",
       "2020      Data Analyst                              13            13  \n",
       "          Data Engineer                             20            20  \n",
       "          Data Scientist                            31            31  \n",
       "          Machine Learning Developer                 8             8  \n",
       "2021      Data Analyst                              38            38  \n",
       "          Data Engineer                             65            65  \n",
       "          Data Scientist                            88            88  \n",
       "          Machine Learning Developer                26            26  \n",
       "2022      Data Analyst                              89            89  \n",
       "          Data Engineer                            106           106  \n",
       "          Data Scientist                            95            95  \n",
       "          Machine Learning Developer                28            28  "
      ]
     },
     "execution_count": 23,
     "metadata": {},
     "output_type": "execute_result"
    }
   ],
   "source": [
    "# Trend how much employee in each job title every year\n",
    "data.groupby([data.index.year, 'job_title']).count()"
   ]
  },
  {
   "cell_type": "code",
   "execution_count": 24,
   "id": "e3b01cab",
   "metadata": {},
   "outputs": [],
   "source": [
    "# Create new DataFrame cantain number of employee for each job title every year\n",
    "df_employee = data.groupby([data.index.year, 'job_title']).count()\n",
    "\n",
    "# The value of experience level is equal the number of employee \n",
    "df_employee = df_employee['experience_level']"
   ]
  },
  {
   "cell_type": "code",
   "execution_count": 25,
   "id": "ed32c342",
   "metadata": {},
   "outputs": [
    {
     "data": {
      "text/plain": [
       "<AxesSubplot:title={'center':'Number of Employee in Data Field Industry 2020 - Q1 2022'}, xlabel='work_year', ylabel='Number of Employee'>"
      ]
     },
     "execution_count": 25,
     "metadata": {},
     "output_type": "execute_result"
    },
    {
     "data": {
      "image/png": "[encoded data removed]",
      "text/plain": [
       "<Figure size 864x576 with 1 Axes>"
      ]
     },
     "metadata": {
      "needs_background": "light"
     },
     "output_type": "display_data"
    }
   ],
   "source": [
    "df_employee.unstack().plot.bar(figsize=(12,8), ylabel= 'Number of Employee', title='Number of Employee in Data Field Industry 2020 - Q1 2022')"
   ]
  },
  {
   "cell_type": "code",
   "execution_count": 26,
   "id": "576d1753",
   "metadata": {},
   "outputs": [
    {
     "data": {
      "text/html": [
       "<div>\n",
       "<style scoped>\n",
       "    .dataframe tbody tr th:only-of-type {\n",
       "        vertical-align: middle;\n",
       "    }\n",
       "\n",
       "    .dataframe tbody tr th {\n",
       "        vertical-align: top;\n",
       "    }\n",
       "\n",
       "    .dataframe thead th {\n",
       "        text-align: right;\n",
       "    }\n",
       "</style>\n",
       "<table border=\"1\" class=\"dataframe\">\n",
       "  <thead>\n",
       "    <tr style=\"text-align: right;\">\n",
       "      <th>job_title</th>\n",
       "      <th>Data Analyst</th>\n",
       "      <th>Data Engineer</th>\n",
       "      <th>Data Scientist</th>\n",
       "      <th>Machine Learning Developer</th>\n",
       "    </tr>\n",
       "    <tr>\n",
       "      <th>work_year</th>\n",
       "      <th></th>\n",
       "      <th></th>\n",
       "      <th></th>\n",
       "      <th></th>\n",
       "    </tr>\n",
       "  </thead>\n",
       "  <tbody>\n",
       "    <tr>\n",
       "      <th>2020</th>\n",
       "      <td>13</td>\n",
       "      <td>20</td>\n",
       "      <td>31</td>\n",
       "      <td>8</td>\n",
       "    </tr>\n",
       "    <tr>\n",
       "      <th>2021</th>\n",
       "      <td>38</td>\n",
       "      <td>65</td>\n",
       "      <td>88</td>\n",
       "      <td>26</td>\n",
       "    </tr>\n",
       "    <tr>\n",
       "      <th>2022</th>\n",
       "      <td>89</td>\n",
       "      <td>106</td>\n",
       "      <td>95</td>\n",
       "      <td>28</td>\n",
       "    </tr>\n",
       "  </tbody>\n",
       "</table>\n",
       "</div>"
      ],
      "text/plain": [
       "job_title  Data Analyst  Data Engineer  Data Scientist  \\\n",
       "work_year                                                \n",
       "2020                 13             20              31   \n",
       "2021                 38             65              88   \n",
       "2022                 89            106              95   \n",
       "\n",
       "job_title  Machine Learning Developer  \n",
       "work_year                              \n",
       "2020                                8  \n",
       "2021                               26  \n",
       "2022                               28  "
      ]
     },
     "execution_count": 26,
     "metadata": {},
     "output_type": "execute_result"
    }
   ],
   "source": [
    "df_employee.unstack()"
   ]
  },
  {
   "cell_type": "markdown",
   "id": "16815d8b",
   "metadata": {},
   "source": [
    "```NOTE```"
   ]
  },
  {
   "cell_type": "markdown",
   "id": "21fd751c",
   "metadata": {},
   "source": [
    "#### 2. Bagaimana tren salary yang terjadi untuk setiap jenis pekerjaan?"
   ]
  },
  {
   "cell_type": "code",
   "execution_count": 27,
   "id": "652e1805",
   "metadata": {},
   "outputs": [
    {
     "data": {
      "text/plain": [
       "work_year  job_title                 \n",
       "2020       Data Analyst                    764903.0\n",
       "           Data Engineer                  1658955.0\n",
       "           Data Scientist                 3420445.0\n",
       "           Machine Learning Developer     1054233.0\n",
       "2021       Data Analyst                   3908420.0\n",
       "           Data Engineer                  7020582.0\n",
       "           Data Scientist                 8057869.0\n",
       "           Machine Learning Developer     2681402.0\n",
       "2022       Data Analyst                   9472472.0\n",
       "           Data Engineer                 13336370.0\n",
       "           Data Scientist                13544038.0\n",
       "           Machine Learning Developer     3245118.0\n",
       "Name: salary_in_usd, dtype: float64"
      ]
     },
     "execution_count": 27,
     "metadata": {},
     "output_type": "execute_result"
    }
   ],
   "source": [
    "data.groupby([data.index.year, 'job_title'])['salary_in_usd'].sum()"
   ]
  },
  {
   "cell_type": "code",
   "execution_count": 28,
   "id": "2eb42c1a",
   "metadata": {},
   "outputs": [
    {
     "data": {
      "text/plain": [
       "<AxesSubplot:title={'center':'Salary of Employee in Data Field Industry on 2020 - Q1 2022'}, xlabel='work_year', ylabel='Salary (in million)'>"
      ]
     },
     "execution_count": 28,
     "metadata": {},
     "output_type": "execute_result"
    },
    {
     "data": {
      "image/png": "[encoded data removed]",
      "text/plain": [
       "<Figure size 864x576 with 1 Axes>"
      ]
     },
     "metadata": {
      "needs_background": "light"
     },
     "output_type": "display_data"
    }
   ],
   "source": [
    "data.groupby([data.index.year, 'job_title'])['salary_in_usd'].sum().unstack().plot(ylim=0, figsize=(12,8), ylabel='Salary (in million)', title='Salary of Employee in Data Field Industry on 2020 - Q1 2022')"
   ]
  },
  {
   "cell_type": "code",
   "execution_count": 29,
   "id": "382961c9",
   "metadata": {},
   "outputs": [
    {
     "data": {
      "text/plain": [
       "<AxesSubplot:title={'center':'Ratio of Employee Salary in Data Field Industry on 2020 - Q1 2022'}, xlabel='work_year', ylabel='Salary (in million)'>"
      ]
     },
     "execution_count": 29,
     "metadata": {},
     "output_type": "execute_result"
    },
    {
     "data": {
      "image/png": "[encoded data removed]",
      "text/plain": [
       "<Figure size 864x576 with 1 Axes>"
      ]
     },
     "metadata": {
      "needs_background": "light"
     },
     "output_type": "display_data"
    }
   ],
   "source": [
    "data.groupby([data.index.year, 'job_title'])['salary_in_usd'].sum().unstack().plot.bar(figsize=(12,8), ylabel='Salary (in million)', title='Ratio of Employee Salary in Data Field Industry on 2020 - Q1 2022')"
   ]
  },
  {
   "cell_type": "markdown",
   "id": "0bfc8b1d",
   "metadata": {},
   "source": [
    "```NOTE```"
   ]
  },
  {
   "cell_type": "markdown",
   "id": "575c42c1",
   "metadata": {},
   "source": [
    "#### 3. Bagaimana tren salary yang terjadi pada setiap jenis pekerjaan (job title) berdasarkan tingkat employmentnya"
   ]
  },
  {
   "cell_type": "code",
   "execution_count": 30,
   "id": "8483ada8",
   "metadata": {},
   "outputs": [
    {
     "data": {
      "text/html": [
       "<div>\n",
       "<style scoped>\n",
       "    .dataframe tbody tr th:only-of-type {\n",
       "        vertical-align: middle;\n",
       "    }\n",
       "\n",
       "    .dataframe tbody tr th {\n",
       "        vertical-align: top;\n",
       "    }\n",
       "\n",
       "    .dataframe thead th {\n",
       "        text-align: right;\n",
       "    }\n",
       "</style>\n",
       "<table border=\"1\" class=\"dataframe\">\n",
       "  <thead>\n",
       "    <tr style=\"text-align: right;\">\n",
       "      <th>experience_level</th>\n",
       "      <th>EN</th>\n",
       "      <th>MI</th>\n",
       "      <th>SE</th>\n",
       "      <th>EX</th>\n",
       "    </tr>\n",
       "    <tr>\n",
       "      <th>job_title</th>\n",
       "      <th></th>\n",
       "      <th></th>\n",
       "      <th></th>\n",
       "      <th></th>\n",
       "    </tr>\n",
       "  </thead>\n",
       "  <tbody>\n",
       "    <tr>\n",
       "      <th>Data Analyst</th>\n",
       "      <td>990902.0</td>\n",
       "      <td>3338545.0</td>\n",
       "      <td>8651348.0</td>\n",
       "      <td>1165000.0</td>\n",
       "    </tr>\n",
       "    <tr>\n",
       "      <th>Data Engineer</th>\n",
       "      <td>1220870.0</td>\n",
       "      <td>6056608.0</td>\n",
       "      <td>12958409.0</td>\n",
       "      <td>1780020.0</td>\n",
       "    </tr>\n",
       "    <tr>\n",
       "      <th>Data Scientist</th>\n",
       "      <td>2072998.0</td>\n",
       "      <td>7293482.0</td>\n",
       "      <td>13495738.0</td>\n",
       "      <td>2160134.0</td>\n",
       "    </tr>\n",
       "    <tr>\n",
       "      <th>Machine Learning Developer</th>\n",
       "      <td>1139842.0</td>\n",
       "      <td>2054525.0</td>\n",
       "      <td>3707347.0</td>\n",
       "      <td>79039.0</td>\n",
       "    </tr>\n",
       "  </tbody>\n",
       "</table>\n",
       "</div>"
      ],
      "text/plain": [
       "experience_level                   EN         MI          SE         EX\n",
       "job_title                                                              \n",
       "Data Analyst                 990902.0  3338545.0   8651348.0  1165000.0\n",
       "Data Engineer               1220870.0  6056608.0  12958409.0  1780020.0\n",
       "Data Scientist              2072998.0  7293482.0  13495738.0  2160134.0\n",
       "Machine Learning Developer  1139842.0  2054525.0   3707347.0    79039.0"
      ]
     },
     "execution_count": 30,
     "metadata": {},
     "output_type": "execute_result"
    }
   ],
   "source": [
    "df_exp_level = data.groupby(['job_title', 'experience_level'])['salary_in_usd'].sum().unstack()\n",
    "df_exp_level = df_exp_level.reindex(columns=['EN', 'MI', 'SE', 'EX'])\n",
    "df_exp_level"
   ]
  },
  {
   "cell_type": "code",
   "execution_count": 31,
   "id": "c67d3c28",
   "metadata": {},
   "outputs": [
    {
     "data": {
      "text/plain": [
       "<AxesSubplot:xlabel='job_title'>"
      ]
     },
     "execution_count": 31,
     "metadata": {},
     "output_type": "execute_result"
    },
    {
     "data": {
      "image/png": "[encoded data removed]",
      "text/plain": [
       "<Figure size 864x576 with 1 Axes>"
      ]
     },
     "metadata": {
      "needs_background": "light"
     },
     "output_type": "display_data"
    }
   ],
   "source": [
    "df_exp_level.plot.bar(figsize=(12,8))"
   ]
  },
  {
   "cell_type": "markdown",
   "id": "709b1222",
   "metadata": {},
   "source": [
    "```NOTE```"
   ]
  },
  {
   "cell_type": "code",
   "execution_count": 32,
   "id": "0f8592fb",
   "metadata": {},
   "outputs": [
    {
     "data": {
      "text/plain": [
       "<AxesSubplot:title={'center':'Ratio of Employee Salary based on Experience Level'}, ylabel='salary (in million USD)'>"
      ]
     },
     "execution_count": 32,
     "metadata": {},
     "output_type": "execute_result"
    },
    {
     "data": {
      "image/png": "[encoded data removed]",
      "text/plain": [
       "<Figure size 864x576 with 1 Axes>"
      ]
     },
     "metadata": {
      "needs_background": "light"
     },
     "output_type": "display_data"
    }
   ],
   "source": [
    "df_exp_level.plot.barh(figsize=(12,8), xlabel='salary (in million USD)', title='Ratio of Employee Salary based on Experience Level')"
   ]
  },
  {
   "cell_type": "markdown",
   "id": "81c68416",
   "metadata": {},
   "source": [
    "```NOTE```"
   ]
  },
  {
   "cell_type": "code",
   "execution_count": 33,
   "id": "25d34724",
   "metadata": {},
   "outputs": [],
   "source": [
    "# Put note here"
   ]
  },
  {
   "cell_type": "markdown",
   "id": "31b34d40",
   "metadata": {},
   "source": [
    "### Diagnostic Analytics\n",
    "- <p style='text-align: justify;'>Mengapa job title <b>Data Scientist</b> memiliki <b><i>jumlah salary paling banyak?</i></b> sedangkan <b><i>kenaikan jumlah employee</i></b> paling tinggi ada pada job title <b>Data Engineer</b>, Bagaimana pengaruh <b>average salary</b> terhadap tinggi rendahnya jumlah employee pada suatu job title ?</p>"
   ]
  },
  {
   "cell_type": "code",
   "execution_count": 34,
   "id": "398945d0",
   "metadata": {},
   "outputs": [],
   "source": [
    "df_ml = data[data['job_title'] == 'Machine Learning Developer']\n",
    "df_da = data[data['job_title'] == 'Data Analyst']\n",
    "df_de = data[data['job_title'] == 'Data Engineer']\n",
    "df_ds = data[data['job_title'] == 'Data Scientist']"
   ]
  },
  {
   "cell_type": "markdown",
   "id": "de1746db",
   "metadata": {},
   "source": [
    "#### Analysis comparison for Data Scientist"
   ]
  },
  {
   "cell_type": "code",
   "execution_count": 35,
   "id": "e37dcfaa",
   "metadata": {},
   "outputs": [],
   "source": [
    "datasetds_by_company = df_ds.groupby(['company_size', 'experience_level'])['salary_in_usd'].sum().unstack()"
   ]
  },
  {
   "cell_type": "code",
   "execution_count": 36,
   "id": "d283d30d",
   "metadata": {},
   "outputs": [],
   "source": [
    "datasetds_by_company = datasetds_by_company.reindex(columns= ['EN', 'MI', 'SE', 'EX'])"
   ]
  },
  {
   "cell_type": "code",
   "execution_count": 37,
   "id": "a0e18fd6",
   "metadata": {},
   "outputs": [
    {
     "data": {
      "text/plain": [
       "<AxesSubplot:xlabel='company_size'>"
      ]
     },
     "execution_count": 37,
     "metadata": {},
     "output_type": "execute_result"
    },
    {
     "data": {
      "image/png": "[encoded data removed]",
      "text/plain": [
       "<Figure size 864x576 with 1 Axes>"
      ]
     },
     "metadata": {
      "needs_background": "light"
     },
     "output_type": "display_data"
    }
   ],
   "source": [
    "datasetds_by_company.plot.bar(figsize=(12,8))"
   ]
  },
  {
   "cell_type": "code",
   "execution_count": 38,
   "id": "a603ab00",
   "metadata": {},
   "outputs": [],
   "source": [
    "datasetds_by_workyear = df_ds.groupby([df_ds.index.year, 'experience_level'])['salary_in_usd'].sum().unstack()\n",
    "datasetds_by_workyear = datasetds_by_workyear.reindex(columns= ['EN', 'MI', 'SE', 'EX'])"
   ]
  },
  {
   "cell_type": "code",
   "execution_count": 39,
   "id": "eecaebfe",
   "metadata": {},
   "outputs": [
    {
     "data": {
      "text/plain": [
       "<AxesSubplot:xlabel='work_year'>"
      ]
     },
     "execution_count": 39,
     "metadata": {},
     "output_type": "execute_result"
    },
    {
     "data": {
      "image/png": "[encoded data removed]",
      "text/plain": [
       "<Figure size 864x576 with 1 Axes>"
      ]
     },
     "metadata": {
      "needs_background": "light"
     },
     "output_type": "display_data"
    }
   ],
   "source": [
    "datasetds_by_workyear.plot(figsize=(12,8))"
   ]
  },
  {
   "cell_type": "markdown",
   "id": "584e23b3",
   "metadata": {},
   "source": [
    "```NOTE```\n",
    "- From the visualization above, we can tell the salary of senior level has increased every year but other experience level shows a decrease every year"
   ]
  },
  {
   "cell_type": "code",
   "execution_count": 40,
   "id": "2be2870c",
   "metadata": {},
   "outputs": [
    {
     "data": {
      "text/plain": [
       "<AxesSubplot:ylabel='work_year'>"
      ]
     },
     "execution_count": 40,
     "metadata": {},
     "output_type": "execute_result"
    },
    {
     "data": {
      "image/png": "[encoded data removed]",
      "text/plain": [
       "<Figure size 864x576 with 1 Axes>"
      ]
     },
     "metadata": {
      "needs_background": "light"
     },
     "output_type": "display_data"
    }
   ],
   "source": [
    "datasetds_by_workyear.plot.barh(figsize=(12,8))"
   ]
  },
  {
   "cell_type": "markdown",
   "id": "46abdf70",
   "metadata": {},
   "source": [
    "#### Analysis comparison for Data Engineering"
   ]
  },
  {
   "cell_type": "code",
   "execution_count": 41,
   "id": "136a8d9f",
   "metadata": {},
   "outputs": [],
   "source": [
    "datasetde_by_company = df_de.groupby(['company_size', 'experience_level'])['salary_in_usd'].sum().unstack()\n",
    "datasetde_by_company = datasetde_by_company.reindex(columns= ['EN', 'MI', 'SE', 'EX'])"
   ]
  },
  {
   "cell_type": "code",
   "execution_count": 42,
   "id": "47dc7a5d",
   "metadata": {},
   "outputs": [
    {
     "data": {
      "text/plain": [
       "<AxesSubplot:xlabel='company_size'>"
      ]
     },
     "execution_count": 42,
     "metadata": {},
     "output_type": "execute_result"
    },
    {
     "data": {
      "image/png": "[encoded data removed]",
      "text/plain": [
       "<Figure size 864x576 with 1 Axes>"
      ]
     },
     "metadata": {
      "needs_background": "light"
     },
     "output_type": "display_data"
    }
   ],
   "source": [
    "datasetde_by_company.plot.bar(figsize=(12,8))"
   ]
  },
  {
   "cell_type": "code",
   "execution_count": 43,
   "id": "03a9b1ac",
   "metadata": {},
   "outputs": [],
   "source": [
    "datasetde_by_workyear = df_de.groupby([df_de.index.year, 'experience_level'])['salary_in_usd'].sum().unstack()\n",
    "datasetde_by_workyear = datasetde_by_workyear.reindex(columns= ['EN', 'MI', 'SE', 'EX'])"
   ]
  },
  {
   "cell_type": "code",
   "execution_count": 44,
   "id": "469f33aa",
   "metadata": {},
   "outputs": [
    {
     "data": {
      "text/plain": [
       "<AxesSubplot:xlabel='work_year'>"
      ]
     },
     "execution_count": 44,
     "metadata": {},
     "output_type": "execute_result"
    },
    {
     "data": {
      "image/png": "[encoded data removed]",
      "text/plain": [
       "<Figure size 864x576 with 1 Axes>"
      ]
     },
     "metadata": {
      "needs_background": "light"
     },
     "output_type": "display_data"
    }
   ],
   "source": [
    "datasetde_by_workyear.plot(figsize=(12,8))"
   ]
  },
  {
   "cell_type": "code",
   "execution_count": 45,
   "id": "d9007556",
   "metadata": {},
   "outputs": [
    {
     "data": {
      "text/plain": [
       "<AxesSubplot:ylabel='work_year'>"
      ]
     },
     "execution_count": 45,
     "metadata": {},
     "output_type": "execute_result"
    },
    {
     "data": {
      "image/png": "[encoded data removed]",
      "text/plain": [
       "<Figure size 864x576 with 1 Axes>"
      ]
     },
     "metadata": {
      "needs_background": "light"
     },
     "output_type": "display_data"
    }
   ],
   "source": [
    "datasetde_by_workyear.plot.barh(figsize=(12,8))"
   ]
  },
  {
   "cell_type": "markdown",
   "id": "fa25d171",
   "metadata": {},
   "source": [
    "```NOTE```\n",
    "- From the visualization above we know that Data Engineering salary shows an increase in almost every experience level"
   ]
  },
  {
   "cell_type": "code",
   "execution_count": 46,
   "id": "ff64ef88",
   "metadata": {},
   "outputs": [],
   "source": [
    "datasetda_by_company = df_da.groupby(['company_size', 'experience_level'])['salary_in_usd'].sum().unstack()\n",
    "datasetda_by_company = datasetda_by_company.reindex(columns= ['EN', 'MI', 'SE', 'EX'])"
   ]
  },
  {
   "cell_type": "code",
   "execution_count": 47,
   "id": "d4d9a335",
   "metadata": {},
   "outputs": [
    {
     "data": {
      "text/plain": [
       "<AxesSubplot:xlabel='company_size'>"
      ]
     },
     "execution_count": 47,
     "metadata": {},
     "output_type": "execute_result"
    },
    {
     "data": {
      "image/png": "[encoded data removed]",
      "text/plain": [
       "<Figure size 864x576 with 1 Axes>"
      ]
     },
     "metadata": {
      "needs_background": "light"
     },
     "output_type": "display_data"
    }
   ],
   "source": [
    "datasetda_by_company.plot.bar(figsize=(12,8))"
   ]
  },
  {
   "cell_type": "code",
   "execution_count": 48,
   "id": "794b60d6",
   "metadata": {},
   "outputs": [],
   "source": [
    "datasetda_by_workyear = df_da.groupby([df_da.index.year, 'experience_level'])['salary_in_usd'].sum().unstack()\n",
    "datasetda_by_workyear = datasetda_by_workyear.reindex(columns= ['EN', 'MI', 'SE', 'EX'])"
   ]
  },
  {
   "cell_type": "code",
   "execution_count": 49,
   "id": "b1f281a0",
   "metadata": {},
   "outputs": [
    {
     "data": {
      "text/plain": [
       "<AxesSubplot:xlabel='work_year'>"
      ]
     },
     "execution_count": 49,
     "metadata": {},
     "output_type": "execute_result"
    },
    {
     "data": {
      "image/png": "[encoded data removed]",
      "text/plain": [
       "<Figure size 864x576 with 1 Axes>"
      ]
     },
     "metadata": {
      "needs_background": "light"
     },
     "output_type": "display_data"
    }
   ],
   "source": [
    "datasetda_by_workyear.plot(figsize=(12,8))"
   ]
  },
  {
   "cell_type": "code",
   "execution_count": 50,
   "id": "4fd5be92",
   "metadata": {},
   "outputs": [
    {
     "data": {
      "text/plain": [
       "<AxesSubplot:ylabel='work_year'>"
      ]
     },
     "execution_count": 50,
     "metadata": {},
     "output_type": "execute_result"
    },
    {
     "data": {
      "image/png": "[encoded data removed]",
      "text/plain": [
       "<Figure size 864x576 with 1 Axes>"
      ]
     },
     "metadata": {
      "needs_background": "light"
     },
     "output_type": "display_data"
    }
   ],
   "source": [
    "datasetda_by_workyear.plot.barh(figsize=(12,8))"
   ]
  },
  {
   "cell_type": "markdown",
   "id": "177e5452",
   "metadata": {},
   "source": [
    "```NOTE```\n",
    "- There was some peculiarity on the line plot above, the line plot on salary for Senior Level and Executive Level between prelimenary 2020 - Q3 2021 are not shown"
   ]
  },
  {
   "cell_type": "code",
   "execution_count": 51,
   "id": "a0ab0cff",
   "metadata": {},
   "outputs": [
    {
     "data": {
      "text/html": [
       "<div>\n",
       "<style scoped>\n",
       "    .dataframe tbody tr th:only-of-type {\n",
       "        vertical-align: middle;\n",
       "    }\n",
       "\n",
       "    .dataframe tbody tr th {\n",
       "        vertical-align: top;\n",
       "    }\n",
       "\n",
       "    .dataframe thead th {\n",
       "        text-align: right;\n",
       "    }\n",
       "</style>\n",
       "<table border=\"1\" class=\"dataframe\">\n",
       "  <thead>\n",
       "    <tr style=\"text-align: right;\">\n",
       "      <th></th>\n",
       "      <th>experience_level</th>\n",
       "      <th>employment_type</th>\n",
       "      <th>job_title</th>\n",
       "      <th>salary</th>\n",
       "      <th>salary_currency</th>\n",
       "      <th>salary_in_usd</th>\n",
       "      <th>employee_residence</th>\n",
       "      <th>remote_ratio</th>\n",
       "      <th>company_location</th>\n",
       "      <th>company_size</th>\n",
       "    </tr>\n",
       "    <tr>\n",
       "      <th>work_year</th>\n",
       "      <th></th>\n",
       "      <th></th>\n",
       "      <th></th>\n",
       "      <th></th>\n",
       "      <th></th>\n",
       "      <th></th>\n",
       "      <th></th>\n",
       "      <th></th>\n",
       "      <th></th>\n",
       "      <th></th>\n",
       "    </tr>\n",
       "  </thead>\n",
       "  <tbody>\n",
       "    <tr>\n",
       "      <th>2020-01-01</th>\n",
       "      <td>False</td>\n",
       "      <td>False</td>\n",
       "      <td>False</td>\n",
       "      <td>False</td>\n",
       "      <td>False</td>\n",
       "      <td>False</td>\n",
       "      <td>False</td>\n",
       "      <td>False</td>\n",
       "      <td>False</td>\n",
       "      <td>False</td>\n",
       "    </tr>\n",
       "    <tr>\n",
       "      <th>2020-01-01</th>\n",
       "      <td>False</td>\n",
       "      <td>False</td>\n",
       "      <td>False</td>\n",
       "      <td>False</td>\n",
       "      <td>False</td>\n",
       "      <td>False</td>\n",
       "      <td>False</td>\n",
       "      <td>False</td>\n",
       "      <td>False</td>\n",
       "      <td>False</td>\n",
       "    </tr>\n",
       "    <tr>\n",
       "      <th>2020-01-01</th>\n",
       "      <td>False</td>\n",
       "      <td>False</td>\n",
       "      <td>False</td>\n",
       "      <td>False</td>\n",
       "      <td>False</td>\n",
       "      <td>False</td>\n",
       "      <td>False</td>\n",
       "      <td>False</td>\n",
       "      <td>False</td>\n",
       "      <td>False</td>\n",
       "    </tr>\n",
       "    <tr>\n",
       "      <th>2020-01-01</th>\n",
       "      <td>False</td>\n",
       "      <td>False</td>\n",
       "      <td>False</td>\n",
       "      <td>False</td>\n",
       "      <td>False</td>\n",
       "      <td>False</td>\n",
       "      <td>False</td>\n",
       "      <td>False</td>\n",
       "      <td>False</td>\n",
       "      <td>False</td>\n",
       "    </tr>\n",
       "    <tr>\n",
       "      <th>2020-01-01</th>\n",
       "      <td>False</td>\n",
       "      <td>False</td>\n",
       "      <td>False</td>\n",
       "      <td>False</td>\n",
       "      <td>False</td>\n",
       "      <td>False</td>\n",
       "      <td>False</td>\n",
       "      <td>False</td>\n",
       "      <td>False</td>\n",
       "      <td>False</td>\n",
       "    </tr>\n",
       "    <tr>\n",
       "      <th>...</th>\n",
       "      <td>...</td>\n",
       "      <td>...</td>\n",
       "      <td>...</td>\n",
       "      <td>...</td>\n",
       "      <td>...</td>\n",
       "      <td>...</td>\n",
       "      <td>...</td>\n",
       "      <td>...</td>\n",
       "      <td>...</td>\n",
       "      <td>...</td>\n",
       "    </tr>\n",
       "    <tr>\n",
       "      <th>2022-01-01</th>\n",
       "      <td>False</td>\n",
       "      <td>False</td>\n",
       "      <td>False</td>\n",
       "      <td>False</td>\n",
       "      <td>False</td>\n",
       "      <td>False</td>\n",
       "      <td>False</td>\n",
       "      <td>False</td>\n",
       "      <td>False</td>\n",
       "      <td>False</td>\n",
       "    </tr>\n",
       "    <tr>\n",
       "      <th>2022-01-01</th>\n",
       "      <td>False</td>\n",
       "      <td>False</td>\n",
       "      <td>False</td>\n",
       "      <td>False</td>\n",
       "      <td>False</td>\n",
       "      <td>False</td>\n",
       "      <td>False</td>\n",
       "      <td>False</td>\n",
       "      <td>False</td>\n",
       "      <td>False</td>\n",
       "    </tr>\n",
       "    <tr>\n",
       "      <th>2022-01-01</th>\n",
       "      <td>False</td>\n",
       "      <td>False</td>\n",
       "      <td>False</td>\n",
       "      <td>False</td>\n",
       "      <td>False</td>\n",
       "      <td>False</td>\n",
       "      <td>False</td>\n",
       "      <td>False</td>\n",
       "      <td>False</td>\n",
       "      <td>False</td>\n",
       "    </tr>\n",
       "    <tr>\n",
       "      <th>2022-01-01</th>\n",
       "      <td>False</td>\n",
       "      <td>False</td>\n",
       "      <td>False</td>\n",
       "      <td>False</td>\n",
       "      <td>False</td>\n",
       "      <td>False</td>\n",
       "      <td>False</td>\n",
       "      <td>False</td>\n",
       "      <td>False</td>\n",
       "      <td>False</td>\n",
       "    </tr>\n",
       "    <tr>\n",
       "      <th>2022-01-01</th>\n",
       "      <td>False</td>\n",
       "      <td>False</td>\n",
       "      <td>False</td>\n",
       "      <td>False</td>\n",
       "      <td>False</td>\n",
       "      <td>False</td>\n",
       "      <td>False</td>\n",
       "      <td>False</td>\n",
       "      <td>False</td>\n",
       "      <td>False</td>\n",
       "    </tr>\n",
       "  </tbody>\n",
       "</table>\n",
       "<p>140 rows × 10 columns</p>\n",
       "</div>"
      ],
      "text/plain": [
       "            experience_level  employment_type  job_title  salary  \\\n",
       "work_year                                                          \n",
       "2020-01-01             False            False      False   False   \n",
       "2020-01-01             False            False      False   False   \n",
       "2020-01-01             False            False      False   False   \n",
       "2020-01-01             False            False      False   False   \n",
       "2020-01-01             False            False      False   False   \n",
       "...                      ...              ...        ...     ...   \n",
       "2022-01-01             False            False      False   False   \n",
       "2022-01-01             False            False      False   False   \n",
       "2022-01-01             False            False      False   False   \n",
       "2022-01-01             False            False      False   False   \n",
       "2022-01-01             False            False      False   False   \n",
       "\n",
       "            salary_currency  salary_in_usd  employee_residence  remote_ratio  \\\n",
       "work_year                                                                      \n",
       "2020-01-01            False          False               False         False   \n",
       "2020-01-01            False          False               False         False   \n",
       "2020-01-01            False          False               False         False   \n",
       "2020-01-01            False          False               False         False   \n",
       "2020-01-01            False          False               False         False   \n",
       "...                     ...            ...                 ...           ...   \n",
       "2022-01-01            False          False               False         False   \n",
       "2022-01-01            False          False               False         False   \n",
       "2022-01-01            False          False               False         False   \n",
       "2022-01-01            False          False               False         False   \n",
       "2022-01-01            False          False               False         False   \n",
       "\n",
       "            company_location  company_size  \n",
       "work_year                                   \n",
       "2020-01-01             False         False  \n",
       "2020-01-01             False         False  \n",
       "2020-01-01             False         False  \n",
       "2020-01-01             False         False  \n",
       "2020-01-01             False         False  \n",
       "...                      ...           ...  \n",
       "2022-01-01             False         False  \n",
       "2022-01-01             False         False  \n",
       "2022-01-01             False         False  \n",
       "2022-01-01             False         False  \n",
       "2022-01-01             False         False  \n",
       "\n",
       "[140 rows x 10 columns]"
      ]
     },
     "execution_count": 51,
     "metadata": {},
     "output_type": "execute_result"
    }
   ],
   "source": [
    "df_da.isnull()"
   ]
  },
  {
   "cell_type": "code",
   "execution_count": 52,
   "id": "5d09a1db",
   "metadata": {},
   "outputs": [
    {
     "data": {
      "text/plain": [
       "experience_level      False\n",
       "employment_type       False\n",
       "job_title             False\n",
       "salary                False\n",
       "salary_currency       False\n",
       "salary_in_usd         False\n",
       "employee_residence    False\n",
       "remote_ratio          False\n",
       "company_location      False\n",
       "company_size          False\n",
       "dtype: bool"
      ]
     },
     "execution_count": 52,
     "metadata": {},
     "output_type": "execute_result"
    }
   ],
   "source": [
    "df_da.isnull().any()"
   ]
  },
  {
   "cell_type": "code",
   "execution_count": 53,
   "id": "93765fd8",
   "metadata": {},
   "outputs": [
    {
     "data": {
      "text/html": [
       "<div>\n",
       "<style scoped>\n",
       "    .dataframe tbody tr th:only-of-type {\n",
       "        vertical-align: middle;\n",
       "    }\n",
       "\n",
       "    .dataframe tbody tr th {\n",
       "        vertical-align: top;\n",
       "    }\n",
       "\n",
       "    .dataframe thead th {\n",
       "        text-align: right;\n",
       "    }\n",
       "</style>\n",
       "<table border=\"1\" class=\"dataframe\">\n",
       "  <thead>\n",
       "    <tr style=\"text-align: right;\">\n",
       "      <th></th>\n",
       "      <th>experience_level</th>\n",
       "      <th>employment_type</th>\n",
       "      <th>job_title</th>\n",
       "      <th>salary</th>\n",
       "      <th>salary_currency</th>\n",
       "      <th>salary_in_usd</th>\n",
       "      <th>employee_residence</th>\n",
       "      <th>remote_ratio</th>\n",
       "      <th>company_location</th>\n",
       "      <th>company_size</th>\n",
       "    </tr>\n",
       "    <tr>\n",
       "      <th>work_year</th>\n",
       "      <th></th>\n",
       "      <th></th>\n",
       "      <th></th>\n",
       "      <th></th>\n",
       "      <th></th>\n",
       "      <th></th>\n",
       "      <th></th>\n",
       "      <th></th>\n",
       "      <th></th>\n",
       "      <th></th>\n",
       "    </tr>\n",
       "  </thead>\n",
       "  <tbody>\n",
       "  </tbody>\n",
       "</table>\n",
       "</div>"
      ],
      "text/plain": [
       "Empty DataFrame\n",
       "Columns: [experience_level, employment_type, job_title, salary, salary_currency, salary_in_usd, employee_residence, remote_ratio, company_location, company_size]\n",
       "Index: []"
      ]
     },
     "execution_count": 53,
     "metadata": {},
     "output_type": "execute_result"
    }
   ],
   "source": [
    "df_da[df_da['salary'] == 0]"
   ]
  },
  {
   "cell_type": "code",
   "execution_count": 54,
   "id": "002b9759",
   "metadata": {},
   "outputs": [
    {
     "data": {
      "text/html": [
       "<div>\n",
       "<style scoped>\n",
       "    .dataframe tbody tr th:only-of-type {\n",
       "        vertical-align: middle;\n",
       "    }\n",
       "\n",
       "    .dataframe tbody tr th {\n",
       "        vertical-align: top;\n",
       "    }\n",
       "\n",
       "    .dataframe thead th {\n",
       "        text-align: right;\n",
       "    }\n",
       "</style>\n",
       "<table border=\"1\" class=\"dataframe\">\n",
       "  <thead>\n",
       "    <tr style=\"text-align: right;\">\n",
       "      <th></th>\n",
       "      <th>experience_level</th>\n",
       "      <th>employment_type</th>\n",
       "      <th>job_title</th>\n",
       "      <th>salary</th>\n",
       "      <th>salary_currency</th>\n",
       "      <th>salary_in_usd</th>\n",
       "      <th>employee_residence</th>\n",
       "      <th>remote_ratio</th>\n",
       "      <th>company_location</th>\n",
       "      <th>company_size</th>\n",
       "    </tr>\n",
       "    <tr>\n",
       "      <th>work_year</th>\n",
       "      <th></th>\n",
       "      <th></th>\n",
       "      <th></th>\n",
       "      <th></th>\n",
       "      <th></th>\n",
       "      <th></th>\n",
       "      <th></th>\n",
       "      <th></th>\n",
       "      <th></th>\n",
       "      <th></th>\n",
       "    </tr>\n",
       "  </thead>\n",
       "  <tbody>\n",
       "  </tbody>\n",
       "</table>\n",
       "</div>"
      ],
      "text/plain": [
       "Empty DataFrame\n",
       "Columns: [experience_level, employment_type, job_title, salary, salary_currency, salary_in_usd, employee_residence, remote_ratio, company_location, company_size]\n",
       "Index: []"
      ]
     },
     "execution_count": 54,
     "metadata": {},
     "output_type": "execute_result"
    }
   ],
   "source": [
    "df_da[df_da['salary_in_usd'] == 0]"
   ]
  },
  {
   "cell_type": "code",
   "execution_count": 55,
   "id": "e246ef0c",
   "metadata": {},
   "outputs": [
    {
     "data": {
      "text/plain": [
       "array([2.00000e+04, 7.20000e+04, 1.35000e+05, 8.70000e+04, 8.50000e+04,\n",
       "       8.00000e+03, 4.50000e+05, 9.80000e+04, 1.00000e+05, 4.10000e+04,\n",
       "       1.00000e+04, 9.10000e+04, 1.50000e+05, 2.35000e+05, 8.00000e+04,\n",
       "       6.70000e+04, 5.00000e+04, 1.10000e+05, 1.70000e+05, 7.50000e+04,\n",
       "       1.45000e+06, 1.10000e+07, 6.20000e+04, 3.74560e+04, 9.00000e+04,\n",
       "       8.76000e+03, 1.20000e+05, 2.30000e+05, 5.50000e+04, 6.00000e+04,\n",
       "       4.50000e+04, 9.27200e+03, 1.40000e+05, 2.00000e+05, 9.30000e+04,\n",
       "       5.40000e+04, 1.55000e+05, 1.20600e+05, 1.02100e+05, 8.49000e+04,\n",
       "       9.90000e+04, 1.16000e+05, 1.06260e+05, 1.26500e+05, 9.03200e+04,\n",
       "       1.24190e+05, 1.30000e+05, 1.15500e+05, 1.12900e+05, 1.67000e+05,\n",
       "       1.36600e+05, 1.09280e+05, 1.75000e+05, 6.13000e+04, 5.80000e+04,\n",
       "       1.32000e+05, 1.28875e+05, 9.37000e+04, 1.64000e+05, 1.45000e+05,\n",
       "       1.05400e+05, 1.15934e+05, 8.16660e+04, 4.00000e+04, 3.00000e+04,\n",
       "       1.40000e+06, 4.05000e+05, 9.90500e+04, 2.05300e+05, 1.84700e+05,\n",
       "       1.16150e+05, 6.90000e+04, 1.50075e+05, 1.05000e+05, 1.10925e+05,\n",
       "       3.50000e+04, 1.50260e+05, 5.20000e+04, 1.29000e+05])"
      ]
     },
     "execution_count": 55,
     "metadata": {},
     "output_type": "execute_result"
    }
   ],
   "source": [
    "df_da['salary'].unique()"
   ]
  },
  {
   "cell_type": "code",
   "execution_count": 56,
   "id": "2460cd49",
   "metadata": {},
   "outputs": [
    {
     "data": {
      "text/plain": [
       "array([ 20000.,  72000., 135000.,  87000.,  85000.,   8000.,   6072.,\n",
       "        98000., 100000.,  46759.,  10000.,  91000., 150000., 235000.,\n",
       "        80000.,  79197.,  59102., 110000., 170000.,  88654.,  19609.,\n",
       "       450000.,  75000.,  36259.,  62000.,  51519.,  90000.,  50000.,\n",
       "        10354., 120000., 230000.,  55000.,  60000.,  61896.,   9272.,\n",
       "       140000.,  71786., 200000.,  93000.,  63831., 102839., 155000.,\n",
       "       120600., 102100.,  84900.,  99000., 116000., 106260., 126500.,\n",
       "        90320., 124190., 130000., 115500., 112900., 167000., 136600.,\n",
       "       109280., 175000.,  61300.,  58000., 132000., 128875.,  93700.,\n",
       "       164000., 145000., 105400., 115934.,  81666.,  52351.,  39263.,\n",
       "        43966.,  32974.,  18442.,  70912., 405000.,  99050., 205300.,\n",
       "       184700., 116150.,  65438.,  69000., 150075., 105000., 110925.,\n",
       "        45807., 150260.,  67000.,  52000., 129000.])"
      ]
     },
     "execution_count": 56,
     "metadata": {},
     "output_type": "execute_result"
    }
   ],
   "source": [
    "df_da['salary_in_usd'].unique()"
   ]
  },
  {
   "cell_type": "code",
   "execution_count": 57,
   "id": "cbd5578c",
   "metadata": {},
   "outputs": [
    {
     "data": {
      "text/plain": [
       "work_year  experience_level\n",
       "2020       EN                    723000.0\n",
       "           MI                    924000.0\n",
       "2021       EN                    453032.0\n",
       "           EX                    615000.0\n",
       "           MI                  13682456.0\n",
       "           SE                   1468000.0\n",
       "2022       EN                    239000.0\n",
       "           EX                    550000.0\n",
       "           MI                   2886260.0\n",
       "           SE                   7133145.0\n",
       "Name: salary, dtype: float64"
      ]
     },
     "execution_count": 57,
     "metadata": {},
     "output_type": "execute_result"
    }
   ],
   "source": [
    "df_da.groupby([df_da.index.year, 'experience_level'])['salary'].sum()"
   ]
  },
  {
   "cell_type": "code",
   "execution_count": 58,
   "id": "625f290e",
   "metadata": {},
   "outputs": [
    {
     "data": {
      "text/html": [
       "<div>\n",
       "<style scoped>\n",
       "    .dataframe tbody tr th:only-of-type {\n",
       "        vertical-align: middle;\n",
       "    }\n",
       "\n",
       "    .dataframe tbody tr th {\n",
       "        vertical-align: top;\n",
       "    }\n",
       "\n",
       "    .dataframe thead th {\n",
       "        text-align: right;\n",
       "    }\n",
       "</style>\n",
       "<table border=\"1\" class=\"dataframe\">\n",
       "  <thead>\n",
       "    <tr style=\"text-align: right;\">\n",
       "      <th>experience_level</th>\n",
       "      <th>EN</th>\n",
       "      <th>EX</th>\n",
       "      <th>MI</th>\n",
       "      <th>SE</th>\n",
       "    </tr>\n",
       "    <tr>\n",
       "      <th>work_year</th>\n",
       "      <th></th>\n",
       "      <th></th>\n",
       "      <th></th>\n",
       "      <th></th>\n",
       "    </tr>\n",
       "  </thead>\n",
       "  <tbody>\n",
       "    <tr>\n",
       "      <th>2020</th>\n",
       "      <td>723000.0</td>\n",
       "      <td>NaN</td>\n",
       "      <td>924000.0</td>\n",
       "      <td>NaN</td>\n",
       "    </tr>\n",
       "    <tr>\n",
       "      <th>2021</th>\n",
       "      <td>453032.0</td>\n",
       "      <td>615000.0</td>\n",
       "      <td>13682456.0</td>\n",
       "      <td>1468000.0</td>\n",
       "    </tr>\n",
       "    <tr>\n",
       "      <th>2022</th>\n",
       "      <td>239000.0</td>\n",
       "      <td>550000.0</td>\n",
       "      <td>2886260.0</td>\n",
       "      <td>7133145.0</td>\n",
       "    </tr>\n",
       "  </tbody>\n",
       "</table>\n",
       "</div>"
      ],
      "text/plain": [
       "experience_level        EN        EX          MI         SE\n",
       "work_year                                                  \n",
       "2020              723000.0       NaN    924000.0        NaN\n",
       "2021              453032.0  615000.0  13682456.0  1468000.0\n",
       "2022              239000.0  550000.0   2886260.0  7133145.0"
      ]
     },
     "execution_count": 58,
     "metadata": {},
     "output_type": "execute_result"
    }
   ],
   "source": [
    "df_da.groupby([df_da.index.year, 'experience_level'])['salary'].sum().unstack()"
   ]
  },
  {
   "cell_type": "markdown",
   "id": "72924149",
   "metadata": {},
   "source": [
    "```NOTE```\n",
    "- Nan value is caused by no entry of employee with executive and senior experience level on work year 2020"
   ]
  }
 ],
 "metadata": {
  "kernelspec": {
   "display_name": "Python 3",
   "language": "python",
   "name": "python3"
  },
  "language_info": {
   "codemirror_mode": {
    "name": "ipython",
    "version": 3
   },
   "file_extension": ".py",
   "mimetype": "text/x-python",
   "name": "python",
   "nbconvert_exporter": "python",
   "pygments_lexer": "ipython3",
   "version": "3.8.8"
  }
 },
 "nbformat": 4,
 "nbformat_minor": 5
}
